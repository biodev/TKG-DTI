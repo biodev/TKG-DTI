{
 "cells": [
  {
   "cell_type": "code",
   "execution_count": 1,
   "metadata": {},
   "outputs": [],
   "source": [
    "import pandas as pd\n",
    "import requests\n",
    "from tqdm import tqdm\n",
    "import torch \n",
    "import numpy as np \n",
    "from Bio import Entrez\n",
    "from io import StringIO\n",
    "from Bio import SeqIO\n",
    "\n",
    "from tkgdti.data.utils import get_smiles_inchikey, get_protein_sequence_uniprot\n",
    "\n",
    "# set seed \n",
    "torch.manual_seed(0)\n",
    "np.random.seed(0)"
   ]
  },
  {
   "cell_type": "markdown",
   "metadata": {},
   "source": [
    "# Targetome Data; Drug -> Interacts -> Protein \n"
   ]
  },
  {
   "cell_type": "code",
   "execution_count": 2,
   "metadata": {},
   "outputs": [],
   "source": [
    "INCLUDE_TARGETOME_EXPANDED = True\n",
    "KD_THESHOLD = 1e3 # nM"
   ]
  },
  {
   "cell_type": "code",
   "execution_count": 3,
   "metadata": {},
   "outputs": [
    {
     "data": {
      "text/html": [
       "<div>\n",
       "<style scoped>\n",
       "    .dataframe tbody tr th:only-of-type {\n",
       "        vertical-align: middle;\n",
       "    }\n",
       "\n",
       "    .dataframe tbody tr th {\n",
       "        vertical-align: top;\n",
       "    }\n",
       "\n",
       "    .dataframe thead th {\n",
       "        text-align: right;\n",
       "    }\n",
       "</style>\n",
       "<table border=\"1\" class=\"dataframe\">\n",
       "  <thead>\n",
       "    <tr style=\"text-align: right;\">\n",
       "      <th></th>\n",
       "      <th>inhibitor</th>\n",
       "      <th>Symbol</th>\n",
       "      <th>GeneID</th>\n",
       "      <th>targetome_adj_tier</th>\n",
       "    </tr>\n",
       "  </thead>\n",
       "  <tbody>\n",
       "    <tr>\n",
       "      <th>0</th>\n",
       "      <td>ABT-737</td>\n",
       "      <td>BAD</td>\n",
       "      <td>572</td>\n",
       "      <td>TIER_1</td>\n",
       "    </tr>\n",
       "    <tr>\n",
       "      <th>1</th>\n",
       "      <td>Palbociclib</td>\n",
       "      <td>CCND1</td>\n",
       "      <td>595</td>\n",
       "      <td>TIER_1</td>\n",
       "    </tr>\n",
       "    <tr>\n",
       "      <th>2</th>\n",
       "      <td>Flavopiridol</td>\n",
       "      <td>CCNT1</td>\n",
       "      <td>904</td>\n",
       "      <td>TIER_1</td>\n",
       "    </tr>\n",
       "    <tr>\n",
       "      <th>3</th>\n",
       "      <td>NF-kB Activation Inhibitor</td>\n",
       "      <td>NFKB1</td>\n",
       "      <td>4790</td>\n",
       "      <td>TIER_5*</td>\n",
       "    </tr>\n",
       "    <tr>\n",
       "      <th>4</th>\n",
       "      <td>Roscovitine (CYC-202)</td>\n",
       "      <td>NFKB1</td>\n",
       "      <td>4790</td>\n",
       "      <td>TIER_5*</td>\n",
       "    </tr>\n",
       "  </tbody>\n",
       "</table>\n",
       "</div>"
      ],
      "text/plain": [
       "                    inhibitor Symbol  GeneID targetome_adj_tier\n",
       "0                     ABT-737    BAD     572             TIER_1\n",
       "1                 Palbociclib  CCND1     595             TIER_1\n",
       "2                Flavopiridol  CCNT1     904             TIER_1\n",
       "3  NF-kB Activation Inhibitor  NFKB1    4790            TIER_5*\n",
       "4       Roscovitine (CYC-202)  NFKB1    4790            TIER_5*"
      ]
     },
     "execution_count": 3,
     "metadata": {},
     "output_type": "execute_result"
    }
   ],
   "source": [
    "drug_info = pd.read_excel('../../data/tkg_raw/beataml_drug_families.xlsx', sheet_name='drug_gene')\n",
    "drug_info = drug_info[['inhibitor', 'Symbol', 'GeneID', 'targetome_adj_tier']]\n",
    "drug_info.targetome_adj_tier = drug_info.targetome_adj_tier.fillna('TIER_5*')\n",
    "drug_info.head() "
   ]
  },
  {
   "cell_type": "code",
   "execution_count": 4,
   "metadata": {},
   "outputs": [
    {
     "data": {
      "text/html": [
       "<div>\n",
       "<style scoped>\n",
       "    .dataframe tbody tr th:only-of-type {\n",
       "        vertical-align: middle;\n",
       "    }\n",
       "\n",
       "    .dataframe tbody tr th {\n",
       "        vertical-align: top;\n",
       "    }\n",
       "\n",
       "    .dataframe thead th {\n",
       "        text-align: right;\n",
       "    }\n",
       "</style>\n",
       "<table border=\"1\" class=\"dataframe\">\n",
       "  <thead>\n",
       "    <tr style=\"text-align: right;\">\n",
       "      <th></th>\n",
       "      <th>pubchem_cid</th>\n",
       "      <th>inchikey</th>\n",
       "      <th>uniprot_id</th>\n",
       "      <th>pubmed_id</th>\n",
       "      <th>database</th>\n",
       "      <th>assay_type</th>\n",
       "      <th>assay_relation</th>\n",
       "      <th>assay_value</th>\n",
       "      <th>targetome_adj_tier</th>\n",
       "      <th>inhibitor</th>\n",
       "      <th>Symbol</th>\n",
       "    </tr>\n",
       "  </thead>\n",
       "  <tbody>\n",
       "    <tr>\n",
       "      <th>0</th>\n",
       "      <td>51</td>\n",
       "      <td>KPGXRSRHYNQIFN-UHFFFAOYSA-N</td>\n",
       "      <td>Q9GZT9</td>\n",
       "      <td>23234607.0</td>\n",
       "      <td>pubchem_bioassay</td>\n",
       "      <td>Kd</td>\n",
       "      <td>=</td>\n",
       "      <td>900.0</td>\n",
       "      <td>TIER_1</td>\n",
       "      <td>Alpha-ketoglutaric Acid</td>\n",
       "      <td>EGLN1</td>\n",
       "    </tr>\n",
       "    <tr>\n",
       "      <th>1</th>\n",
       "      <td>72</td>\n",
       "      <td>YQUVCSBJEUQKSH-UHFFFAOYSA-N</td>\n",
       "      <td>P00918</td>\n",
       "      <td>21282059.0</td>\n",
       "      <td>pubchem_bioassay</td>\n",
       "      <td>Ki</td>\n",
       "      <td>=</td>\n",
       "      <td>470.0</td>\n",
       "      <td>TIER_1</td>\n",
       "      <td>Protocatechuic Acid</td>\n",
       "      <td>CA2</td>\n",
       "    </tr>\n",
       "    <tr>\n",
       "      <th>2</th>\n",
       "      <td>72</td>\n",
       "      <td>YQUVCSBJEUQKSH-UHFFFAOYSA-N</td>\n",
       "      <td>Q9ULX7</td>\n",
       "      <td>22668600.0</td>\n",
       "      <td>pubchem_bioassay</td>\n",
       "      <td>Ki</td>\n",
       "      <td>=</td>\n",
       "      <td>690.0</td>\n",
       "      <td>TIER_1</td>\n",
       "      <td>Protocatechuic Acid</td>\n",
       "      <td>NaN</td>\n",
       "    </tr>\n",
       "    <tr>\n",
       "      <th>3</th>\n",
       "      <td>119</td>\n",
       "      <td>BTCSSZJGUNDROE-UHFFFAOYSA-N</td>\n",
       "      <td>A8MPY1</td>\n",
       "      <td>11093776.0</td>\n",
       "      <td>bindingdb</td>\n",
       "      <td>Ki</td>\n",
       "      <td>=</td>\n",
       "      <td>580.0</td>\n",
       "      <td>TIER_1</td>\n",
       "      <td>Gamma-aminobutyric Acid</td>\n",
       "      <td>NaN</td>\n",
       "    </tr>\n",
       "    <tr>\n",
       "      <th>4</th>\n",
       "      <td>119</td>\n",
       "      <td>BTCSSZJGUNDROE-UHFFFAOYSA-N</td>\n",
       "      <td>O00591</td>\n",
       "      <td>1331456.0</td>\n",
       "      <td>pubchem_bioassay</td>\n",
       "      <td>IC50</td>\n",
       "      <td>=</td>\n",
       "      <td>737.5</td>\n",
       "      <td>TIER_1</td>\n",
       "      <td>Gamma-aminobutyric Acid</td>\n",
       "      <td>NaN</td>\n",
       "    </tr>\n",
       "  </tbody>\n",
       "</table>\n",
       "</div>"
      ],
      "text/plain": [
       "   pubchem_cid                     inchikey uniprot_id   pubmed_id  \\\n",
       "0           51  KPGXRSRHYNQIFN-UHFFFAOYSA-N     Q9GZT9  23234607.0   \n",
       "1           72  YQUVCSBJEUQKSH-UHFFFAOYSA-N     P00918  21282059.0   \n",
       "2           72  YQUVCSBJEUQKSH-UHFFFAOYSA-N     Q9ULX7  22668600.0   \n",
       "3          119  BTCSSZJGUNDROE-UHFFFAOYSA-N     A8MPY1  11093776.0   \n",
       "4          119  BTCSSZJGUNDROE-UHFFFAOYSA-N     O00591   1331456.0   \n",
       "\n",
       "           database assay_type assay_relation  assay_value targetome_adj_tier  \\\n",
       "0  pubchem_bioassay         Kd              =        900.0             TIER_1   \n",
       "1  pubchem_bioassay         Ki              =        470.0             TIER_1   \n",
       "2  pubchem_bioassay         Ki              =        690.0             TIER_1   \n",
       "3         bindingdb         Ki              =        580.0             TIER_1   \n",
       "4  pubchem_bioassay       IC50              =        737.5             TIER_1   \n",
       "\n",
       "                 inhibitor Symbol  \n",
       "0  Alpha-ketoglutaric Acid  EGLN1  \n",
       "1      Protocatechuic Acid    CA2  \n",
       "2      Protocatechuic Acid    NaN  \n",
       "3  Gamma-aminobutyric Acid    NaN  \n",
       "4  Gamma-aminobutyric Acid    NaN  "
      ]
     },
     "execution_count": 4,
     "metadata": {},
     "output_type": "execute_result"
    }
   ],
   "source": [
    "tge_meta = pd.read_csv('/home/teddy/local/data/targetome_extended_drugs-01-23-25.csv', low_memory=False)\n",
    "tge_meta = tge_meta[['inchi_key', 'drug_name']].rename({'drug_name':'inhibitor'}, axis=1).drop_duplicates()\n",
    "\n",
    "tge = pd.read_csv('/home/teddy/local/data/targetome_extended-01-23-25.csv')\n",
    "tge = tge.assign(targetome_adj_tier='TIER_1')\n",
    "\n",
    "# filter to assay relation \n",
    "tge = tge[lambda x: x.assay_relation == '=']\n",
    "\n",
    "# filter to binding affinity less than 10uM \n",
    "tge = tge[lambda x: x.assay_value < KD_THESHOLD]\n",
    "\n",
    "# add drug name \n",
    "tge = tge.merge(tge_meta, on='inchi_key', how='inner')\n",
    "\n",
    "# add gene symbol\n",
    "uni2symb = pd.read_csv('/home/teddy/local/TKG-DTI/extdata/meta/omnipath_uniprot2symbol.csv')\n",
    "uni2symb = uni2symb.set_index('From')[['FirstGene']].to_dict()['FirstGene']\n",
    "\n",
    "tge = tge.assign(Symbol=tge.uniprot_id.map(uni2symb))\n",
    "\n",
    "tge = tge.rename({'inchi_key': 'inchikey'}, axis=1) \n",
    "\n",
    "tge.head() "
   ]
  },
  {
   "cell_type": "code",
   "execution_count": 5,
   "metadata": {},
   "outputs": [
    {
     "data": {
      "text/html": [
       "<div>\n",
       "<style scoped>\n",
       "    .dataframe tbody tr th:only-of-type {\n",
       "        vertical-align: middle;\n",
       "    }\n",
       "\n",
       "    .dataframe tbody tr th {\n",
       "        vertical-align: top;\n",
       "    }\n",
       "\n",
       "    .dataframe thead th {\n",
       "        text-align: right;\n",
       "    }\n",
       "</style>\n",
       "<table border=\"1\" class=\"dataframe\">\n",
       "  <thead>\n",
       "    <tr style=\"text-align: right;\">\n",
       "      <th></th>\n",
       "      <th>inhibitor</th>\n",
       "      <th>Symbol</th>\n",
       "      <th>GeneID</th>\n",
       "    </tr>\n",
       "    <tr>\n",
       "      <th>targetome_adj_tier</th>\n",
       "      <th></th>\n",
       "      <th></th>\n",
       "      <th></th>\n",
       "    </tr>\n",
       "  </thead>\n",
       "  <tbody>\n",
       "    <tr>\n",
       "      <th>TIER_1</th>\n",
       "      <td>476</td>\n",
       "      <td>476</td>\n",
       "      <td>476</td>\n",
       "    </tr>\n",
       "    <tr>\n",
       "      <th>TIER_2</th>\n",
       "      <td>37</td>\n",
       "      <td>37</td>\n",
       "      <td>37</td>\n",
       "    </tr>\n",
       "    <tr>\n",
       "      <th>TIER_3</th>\n",
       "      <td>8</td>\n",
       "      <td>8</td>\n",
       "      <td>8</td>\n",
       "    </tr>\n",
       "    <tr>\n",
       "      <th>TIER_4</th>\n",
       "      <td>4</td>\n",
       "      <td>4</td>\n",
       "      <td>4</td>\n",
       "    </tr>\n",
       "    <tr>\n",
       "      <th>TIER_5*</th>\n",
       "      <td>126</td>\n",
       "      <td>126</td>\n",
       "      <td>126</td>\n",
       "    </tr>\n",
       "  </tbody>\n",
       "</table>\n",
       "</div>"
      ],
      "text/plain": [
       "                    inhibitor  Symbol  GeneID\n",
       "targetome_adj_tier                           \n",
       "TIER_1                    476     476     476\n",
       "TIER_2                     37      37      37\n",
       "TIER_3                      8       8       8\n",
       "TIER_4                      4       4       4\n",
       "TIER_5*                   126     126     126"
      ]
     },
     "execution_count": 5,
     "metadata": {},
     "output_type": "execute_result"
    }
   ],
   "source": [
    "drug_info.groupby('targetome_adj_tier').count()"
   ]
  },
  {
   "cell_type": "code",
   "execution_count": 6,
   "metadata": {},
   "outputs": [
    {
     "data": {
      "text/plain": [
       "(476, 4)"
      ]
     },
     "execution_count": 6,
     "metadata": {},
     "output_type": "execute_result"
    }
   ],
   "source": [
    "drug_info = drug_info[lambda x: x.targetome_adj_tier == 'TIER_1']\n",
    "drug_info.shape"
   ]
  },
  {
   "cell_type": "code",
   "execution_count": 7,
   "metadata": {},
   "outputs": [
    {
     "name": "stdout",
     "output_type": "stream",
     "text": [
      "number of unique drugs: 97\n",
      "number of unique genes: 222\n"
     ]
    }
   ],
   "source": [
    "print(f'number of unique drugs: {drug_info.inhibitor.nunique()}')\n",
    "print(f'number of unique genes: {drug_info.Symbol.nunique()}')"
   ]
  },
  {
   "cell_type": "code",
   "execution_count": 8,
   "metadata": {},
   "outputs": [
    {
     "name": "stderr",
     "output_type": "stream",
     "text": [
      "100%|██████████| 97/97 [00:37<00:00,  2.56it/s]\n"
     ]
    },
    {
     "data": {
      "text/html": [
       "<div>\n",
       "<style scoped>\n",
       "    .dataframe tbody tr th:only-of-type {\n",
       "        vertical-align: middle;\n",
       "    }\n",
       "\n",
       "    .dataframe tbody tr th {\n",
       "        vertical-align: top;\n",
       "    }\n",
       "\n",
       "    .dataframe thead th {\n",
       "        text-align: right;\n",
       "    }\n",
       "</style>\n",
       "<table border=\"1\" class=\"dataframe\">\n",
       "  <thead>\n",
       "    <tr style=\"text-align: right;\">\n",
       "      <th></th>\n",
       "      <th>drug</th>\n",
       "      <th>can_smiles</th>\n",
       "      <th>inchikey</th>\n",
       "      <th>iso_smiles</th>\n",
       "    </tr>\n",
       "  </thead>\n",
       "  <tbody>\n",
       "    <tr>\n",
       "      <th>0</th>\n",
       "      <td>ABT-737</td>\n",
       "      <td>CN(C)CCC(CSC1=CC=CC=C1)NC2=C(C=C(C=C2)S(=O)(=O...</td>\n",
       "      <td>HPLNQCPCUACXLM-PGUFJCEWSA-N</td>\n",
       "      <td>CN(C)CC[C@H](CSC1=CC=CC=C1)NC2=C(C=C(C=C2)S(=O...</td>\n",
       "    </tr>\n",
       "    <tr>\n",
       "      <th>1</th>\n",
       "      <td>Palbociclib</td>\n",
       "      <td>CC1=C(C(=O)N(C2=NC(=NC=C12)NC3=NC=C(C=C3)N4CCN...</td>\n",
       "      <td>AHJRHEGDXFFMBM-UHFFFAOYSA-N</td>\n",
       "      <td>CC1=C(C(=O)N(C2=NC(=NC=C12)NC3=NC=C(C=C3)N4CCN...</td>\n",
       "    </tr>\n",
       "    <tr>\n",
       "      <th>2</th>\n",
       "      <td>Flavopiridol</td>\n",
       "      <td>CN1CCC(C(C1)O)C2=C(C=C(C3=C2OC(=CC3=O)C4=CC=CC...</td>\n",
       "      <td>BIIVYFLTOXDAOV-YVEFUNNKSA-N</td>\n",
       "      <td>CN1CC[C@@H]([C@@H](C1)O)C2=C(C=C(C3=C2OC(=CC3=...</td>\n",
       "    </tr>\n",
       "    <tr>\n",
       "      <th>3</th>\n",
       "      <td>Bortezomib (Velcade)</td>\n",
       "      <td>B(C(CC(C)C)NC(=O)C(CC1=CC=CC=C1)NC(=O)C2=NC=CN...</td>\n",
       "      <td>GXJABQQUPOEUTA-RDJZCZTQSA-N</td>\n",
       "      <td>B([C@H](CC(C)C)NC(=O)[C@H](CC1=CC=CC=C1)NC(=O)...</td>\n",
       "    </tr>\n",
       "    <tr>\n",
       "      <th>4</th>\n",
       "      <td>AST-487</td>\n",
       "      <td>CCN1CCN(CC1)CC2=C(C=C(C=C2)NC(=O)NC3=CC=C(C=C3...</td>\n",
       "      <td>ODPGGGTTYSGTGO-UHFFFAOYSA-N</td>\n",
       "      <td>CCN1CCN(CC1)CC2=C(C=C(C=C2)NC(=O)NC3=CC=C(C=C3...</td>\n",
       "    </tr>\n",
       "  </tbody>\n",
       "</table>\n",
       "</div>"
      ],
      "text/plain": [
       "                   drug                                         can_smiles  \\\n",
       "0               ABT-737  CN(C)CCC(CSC1=CC=CC=C1)NC2=C(C=C(C=C2)S(=O)(=O...   \n",
       "1           Palbociclib  CC1=C(C(=O)N(C2=NC(=NC=C12)NC3=NC=C(C=C3)N4CCN...   \n",
       "2          Flavopiridol  CN1CCC(C(C1)O)C2=C(C=C(C3=C2OC(=CC3=O)C4=CC=CC...   \n",
       "3  Bortezomib (Velcade)  B(C(CC(C)C)NC(=O)C(CC1=CC=CC=C1)NC(=O)C2=NC=CN...   \n",
       "4               AST-487  CCN1CCN(CC1)CC2=C(C=C(C=C2)NC(=O)NC3=CC=C(C=C3...   \n",
       "\n",
       "                      inchikey  \\\n",
       "0  HPLNQCPCUACXLM-PGUFJCEWSA-N   \n",
       "1  AHJRHEGDXFFMBM-UHFFFAOYSA-N   \n",
       "2  BIIVYFLTOXDAOV-YVEFUNNKSA-N   \n",
       "3  GXJABQQUPOEUTA-RDJZCZTQSA-N   \n",
       "4  ODPGGGTTYSGTGO-UHFFFAOYSA-N   \n",
       "\n",
       "                                          iso_smiles  \n",
       "0  CN(C)CC[C@H](CSC1=CC=CC=C1)NC2=C(C=C(C=C2)S(=O...  \n",
       "1  CC1=C(C(=O)N(C2=NC(=NC=C12)NC3=NC=C(C=C3)N4CCN...  \n",
       "2  CN1CC[C@@H]([C@@H](C1)O)C2=C(C=C(C3=C2OC(=CC3=...  \n",
       "3  B([C@H](CC(C)C)NC(=O)[C@H](CC1=CC=CC=C1)NC(=O)...  \n",
       "4  CCN1CCN(CC1)CC2=C(C=C(C=C2)NC(=O)NC3=CC=C(C=C3...  "
      ]
     },
     "execution_count": 8,
     "metadata": {},
     "output_type": "execute_result"
    }
   ],
   "source": [
    "drug_names = drug_info.inhibitor.unique()\n",
    "results = {'drug': [], 'can_smiles': [], 'inchikey': [], 'iso_smiles': []}\n",
    "for drug in tqdm(drug_names):\n",
    "    can_smiles, iso_smiles, inchikey = get_smiles_inchikey(drug)\n",
    "    results['drug'].append(drug)\n",
    "    results['can_smiles'].append(can_smiles)\n",
    "    results['iso_smiles'].append(iso_smiles)\n",
    "    results['inchikey'].append(inchikey)\n",
    "\n",
    "results = pd.DataFrame(results)\n",
    "results.head() "
   ]
  },
  {
   "cell_type": "code",
   "execution_count": 9,
   "metadata": {},
   "outputs": [
    {
     "name": "stdout",
     "output_type": "stream",
     "text": [
      "# of unknown inchikeys: 8\n",
      "# of unknown smiles: 8\n"
     ]
    }
   ],
   "source": [
    "print('# of unknown inchikeys:', results.inchikey.isnull().sum()) \n",
    "print('# of unknown smiles:', results.can_smiles.isnull().sum())"
   ]
  },
  {
   "cell_type": "code",
   "execution_count": 10,
   "metadata": {},
   "outputs": [
    {
     "data": {
      "text/plain": [
       "(422, 7)"
      ]
     },
     "execution_count": 10,
     "metadata": {},
     "output_type": "execute_result"
    }
   ],
   "source": [
    "drug_info = drug_info.merge(results, left_on='inhibitor', right_on='drug', how='left')\n",
    "drug_info = drug_info.drop(columns='drug')\n",
    "drug_info = drug_info.dropna(subset=['can_smiles', 'inchikey'])\n",
    "drug_info.shape"
   ]
  },
  {
   "cell_type": "code",
   "execution_count": 11,
   "metadata": {},
   "outputs": [
    {
     "data": {
      "text/html": [
       "<div>\n",
       "<style scoped>\n",
       "    .dataframe tbody tr th:only-of-type {\n",
       "        vertical-align: middle;\n",
       "    }\n",
       "\n",
       "    .dataframe tbody tr th {\n",
       "        vertical-align: top;\n",
       "    }\n",
       "\n",
       "    .dataframe thead th {\n",
       "        text-align: right;\n",
       "    }\n",
       "</style>\n",
       "<table border=\"1\" class=\"dataframe\">\n",
       "  <thead>\n",
       "    <tr style=\"text-align: right;\">\n",
       "      <th></th>\n",
       "      <th>inhibitor</th>\n",
       "      <th>Symbol</th>\n",
       "      <th>can_smiles</th>\n",
       "      <th>inchikey</th>\n",
       "    </tr>\n",
       "  </thead>\n",
       "  <tbody>\n",
       "    <tr>\n",
       "      <th>0</th>\n",
       "      <td>Go-6976</td>\n",
       "      <td>PLK4</td>\n",
       "      <td>CN1C2=CC=CC=C2C3=C4C(=C5C6=CC=CC=C6N(C5=C31)CC...</td>\n",
       "      <td>VWVYILCFSYNJHF-UHFFFAOYSA-N</td>\n",
       "    </tr>\n",
       "    <tr>\n",
       "      <th>1</th>\n",
       "      <td>Go-6976</td>\n",
       "      <td>PRKCG</td>\n",
       "      <td>CN1C2=CC=CC=C2C3=C4C(=C5C6=CC=CC=C6N(C5=C31)CC...</td>\n",
       "      <td>VWVYILCFSYNJHF-UHFFFAOYSA-N</td>\n",
       "    </tr>\n",
       "    <tr>\n",
       "      <th>2</th>\n",
       "      <td>Go-6976</td>\n",
       "      <td>PRKCB</td>\n",
       "      <td>CN1C2=CC=CC=C2C3=C4C(=C5C6=CC=CC=C6N(C5=C31)CC...</td>\n",
       "      <td>VWVYILCFSYNJHF-UHFFFAOYSA-N</td>\n",
       "    </tr>\n",
       "    <tr>\n",
       "      <th>4</th>\n",
       "      <td>Go-6976</td>\n",
       "      <td>PRKCA</td>\n",
       "      <td>CN1C2=CC=CC=C2C3=C4C(=C5C6=CC=CC=C6N(C5=C31)CC...</td>\n",
       "      <td>VWVYILCFSYNJHF-UHFFFAOYSA-N</td>\n",
       "    </tr>\n",
       "    <tr>\n",
       "      <th>8</th>\n",
       "      <td>Go-6976</td>\n",
       "      <td>FLT3</td>\n",
       "      <td>CN1C2=CC=CC=C2C3=C4C(=C5C6=CC=CC=C6N(C5=C31)CC...</td>\n",
       "      <td>VWVYILCFSYNJHF-UHFFFAOYSA-N</td>\n",
       "    </tr>\n",
       "  </tbody>\n",
       "</table>\n",
       "</div>"
      ],
      "text/plain": [
       "  inhibitor Symbol                                         can_smiles  \\\n",
       "0   Go-6976   PLK4  CN1C2=CC=CC=C2C3=C4C(=C5C6=CC=CC=C6N(C5=C31)CC...   \n",
       "1   Go-6976  PRKCG  CN1C2=CC=CC=C2C3=C4C(=C5C6=CC=CC=C6N(C5=C31)CC...   \n",
       "2   Go-6976  PRKCB  CN1C2=CC=CC=C2C3=C4C(=C5C6=CC=CC=C6N(C5=C31)CC...   \n",
       "4   Go-6976  PRKCA  CN1C2=CC=CC=C2C3=C4C(=C5C6=CC=CC=C6N(C5=C31)CC...   \n",
       "8   Go-6976   FLT3  CN1C2=CC=CC=C2C3=C4C(=C5C6=CC=CC=C6N(C5=C31)CC...   \n",
       "\n",
       "                      inchikey  \n",
       "0  VWVYILCFSYNJHF-UHFFFAOYSA-N  \n",
       "1  VWVYILCFSYNJHF-UHFFFAOYSA-N  \n",
       "2  VWVYILCFSYNJHF-UHFFFAOYSA-N  \n",
       "4  VWVYILCFSYNJHF-UHFFFAOYSA-N  \n",
       "8  VWVYILCFSYNJHF-UHFFFAOYSA-N  "
      ]
     },
     "execution_count": 11,
     "metadata": {},
     "output_type": "execute_result"
    }
   ],
   "source": [
    "\n",
    "tge = tge.merge(results, on='inchikey', how='inner')\n",
    "tge = tge[['inhibitor', 'Symbol', 'can_smiles', 'inchikey']]\n",
    "tge = tge.drop_duplicates()\n",
    "tge.head()"
   ]
  },
  {
   "cell_type": "code",
   "execution_count": 12,
   "metadata": {},
   "outputs": [
    {
     "data": {
      "text/html": [
       "<div>\n",
       "<style scoped>\n",
       "    .dataframe tbody tr th:only-of-type {\n",
       "        vertical-align: middle;\n",
       "    }\n",
       "\n",
       "    .dataframe tbody tr th {\n",
       "        vertical-align: top;\n",
       "    }\n",
       "\n",
       "    .dataframe thead th {\n",
       "        text-align: right;\n",
       "    }\n",
       "</style>\n",
       "<table border=\"1\" class=\"dataframe\">\n",
       "  <thead>\n",
       "    <tr style=\"text-align: right;\">\n",
       "      <th></th>\n",
       "      <th>inhibitor</th>\n",
       "      <th>Symbol</th>\n",
       "      <th>can_smiles</th>\n",
       "      <th>inchikey</th>\n",
       "    </tr>\n",
       "  </thead>\n",
       "  <tbody>\n",
       "    <tr>\n",
       "      <th>0</th>\n",
       "      <td>ABT-737</td>\n",
       "      <td>BAD</td>\n",
       "      <td>CN(C)CCC(CSC1=CC=CC=C1)NC2=C(C=C(C=C2)S(=O)(=O...</td>\n",
       "      <td>HPLNQCPCUACXLM-PGUFJCEWSA-N</td>\n",
       "    </tr>\n",
       "    <tr>\n",
       "      <th>1</th>\n",
       "      <td>Palbociclib</td>\n",
       "      <td>CCND1</td>\n",
       "      <td>CC1=C(C(=O)N(C2=NC(=NC=C12)NC3=NC=C(C=C3)N4CCN...</td>\n",
       "      <td>AHJRHEGDXFFMBM-UHFFFAOYSA-N</td>\n",
       "    </tr>\n",
       "    <tr>\n",
       "      <th>2</th>\n",
       "      <td>Flavopiridol</td>\n",
       "      <td>CCNT1</td>\n",
       "      <td>CN1CCC(C(C1)O)C2=C(C=C(C3=C2OC(=CC3=O)C4=CC=CC...</td>\n",
       "      <td>BIIVYFLTOXDAOV-YVEFUNNKSA-N</td>\n",
       "    </tr>\n",
       "    <tr>\n",
       "      <th>3</th>\n",
       "      <td>Bortezomib (Velcade)</td>\n",
       "      <td>PSMA1</td>\n",
       "      <td>B(C(CC(C)C)NC(=O)C(CC1=CC=CC=C1)NC(=O)C2=NC=CN...</td>\n",
       "      <td>GXJABQQUPOEUTA-RDJZCZTQSA-N</td>\n",
       "    </tr>\n",
       "    <tr>\n",
       "      <th>4</th>\n",
       "      <td>Bortezomib (Velcade)</td>\n",
       "      <td>PSMA2</td>\n",
       "      <td>B(C(CC(C)C)NC(=O)C(CC1=CC=CC=C1)NC(=O)C2=NC=CN...</td>\n",
       "      <td>GXJABQQUPOEUTA-RDJZCZTQSA-N</td>\n",
       "    </tr>\n",
       "  </tbody>\n",
       "</table>\n",
       "</div>"
      ],
      "text/plain": [
       "              inhibitor Symbol  \\\n",
       "0               ABT-737    BAD   \n",
       "1           Palbociclib  CCND1   \n",
       "2          Flavopiridol  CCNT1   \n",
       "3  Bortezomib (Velcade)  PSMA1   \n",
       "4  Bortezomib (Velcade)  PSMA2   \n",
       "\n",
       "                                          can_smiles  \\\n",
       "0  CN(C)CCC(CSC1=CC=CC=C1)NC2=C(C=C(C=C2)S(=O)(=O...   \n",
       "1  CC1=C(C(=O)N(C2=NC(=NC=C12)NC3=NC=C(C=C3)N4CCN...   \n",
       "2  CN1CCC(C(C1)O)C2=C(C=C(C3=C2OC(=CC3=O)C4=CC=CC...   \n",
       "3  B(C(CC(C)C)NC(=O)C(CC1=CC=CC=C1)NC(=O)C2=NC=CN...   \n",
       "4  B(C(CC(C)C)NC(=O)C(CC1=CC=CC=C1)NC(=O)C2=NC=CN...   \n",
       "\n",
       "                      inchikey  \n",
       "0  HPLNQCPCUACXLM-PGUFJCEWSA-N  \n",
       "1  AHJRHEGDXFFMBM-UHFFFAOYSA-N  \n",
       "2  BIIVYFLTOXDAOV-YVEFUNNKSA-N  \n",
       "3  GXJABQQUPOEUTA-RDJZCZTQSA-N  \n",
       "4  GXJABQQUPOEUTA-RDJZCZTQSA-N  "
      ]
     },
     "execution_count": 12,
     "metadata": {},
     "output_type": "execute_result"
    }
   ],
   "source": [
    "drug_info = drug_info[['inhibitor', 'Symbol', 'can_smiles', 'inchikey']]\n",
    "drug_info.head() "
   ]
  },
  {
   "cell_type": "code",
   "execution_count": 13,
   "metadata": {},
   "outputs": [],
   "source": [
    "if INCLUDE_TARGETOME_EXPANDED:\n",
    "    drug_info = pd.concat([drug_info, tge], axis=0)\n",
    "    drug_info = drug_info.drop_duplicates()\n",
    "    drug_info = drug_info.dropna()     "
   ]
  },
  {
   "cell_type": "code",
   "execution_count": 14,
   "metadata": {},
   "outputs": [],
   "source": [
    "# ensure all inchikeys have the same name \n",
    "# BUG fix: previously, the drug name -> inchikey mapping was not unique, so we were ending up with redundant dtis\n",
    "drug_info = drug_info.copy()\n",
    "drug_info.drop(columns=['inhibitor'], inplace=True)\n",
    "drug_info = drug_info.drop_duplicates()\n",
    "drug_info = drug_info.merge(results[['inchikey', 'drug']], on='inchikey', how='inner')\n",
    "drug_info = drug_info.rename({'drug': 'inhibitor'}, axis=1)\n",
    "drug_info = drug_info.drop_duplicates()"
   ]
  },
  {
   "cell_type": "code",
   "execution_count": 15,
   "metadata": {},
   "outputs": [
    {
     "name": "stdout",
     "output_type": "stream",
     "text": [
      "number of unique drugs: 89\n",
      "number of unique genes: 529\n",
      "number of unique inchikeys: 89\n",
      "number of unique smiles: 89\n",
      "number of DTIs: 3232\n"
     ]
    }
   ],
   "source": [
    "print(f'number of unique drugs: {drug_info.inhibitor.nunique()}') # multiple names map to same smiles \n",
    "print(f'number of unique genes: {drug_info.Symbol.nunique()}')\n",
    "print(f'number of unique inchikeys: {drug_info.inchikey.nunique()}')\n",
    "print(f'number of unique smiles: {drug_info.can_smiles.nunique()}')\n",
    "print(f'number of DTIs: {drug_info.shape[0]}')"
   ]
  },
  {
   "cell_type": "code",
   "execution_count": 16,
   "metadata": {},
   "outputs": [],
   "source": [
    "drug_info.to_csv('../../extdata/meta/targetome__drug_targets_gene.csv', index=False)"
   ]
  },
  {
   "cell_type": "code",
   "execution_count": 17,
   "metadata": {},
   "outputs": [],
   "source": [
    "rel_fwd = drug_info[['inchikey', 'Symbol']].rename({'inchikey': 'src', 'Symbol': 'dst'}, axis=1).assign(src_type='drug', dst_type='gene', relation='targets')\n",
    "\n",
    "rel_fwd.to_csv('../../extdata/relations/targetome_drug_targets_gene.csv', index=False)"
   ]
  },
  {
   "cell_type": "code",
   "execution_count": 18,
   "metadata": {},
   "outputs": [
    {
     "name": "stdout",
     "output_type": "stream",
     "text": [
      "number of unique drugs: 89\n"
     ]
    }
   ],
   "source": [
    "# save drugspace for convenience \n",
    "drugspace = drug_info.inchikey.unique()\n",
    "print(f'number of unique drugs: {len(drugspace)}')\n",
    "\n",
    "np.savetxt('../../extdata/meta/drugspace.txt', drugspace, fmt='%s')"
   ]
  },
  {
   "cell_type": "code",
   "execution_count": null,
   "metadata": {},
   "outputs": [],
   "source": []
  }
 ],
 "metadata": {
  "kernelspec": {
   "display_name": "tkgdti",
   "language": "python",
   "name": "python3"
  },
  "language_info": {
   "codemirror_mode": {
    "name": "ipython",
    "version": 3
   },
   "file_extension": ".py",
   "mimetype": "text/x-python",
   "name": "python",
   "nbconvert_exporter": "python",
   "pygments_lexer": "ipython3",
   "version": "3.11.10"
  }
 },
 "nbformat": 4,
 "nbformat_minor": 2
}
