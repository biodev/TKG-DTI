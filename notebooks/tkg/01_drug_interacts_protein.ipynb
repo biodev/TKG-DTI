{
 "cells": [
  {
   "cell_type": "code",
   "execution_count": 26,
   "metadata": {},
   "outputs": [],
   "source": [
    "import pandas as pd\n",
    "import requests\n",
    "from tqdm import tqdm\n",
    "import torch \n",
    "import numpy as np \n",
    "from Bio import Entrez\n",
    "from io import StringIO\n",
    "from Bio import SeqIO\n",
    "\n",
    "from tkgdti.data.utils import get_smiles_inchikey, get_protein_sequence_uniprot\n",
    "\n",
    "# set seed \n",
    "torch.manual_seed(0)\n",
    "np.random.seed(0)"
   ]
  },
  {
   "cell_type": "markdown",
   "metadata": {},
   "source": [
    "# Targetome Data; Drug -> Interacts -> Protein \n"
   ]
  },
  {
   "cell_type": "code",
   "execution_count": 27,
   "metadata": {},
   "outputs": [
    {
     "data": {
      "text/html": [
       "<div>\n",
       "<style scoped>\n",
       "    .dataframe tbody tr th:only-of-type {\n",
       "        vertical-align: middle;\n",
       "    }\n",
       "\n",
       "    .dataframe tbody tr th {\n",
       "        vertical-align: top;\n",
       "    }\n",
       "\n",
       "    .dataframe thead th {\n",
       "        text-align: right;\n",
       "    }\n",
       "</style>\n",
       "<table border=\"1\" class=\"dataframe\">\n",
       "  <thead>\n",
       "    <tr style=\"text-align: right;\">\n",
       "      <th></th>\n",
       "      <th>inhibitor</th>\n",
       "      <th>Symbol</th>\n",
       "      <th>GeneID</th>\n",
       "      <th>targetome_adj_tier</th>\n",
       "    </tr>\n",
       "  </thead>\n",
       "  <tbody>\n",
       "    <tr>\n",
       "      <th>0</th>\n",
       "      <td>ABT-737</td>\n",
       "      <td>BAD</td>\n",
       "      <td>572</td>\n",
       "      <td>TIER_1</td>\n",
       "    </tr>\n",
       "    <tr>\n",
       "      <th>1</th>\n",
       "      <td>Palbociclib</td>\n",
       "      <td>CCND1</td>\n",
       "      <td>595</td>\n",
       "      <td>TIER_1</td>\n",
       "    </tr>\n",
       "    <tr>\n",
       "      <th>2</th>\n",
       "      <td>Flavopiridol</td>\n",
       "      <td>CCNT1</td>\n",
       "      <td>904</td>\n",
       "      <td>TIER_1</td>\n",
       "    </tr>\n",
       "    <tr>\n",
       "      <th>3</th>\n",
       "      <td>NF-kB Activation Inhibitor</td>\n",
       "      <td>NFKB1</td>\n",
       "      <td>4790</td>\n",
       "      <td>TIER_5*</td>\n",
       "    </tr>\n",
       "    <tr>\n",
       "      <th>4</th>\n",
       "      <td>Roscovitine (CYC-202)</td>\n",
       "      <td>NFKB1</td>\n",
       "      <td>4790</td>\n",
       "      <td>TIER_5*</td>\n",
       "    </tr>\n",
       "    <tr>\n",
       "      <th>...</th>\n",
       "      <td>...</td>\n",
       "      <td>...</td>\n",
       "      <td>...</td>\n",
       "      <td>...</td>\n",
       "    </tr>\n",
       "    <tr>\n",
       "      <th>646</th>\n",
       "      <td>Selumetinib (AZD6244)</td>\n",
       "      <td>MAP2K2</td>\n",
       "      <td>5605</td>\n",
       "      <td>TIER_1</td>\n",
       "    </tr>\n",
       "    <tr>\n",
       "      <th>647</th>\n",
       "      <td>AZD1152-HQPA (AZD2811)</td>\n",
       "      <td>MAP2K5</td>\n",
       "      <td>5607</td>\n",
       "      <td>TIER_5*</td>\n",
       "    </tr>\n",
       "    <tr>\n",
       "      <th>648</th>\n",
       "      <td>PLX-4720</td>\n",
       "      <td>MAP2K5</td>\n",
       "      <td>5607</td>\n",
       "      <td>TIER_1</td>\n",
       "    </tr>\n",
       "    <tr>\n",
       "      <th>649</th>\n",
       "      <td>PP242</td>\n",
       "      <td>MAP2K5</td>\n",
       "      <td>5607</td>\n",
       "      <td>TIER_5*</td>\n",
       "    </tr>\n",
       "    <tr>\n",
       "      <th>650</th>\n",
       "      <td>TG100-115</td>\n",
       "      <td>TRPM6</td>\n",
       "      <td>140803</td>\n",
       "      <td>TIER_1</td>\n",
       "    </tr>\n",
       "  </tbody>\n",
       "</table>\n",
       "<p>651 rows × 4 columns</p>\n",
       "</div>"
      ],
      "text/plain": [
       "                      inhibitor  Symbol  GeneID targetome_adj_tier\n",
       "0                       ABT-737     BAD     572             TIER_1\n",
       "1                   Palbociclib   CCND1     595             TIER_1\n",
       "2                  Flavopiridol   CCNT1     904             TIER_1\n",
       "3    NF-kB Activation Inhibitor   NFKB1    4790            TIER_5*\n",
       "4         Roscovitine (CYC-202)   NFKB1    4790            TIER_5*\n",
       "..                          ...     ...     ...                ...\n",
       "646       Selumetinib (AZD6244)  MAP2K2    5605             TIER_1\n",
       "647      AZD1152-HQPA (AZD2811)  MAP2K5    5607            TIER_5*\n",
       "648                    PLX-4720  MAP2K5    5607             TIER_1\n",
       "649                       PP242  MAP2K5    5607            TIER_5*\n",
       "650                   TG100-115   TRPM6  140803             TIER_1\n",
       "\n",
       "[651 rows x 4 columns]"
      ]
     },
     "execution_count": 27,
     "metadata": {},
     "output_type": "execute_result"
    }
   ],
   "source": [
    "drug_info = pd.read_excel('../../data/tkg_raw/beataml_drug_families.xlsx', sheet_name='drug_gene')\n",
    "drug_info = drug_info[['inhibitor', 'Symbol', 'GeneID', 'targetome_adj_tier']]\n",
    "drug_info.targetome_adj_tier = drug_info.targetome_adj_tier.fillna('TIER_5*')\n",
    "drug_info"
   ]
  },
  {
   "cell_type": "code",
   "execution_count": 28,
   "metadata": {},
   "outputs": [
    {
     "data": {
      "text/html": [
       "<div>\n",
       "<style scoped>\n",
       "    .dataframe tbody tr th:only-of-type {\n",
       "        vertical-align: middle;\n",
       "    }\n",
       "\n",
       "    .dataframe tbody tr th {\n",
       "        vertical-align: top;\n",
       "    }\n",
       "\n",
       "    .dataframe thead th {\n",
       "        text-align: right;\n",
       "    }\n",
       "</style>\n",
       "<table border=\"1\" class=\"dataframe\">\n",
       "  <thead>\n",
       "    <tr style=\"text-align: right;\">\n",
       "      <th></th>\n",
       "      <th>inhibitor</th>\n",
       "      <th>Symbol</th>\n",
       "      <th>GeneID</th>\n",
       "    </tr>\n",
       "    <tr>\n",
       "      <th>targetome_adj_tier</th>\n",
       "      <th></th>\n",
       "      <th></th>\n",
       "      <th></th>\n",
       "    </tr>\n",
       "  </thead>\n",
       "  <tbody>\n",
       "    <tr>\n",
       "      <th>TIER_1</th>\n",
       "      <td>476</td>\n",
       "      <td>476</td>\n",
       "      <td>476</td>\n",
       "    </tr>\n",
       "    <tr>\n",
       "      <th>TIER_2</th>\n",
       "      <td>37</td>\n",
       "      <td>37</td>\n",
       "      <td>37</td>\n",
       "    </tr>\n",
       "    <tr>\n",
       "      <th>TIER_3</th>\n",
       "      <td>8</td>\n",
       "      <td>8</td>\n",
       "      <td>8</td>\n",
       "    </tr>\n",
       "    <tr>\n",
       "      <th>TIER_4</th>\n",
       "      <td>4</td>\n",
       "      <td>4</td>\n",
       "      <td>4</td>\n",
       "    </tr>\n",
       "    <tr>\n",
       "      <th>TIER_5*</th>\n",
       "      <td>126</td>\n",
       "      <td>126</td>\n",
       "      <td>126</td>\n",
       "    </tr>\n",
       "  </tbody>\n",
       "</table>\n",
       "</div>"
      ],
      "text/plain": [
       "                    inhibitor  Symbol  GeneID\n",
       "targetome_adj_tier                           \n",
       "TIER_1                    476     476     476\n",
       "TIER_2                     37      37      37\n",
       "TIER_3                      8       8       8\n",
       "TIER_4                      4       4       4\n",
       "TIER_5*                   126     126     126"
      ]
     },
     "execution_count": 28,
     "metadata": {},
     "output_type": "execute_result"
    }
   ],
   "source": [
    "drug_info.groupby('targetome_adj_tier').count()"
   ]
  },
  {
   "cell_type": "code",
   "execution_count": 29,
   "metadata": {},
   "outputs": [
    {
     "data": {
      "text/plain": [
       "(476, 4)"
      ]
     },
     "execution_count": 29,
     "metadata": {},
     "output_type": "execute_result"
    }
   ],
   "source": [
    "drug_info = drug_info[lambda x: x.targetome_adj_tier == 'TIER_1']\n",
    "drug_info.shape"
   ]
  },
  {
   "cell_type": "code",
   "execution_count": 30,
   "metadata": {},
   "outputs": [
    {
     "name": "stdout",
     "output_type": "stream",
     "text": [
      "number of unique drugs: 97\n",
      "number of unique genes: 222\n"
     ]
    }
   ],
   "source": [
    "print(f'number of unique drugs: {drug_info.inhibitor.nunique()}')\n",
    "print(f'number of unique genes: {drug_info.Symbol.nunique()}')"
   ]
  },
  {
   "cell_type": "code",
   "execution_count": 31,
   "metadata": {},
   "outputs": [
    {
     "name": "stderr",
     "output_type": "stream",
     "text": [
      "100%|██████████| 97/97 [00:42<00:00,  2.31it/s]\n"
     ]
    },
    {
     "data": {
      "text/html": [
       "<div>\n",
       "<style scoped>\n",
       "    .dataframe tbody tr th:only-of-type {\n",
       "        vertical-align: middle;\n",
       "    }\n",
       "\n",
       "    .dataframe tbody tr th {\n",
       "        vertical-align: top;\n",
       "    }\n",
       "\n",
       "    .dataframe thead th {\n",
       "        text-align: right;\n",
       "    }\n",
       "</style>\n",
       "<table border=\"1\" class=\"dataframe\">\n",
       "  <thead>\n",
       "    <tr style=\"text-align: right;\">\n",
       "      <th></th>\n",
       "      <th>drug</th>\n",
       "      <th>can_smiles</th>\n",
       "      <th>inchikey</th>\n",
       "      <th>iso_smiles</th>\n",
       "    </tr>\n",
       "  </thead>\n",
       "  <tbody>\n",
       "    <tr>\n",
       "      <th>0</th>\n",
       "      <td>ABT-737</td>\n",
       "      <td>CN(C)CCC(CSC1=CC=CC=C1)NC2=C(C=C(C=C2)S(=O)(=O...</td>\n",
       "      <td>HPLNQCPCUACXLM-PGUFJCEWSA-N</td>\n",
       "      <td>CN(C)CC[C@H](CSC1=CC=CC=C1)NC2=C(C=C(C=C2)S(=O...</td>\n",
       "    </tr>\n",
       "    <tr>\n",
       "      <th>1</th>\n",
       "      <td>Palbociclib</td>\n",
       "      <td>CC1=C(C(=O)N(C2=NC(=NC=C12)NC3=NC=C(C=C3)N4CCN...</td>\n",
       "      <td>AHJRHEGDXFFMBM-UHFFFAOYSA-N</td>\n",
       "      <td>CC1=C(C(=O)N(C2=NC(=NC=C12)NC3=NC=C(C=C3)N4CCN...</td>\n",
       "    </tr>\n",
       "    <tr>\n",
       "      <th>2</th>\n",
       "      <td>Flavopiridol</td>\n",
       "      <td>CN1CCC(C(C1)O)C2=C(C=C(C3=C2OC(=CC3=O)C4=CC=CC...</td>\n",
       "      <td>BIIVYFLTOXDAOV-YVEFUNNKSA-N</td>\n",
       "      <td>CN1CC[C@@H]([C@@H](C1)O)C2=C(C=C(C3=C2OC(=CC3=...</td>\n",
       "    </tr>\n",
       "    <tr>\n",
       "      <th>3</th>\n",
       "      <td>Bortezomib (Velcade)</td>\n",
       "      <td>B(C(CC(C)C)NC(=O)C(CC1=CC=CC=C1)NC(=O)C2=NC=CN...</td>\n",
       "      <td>GXJABQQUPOEUTA-RDJZCZTQSA-N</td>\n",
       "      <td>B([C@H](CC(C)C)NC(=O)[C@H](CC1=CC=CC=C1)NC(=O)...</td>\n",
       "    </tr>\n",
       "    <tr>\n",
       "      <th>4</th>\n",
       "      <td>AST-487</td>\n",
       "      <td>CCN1CCN(CC1)CC2=C(C=C(C=C2)NC(=O)NC3=CC=C(C=C3...</td>\n",
       "      <td>ODPGGGTTYSGTGO-UHFFFAOYSA-N</td>\n",
       "      <td>CCN1CCN(CC1)CC2=C(C=C(C=C2)NC(=O)NC3=CC=C(C=C3...</td>\n",
       "    </tr>\n",
       "  </tbody>\n",
       "</table>\n",
       "</div>"
      ],
      "text/plain": [
       "                   drug                                         can_smiles  \\\n",
       "0               ABT-737  CN(C)CCC(CSC1=CC=CC=C1)NC2=C(C=C(C=C2)S(=O)(=O...   \n",
       "1           Palbociclib  CC1=C(C(=O)N(C2=NC(=NC=C12)NC3=NC=C(C=C3)N4CCN...   \n",
       "2          Flavopiridol  CN1CCC(C(C1)O)C2=C(C=C(C3=C2OC(=CC3=O)C4=CC=CC...   \n",
       "3  Bortezomib (Velcade)  B(C(CC(C)C)NC(=O)C(CC1=CC=CC=C1)NC(=O)C2=NC=CN...   \n",
       "4               AST-487  CCN1CCN(CC1)CC2=C(C=C(C=C2)NC(=O)NC3=CC=C(C=C3...   \n",
       "\n",
       "                      inchikey  \\\n",
       "0  HPLNQCPCUACXLM-PGUFJCEWSA-N   \n",
       "1  AHJRHEGDXFFMBM-UHFFFAOYSA-N   \n",
       "2  BIIVYFLTOXDAOV-YVEFUNNKSA-N   \n",
       "3  GXJABQQUPOEUTA-RDJZCZTQSA-N   \n",
       "4  ODPGGGTTYSGTGO-UHFFFAOYSA-N   \n",
       "\n",
       "                                          iso_smiles  \n",
       "0  CN(C)CC[C@H](CSC1=CC=CC=C1)NC2=C(C=C(C=C2)S(=O...  \n",
       "1  CC1=C(C(=O)N(C2=NC(=NC=C12)NC3=NC=C(C=C3)N4CCN...  \n",
       "2  CN1CC[C@@H]([C@@H](C1)O)C2=C(C=C(C3=C2OC(=CC3=...  \n",
       "3  B([C@H](CC(C)C)NC(=O)[C@H](CC1=CC=CC=C1)NC(=O)...  \n",
       "4  CCN1CCN(CC1)CC2=C(C=C(C=C2)NC(=O)NC3=CC=C(C=C3...  "
      ]
     },
     "execution_count": 31,
     "metadata": {},
     "output_type": "execute_result"
    }
   ],
   "source": [
    "drug_names = drug_info.inhibitor.unique()\n",
    "results = {'drug': [], 'can_smiles': [], 'inchikey': [], 'iso_smiles': []}\n",
    "for drug in tqdm(drug_names):\n",
    "    can_smiles, iso_smiles, inchikey = get_smiles_inchikey(drug)\n",
    "    results['drug'].append(drug)\n",
    "    results['can_smiles'].append(can_smiles)\n",
    "    results['iso_smiles'].append(iso_smiles)\n",
    "    results['inchikey'].append(inchikey)\n",
    "\n",
    "results = pd.DataFrame(results)\n",
    "results.head() "
   ]
  },
  {
   "cell_type": "code",
   "execution_count": 32,
   "metadata": {},
   "outputs": [
    {
     "name": "stdout",
     "output_type": "stream",
     "text": [
      "# of unknown inchikeys: 8\n",
      "# of unknown smiles: 8\n"
     ]
    }
   ],
   "source": [
    "print('# of unknown inchikeys:', results.inchikey.isnull().sum()) \n",
    "print('# of unknown smiles:', results.can_smiles.isnull().sum())"
   ]
  },
  {
   "cell_type": "code",
   "execution_count": 33,
   "metadata": {},
   "outputs": [
    {
     "data": {
      "text/plain": [
       "(422, 7)"
      ]
     },
     "execution_count": 33,
     "metadata": {},
     "output_type": "execute_result"
    }
   ],
   "source": [
    "drug_info = drug_info.merge(results, left_on='inhibitor', right_on='drug', how='left')\n",
    "drug_info = drug_info.drop(columns='drug')\n",
    "drug_info = drug_info.dropna(subset=['can_smiles', 'inchikey'])\n",
    "drug_info.shape"
   ]
  },
  {
   "cell_type": "code",
   "execution_count": 34,
   "metadata": {},
   "outputs": [
    {
     "data": {
      "text/html": [
       "<div>\n",
       "<style scoped>\n",
       "    .dataframe tbody tr th:only-of-type {\n",
       "        vertical-align: middle;\n",
       "    }\n",
       "\n",
       "    .dataframe tbody tr th {\n",
       "        vertical-align: top;\n",
       "    }\n",
       "\n",
       "    .dataframe thead th {\n",
       "        text-align: right;\n",
       "    }\n",
       "</style>\n",
       "<table border=\"1\" class=\"dataframe\">\n",
       "  <thead>\n",
       "    <tr style=\"text-align: right;\">\n",
       "      <th></th>\n",
       "      <th>inhibitor</th>\n",
       "      <th>Symbol</th>\n",
       "      <th>GeneID</th>\n",
       "      <th>targetome_adj_tier</th>\n",
       "      <th>can_smiles</th>\n",
       "      <th>inchikey</th>\n",
       "      <th>iso_smiles</th>\n",
       "    </tr>\n",
       "  </thead>\n",
       "  <tbody>\n",
       "    <tr>\n",
       "      <th>0</th>\n",
       "      <td>ABT-737</td>\n",
       "      <td>BAD</td>\n",
       "      <td>572</td>\n",
       "      <td>TIER_1</td>\n",
       "      <td>CN(C)CCC(CSC1=CC=CC=C1)NC2=C(C=C(C=C2)S(=O)(=O...</td>\n",
       "      <td>HPLNQCPCUACXLM-PGUFJCEWSA-N</td>\n",
       "      <td>CN(C)CC[C@H](CSC1=CC=CC=C1)NC2=C(C=C(C=C2)S(=O...</td>\n",
       "    </tr>\n",
       "    <tr>\n",
       "      <th>1</th>\n",
       "      <td>Palbociclib</td>\n",
       "      <td>CCND1</td>\n",
       "      <td>595</td>\n",
       "      <td>TIER_1</td>\n",
       "      <td>CC1=C(C(=O)N(C2=NC(=NC=C12)NC3=NC=C(C=C3)N4CCN...</td>\n",
       "      <td>AHJRHEGDXFFMBM-UHFFFAOYSA-N</td>\n",
       "      <td>CC1=C(C(=O)N(C2=NC(=NC=C12)NC3=NC=C(C=C3)N4CCN...</td>\n",
       "    </tr>\n",
       "    <tr>\n",
       "      <th>2</th>\n",
       "      <td>Flavopiridol</td>\n",
       "      <td>CCNT1</td>\n",
       "      <td>904</td>\n",
       "      <td>TIER_1</td>\n",
       "      <td>CN1CCC(C(C1)O)C2=C(C=C(C3=C2OC(=CC3=O)C4=CC=CC...</td>\n",
       "      <td>BIIVYFLTOXDAOV-YVEFUNNKSA-N</td>\n",
       "      <td>CN1CC[C@@H]([C@@H](C1)O)C2=C(C=C(C3=C2OC(=CC3=...</td>\n",
       "    </tr>\n",
       "    <tr>\n",
       "      <th>3</th>\n",
       "      <td>Bortezomib (Velcade)</td>\n",
       "      <td>PSMA1</td>\n",
       "      <td>5682</td>\n",
       "      <td>TIER_1</td>\n",
       "      <td>B(C(CC(C)C)NC(=O)C(CC1=CC=CC=C1)NC(=O)C2=NC=CN...</td>\n",
       "      <td>GXJABQQUPOEUTA-RDJZCZTQSA-N</td>\n",
       "      <td>B([C@H](CC(C)C)NC(=O)[C@H](CC1=CC=CC=C1)NC(=O)...</td>\n",
       "    </tr>\n",
       "    <tr>\n",
       "      <th>4</th>\n",
       "      <td>Bortezomib (Velcade)</td>\n",
       "      <td>PSMA2</td>\n",
       "      <td>5683</td>\n",
       "      <td>TIER_1</td>\n",
       "      <td>B(C(CC(C)C)NC(=O)C(CC1=CC=CC=C1)NC(=O)C2=NC=CN...</td>\n",
       "      <td>GXJABQQUPOEUTA-RDJZCZTQSA-N</td>\n",
       "      <td>B([C@H](CC(C)C)NC(=O)[C@H](CC1=CC=CC=C1)NC(=O)...</td>\n",
       "    </tr>\n",
       "  </tbody>\n",
       "</table>\n",
       "</div>"
      ],
      "text/plain": [
       "              inhibitor Symbol  GeneID targetome_adj_tier  \\\n",
       "0               ABT-737    BAD     572             TIER_1   \n",
       "1           Palbociclib  CCND1     595             TIER_1   \n",
       "2          Flavopiridol  CCNT1     904             TIER_1   \n",
       "3  Bortezomib (Velcade)  PSMA1    5682             TIER_1   \n",
       "4  Bortezomib (Velcade)  PSMA2    5683             TIER_1   \n",
       "\n",
       "                                          can_smiles  \\\n",
       "0  CN(C)CCC(CSC1=CC=CC=C1)NC2=C(C=C(C=C2)S(=O)(=O...   \n",
       "1  CC1=C(C(=O)N(C2=NC(=NC=C12)NC3=NC=C(C=C3)N4CCN...   \n",
       "2  CN1CCC(C(C1)O)C2=C(C=C(C3=C2OC(=CC3=O)C4=CC=CC...   \n",
       "3  B(C(CC(C)C)NC(=O)C(CC1=CC=CC=C1)NC(=O)C2=NC=CN...   \n",
       "4  B(C(CC(C)C)NC(=O)C(CC1=CC=CC=C1)NC(=O)C2=NC=CN...   \n",
       "\n",
       "                      inchikey  \\\n",
       "0  HPLNQCPCUACXLM-PGUFJCEWSA-N   \n",
       "1  AHJRHEGDXFFMBM-UHFFFAOYSA-N   \n",
       "2  BIIVYFLTOXDAOV-YVEFUNNKSA-N   \n",
       "3  GXJABQQUPOEUTA-RDJZCZTQSA-N   \n",
       "4  GXJABQQUPOEUTA-RDJZCZTQSA-N   \n",
       "\n",
       "                                          iso_smiles  \n",
       "0  CN(C)CC[C@H](CSC1=CC=CC=C1)NC2=C(C=C(C=C2)S(=O...  \n",
       "1  CC1=C(C(=O)N(C2=NC(=NC=C12)NC3=NC=C(C=C3)N4CCN...  \n",
       "2  CN1CC[C@@H]([C@@H](C1)O)C2=C(C=C(C3=C2OC(=CC3=...  \n",
       "3  B([C@H](CC(C)C)NC(=O)[C@H](CC1=CC=CC=C1)NC(=O)...  \n",
       "4  B([C@H](CC(C)C)NC(=O)[C@H](CC1=CC=CC=C1)NC(=O)...  "
      ]
     },
     "execution_count": 34,
     "metadata": {},
     "output_type": "execute_result"
    }
   ],
   "source": [
    "drug_info.head()"
   ]
  },
  {
   "cell_type": "code",
   "execution_count": 35,
   "metadata": {},
   "outputs": [],
   "source": [
    "drug_info.to_csv('../../extdata/meta/targetome__drug_targets_gene.csv', index=False)"
   ]
  },
  {
   "cell_type": "code",
   "execution_count": 36,
   "metadata": {},
   "outputs": [],
   "source": [
    "rel_fwd = drug_info[['inchikey', 'Symbol']].rename({'inchikey': 'src', 'Symbol': 'dst'}, axis=1).assign(src_type='drug', dst_type='gene', relation='targets')\n",
    "\n",
    "rel_fwd.to_csv('../../extdata/relations/targetome_drug_targets_gene.csv', index=False)"
   ]
  },
  {
   "cell_type": "code",
   "execution_count": 37,
   "metadata": {},
   "outputs": [
    {
     "name": "stdout",
     "output_type": "stream",
     "text": [
      "number of unique drugs: 89\n"
     ]
    }
   ],
   "source": [
    "# save drugspace for convenience \n",
    "drugspace = drug_info.inchikey.unique()\n",
    "print(f'number of unique drugs: {len(drugspace)}')\n",
    "\n",
    "np.savetxt('../../extdata/meta/drugspace.txt', drugspace, fmt='%s')"
   ]
  },
  {
   "cell_type": "code",
   "execution_count": null,
   "metadata": {},
   "outputs": [],
   "source": []
  }
 ],
 "metadata": {
  "kernelspec": {
   "display_name": "tkgdti",
   "language": "python",
   "name": "python3"
  },
  "language_info": {
   "codemirror_mode": {
    "name": "ipython",
    "version": 3
   },
   "file_extension": ".py",
   "mimetype": "text/x-python",
   "name": "python",
   "nbconvert_exporter": "python",
   "pygments_lexer": "ipython3",
   "version": "3.11.10"
  }
 },
 "nbformat": 4,
 "nbformat_minor": 2
}
