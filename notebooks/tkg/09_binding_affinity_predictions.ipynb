{
 "cells": [
  {
   "cell_type": "code",
   "execution_count": 3,
   "metadata": {},
   "outputs": [],
   "source": [
    "import pandas as pd \n",
    "from sklearn.metrics import roc_auc_score, average_precision_score\n",
    "from matplotlib import pyplot as plt\n",
    "import numpy as np"
   ]
  },
  {
   "cell_type": "code",
   "execution_count": 4,
   "metadata": {},
   "outputs": [
    {
     "data": {
      "text/html": [
       "<div>\n",
       "<style scoped>\n",
       "    .dataframe tbody tr th:only-of-type {\n",
       "        vertical-align: middle;\n",
       "    }\n",
       "\n",
       "    .dataframe tbody tr th {\n",
       "        vertical-align: top;\n",
       "    }\n",
       "\n",
       "    .dataframe thead th {\n",
       "        text-align: right;\n",
       "    }\n",
       "</style>\n",
       "<table border=\"1\" class=\"dataframe\">\n",
       "  <thead>\n",
       "    <tr style=\"text-align: right;\">\n",
       "      <th></th>\n",
       "      <th>drug_idx</th>\n",
       "      <th>prot_idx</th>\n",
       "      <th>inchikey</th>\n",
       "      <th>gene_symbol</th>\n",
       "      <th>in_targetome</th>\n",
       "      <th>kd_score</th>\n",
       "      <th>kd_lcb</th>\n",
       "      <th>kd_ucb</th>\n",
       "    </tr>\n",
       "  </thead>\n",
       "  <tbody>\n",
       "    <tr>\n",
       "      <th>0</th>\n",
       "      <td>0</td>\n",
       "      <td>0</td>\n",
       "      <td>HPLNQCPCUACXLM-PGUFJCEWSA-N</td>\n",
       "      <td>A1BG</td>\n",
       "      <td>False</td>\n",
       "      <td>-0.188454</td>\n",
       "      <td>-1.559314</td>\n",
       "      <td>1.478381</td>\n",
       "    </tr>\n",
       "    <tr>\n",
       "      <th>1</th>\n",
       "      <td>0</td>\n",
       "      <td>1</td>\n",
       "      <td>HPLNQCPCUACXLM-PGUFJCEWSA-N</td>\n",
       "      <td>A1CF</td>\n",
       "      <td>False</td>\n",
       "      <td>-0.224733</td>\n",
       "      <td>-1.470650</td>\n",
       "      <td>1.515516</td>\n",
       "    </tr>\n",
       "    <tr>\n",
       "      <th>2</th>\n",
       "      <td>0</td>\n",
       "      <td>2</td>\n",
       "      <td>HPLNQCPCUACXLM-PGUFJCEWSA-N</td>\n",
       "      <td>A2M</td>\n",
       "      <td>False</td>\n",
       "      <td>-0.110917</td>\n",
       "      <td>-1.716300</td>\n",
       "      <td>1.333545</td>\n",
       "    </tr>\n",
       "    <tr>\n",
       "      <th>3</th>\n",
       "      <td>0</td>\n",
       "      <td>3</td>\n",
       "      <td>HPLNQCPCUACXLM-PGUFJCEWSA-N</td>\n",
       "      <td>A3GALT2</td>\n",
       "      <td>False</td>\n",
       "      <td>-0.076783</td>\n",
       "      <td>-1.425106</td>\n",
       "      <td>2.203208</td>\n",
       "    </tr>\n",
       "    <tr>\n",
       "      <th>4</th>\n",
       "      <td>0</td>\n",
       "      <td>4</td>\n",
       "      <td>HPLNQCPCUACXLM-PGUFJCEWSA-N</td>\n",
       "      <td>A4GALT</td>\n",
       "      <td>False</td>\n",
       "      <td>-0.381184</td>\n",
       "      <td>-1.512582</td>\n",
       "      <td>1.024854</td>\n",
       "    </tr>\n",
       "  </tbody>\n",
       "</table>\n",
       "</div>"
      ],
      "text/plain": [
       "   drug_idx  prot_idx                     inchikey gene_symbol  in_targetome  \\\n",
       "0         0         0  HPLNQCPCUACXLM-PGUFJCEWSA-N        A1BG         False   \n",
       "1         0         1  HPLNQCPCUACXLM-PGUFJCEWSA-N        A1CF         False   \n",
       "2         0         2  HPLNQCPCUACXLM-PGUFJCEWSA-N         A2M         False   \n",
       "3         0         3  HPLNQCPCUACXLM-PGUFJCEWSA-N     A3GALT2         False   \n",
       "4         0         4  HPLNQCPCUACXLM-PGUFJCEWSA-N      A4GALT         False   \n",
       "\n",
       "   kd_score    kd_lcb    kd_ucb  \n",
       "0 -0.188454 -1.559314  1.478381  \n",
       "1 -0.224733 -1.470650  1.515516  \n",
       "2 -0.110917 -1.716300  1.333545  \n",
       "3 -0.076783 -1.425106  2.203208  \n",
       "4 -0.381184 -1.512582  1.024854  "
      ]
     },
     "execution_count": 4,
     "metadata": {},
     "output_type": "execute_result"
    }
   ],
   "source": [
    "res = pd.read_csv('../jglaser/predictions.csv')\n",
    "\n",
    "# remove microRNAs from predicted binding affinity (predictions results)\n",
    "res = res[lambda x: ~x.gene_symbol.str.startswith('MIR')]\n",
    "\n",
    "res.head()"
   ]
  },
  {
   "cell_type": "code",
   "execution_count": 5,
   "metadata": {},
   "outputs": [
    {
     "name": "stdout",
     "output_type": "stream",
     "text": [
      "Targetome AUROC score: 0.6068835334926603\n",
      "Targetome AUPR score: 0.0045516218334777795\n"
     ]
    }
   ],
   "source": [
    "auroc = roc_auc_score(res.in_targetome, res.kd_score)\n",
    "aupr = average_precision_score(res.in_targetome, res.kd_score)\n",
    "print('Targetome AUROC score:', auroc)\n",
    "print('Targetome AUPR score:', aupr)"
   ]
  },
  {
   "cell_type": "code",
   "execution_count": 6,
   "metadata": {},
   "outputs": [
    {
     "name": "stdout",
     "output_type": "stream",
     "text": [
      "# weak binders: 116145\n",
      "# strong binders: 116145\n",
      "# confident weak binders: 29037\n",
      "# confident strong binders: 29037\n",
      "# targetome in conf weak binders 76\n",
      "# targetome not in conf weak binders 3156\n",
      "# targetome in conf strong binders 151\n",
      "# targetome not in conf strong binders 3081\n"
     ]
    },
    {
     "data": {
      "text/html": [
       "<div>\n",
       "<style scoped>\n",
       "    .dataframe tbody tr th:only-of-type {\n",
       "        vertical-align: middle;\n",
       "    }\n",
       "\n",
       "    .dataframe tbody tr th {\n",
       "        vertical-align: top;\n",
       "    }\n",
       "\n",
       "    .dataframe thead th {\n",
       "        text-align: right;\n",
       "    }\n",
       "</style>\n",
       "<table border=\"1\" class=\"dataframe\">\n",
       "  <thead>\n",
       "    <tr style=\"text-align: right;\">\n",
       "      <th></th>\n",
       "      <th>drug_idx</th>\n",
       "      <th>prot_idx</th>\n",
       "      <th>inchikey</th>\n",
       "      <th>gene_symbol</th>\n",
       "      <th>in_targetome</th>\n",
       "      <th>kd_score</th>\n",
       "      <th>kd_lcb</th>\n",
       "      <th>kd_ucb</th>\n",
       "      <th>weak_binders</th>\n",
       "      <th>strong_binders</th>\n",
       "      <th>conf_weak</th>\n",
       "      <th>conf_strong</th>\n",
       "    </tr>\n",
       "  </thead>\n",
       "  <tbody>\n",
       "    <tr>\n",
       "      <th>0</th>\n",
       "      <td>0</td>\n",
       "      <td>0</td>\n",
       "      <td>HPLNQCPCUACXLM-PGUFJCEWSA-N</td>\n",
       "      <td>A1BG</td>\n",
       "      <td>False</td>\n",
       "      <td>-0.188454</td>\n",
       "      <td>-1.559314</td>\n",
       "      <td>1.478381</td>\n",
       "      <td>False</td>\n",
       "      <td>False</td>\n",
       "      <td>False</td>\n",
       "      <td>False</td>\n",
       "    </tr>\n",
       "    <tr>\n",
       "      <th>1</th>\n",
       "      <td>0</td>\n",
       "      <td>1</td>\n",
       "      <td>HPLNQCPCUACXLM-PGUFJCEWSA-N</td>\n",
       "      <td>A1CF</td>\n",
       "      <td>False</td>\n",
       "      <td>-0.224733</td>\n",
       "      <td>-1.470650</td>\n",
       "      <td>1.515516</td>\n",
       "      <td>False</td>\n",
       "      <td>False</td>\n",
       "      <td>False</td>\n",
       "      <td>False</td>\n",
       "    </tr>\n",
       "    <tr>\n",
       "      <th>2</th>\n",
       "      <td>0</td>\n",
       "      <td>2</td>\n",
       "      <td>HPLNQCPCUACXLM-PGUFJCEWSA-N</td>\n",
       "      <td>A2M</td>\n",
       "      <td>False</td>\n",
       "      <td>-0.110917</td>\n",
       "      <td>-1.716300</td>\n",
       "      <td>1.333545</td>\n",
       "      <td>False</td>\n",
       "      <td>False</td>\n",
       "      <td>False</td>\n",
       "      <td>False</td>\n",
       "    </tr>\n",
       "    <tr>\n",
       "      <th>3</th>\n",
       "      <td>0</td>\n",
       "      <td>3</td>\n",
       "      <td>HPLNQCPCUACXLM-PGUFJCEWSA-N</td>\n",
       "      <td>A3GALT2</td>\n",
       "      <td>False</td>\n",
       "      <td>-0.076783</td>\n",
       "      <td>-1.425106</td>\n",
       "      <td>2.203208</td>\n",
       "      <td>False</td>\n",
       "      <td>False</td>\n",
       "      <td>False</td>\n",
       "      <td>False</td>\n",
       "    </tr>\n",
       "    <tr>\n",
       "      <th>4</th>\n",
       "      <td>0</td>\n",
       "      <td>4</td>\n",
       "      <td>HPLNQCPCUACXLM-PGUFJCEWSA-N</td>\n",
       "      <td>A4GALT</td>\n",
       "      <td>False</td>\n",
       "      <td>-0.381184</td>\n",
       "      <td>-1.512582</td>\n",
       "      <td>1.024854</td>\n",
       "      <td>False</td>\n",
       "      <td>False</td>\n",
       "      <td>False</td>\n",
       "      <td>False</td>\n",
       "    </tr>\n",
       "  </tbody>\n",
       "</table>\n",
       "</div>"
      ],
      "text/plain": [
       "   drug_idx  prot_idx                     inchikey gene_symbol  in_targetome  \\\n",
       "0         0         0  HPLNQCPCUACXLM-PGUFJCEWSA-N        A1BG         False   \n",
       "1         0         1  HPLNQCPCUACXLM-PGUFJCEWSA-N        A1CF         False   \n",
       "2         0         2  HPLNQCPCUACXLM-PGUFJCEWSA-N         A2M         False   \n",
       "3         0         3  HPLNQCPCUACXLM-PGUFJCEWSA-N     A3GALT2         False   \n",
       "4         0         4  HPLNQCPCUACXLM-PGUFJCEWSA-N      A4GALT         False   \n",
       "\n",
       "   kd_score    kd_lcb    kd_ucb  weak_binders  strong_binders  conf_weak  \\\n",
       "0 -0.188454 -1.559314  1.478381         False           False      False   \n",
       "1 -0.224733 -1.470650  1.515516         False           False      False   \n",
       "2 -0.110917 -1.716300  1.333545         False           False      False   \n",
       "3 -0.076783 -1.425106  2.203208         False           False      False   \n",
       "4 -0.381184 -1.512582  1.024854         False           False      False   \n",
       "\n",
       "   conf_strong  \n",
       "0        False  \n",
       "1        False  \n",
       "2        False  \n",
       "3        False  \n",
       "4        False  "
      ]
     },
     "execution_count": 6,
     "metadata": {},
     "output_type": "execute_result"
    }
   ],
   "source": [
    "q10, q90 = np.quantile(res.kd_score, [0.1, 0.9])\n",
    "\n",
    "res = res.assign(weak_binders = lambda x: x.kd_score < q10) \n",
    "res = res.assign(strong_binders = lambda x: x.kd_score > q90)\n",
    "\n",
    "res = res.assign(conf_weak = lambda x: x.kd_ucb < np.quantile(res.kd_ucb, 0.025))\n",
    "res = res.assign(conf_strong = lambda x: x.kd_lcb > np.quantile(res.kd_lcb, 0.975))\n",
    "\n",
    "print('# weak binders:', res.weak_binders.sum())\n",
    "print('# strong binders:', res.strong_binders.sum())\n",
    "\n",
    "print('# confident weak binders:', res.conf_weak.sum())\n",
    "print('# confident strong binders:', res.conf_strong.sum())\n",
    "\n",
    "print('# targetome in conf weak binders', res.query('in_targetome and conf_weak').shape[0])\n",
    "print('# targetome not in conf weak binders', res.query('in_targetome and not conf_weak').shape[0])\n",
    "\n",
    "print('# targetome in conf strong binders', res.query('in_targetome and conf_strong').shape[0])\n",
    "print('# targetome not in conf strong binders', res.query('in_targetome and not conf_strong').shape[0])\n",
    "\n",
    "res.head()"
   ]
  },
  {
   "cell_type": "code",
   "execution_count": 7,
   "metadata": {},
   "outputs": [
    {
     "data": {
      "image/png": "[encoded data removed]",
      "text/plain": [
       "<Figure size 640x480 with 1 Axes>"
      ]
     },
     "metadata": {},
     "output_type": "display_data"
    }
   ],
   "source": [
    "plt.figure() \n",
    "plt.hist(res.kd_ucb, bins=100, alpha=0.5, label='ucb', density=True)\n",
    "plt.hist(res.kd_lcb, bins=100, alpha=0.5, label='lcb', density=True)\n",
    "plt.hist(res.kd_score, bins=100, alpha=0.5, label='mean', density=True)\n",
    "plt.legend()\n",
    "plt.show()"
   ]
  },
  {
   "cell_type": "code",
   "execution_count": 8,
   "metadata": {},
   "outputs": [
    {
     "data": {
      "image/png": "[encoded data removed]",
      "text/plain": [
       "<Figure size 640x480 with 1 Axes>"
      ]
     },
     "metadata": {},
     "output_type": "display_data"
    }
   ],
   "source": [
    "plt.figure()\n",
    "plt.hist(res[lambda x: x.in_targetome].kd_score, bins=25, alpha=0.25, density=True, color='r', label='targetome')\n",
    "plt.hist(res[lambda x: ~x.in_targetome].kd_score, bins=100, alpha=0.25, density=True, color='b', label='non-targetome')\n",
    "plt.axvline(q10, color='k', linestyle='--', label='q10')\n",
    "plt.axvline(q90, color='k', linestyle='--', label='q90')\n",
    "plt.legend()\n",
    "plt.show()"
   ]
  },
  {
   "cell_type": "code",
   "execution_count": 9,
   "metadata": {},
   "outputs": [
    {
     "data": {
      "text/plain": [
       "\"\\n# confidently weak binders \\nconf_weak_binders_fwd = res[lambda x: x.conf_weak].rename({'inchikey':'src', 'gene_symbol':'dst'}, axis=1)\\nconf_weak_binders_fwd = conf_weak_binders_fwd.assign(src_type = 'drug', dst_type = 'gene', relation = 'predicted_conf_weak_binding_fwd')\\nconf_weak_binders_fwd = conf_weak_binders_fwd[['src', 'dst', 'src_type', 'dst_type', 'relation']]\\nconf_weak_binders_fwd.to_csv('../../extdata/relations/jglaser__predicted_conf_weak_binding_fwd.csv', index=False)\\n\\nconf_weak_binders_rev = res[lambda x: x.conf_weak].rename({'inchikey':'dst', 'gene_symbol':'src'}, axis=1)\\nconf_weak_binders_rev = conf_weak_binders_rev.assign(src_type = 'gene', dst_type = 'drug', relation = 'predicted_conf_weak_binding_rev')\\nconf_weak_binders_rev = conf_weak_binders_rev[['src', 'dst', 'src_type', 'dst_type', 'relation']]\\nconf_weak_binders_rev.to_csv('../../extdata/relations/jglaser__predicted_conf_weak_binding_rev.csv', index=False)\\n\\n\\n# MLE weak binders \\nweak_binders_fwd = res[lambda x: x.weak_binders].rename({'inchikey':'src', 'gene_symbol':'dst'}, axis=1)\\nweak_binders_fwd = weak_binders_fwd.assign(src_type = 'drug', dst_type = 'gene', relation = 'predicted_weak_binding_fwd')\\nweak_binders_fwd = weak_binders_fwd[['src', 'dst', 'src_type', 'dst_type', 'relation']]\\nweak_binders_fwd.to_csv('../../extdata/relations/jglaser__predicted_weak_binding_fwd.csv', index=False)\\n\\nweak_binders_rev = res[lambda x: x.weak_binders].rename({'inchikey':'dst', 'gene_symbol':'src'}, axis=1)\\nweak_binders_rev = weak_binders_rev.assign(src_type = 'gene', dst_type = 'drug', relation = 'predicted_weak_binding_rev')\\nweak_binders_rev = weak_binders_rev[['src', 'dst', 'src_type', 'dst_type', 'relation']]\\nweak_binders_rev.to_csv('../../extdata/relations/jglaser__predicted_weak_binding_rev.csv', index=False)\\n\""
      ]
     },
     "execution_count": 9,
     "metadata": {},
     "output_type": "execute_result"
    }
   ],
   "source": [
    "# MLE strong binders \n",
    "strong_binders_fwd = res[lambda x: x.strong_binders].rename({'inchikey':'src', 'gene_symbol':'dst'}, axis=1)\n",
    "strong_binders_fwd = strong_binders_fwd.assign(src_type = 'drug', dst_type = 'gene', relation = 'predicted_strong_binding_fwd')\n",
    "strong_binders_fwd = strong_binders_fwd[['src', 'dst', 'src_type', 'dst_type', 'relation']]\n",
    "strong_binders_fwd.to_csv('../../extdata/relations/jglaser__predicted_strong_binding_fwd.csv', index=False)\n",
    "\n",
    "strong_binders_rev = res[lambda x: x.strong_binders].rename({'inchikey':'dst', 'gene_symbol':'src'}, axis=1)\n",
    "strong_binders_rev = strong_binders_rev.assign(src_type = 'gene', dst_type = 'drug', relation = 'predicted_strong_binding_rev')\n",
    "strong_binders_rev = strong_binders_rev[['src', 'dst', 'src_type', 'dst_type', 'relation']]\n",
    "strong_binders_rev.to_csv('../../extdata/relations/jglaser__predicted_strong_binding_rev.csv', index=False)\n",
    "\n",
    "\n",
    "# NOTE: (2/28/25) - ablation study suggests that weak binding relations are detrimental (or not beneficial) to performance. These will not be included going forward. \n",
    "'''\n",
    "# confidently weak binders \n",
    "conf_weak_binders_fwd = res[lambda x: x.conf_weak].rename({'inchikey':'src', 'gene_symbol':'dst'}, axis=1)\n",
    "conf_weak_binders_fwd = conf_weak_binders_fwd.assign(src_type = 'drug', dst_type = 'gene', relation = 'predicted_conf_weak_binding_fwd')\n",
    "conf_weak_binders_fwd = conf_weak_binders_fwd[['src', 'dst', 'src_type', 'dst_type', 'relation']]\n",
    "conf_weak_binders_fwd.to_csv('../../extdata/relations/jglaser__predicted_conf_weak_binding_fwd.csv', index=False)\n",
    "\n",
    "conf_weak_binders_rev = res[lambda x: x.conf_weak].rename({'inchikey':'dst', 'gene_symbol':'src'}, axis=1)\n",
    "conf_weak_binders_rev = conf_weak_binders_rev.assign(src_type = 'gene', dst_type = 'drug', relation = 'predicted_conf_weak_binding_rev')\n",
    "conf_weak_binders_rev = conf_weak_binders_rev[['src', 'dst', 'src_type', 'dst_type', 'relation']]\n",
    "conf_weak_binders_rev.to_csv('../../extdata/relations/jglaser__predicted_conf_weak_binding_rev.csv', index=False)\n",
    "\n",
    "\n",
    "# MLE weak binders \n",
    "weak_binders_fwd = res[lambda x: x.weak_binders].rename({'inchikey':'src', 'gene_symbol':'dst'}, axis=1)\n",
    "weak_binders_fwd = weak_binders_fwd.assign(src_type = 'drug', dst_type = 'gene', relation = 'predicted_weak_binding_fwd')\n",
    "weak_binders_fwd = weak_binders_fwd[['src', 'dst', 'src_type', 'dst_type', 'relation']]\n",
    "weak_binders_fwd.to_csv('../../extdata/relations/jglaser__predicted_weak_binding_fwd.csv', index=False)\n",
    "\n",
    "weak_binders_rev = res[lambda x: x.weak_binders].rename({'inchikey':'dst', 'gene_symbol':'src'}, axis=1)\n",
    "weak_binders_rev = weak_binders_rev.assign(src_type = 'gene', dst_type = 'drug', relation = 'predicted_weak_binding_rev')\n",
    "weak_binders_rev = weak_binders_rev[['src', 'dst', 'src_type', 'dst_type', 'relation']]\n",
    "weak_binders_rev.to_csv('../../extdata/relations/jglaser__predicted_weak_binding_rev.csv', index=False)\n",
    "'''"
   ]
  },
  {
   "cell_type": "code",
   "execution_count": null,
   "metadata": {},
   "outputs": [],
   "source": []
  }
 ],
 "metadata": {
  "kernelspec": {
   "display_name": "tkgdti",
   "language": "python",
   "name": "python3"
  },
  "language_info": {
   "codemirror_mode": {
    "name": "ipython",
    "version": 3
   },
   "file_extension": ".py",
   "mimetype": "text/x-python",
   "name": "python",
   "nbconvert_exporter": "python",
   "pygments_lexer": "ipython3",
   "version": "3.11.10"
  }
 },
 "nbformat": 4,
 "nbformat_minor": 2
}
