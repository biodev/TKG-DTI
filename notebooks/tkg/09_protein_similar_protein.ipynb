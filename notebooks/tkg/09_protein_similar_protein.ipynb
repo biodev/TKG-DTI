{
 "cells": [
  {
   "cell_type": "code",
   "execution_count": 1,
   "metadata": {},
   "outputs": [
    {
     "name": "stderr",
     "output_type": "stream",
     "text": [
      "/home/teddy/miniconda3/envs/tkgdti/lib/python3.11/site-packages/tqdm/auto.py:21: TqdmWarning: IProgress not found. Please update jupyter and ipywidgets. See https://ipywidgets.readthedocs.io/en/stable/user_install.html\n",
      "  from .autonotebook import tqdm as notebook_tqdm\n"
     ]
    }
   ],
   "source": [
    "from transformers import AutoTokenizer, AutoModel\n",
    "import torch\n",
    "import numpy as np\n",
    "from rdkit import Chem\n",
    "import requests\n",
    "import pandas as pd\n",
    "from sklearn.metrics.pairwise import cosine_similarity\n",
    "from matplotlib import pyplot as plt\n",
    "from sklearn.decomposition import PCA\n",
    "import umap\n",
    "from sklearn.cluster import DBSCAN\n",
    "\n",
    "from tkgdti.data.GraphBuilder import GraphBuilder\n",
    "import os \n",
    "\n",
    "from tkgdti.data.utils import get_protein_sequence_uniprot\n",
    "\n",
    "import re\n",
    "import pandas as pd\n",
    "\n",
    "# set seed \n",
    "torch.manual_seed(0)\n",
    "np.random.seed(0)\n"
   ]
  },
  {
   "cell_type": "markdown",
   "metadata": {},
   "source": [
    "# ProtBert; protein similarity protein \n",
    "\n",
    "## First, retrieve amino acid sequences... "
   ]
  },
  {
   "cell_type": "code",
   "execution_count": 2,
   "metadata": {},
   "outputs": [
    {
     "name": "stdout",
     "output_type": "stream",
     "text": [
      "Node types: ['disease' 'drug' 'gene' 'pathway']\n",
      "building...\n"
     ]
    }
   ],
   "source": [
    "root = '../../extdata/relations/'\n",
    "relnames = os.listdir(root)\n",
    "GB = GraphBuilder(root=root, relnames=relnames, val_idxs=None, test_idxs=None)\n",
    "print('building...')\n",
    "GB.build() "
   ]
  },
  {
   "cell_type": "code",
   "execution_count": 3,
   "metadata": {},
   "outputs": [
    {
     "data": {
      "text/plain": [
       "14304"
      ]
     },
     "execution_count": 3,
     "metadata": {},
     "output_type": "execute_result"
    }
   ],
   "source": [
    "genespace = np.unique(GB.relations[lambda x: x.src_type == 'gene'].src.values.tolist() + GB.relations[lambda x: x.dst_type == 'gene'].dst.values.tolist())\n",
    "len(genespace)"
   ]
  },
  {
   "cell_type": "code",
   "execution_count": 4,
   "metadata": {},
   "outputs": [],
   "source": [
    "\n",
    "def parse_fasta_to_dataframe(path):\n",
    "    \"\"\"\n",
    "    Reads a FASTA file from the given path, parses out the organism, gene name,\n",
    "    and sequence for each entry, and returns a pandas DataFrame.\n",
    "    \"\"\"\n",
    "\n",
    "    # List to hold all records as dictionaries\n",
    "    records = []\n",
    "    current_record = None\n",
    "\n",
    "    # Regex patterns to extract organism and gene name\n",
    "    organism_pattern = re.compile(r'OS=(.+?)\\s+OX=')\n",
    "    gene_pattern = re.compile(r'GN=(\\S+)')\n",
    "\n",
    "    with open(path, 'r') as fasta_file:\n",
    "        for line in fasta_file:\n",
    "            line = line.strip()\n",
    "            if not line:\n",
    "                continue  # skip empty lines\n",
    "\n",
    "            # Check if this line is a new FASTA header\n",
    "            if line.startswith('>'):\n",
    "                # If we already have a record built, store it\n",
    "                if current_record:\n",
    "                    records.append(current_record)\n",
    "\n",
    "                # Initialize a new record\n",
    "                header_line = line[1:].strip()  # remove '>'\n",
    "                current_record = {\n",
    "                    'id': header_line.split()[0],  # first token as ID\n",
    "                    'organism': None,\n",
    "                    'gene_name': None,\n",
    "                    'sequence': []\n",
    "                }\n",
    "\n",
    "                # Extract organism\n",
    "                organism_match = organism_pattern.search(header_line)\n",
    "                if organism_match:\n",
    "                    current_record['organism'] = organism_match.group(1)\n",
    "\n",
    "                # Extract gene name\n",
    "                gene_match = gene_pattern.search(header_line)\n",
    "                if gene_match:\n",
    "                    current_record['gene_name'] = gene_match.group(1)\n",
    "\n",
    "            else:\n",
    "                # Lines not starting with '>' are part of the sequence\n",
    "                if current_record is not None:\n",
    "                    current_record['sequence'].append(line)\n",
    "\n",
    "        # Append the last record if it exists\n",
    "        if current_record:\n",
    "            records.append(current_record)\n",
    "\n",
    "    # Convert the list of sequence lines into a single string for each record\n",
    "    for record in records:\n",
    "        record['sequence'] = ''.join(record['sequence'])\n",
    "\n",
    "    # Create a DataFrame from the list of dictionaries\n",
    "    df = pd.DataFrame(records, columns=['id', 'organism', 'gene_name', 'sequence'])\n",
    "    return df"
   ]
  },
  {
   "cell_type": "code",
   "execution_count": 5,
   "metadata": {},
   "outputs": [
    {
     "data": {
      "text/html": [
       "<div>\n",
       "<style scoped>\n",
       "    .dataframe tbody tr th:only-of-type {\n",
       "        vertical-align: middle;\n",
       "    }\n",
       "\n",
       "    .dataframe tbody tr th {\n",
       "        vertical-align: top;\n",
       "    }\n",
       "\n",
       "    .dataframe thead th {\n",
       "        text-align: right;\n",
       "    }\n",
       "</style>\n",
       "<table border=\"1\" class=\"dataframe\">\n",
       "  <thead>\n",
       "    <tr style=\"text-align: right;\">\n",
       "      <th></th>\n",
       "      <th>id</th>\n",
       "      <th>organism</th>\n",
       "      <th>gene_name</th>\n",
       "      <th>sequence</th>\n",
       "    </tr>\n",
       "  </thead>\n",
       "  <tbody>\n",
       "    <tr>\n",
       "      <th>0</th>\n",
       "      <td>tr|A0A0A0MTA3|A0A0A0MTA3_HUMAN</td>\n",
       "      <td>Homo sapiens</td>\n",
       "      <td>IGKJ5</td>\n",
       "      <td>XITFGQGTRLEIK</td>\n",
       "    </tr>\n",
       "    <tr>\n",
       "      <th>1</th>\n",
       "      <td>sp|A6NFQ2|TCAF2_HUMAN</td>\n",
       "      <td>Homo sapiens</td>\n",
       "      <td>TCAF2</td>\n",
       "      <td>MATIAAAAFEALMDGVTCWDVPRGPIPSELLLIGEAAFPVMVNDKG...</td>\n",
       "    </tr>\n",
       "    <tr>\n",
       "      <th>2</th>\n",
       "      <td>sp|A6NJR5|SPDL3_HUMAN</td>\n",
       "      <td>Homo sapiens</td>\n",
       "      <td>None</td>\n",
       "      <td>MQKHYTVAWFLYSAPGVDPSPPCRSLGWKRKKEWSDESEEEPEKEL...</td>\n",
       "    </tr>\n",
       "    <tr>\n",
       "      <th>3</th>\n",
       "      <td>sp|A6NKG5|RTL1_HUMAN</td>\n",
       "      <td>Homo sapiens</td>\n",
       "      <td>RTL1</td>\n",
       "      <td>MIEPSEDSFETMMEHKNPSSKQMESSEGSSNTTEATSGSGVRGEAG...</td>\n",
       "    </tr>\n",
       "    <tr>\n",
       "      <th>4</th>\n",
       "      <td>sp|A6NL46|YF016_HUMAN</td>\n",
       "      <td>Homo sapiens</td>\n",
       "      <td>None</td>\n",
       "      <td>MRLCLIPWNTTPHRVLPPVVWSAPSRKKPVLSARNSMMFGHLSPVR...</td>\n",
       "    </tr>\n",
       "  </tbody>\n",
       "</table>\n",
       "</div>"
      ],
      "text/plain": [
       "                               id      organism gene_name  \\\n",
       "0  tr|A0A0A0MTA3|A0A0A0MTA3_HUMAN  Homo sapiens     IGKJ5   \n",
       "1           sp|A6NFQ2|TCAF2_HUMAN  Homo sapiens     TCAF2   \n",
       "2           sp|A6NJR5|SPDL3_HUMAN  Homo sapiens      None   \n",
       "3            sp|A6NKG5|RTL1_HUMAN  Homo sapiens      RTL1   \n",
       "4           sp|A6NL46|YF016_HUMAN  Homo sapiens      None   \n",
       "\n",
       "                                            sequence  \n",
       "0                                      XITFGQGTRLEIK  \n",
       "1  MATIAAAAFEALMDGVTCWDVPRGPIPSELLLIGEAAFPVMVNDKG...  \n",
       "2  MQKHYTVAWFLYSAPGVDPSPPCRSLGWKRKKEWSDESEEEPEKEL...  \n",
       "3  MIEPSEDSFETMMEHKNPSSKQMESSEGSSNTTEATSGSGVRGEAG...  \n",
       "4  MRLCLIPWNTTPHRVLPPVVWSAPSRKKPVLSARNSMMFGHLSPVR...  "
      ]
     },
     "execution_count": 5,
     "metadata": {},
     "output_type": "execute_result"
    }
   ],
   "source": [
    "gene2aa = parse_fasta_to_dataframe('../../data/tkg_raw/UP000005640_9606.fasta')\n",
    "gene2aa.head()\n"
   ]
  },
  {
   "cell_type": "code",
   "execution_count": 6,
   "metadata": {},
   "outputs": [
    {
     "name": "stdout",
     "output_type": "stream",
     "text": [
      "shape: (13023, 4)\n"
     ]
    },
    {
     "data": {
      "text/html": [
       "<div>\n",
       "<style scoped>\n",
       "    .dataframe tbody tr th:only-of-type {\n",
       "        vertical-align: middle;\n",
       "    }\n",
       "\n",
       "    .dataframe tbody tr th {\n",
       "        vertical-align: top;\n",
       "    }\n",
       "\n",
       "    .dataframe thead th {\n",
       "        text-align: right;\n",
       "    }\n",
       "</style>\n",
       "<table border=\"1\" class=\"dataframe\">\n",
       "  <thead>\n",
       "    <tr style=\"text-align: right;\">\n",
       "      <th></th>\n",
       "      <th>gene_name</th>\n",
       "      <th>id</th>\n",
       "      <th>organism</th>\n",
       "      <th>sequence</th>\n",
       "    </tr>\n",
       "  </thead>\n",
       "  <tbody>\n",
       "    <tr>\n",
       "      <th>0</th>\n",
       "      <td>A1BG</td>\n",
       "      <td>sp|P04217|A1BG_HUMAN</td>\n",
       "      <td>Homo sapiens</td>\n",
       "      <td>MSMLVVFLLLWGVTWGPVTEAAIFYETQPSLWAESESLLKPLANVT...</td>\n",
       "    </tr>\n",
       "    <tr>\n",
       "      <th>1</th>\n",
       "      <td>A1CF</td>\n",
       "      <td>sp|Q9NQ94|A1CF_HUMAN</td>\n",
       "      <td>Homo sapiens</td>\n",
       "      <td>MESNHKSGDGLSGTQKEAALRALVQRTGYSLVQENGQRKYGGPPPG...</td>\n",
       "    </tr>\n",
       "    <tr>\n",
       "      <th>2</th>\n",
       "      <td>A2M</td>\n",
       "      <td>sp|P01023|A2MG_HUMAN</td>\n",
       "      <td>Homo sapiens</td>\n",
       "      <td>MGKNKLLHPSLVLLLLVLLPTDASVSGKPQYMVLVPSLLHTETTEK...</td>\n",
       "    </tr>\n",
       "    <tr>\n",
       "      <th>3</th>\n",
       "      <td>A3GALT2</td>\n",
       "      <td>sp|U3KPV4|A3LT2_HUMAN</td>\n",
       "      <td>Homo sapiens</td>\n",
       "      <td>MALKEGLRAWKRIFWRQILLTLGLLGLFLYGLPKFRHLEALIPMGV...</td>\n",
       "    </tr>\n",
       "    <tr>\n",
       "      <th>4</th>\n",
       "      <td>A4GALT</td>\n",
       "      <td>sp|Q9NPC4|A4GAT_HUMAN</td>\n",
       "      <td>Homo sapiens</td>\n",
       "      <td>MSKPPDLLLRLLRGAPRQRVCTLFIIGFKFTFFVSIMIYWHVVGEP...</td>\n",
       "    </tr>\n",
       "  </tbody>\n",
       "</table>\n",
       "</div>"
      ],
      "text/plain": [
       "  gene_name                     id      organism  \\\n",
       "0      A1BG   sp|P04217|A1BG_HUMAN  Homo sapiens   \n",
       "1      A1CF   sp|Q9NQ94|A1CF_HUMAN  Homo sapiens   \n",
       "2       A2M   sp|P01023|A2MG_HUMAN  Homo sapiens   \n",
       "3   A3GALT2  sp|U3KPV4|A3LT2_HUMAN  Homo sapiens   \n",
       "4    A4GALT  sp|Q9NPC4|A4GAT_HUMAN  Homo sapiens   \n",
       "\n",
       "                                            sequence  \n",
       "0  MSMLVVFLLLWGVTWGPVTEAAIFYETQPSLWAESESLLKPLANVT...  \n",
       "1  MESNHKSGDGLSGTQKEAALRALVQRTGYSLVQENGQRKYGGPPPG...  \n",
       "2  MGKNKLLHPSLVLLLLVLLPTDASVSGKPQYMVLVPSLLHTETTEK...  \n",
       "3  MALKEGLRAWKRIFWRQILLTLGLLGLFLYGLPKFRHLEALIPMGV...  \n",
       "4  MSKPPDLLLRLLRGAPRQRVCTLFIIGFKFTFFVSIMIYWHVVGEP...  "
      ]
     },
     "execution_count": 6,
     "metadata": {},
     "output_type": "execute_result"
    }
   ],
   "source": [
    "gene2aa = gene2aa[lambda x: x.gene_name.isin(genespace)]\n",
    "gene2aa = gene2aa.groupby('gene_name').first().reset_index()\n",
    "print('shape:', gene2aa.shape)\n",
    "gene2aa.head()"
   ]
  },
  {
   "cell_type": "code",
   "execution_count": 7,
   "metadata": {},
   "outputs": [],
   "source": [
    "gene2aa.to_csv('../../extdata/meta/gene2aa.csv', index=False)"
   ]
  },
  {
   "cell_type": "markdown",
   "metadata": {},
   "source": [
    "## load transformer and embed amino acid sequences..."
   ]
  },
  {
   "cell_type": "code",
   "execution_count": 8,
   "metadata": {},
   "outputs": [],
   "source": [
    "MAX_LEN = 750\n",
    "batch_size = 256\n",
    "SIM_QUANTILE = 0.999"
   ]
  },
  {
   "cell_type": "code",
   "execution_count": 9,
   "metadata": {},
   "outputs": [],
   "source": [
    "model_name = \"Rostlab/prot_bert\"\n",
    "\n",
    "tokenizer = AutoTokenizer.from_pretrained(model_name, do_lower_case=False)\n",
    "model = AutoModel.from_pretrained(model_name)"
   ]
  },
  {
   "cell_type": "code",
   "execution_count": 10,
   "metadata": {},
   "outputs": [],
   "source": [
    "aas = gene2aa.sequence.values"
   ]
  },
  {
   "cell_type": "code",
   "execution_count": 11,
   "metadata": {},
   "outputs": [],
   "source": [
    "def prepare_sequence(seq):\n",
    "    seq = ' '.join(list(seq))\n",
    "    return f\"[CLS] {seq} [SEP]\"\n",
    "\n",
    "sequences_prepared = [prepare_sequence(seq) for seq in aas]"
   ]
  },
  {
   "cell_type": "code",
   "execution_count": 12,
   "metadata": {},
   "outputs": [
    {
     "data": {
      "image/png": "[encoded data removed]",
      "text/plain": [
       "<Figure size 640x480 with 1 Axes>"
      ]
     },
     "metadata": {},
     "output_type": "display_data"
    }
   ],
   "source": [
    "plt.figure()\n",
    "plt.hist([len(aa) for aa in aas], bins=np.linspace(0,2000,100))\n",
    "plt.show()"
   ]
  },
  {
   "cell_type": "code",
   "execution_count": 13,
   "metadata": {},
   "outputs": [],
   "source": [
    "inputs = tokenizer(\n",
    "    sequences_prepared,\n",
    "    return_tensors=\"pt\",\n",
    "    padding=True,\n",
    "    truncation=True,\n",
    "    max_length=MAX_LEN  # Adjust as needed\n",
    ")"
   ]
  },
  {
   "cell_type": "code",
   "execution_count": 14,
   "metadata": {},
   "outputs": [
    {
     "name": "stdout",
     "output_type": "stream",
     "text": [
      "progress: 12800/13023\r"
     ]
    }
   ],
   "source": [
    "device = torch.device(\"cuda\" if torch.cuda.is_available() else \"cpu\")\n",
    "model.to(device)\n",
    "inputs = {key: value.to(device) for key, value in inputs.items()}\n",
    "\n",
    "outputs = []\n",
    "for i in range(0, len(inputs['input_ids']), batch_size):\n",
    "    print(f'progress: {i}/{len(inputs[\"input_ids\"])}', end='\\r')\n",
    "    batch_inputs = {key: value[i:i+batch_size] for key, value in inputs.items()}\n",
    "    with torch.no_grad():\n",
    "        batch_outputs = model(**batch_inputs)\n",
    "    outputs.append(batch_outputs.last_hidden_state[:, 0, :].cpu())\n",
    "    torch.cuda.empty_cache()\n",
    "    \n",
    "outputs = torch.cat(outputs, dim=0)\n"
   ]
  },
  {
   "cell_type": "code",
   "execution_count": 15,
   "metadata": {},
   "outputs": [],
   "source": [
    "z_prot = outputs.cpu().numpy()"
   ]
  },
  {
   "cell_type": "code",
   "execution_count": 16,
   "metadata": {},
   "outputs": [
    {
     "data": {
      "text/plain": [
       "(13023, 1024)"
      ]
     },
     "execution_count": 16,
     "metadata": {},
     "output_type": "execute_result"
    }
   ],
   "source": [
    "z_prot.shape"
   ]
  },
  {
   "cell_type": "code",
   "execution_count": 17,
   "metadata": {},
   "outputs": [
    {
     "name": "stdout",
     "output_type": "stream",
     "text": [
      "progress: 13022/13023\r"
     ]
    },
    {
     "data": {
      "text/html": [
       "<div>\n",
       "<style scoped>\n",
       "    .dataframe tbody tr th:only-of-type {\n",
       "        vertical-align: middle;\n",
       "    }\n",
       "\n",
       "    .dataframe tbody tr th {\n",
       "        vertical-align: top;\n",
       "    }\n",
       "\n",
       "    .dataframe thead th {\n",
       "        text-align: right;\n",
       "    }\n",
       "</style>\n",
       "<table border=\"1\" class=\"dataframe\">\n",
       "  <thead>\n",
       "    <tr style=\"text-align: right;\">\n",
       "      <th></th>\n",
       "      <th>drug_i</th>\n",
       "      <th>drug_j</th>\n",
       "      <th>cos_sim</th>\n",
       "      <th>gene_i</th>\n",
       "      <th>gene_j</th>\n",
       "    </tr>\n",
       "  </thead>\n",
       "  <tbody>\n",
       "    <tr>\n",
       "      <th>0</th>\n",
       "      <td>0</td>\n",
       "      <td>0</td>\n",
       "      <td>1.000000</td>\n",
       "      <td>A1BG</td>\n",
       "      <td>A1BG</td>\n",
       "    </tr>\n",
       "    <tr>\n",
       "      <th>1</th>\n",
       "      <td>0</td>\n",
       "      <td>1</td>\n",
       "      <td>0.912154</td>\n",
       "      <td>A1BG</td>\n",
       "      <td>A1CF</td>\n",
       "    </tr>\n",
       "    <tr>\n",
       "      <th>2</th>\n",
       "      <td>0</td>\n",
       "      <td>2</td>\n",
       "      <td>0.932453</td>\n",
       "      <td>A1BG</td>\n",
       "      <td>A2M</td>\n",
       "    </tr>\n",
       "    <tr>\n",
       "      <th>3</th>\n",
       "      <td>0</td>\n",
       "      <td>3</td>\n",
       "      <td>0.963067</td>\n",
       "      <td>A1BG</td>\n",
       "      <td>A3GALT2</td>\n",
       "    </tr>\n",
       "    <tr>\n",
       "      <th>4</th>\n",
       "      <td>0</td>\n",
       "      <td>4</td>\n",
       "      <td>0.903232</td>\n",
       "      <td>A1BG</td>\n",
       "      <td>A4GALT</td>\n",
       "    </tr>\n",
       "  </tbody>\n",
       "</table>\n",
       "</div>"
      ],
      "text/plain": [
       "   drug_i  drug_j   cos_sim gene_i   gene_j\n",
       "0       0       0  1.000000   A1BG     A1BG\n",
       "1       0       1  0.912154   A1BG     A1CF\n",
       "2       0       2  0.932453   A1BG      A2M\n",
       "3       0       3  0.963067   A1BG  A3GALT2\n",
       "4       0       4  0.903232   A1BG   A4GALT"
      ]
     },
     "execution_count": 17,
     "metadata": {},
     "output_type": "execute_result"
    }
   ],
   "source": [
    "# Initialize an empty list to store the combined embeddings\n",
    "res = {'drug_i': [], 'drug_j': [], 'cos_sim': []}\n",
    "\n",
    "# Iterate over the upper triangle indices\n",
    "for i in range(len(aas)):\n",
    "        print(f'progress: {i}/{len(aas)}', end='\\r')\n",
    "\n",
    "        res['drug_i'] += [i]*len(aas)\n",
    "        res['drug_j'] += [j for j in range(len(aas))] \n",
    "        res['cos_sim'] += cosine_similarity(z_prot[[i]], z_prot).ravel().tolist()\n",
    "\n",
    "res = pd.DataFrame(res)\n",
    "\n",
    "aa2gene = {aa:g for aa,g in zip(gene2aa.sequence, gene2aa.gene_name)}\n",
    "\n",
    "# no simple structure, we'll just use the cosine similarity\n",
    "res = res.assign(gene_i = [aa2gene[aas[i]] for i in res['drug_i']],\n",
    "                 gene_j = [aa2gene[aas[j]] for j in res['drug_j']])\n",
    "\n",
    "res.head() "
   ]
  },
  {
   "cell_type": "code",
   "execution_count": 18,
   "metadata": {},
   "outputs": [],
   "source": [
    "res = res[lambda x: x.gene_i != x.gene_j]"
   ]
  },
  {
   "cell_type": "code",
   "execution_count": 19,
   "metadata": {},
   "outputs": [
    {
     "name": "stdout",
     "output_type": "stream",
     "text": [
      "Cosine similarity threshold: 0.9990\n"
     ]
    }
   ],
   "source": [
    "cos_sim_thresh = np.quantile(res['cos_sim'], SIM_QUANTILE)\n",
    "print(f'Cosine similarity threshold: {cos_sim_thresh:.4f}')\n",
    "res = res.assign(is_similar=res['cos_sim'] > cos_sim_thresh)"
   ]
  },
  {
   "cell_type": "code",
   "execution_count": 20,
   "metadata": {},
   "outputs": [],
   "source": [
    "#res.to_csv('../../extdata/meta/protbert_prot_prot_similarity.csv', index=False)"
   ]
  },
  {
   "cell_type": "code",
   "execution_count": 21,
   "metadata": {},
   "outputs": [],
   "source": [
    "sim_relations = res[res['is_similar']]\n",
    "sim_relations = sim_relations[['gene_i', 'gene_j']].rename({'gene_i': 'src', 'gene_j': 'dst'}, axis=1)\n",
    "sim_relations = sim_relations.assign(src_type = 'gene', dst_type = 'gene', relation = 'protbert_similarity')\n",
    "sim_relations.to_csv('../../extdata/relations/protbert__gene_gene_similarity.csv', index=False)"
   ]
  },
  {
   "cell_type": "code",
   "execution_count": 22,
   "metadata": {},
   "outputs": [
    {
     "name": "stdout",
     "output_type": "stream",
     "text": [
      "(169576, 5)\n"
     ]
    },
    {
     "data": {
      "text/html": [
       "<div>\n",
       "<style scoped>\n",
       "    .dataframe tbody tr th:only-of-type {\n",
       "        vertical-align: middle;\n",
       "    }\n",
       "\n",
       "    .dataframe tbody tr th {\n",
       "        vertical-align: top;\n",
       "    }\n",
       "\n",
       "    .dataframe thead th {\n",
       "        text-align: right;\n",
       "    }\n",
       "</style>\n",
       "<table border=\"1\" class=\"dataframe\">\n",
       "  <thead>\n",
       "    <tr style=\"text-align: right;\">\n",
       "      <th></th>\n",
       "      <th>src</th>\n",
       "      <th>dst</th>\n",
       "      <th>src_type</th>\n",
       "      <th>dst_type</th>\n",
       "      <th>relation</th>\n",
       "    </tr>\n",
       "  </thead>\n",
       "  <tbody>\n",
       "    <tr>\n",
       "      <th>13423</th>\n",
       "      <td>A1CF</td>\n",
       "      <td>AKAP8L</td>\n",
       "      <td>gene</td>\n",
       "      <td>gene</td>\n",
       "      <td>protbert_similarity</td>\n",
       "    </tr>\n",
       "    <tr>\n",
       "      <th>13809</th>\n",
       "      <td>A1CF</td>\n",
       "      <td>ARNT2</td>\n",
       "      <td>gene</td>\n",
       "      <td>gene</td>\n",
       "      <td>protbert_similarity</td>\n",
       "    </tr>\n",
       "    <tr>\n",
       "      <th>15362</th>\n",
       "      <td>A1CF</td>\n",
       "      <td>CPEB1</td>\n",
       "      <td>gene</td>\n",
       "      <td>gene</td>\n",
       "      <td>protbert_similarity</td>\n",
       "    </tr>\n",
       "    <tr>\n",
       "      <th>15777</th>\n",
       "      <td>A1CF</td>\n",
       "      <td>DEAF1</td>\n",
       "      <td>gene</td>\n",
       "      <td>gene</td>\n",
       "      <td>protbert_similarity</td>\n",
       "    </tr>\n",
       "    <tr>\n",
       "      <th>16403</th>\n",
       "      <td>A1CF</td>\n",
       "      <td>EPB41L4B</td>\n",
       "      <td>gene</td>\n",
       "      <td>gene</td>\n",
       "      <td>protbert_similarity</td>\n",
       "    </tr>\n",
       "  </tbody>\n",
       "</table>\n",
       "</div>"
      ],
      "text/plain": [
       "        src       dst src_type dst_type             relation\n",
       "13423  A1CF    AKAP8L     gene     gene  protbert_similarity\n",
       "13809  A1CF     ARNT2     gene     gene  protbert_similarity\n",
       "15362  A1CF     CPEB1     gene     gene  protbert_similarity\n",
       "15777  A1CF     DEAF1     gene     gene  protbert_similarity\n",
       "16403  A1CF  EPB41L4B     gene     gene  protbert_similarity"
      ]
     },
     "execution_count": 22,
     "metadata": {},
     "output_type": "execute_result"
    }
   ],
   "source": [
    "print(sim_relations.shape)\n",
    "sim_relations.head() "
   ]
  },
  {
   "cell_type": "code",
   "execution_count": null,
   "metadata": {},
   "outputs": [],
   "source": []
  }
 ],
 "metadata": {
  "kernelspec": {
   "display_name": "tkgdti",
   "language": "python",
   "name": "python3"
  },
  "language_info": {
   "codemirror_mode": {
    "name": "ipython",
    "version": 3
   },
   "file_extension": ".py",
   "mimetype": "text/x-python",
   "name": "python",
   "nbconvert_exporter": "python",
   "pygments_lexer": "ipython3",
   "version": "3.11.10"
  }
 },
 "nbformat": 4,
 "nbformat_minor": 2
}
