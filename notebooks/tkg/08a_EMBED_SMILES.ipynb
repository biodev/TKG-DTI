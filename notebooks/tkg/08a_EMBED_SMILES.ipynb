{
 "cells": [
  {
   "cell_type": "code",
   "execution_count": 1,
   "metadata": {},
   "outputs": [
    {
     "name": "stderr",
     "output_type": "stream",
     "text": [
      "/home/teddy/miniconda3/envs/tkgdti/lib/python3.11/site-packages/tqdm/auto.py:21: TqdmWarning: IProgress not found. Please update jupyter and ipywidgets. See https://ipywidgets.readthedocs.io/en/stable/user_install.html\n",
      "  from .autonotebook import tqdm as notebook_tqdm\n"
     ]
    }
   ],
   "source": [
    "from transformers import AutoTokenizer, AutoModel\n",
    "import torch\n",
    "import numpy as np\n",
    "from rdkit import Chem\n",
    "import requests\n",
    "import pandas as pd\n",
    "from sklearn.metrics.pairwise import cosine_similarity\n",
    "from matplotlib import pyplot as plt\n",
    "from sklearn.decomposition import PCA\n",
    "import umap\n",
    "from sklearn.cluster import DBSCAN\n",
    "\n",
    "from tkgdti.data.GraphBuilder import GraphBuilder\n",
    "import os \n",
    "\n",
    "from tkgdti.data.utils import get_protein_sequence_uniprot\n",
    "from tkgdti.embed.AA2EMB import AA2EMB\n",
    "\n",
    "\n",
    "import re\n",
    "import pandas as pd\n",
    "\n",
    "# set seed \n",
    "torch.manual_seed(0)\n",
    "np.random.seed(0)\n",
    "\n"
   ]
  },
  {
   "cell_type": "code",
   "execution_count": null,
   "metadata": {},
   "outputs": [],
   "source": [
    "MODEL_NAME = \"Rostlab/prot_bert\"\n",
    "ROOT = '../../extdata/relations/'"
   ]
  },
  {
   "cell_type": "code",
   "execution_count": 3,
   "metadata": {},
   "outputs": [
    {
     "name": "stdout",
     "output_type": "stream",
     "text": [
      "Node types: ['dbgap_subject' 'disease' 'drug' 'gene' 'pathway']\n",
      "building...\n"
     ]
    }
   ],
   "source": [
    "\n",
    "relnames = os.listdir(ROOT)\n",
    "GB = GraphBuilder(root=ROOT, relnames=relnames, val_idxs=None, test_idxs=None)\n",
    "print('building...')\n",
    "GB.build() "
   ]
  },
  {
   "cell_type": "code",
   "execution_count": 4,
   "metadata": {},
   "outputs": [],
   "source": [
    "genespace = np.unique(GB.relations[lambda x: x.src_type == 'gene'].src.values.tolist() + GB.relations[lambda x: x.dst_type == 'gene'].dst.values.tolist())\n"
   ]
  },
  {
   "cell_type": "code",
   "execution_count": 5,
   "metadata": {},
   "outputs": [],
   "source": [
    "\n",
    "def parse_fasta_to_dataframe(path):\n",
    "    \"\"\"\n",
    "    Reads a FASTA file from the given path, parses out the organism, gene name,\n",
    "    and sequence for each entry, and returns a pandas DataFrame.\n",
    "    \"\"\"\n",
    "\n",
    "    # List to hold all records as dictionaries\n",
    "    records = []\n",
    "    current_record = None\n",
    "\n",
    "    # Regex patterns to extract organism and gene name\n",
    "    organism_pattern = re.compile(r'OS=(.+?)\\s+OX=')\n",
    "    gene_pattern = re.compile(r'GN=(\\S+)')\n",
    "\n",
    "    with open(path, 'r') as fasta_file:\n",
    "        for line in fasta_file:\n",
    "            line = line.strip()\n",
    "            if not line:\n",
    "                continue  # skip empty lines\n",
    "\n",
    "            # Check if this line is a new FASTA header\n",
    "            if line.startswith('>'):\n",
    "                # If we already have a record built, store it\n",
    "                if current_record:\n",
    "                    records.append(current_record)\n",
    "\n",
    "                # Initialize a new record\n",
    "                header_line = line[1:].strip()  # remove '>'\n",
    "                current_record = {\n",
    "                    'id': header_line.split()[0],  # first token as ID\n",
    "                    'organism': None,\n",
    "                    'gene_name': None,\n",
    "                    'sequence': []\n",
    "                }\n",
    "\n",
    "                # Extract organism\n",
    "                organism_match = organism_pattern.search(header_line)\n",
    "                if organism_match:\n",
    "                    current_record['organism'] = organism_match.group(1)\n",
    "\n",
    "                # Extract gene name\n",
    "                gene_match = gene_pattern.search(header_line)\n",
    "                if gene_match:\n",
    "                    current_record['gene_name'] = gene_match.group(1)\n",
    "\n",
    "            else:\n",
    "                # Lines not starting with '>' are part of the sequence\n",
    "                if current_record is not None:\n",
    "                    current_record['sequence'].append(line)\n",
    "\n",
    "        # Append the last record if it exists\n",
    "        if current_record:\n",
    "            records.append(current_record)\n",
    "\n",
    "    # Convert the list of sequence lines into a single string for each record\n",
    "    for record in records:\n",
    "        record['sequence'] = ''.join(record['sequence'])\n",
    "\n",
    "    # Create a DataFrame from the list of dictionaries\n",
    "    df = pd.DataFrame(records, columns=['id', 'organism', 'gene_name', 'sequence'])\n",
    "    return df"
   ]
  },
  {
   "cell_type": "code",
   "execution_count": 6,
   "metadata": {},
   "outputs": [],
   "source": [
    "gene2aa = parse_fasta_to_dataframe('../../data/tkg_raw/UP000005640_9606.fasta')\n"
   ]
  },
  {
   "cell_type": "code",
   "execution_count": 7,
   "metadata": {},
   "outputs": [],
   "source": [
    "gene2aa = gene2aa[lambda x: x.gene_name.isin(genespace)]\n",
    "gene2aa = gene2aa.groupby('gene_name').first().reset_index()"
   ]
  },
  {
   "cell_type": "code",
   "execution_count": 8,
   "metadata": {},
   "outputs": [],
   "source": [
    "gene2aa.to_csv('../../extdata/meta/gene2aa.csv', index=False)"
   ]
  },
  {
   "cell_type": "code",
   "execution_count": 9,
   "metadata": {},
   "outputs": [],
   "source": [
    "tokenizer = AutoTokenizer.from_pretrained(MODEL_NAME, do_lower_case=False)\n",
    "model = AutoModel.from_pretrained(MODEL_NAME)"
   ]
  },
  {
   "cell_type": "code",
   "execution_count": 10,
   "metadata": {},
   "outputs": [],
   "source": [
    "aas = gene2aa.sequence.values"
   ]
  },
  {
   "cell_type": "code",
   "execution_count": 11,
   "metadata": {},
   "outputs": [
    {
     "name": "stdout",
     "output_type": "stream",
     "text": [
      "Progress: 1116/13053\r"
     ]
    },
    {
     "name": "stderr",
     "output_type": "stream",
     "text": [
      "You seem to be using the pipelines sequentially on GPU. In order to maximize efficiency please use a dataset\n"
     ]
    },
    {
     "name": "stdout",
     "output_type": "stream",
     "text": [
      "Progress: 13020/13053\r"
     ]
    }
   ],
   "source": [
    "AA2E = AA2EMB()\n",
    "outputs = AA2E.embed(aas).cpu().numpy()"
   ]
  },
  {
   "cell_type": "code",
   "execution_count": 12,
   "metadata": {},
   "outputs": [
    {
     "data": {
      "text/plain": [
       "(13053, 1024)"
      ]
     },
     "execution_count": 12,
     "metadata": {},
     "output_type": "execute_result"
    }
   ],
   "source": [
    "outputs.shape"
   ]
  },
  {
   "cell_type": "code",
   "execution_count": 13,
   "metadata": {},
   "outputs": [
    {
     "data": {
      "text/html": [
       "<div>\n",
       "<style scoped>\n",
       "    .dataframe tbody tr th:only-of-type {\n",
       "        vertical-align: middle;\n",
       "    }\n",
       "\n",
       "    .dataframe tbody tr th {\n",
       "        vertical-align: top;\n",
       "    }\n",
       "\n",
       "    .dataframe thead th {\n",
       "        text-align: right;\n",
       "    }\n",
       "</style>\n",
       "<table border=\"1\" class=\"dataframe\">\n",
       "  <thead>\n",
       "    <tr style=\"text-align: right;\">\n",
       "      <th></th>\n",
       "      <th>gene_name</th>\n",
       "      <th>id</th>\n",
       "      <th>organism</th>\n",
       "      <th>sequence</th>\n",
       "    </tr>\n",
       "  </thead>\n",
       "  <tbody>\n",
       "    <tr>\n",
       "      <th>0</th>\n",
       "      <td>A1BG</td>\n",
       "      <td>sp|P04217|A1BG_HUMAN</td>\n",
       "      <td>Homo sapiens</td>\n",
       "      <td>MSMLVVFLLLWGVTWGPVTEAAIFYETQPSLWAESESLLKPLANVT...</td>\n",
       "    </tr>\n",
       "    <tr>\n",
       "      <th>1</th>\n",
       "      <td>A1CF</td>\n",
       "      <td>sp|Q9NQ94|A1CF_HUMAN</td>\n",
       "      <td>Homo sapiens</td>\n",
       "      <td>MESNHKSGDGLSGTQKEAALRALVQRTGYSLVQENGQRKYGGPPPG...</td>\n",
       "    </tr>\n",
       "    <tr>\n",
       "      <th>2</th>\n",
       "      <td>A2M</td>\n",
       "      <td>sp|P01023|A2MG_HUMAN</td>\n",
       "      <td>Homo sapiens</td>\n",
       "      <td>MGKNKLLHPSLVLLLLVLLPTDASVSGKPQYMVLVPSLLHTETTEK...</td>\n",
       "    </tr>\n",
       "    <tr>\n",
       "      <th>3</th>\n",
       "      <td>A3GALT2</td>\n",
       "      <td>sp|U3KPV4|A3LT2_HUMAN</td>\n",
       "      <td>Homo sapiens</td>\n",
       "      <td>MALKEGLRAWKRIFWRQILLTLGLLGLFLYGLPKFRHLEALIPMGV...</td>\n",
       "    </tr>\n",
       "    <tr>\n",
       "      <th>4</th>\n",
       "      <td>A4GALT</td>\n",
       "      <td>sp|Q9NPC4|A4GAT_HUMAN</td>\n",
       "      <td>Homo sapiens</td>\n",
       "      <td>MSKPPDLLLRLLRGAPRQRVCTLFIIGFKFTFFVSIMIYWHVVGEP...</td>\n",
       "    </tr>\n",
       "  </tbody>\n",
       "</table>\n",
       "</div>"
      ],
      "text/plain": [
       "  gene_name                     id      organism  \\\n",
       "0      A1BG   sp|P04217|A1BG_HUMAN  Homo sapiens   \n",
       "1      A1CF   sp|Q9NQ94|A1CF_HUMAN  Homo sapiens   \n",
       "2       A2M   sp|P01023|A2MG_HUMAN  Homo sapiens   \n",
       "3   A3GALT2  sp|U3KPV4|A3LT2_HUMAN  Homo sapiens   \n",
       "4    A4GALT  sp|Q9NPC4|A4GAT_HUMAN  Homo sapiens   \n",
       "\n",
       "                                            sequence  \n",
       "0  MSMLVVFLLLWGVTWGPVTEAAIFYETQPSLWAESESLLKPLANVT...  \n",
       "1  MESNHKSGDGLSGTQKEAALRALVQRTGYSLVQENGQRKYGGPPPG...  \n",
       "2  MGKNKLLHPSLVLLLLVLLPTDASVSGKPQYMVLVPSLLHTETTEK...  \n",
       "3  MALKEGLRAWKRIFWRQILLTLGLLGLFLYGLPKFRHLEALIPMGV...  \n",
       "4  MSKPPDLLLRLLRGAPRQRVCTLFIIGFKFTFFVSIMIYWHVVGEP...  "
      ]
     },
     "execution_count": 13,
     "metadata": {},
     "output_type": "execute_result"
    }
   ],
   "source": [
    "gene2aa.head()"
   ]
  },
  {
   "cell_type": "code",
   "execution_count": 14,
   "metadata": {},
   "outputs": [],
   "source": [
    "aas_dict = {'amino_acids':aas, 'embeddings':outputs, 'meta_df':gene2aa}\n",
    "torch.save(aas_dict, '../../extdata/meta/aas_dict.pt')"
   ]
  },
  {
   "cell_type": "code",
   "execution_count": 17,
   "metadata": {},
   "outputs": [
    {
     "data": {
      "text/html": [
       "<div>\n",
       "<style scoped>\n",
       "    .dataframe tbody tr th:only-of-type {\n",
       "        vertical-align: middle;\n",
       "    }\n",
       "\n",
       "    .dataframe tbody tr th {\n",
       "        vertical-align: top;\n",
       "    }\n",
       "\n",
       "    .dataframe thead th {\n",
       "        text-align: right;\n",
       "    }\n",
       "</style>\n",
       "<table border=\"1\" class=\"dataframe\">\n",
       "  <thead>\n",
       "    <tr style=\"text-align: right;\">\n",
       "      <th></th>\n",
       "      <th>gene_name</th>\n",
       "      <th>id</th>\n",
       "      <th>organism</th>\n",
       "      <th>sequence</th>\n",
       "    </tr>\n",
       "  </thead>\n",
       "  <tbody>\n",
       "    <tr>\n",
       "      <th>6582</th>\n",
       "      <td>MIR1-1HG</td>\n",
       "      <td>sp|Q9H1L0|MI1HG_HUMAN</td>\n",
       "      <td>Homo sapiens</td>\n",
       "      <td>MPSCSCALMAPCGPAAGPAAVERTQQVARGEPGSARGQLQVSPEMS...</td>\n",
       "    </tr>\n",
       "    <tr>\n",
       "      <th>6583</th>\n",
       "      <td>MIR17HG</td>\n",
       "      <td>sp|Q75NE6|MIRH1_HUMAN</td>\n",
       "      <td>Homo sapiens</td>\n",
       "      <td>MFCHVDVKISSKRYTWTKLPLNVPKLVLIYLQSHFVLFFFSMCQSI...</td>\n",
       "    </tr>\n",
       "    <tr>\n",
       "      <th>6584</th>\n",
       "      <td>MIR22HG</td>\n",
       "      <td>sp|Q0VDD5|CQ091_HUMAN</td>\n",
       "      <td>Homo sapiens</td>\n",
       "      <td>MGWEGPNSRVDDTFWASWRAFAQIGPARSGFRLETLAGLRSRRLKQ...</td>\n",
       "    </tr>\n",
       "  </tbody>\n",
       "</table>\n",
       "</div>"
      ],
      "text/plain": [
       "     gene_name                     id      organism  \\\n",
       "6582  MIR1-1HG  sp|Q9H1L0|MI1HG_HUMAN  Homo sapiens   \n",
       "6583   MIR17HG  sp|Q75NE6|MIRH1_HUMAN  Homo sapiens   \n",
       "6584   MIR22HG  sp|Q0VDD5|CQ091_HUMAN  Homo sapiens   \n",
       "\n",
       "                                               sequence  \n",
       "6582  MPSCSCALMAPCGPAAGPAAVERTQQVARGEPGSARGQLQVSPEMS...  \n",
       "6583  MFCHVDVKISSKRYTWTKLPLNVPKLVLIYLQSHFVLFFFSMCQSI...  \n",
       "6584  MGWEGPNSRVDDTFWASWRAFAQIGPARSGFRLETLAGLRSRRLKQ...  "
      ]
     },
     "execution_count": 17,
     "metadata": {},
     "output_type": "execute_result"
    }
   ],
   "source": [
    "gene2aa[lambda x: x.gene_name.str.startswith('MIR')]"
   ]
  },
  {
   "cell_type": "code",
   "execution_count": null,
   "metadata": {},
   "outputs": [],
   "source": []
  }
 ],
 "metadata": {
  "kernelspec": {
   "display_name": "tkgdti",
   "language": "python",
   "name": "python3"
  },
  "language_info": {
   "codemirror_mode": {
    "name": "ipython",
    "version": 3
   },
   "file_extension": ".py",
   "mimetype": "text/x-python",
   "name": "python",
   "nbconvert_exporter": "python",
   "pygments_lexer": "ipython3",
   "version": "3.11.10"
  }
 },
 "nbformat": 4,
 "nbformat_minor": 2
}
