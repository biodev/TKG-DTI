{
 "cells": [
  {
   "cell_type": "code",
   "execution_count": 1,
   "metadata": {},
   "outputs": [
    {
     "name": "stderr",
     "output_type": "stream",
     "text": [
      "/home/teddy/miniconda3/envs/tkgdti/lib/python3.11/site-packages/tqdm/auto.py:21: TqdmWarning: IProgress not found. Please update jupyter and ipywidgets. See https://ipywidgets.readthedocs.io/en/stable/user_install.html\n",
      "  from .autonotebook import tqdm as notebook_tqdm\n"
     ]
    },
    {
     "data": {
      "text/plain": [
       "<torch._C.Generator at 0x7f021f286650>"
      ]
     },
     "execution_count": 1,
     "metadata": {},
     "output_type": "execute_result"
    }
   ],
   "source": [
    "import torch \n",
    "import pandas as pd \n",
    "import torch_geometric as pyg \n",
    "import numpy as np \n",
    "import os \n",
    "from tkgdti.data.GraphBuilder import GraphBuilder\n",
    "from sklearn.model_selection import KFold\n",
    "\n",
    "%load_ext autoreload\n",
    "%autoreload 2\n",
    "\n",
    "# seed \n",
    "seed = 42\n",
    "np.random.seed(seed)\n",
    "torch.manual_seed(seed)"
   ]
  },
  {
   "cell_type": "code",
   "execution_count": 2,
   "metadata": {},
   "outputs": [],
   "source": [
    "root = '../../extdata/relations/'\n",
    "OUT = '../../data/tkge_no_patient/'\n",
    "relnames = os.listdir(root)\n",
    "N_dtis = pd.read_csv('../../extdata/relations/targetome_drug_targets_gene.csv').shape[0]\n",
    "K=10\n",
    "val_prop = 0.075 \n",
    "NO_REV = False\n",
    "EXCLUDE_PATIENT_RELATIONS = True\n",
    "\n",
    "# NOTE (2/28/25): the ablation study suggests that these relations are either detrimental or not beneficial to model performance.\n",
    "DO_NOT_INCLUDE_RELATIONS=['gene->mut_missense_variant_deleterious_rev->dbgap_subject',\n",
    "                          'gene->isin_fwd->pathway',\n",
    "                          'gene->associates_fwd->disease',\n",
    "                          'gene->A549_lincs_perturbation_rev->drug']\n"
   ]
  },
  {
   "cell_type": "code",
   "execution_count": 3,
   "metadata": {},
   "outputs": [
    {
     "name": "stdout",
     "output_type": "stream",
     "text": [
      "['gene->mut_missense_variant_deleterious_rev->dbgap_subject', 'gene->isin_fwd->pathway', 'gene->associates_fwd->disease', 'gene->A549_lincs_perturbation_rev->drug', 'beataml_mutation_stop_gained_rel_rev.csv', 'beataml_mutation_missense_variant_deleterious_rel_fwd.csv', 'beataml_mutation_frameshift_variant_rel_fwd.csv', 'beataml_mutation_missense_variant_tolerated_rel_rev.csv', 'beataml_res_rel_rev.csv', 'beataml_res_rel_fwd.csv', 'beataml_mutation_frameshift_variant_rel_rev.csv', 'beataml_sens_rel_fwd.csv', 'beataml_sens_rel_rev.csv', 'beataml_mutation_missense_variant_deleterious_rel_rev.csv', 'beataml_mutation_missense_variant_tolerated_rel_fwd.csv', 'beataml_mutation_stop_gained_rel_fwd.csv']\n"
     ]
    }
   ],
   "source": [
    "if EXCLUDE_PATIENT_RELATIONS: \n",
    "    DO_NOT_INCLUDE_RELATIONS += [x for x in relnames if 'beataml_' in x]\n",
    "\n",
    "print( DO_NOT_INCLUDE_RELATIONS )"
   ]
  },
  {
   "cell_type": "code",
   "execution_count": 4,
   "metadata": {},
   "outputs": [],
   "source": [
    "if NO_REV: \n",
    "    relnames = [r for r in relnames if '_rev' not in r]"
   ]
  },
  {
   "cell_type": "code",
   "execution_count": null,
   "metadata": {},
   "outputs": [
    {
     "name": "stdout",
     "output_type": "stream",
     "text": [
      "no relations (consider excluded): beataml_mutation_stop_gained_rel_rev.csv\n",
      "no relations (consider excluded): beataml_mutation_frameshift_variant_rel_fwd.csv\n",
      "excluding: ctd_genes_diseases_fwd.csv\n",
      "excluding: A549_lincs_perturbation_rev.csv\n",
      "no relations (consider excluded): beataml_mutation_frameshift_variant_rel_rev.csv\n",
      "excluding: ctd_gene_isin_pathway_fwd.csv\n",
      "excluding: beataml_mutation_missense_variant_deleterious_rel_rev.csv\n",
      "no relations (consider excluded): beataml_mutation_stop_gained_rel_fwd.csv\n",
      "# excluded: 8\n",
      "# of relations types: 39\n"
     ]
    }
   ],
   "source": [
    "excluded = 0 \n",
    "relnames2 = [] \n",
    "for rname in relnames: \n",
    "    rdf = pd.read_csv(root + '/' + rname)\n",
    "    if rdf.shape[0] == 0: \n",
    "        print('no relations (consider excluded):', rname)\n",
    "        excluded += 1\n",
    "        continue\n",
    "    \n",
    "    rel_type = f'{rdf.src_type.values[0]}->{rdf.relation.values[0]}->{rdf.dst_type.values[0]}'\n",
    "    if rel_type in DO_NOT_INCLUDE_RELATIONS: \n",
    "        print('excluding:', rname)\n",
    "        excluded += 1\n",
    "        continue\n",
    "\n",
    "    if (rdf.shape[0] > 0): \n",
    "        print('including:', rname)\n",
    "        relnames2.append(rname)\n",
    "relnames = relnames2 \n",
    "\n",
    "print('# excluded:', excluded)\n",
    "#assert excluded == len(DO_NOT_INCLUDE_RELATIONS), 'might be an issue/bug in the exclusion of relations'\n",
    "\n",
    "print('# of relations types:', len(relnames))"
   ]
  },
  {
   "cell_type": "code",
   "execution_count": null,
   "metadata": {},
   "outputs": [
    {
     "name": "stdout",
     "output_type": "stream",
     "text": [
      "init...\n",
      "Node types: ['dbgap_subject' 'disease' 'drug' 'gene' 'pathway']\n",
      "building...\n",
      "generating triples...\n",
      "Fold 0 -> # train: 2666, # val: 242, # test: 324\n",
      "\n",
      "init...\n",
      "Node types: ['dbgap_subject' 'disease' 'drug' 'gene' 'pathway']\n",
      "building...\n",
      "generating triples...\n",
      "Fold 1 -> # train: 2666, # val: 242, # test: 324\n",
      "\n",
      "init...\n",
      "Node types: ['dbgap_subject' 'disease' 'drug' 'gene' 'pathway']\n",
      "building...\n",
      "generating triples...\n",
      "Fold 2 -> # train: 2667, # val: 242, # test: 323\n",
      "\n",
      "init...\n",
      "Node types: ['dbgap_subject' 'disease' 'drug' 'gene' 'pathway']\n",
      "building...\n",
      "generating triples...\n",
      "Fold 3 -> # train: 2667, # val: 242, # test: 323\n",
      "\n",
      "init...\n",
      "Node types: ['dbgap_subject' 'disease' 'drug' 'gene' 'pathway']\n",
      "building...\n",
      "generating triples...\n",
      "Fold 4 -> # train: 2667, # val: 242, # test: 323\n",
      "\n",
      "init...\n",
      "Node types: ['dbgap_subject' 'disease' 'drug' 'gene' 'pathway']\n",
      "building...\n",
      "generating triples...\n",
      "Fold 5 -> # train: 2667, # val: 242, # test: 323\n",
      "\n",
      "init...\n",
      "Node types: ['dbgap_subject' 'disease' 'drug' 'gene' 'pathway']\n",
      "building...\n",
      "generating triples...\n",
      "Fold 6 -> # train: 2667, # val: 242, # test: 323\n",
      "\n",
      "init...\n",
      "Node types: ['dbgap_subject' 'disease' 'drug' 'gene' 'pathway']\n",
      "building...\n",
      "generating triples...\n",
      "Fold 7 -> # train: 2667, # val: 242, # test: 323\n",
      "\n",
      "init...\n",
      "Node types: ['dbgap_subject' 'disease' 'drug' 'gene' 'pathway']\n",
      "building...\n",
      "generating triples...\n",
      "Fold 8 -> # train: 2667, # val: 242, # test: 323\n",
      "\n",
      "init...\n",
      "Node types: ['dbgap_subject' 'disease' 'drug' 'gene' 'pathway']\n",
      "building...\n",
      "generating triples...\n",
      "Fold 9 -> # train: 2667, # val: 242, # test: 323\n",
      "\n"
     ]
    }
   ],
   "source": [
    "\n",
    "for fold, (train_idxs, test_idxs) in enumerate(KFold(n_splits=K, random_state=seed, shuffle=True).split(range(N_dtis))):\n",
    "    \n",
    "    val_idxs = np.random.choice(train_idxs, int(val_prop*N_dtis), replace=False)\n",
    "    train_idxs = np.array([i for i in train_idxs if i not in val_idxs]) # unnecessary but just to be sure\n",
    "\n",
    "    assert len(set(train_idxs).intersection(set(val_idxs))) == 0, 'train and val overlap'\n",
    "    assert len(set(train_idxs).intersection(set(test_idxs))) == 0, 'train and test overlap'\n",
    "    assert len(set(val_idxs).intersection(set(test_idxs))) == 0, 'val and test overlap'\n",
    "\n",
    "    print('init...')\n",
    "    GB = GraphBuilder(root=root, relnames=relnames, val_idxs=val_idxs, test_idxs=test_idxs)\n",
    "    print('building...')\n",
    "    GB.build() \n",
    "    print('generating triples...')\n",
    "    train, valid, test, data = GB.get_triples() \n",
    "\n",
    "    os.makedirs(f'{OUT}/processed/', exist_ok=True)\n",
    "    os.makedirs(f'{OUT}/processed/FOLD_{fold}/', exist_ok=True)\n",
    "    torch.save(train, f'{OUT}/processed/FOLD_{fold}/pos_train.pt')\n",
    "    torch.save(valid, f'{OUT}/processed/FOLD_{fold}/pos_valid.pt')\n",
    "    torch.save(test, f'{OUT}/processed/FOLD_{fold}/pos_test.pt')\n",
    "\n",
    "    # this is deprecated, but may cause issues if not saved. TODO: remove and ensure that the code does not rely on these files\n",
    "    torch.save(None, f'{OUT}/processed/FOLD_{fold}/neg_train.pt')\n",
    "    torch.save(None, f'{OUT}/processed/FOLD_{fold}/neg_valid.pt')\n",
    "    torch.save(None, f'{OUT}/processed/FOLD_{fold}/neg_test.pt')\n",
    "\n",
    "    torch.save(data, f'{OUT}/processed/FOLD_{fold}/Data.pt')\n",
    "\n",
    "    print(f'Fold {fold} -> # train: {len(train_idxs)}, # val: {len(val_idxs)}, # test: {len(test_idxs)}')\n",
    "    print()"
   ]
  },
  {
   "cell_type": "code",
   "execution_count": null,
   "metadata": {},
   "outputs": [
    {
     "data": {
      "text/html": [
       "<div>\n",
       "<style scoped>\n",
       "    .dataframe tbody tr th:only-of-type {\n",
       "        vertical-align: middle;\n",
       "    }\n",
       "\n",
       "    .dataframe tbody tr th {\n",
       "        vertical-align: top;\n",
       "    }\n",
       "\n",
       "    .dataframe thead th {\n",
       "        text-align: right;\n",
       "    }\n",
       "</style>\n",
       "<table border=\"1\" class=\"dataframe\">\n",
       "  <thead>\n",
       "    <tr style=\"text-align: right;\">\n",
       "      <th></th>\n",
       "      <th>src</th>\n",
       "      <th>dst</th>\n",
       "      <th>src_type</th>\n",
       "      <th>dst_type</th>\n",
       "      <th>relation</th>\n",
       "      <th>src_idx</th>\n",
       "      <th>dst_idx</th>\n",
       "    </tr>\n",
       "  </thead>\n",
       "  <tbody>\n",
       "    <tr>\n",
       "      <th>0</th>\n",
       "      <td>2157</td>\n",
       "      <td>DNMT3A</td>\n",
       "      <td>dbgap_subject</td>\n",
       "      <td>gene</td>\n",
       "      <td>mut_missense_variant_deleterious_fwd</td>\n",
       "      <td>73</td>\n",
       "      <td>3203</td>\n",
       "    </tr>\n",
       "    <tr>\n",
       "      <th>1</th>\n",
       "      <td>2606</td>\n",
       "      <td>SYCP2</td>\n",
       "      <td>dbgap_subject</td>\n",
       "      <td>gene</td>\n",
       "      <td>mut_missense_variant_deleterious_fwd</td>\n",
       "      <td>313</td>\n",
       "      <td>12380</td>\n",
       "    </tr>\n",
       "    <tr>\n",
       "      <th>2</th>\n",
       "      <td>2034</td>\n",
       "      <td>KRAS</td>\n",
       "      <td>dbgap_subject</td>\n",
       "      <td>gene</td>\n",
       "      <td>mut_missense_variant_deleterious_fwd</td>\n",
       "      <td>16</td>\n",
       "      <td>6088</td>\n",
       "    </tr>\n",
       "    <tr>\n",
       "      <th>3</th>\n",
       "      <td>2034</td>\n",
       "      <td>RAD21</td>\n",
       "      <td>dbgap_subject</td>\n",
       "      <td>gene</td>\n",
       "      <td>mut_missense_variant_deleterious_fwd</td>\n",
       "      <td>16</td>\n",
       "      <td>10415</td>\n",
       "    </tr>\n",
       "    <tr>\n",
       "      <th>4</th>\n",
       "      <td>2469</td>\n",
       "      <td>MYBPC3</td>\n",
       "      <td>dbgap_subject</td>\n",
       "      <td>gene</td>\n",
       "      <td>mut_missense_variant_deleterious_fwd</td>\n",
       "      <td>241</td>\n",
       "      <td>7906</td>\n",
       "    </tr>\n",
       "  </tbody>\n",
       "</table>\n",
       "</div>"
      ],
      "text/plain": [
       "    src     dst       src_type dst_type                              relation  \\\n",
       "0  2157  DNMT3A  dbgap_subject     gene  mut_missense_variant_deleterious_fwd   \n",
       "1  2606   SYCP2  dbgap_subject     gene  mut_missense_variant_deleterious_fwd   \n",
       "2  2034    KRAS  dbgap_subject     gene  mut_missense_variant_deleterious_fwd   \n",
       "3  2034   RAD21  dbgap_subject     gene  mut_missense_variant_deleterious_fwd   \n",
       "4  2469  MYBPC3  dbgap_subject     gene  mut_missense_variant_deleterious_fwd   \n",
       "\n",
       "   src_idx  dst_idx  \n",
       "0       73     3203  \n",
       "1      313    12380  \n",
       "2       16     6088  \n",
       "3       16    10415  \n",
       "4      241     7906  "
      ]
     },
     "execution_count": 15,
     "metadata": {},
     "output_type": "execute_result"
    }
   ],
   "source": [
    "GB.relations.head()"
   ]
  },
  {
   "cell_type": "code",
   "execution_count": null,
   "metadata": {},
   "outputs": [
    {
     "data": {
      "text/plain": [
       "array(['mut_missense_variant_deleterious_fwd',\n",
       "       'PHH_lincs_perturbation_rev', 'HT29_lincs_perturbation_rev',\n",
       "       'PC3_lincs_perturbation_fwd', 'associates_fwd',\n",
       "       'A375_lincs_perturbation_fwd', 'predicted_weak_binding_rev',\n",
       "       'high_expr_rev', 'MCF7_lincs_perturbation_rev',\n",
       "       'A549_lincs_perturbation_rev', 'predicted_weak_binding_fwd',\n",
       "       'HA1E_lincs_perturbation_rev', 'PC3_lincs_perturbation_rev',\n",
       "       'mut_missense_variant_tolerated_rev', 'isin_rev',\n",
       "       'ASC_lincs_perturbation_fwd', 'ASC_lincs_perturbation_rev',\n",
       "       'low_expr_rev', 'HT29_lincs_perturbation_fwd',\n",
       "       'predicted_conf_weak_binding_fwd', 'associates_rev',\n",
       "       'predicted_conf_weak_binding_rev', 'resistant_to_rev',\n",
       "       'A549_lincs_perturbation_fwd', 'protbert_similarity',\n",
       "       'resistant_to_fwd', 'predicted_strong_binding_rev',\n",
       "       'VCAP_lincs_perturbation_fwd', 'chemberta_cosine_similarity',\n",
       "       'sensitive_to_fwd', 'sensitive_to_rev', 'low_expr_fwd', 'isin_fwd',\n",
       "       'targets', 'mut_missense_variant_deleterious_rev',\n",
       "       'A375_lincs_perturbation_rev', 'SKB_lincs_perturbation_rev',\n",
       "       'HA1E_lincs_perturbation_fwd', 'NPC_lincs_perturbation_rev',\n",
       "       'NPC_lincs_perturbation_fwd', 'mut_missense_variant_tolerated_fwd',\n",
       "       'SKB_lincs_perturbation_fwd', 'predicted_strong_binding_fwd',\n",
       "       'VCAP_lincs_perturbation_rev', 'high_expr_fwd',\n",
       "       'MCF7_lincs_perturbation_fwd', 'PHH_lincs_perturbation_fwd'],\n",
       "      dtype=object)"
      ]
     },
     "execution_count": 16,
     "metadata": {},
     "output_type": "execute_result"
    }
   ],
   "source": [
    "GB.relations.relation.unique()"
   ]
  },
  {
   "cell_type": "code",
   "execution_count": null,
   "metadata": {},
   "outputs": [
    {
     "data": {
      "text/plain": [
       "{'dbgap_subject': 470,\n",
       " 'disease': 4095,\n",
       " 'drug': 89,\n",
       " 'gene': 14334,\n",
       " 'pathway': 2363}"
      ]
     },
     "execution_count": 17,
     "metadata": {},
     "output_type": "execute_result"
    }
   ],
   "source": [
    "data['num_nodes_dict']"
   ]
  },
  {
   "cell_type": "code",
   "execution_count": null,
   "metadata": {},
   "outputs": [
    {
     "name": "stdout",
     "output_type": "stream",
     "text": [
      "dbgap_subject 470\n",
      "disease 4095\n",
      "drug 89\n",
      "gene 14334\n",
      "pathway 2363\n"
     ]
    }
   ],
   "source": [
    "for k,v in data['node_name_dict'].items(): \n",
    "    print(k, len(v))"
   ]
  },
  {
   "cell_type": "code",
   "execution_count": null,
   "metadata": {},
   "outputs": [
    {
     "name": "stdout",
     "output_type": "stream",
     "text": [
      "num nodes: 21351\n",
      "num edges: 1179913\n",
      "num node types: 5\n",
      "num relations: 49\n"
     ]
    }
   ],
   "source": [
    "# report graph metrics\n",
    "\n",
    "print('num nodes:', sum([v for k,v in data['num_nodes_dict'].items()]))\n",
    "print('num edges:', sum([v.size(1) for k,v in data['edge_index_dict'].items()]))\n",
    "print('num node types:', len(data['node_name_dict']))\n",
    "print('num relations:', len(data['edge_index_dict']))\n"
   ]
  },
  {
   "cell_type": "code",
   "execution_count": null,
   "metadata": {},
   "outputs": [],
   "source": []
  }
 ],
 "metadata": {
  "kernelspec": {
   "display_name": "tkgdti",
   "language": "python",
   "name": "python3"
  },
  "language_info": {
   "codemirror_mode": {
    "name": "ipython",
    "version": 3
   },
   "file_extension": ".py",
   "mimetype": "text/x-python",
   "name": "python",
   "nbconvert_exporter": "python",
   "pygments_lexer": "ipython3",
   "version": "3.11.10"
  }
 },
 "nbformat": 4,
 "nbformat_minor": 2
}
