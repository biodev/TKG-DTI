{
 "cells": [
  {
   "cell_type": "code",
   "execution_count": null,
   "metadata": {},
   "outputs": [],
   "source": [
    "import torch \n",
    "import pandas as pd \n",
    "import torch_geometric as pyg \n",
    "import numpy as np \n",
    "import os \n",
    "from tkgdti.data.GraphBuilder import GraphBuilder\n",
    "from sklearn.model_selection import KFold\n",
    "\n",
    "%load_ext autoreload\n",
    "%autoreload 2\n",
    "\n",
    "# seed \n",
    "seed = 42\n",
    "np.random.seed(seed)\n",
    "torch.manual_seed(seed)"
   ]
  },
  {
   "cell_type": "code",
   "execution_count": null,
   "metadata": {},
   "outputs": [
    {
     "name": "stdout",
     "output_type": "stream",
     "text": [
      "# relations to include: 53\n"
     ]
    }
   ],
   "source": [
    "root = '../../extdata/relations/'\n",
    "relnames = os.listdir(root)\n",
    "N_dtis = pd.read_csv('../../extdata/relations/targetome_drug_targets_gene.csv').shape[0]\n",
    "K=10\n",
    "val_prop = 0.075 \n",
    "\n",
    "NO_REV = False\n",
    "if NO_REV: \n",
    "    relnames = [r for r in relnames if '_rev' not in r]\n"
   ]
  },
  {
   "cell_type": "code",
   "execution_count": 26,
   "metadata": {},
   "outputs": [
    {
     "name": "stdout",
     "output_type": "stream",
     "text": [
      "# of relations types: 49\n"
     ]
    }
   ],
   "source": [
    "\n",
    "relnames2 = [] \n",
    "for rname in relnames: \n",
    "    rdf = pd.read_csv(root + '/' + rname)\n",
    "    if rdf.shape[0] > 0: \n",
    "        relnames2.append(rname)\n",
    "relnames = relnames2 \n",
    "\n",
    "print('# of relations types:', len(relnames))"
   ]
  },
  {
   "cell_type": "code",
   "execution_count": null,
   "metadata": {},
   "outputs": [
    {
     "name": "stdout",
     "output_type": "stream",
     "text": [
      "init...\n",
      "Node types: ['dbgap_subject' 'disease' 'drug' 'gene' 'pathway']\n",
      "building...\n",
      "generating triples...\n",
      "Fold 0 -> # train: 358, # val: 21, # test: 43\n",
      "\n",
      "init...\n",
      "Node types: ['dbgap_subject' 'disease' 'drug' 'gene' 'pathway']\n",
      "building...\n",
      "generating triples...\n",
      "Fold 1 -> # train: 358, # val: 21, # test: 43\n",
      "\n",
      "init...\n",
      "Node types: ['dbgap_subject' 'disease' 'drug' 'gene' 'pathway']\n",
      "building...\n",
      "generating triples...\n",
      "Fold 2 -> # train: 359, # val: 21, # test: 42\n",
      "\n",
      "init...\n",
      "Node types: ['dbgap_subject' 'disease' 'drug' 'gene' 'pathway']\n",
      "building...\n",
      "generating triples...\n",
      "Fold 3 -> # train: 359, # val: 21, # test: 42\n",
      "\n",
      "init...\n",
      "Node types: ['dbgap_subject' 'disease' 'drug' 'gene' 'pathway']\n",
      "building...\n",
      "generating triples...\n",
      "Fold 4 -> # train: 359, # val: 21, # test: 42\n",
      "\n",
      "init...\n",
      "Node types: ['dbgap_subject' 'disease' 'drug' 'gene' 'pathway']\n",
      "building...\n",
      "generating triples...\n",
      "Fold 5 -> # train: 359, # val: 21, # test: 42\n",
      "\n",
      "init...\n",
      "Node types: ['dbgap_subject' 'disease' 'drug' 'gene' 'pathway']\n",
      "building...\n",
      "generating triples...\n",
      "Fold 6 -> # train: 359, # val: 21, # test: 42\n",
      "\n",
      "init...\n",
      "Node types: ['dbgap_subject' 'disease' 'drug' 'gene' 'pathway']\n",
      "building...\n",
      "generating triples...\n",
      "Fold 7 -> # train: 359, # val: 21, # test: 42\n",
      "\n",
      "init...\n",
      "Node types: ['dbgap_subject' 'disease' 'drug' 'gene' 'pathway']\n",
      "building...\n",
      "generating triples...\n",
      "Fold 8 -> # train: 359, # val: 21, # test: 42\n",
      "\n",
      "init...\n",
      "Node types: ['dbgap_subject' 'disease' 'drug' 'gene' 'pathway']\n",
      "building...\n",
      "generating triples...\n",
      "Fold 9 -> # train: 359, # val: 21, # test: 42\n",
      "\n"
     ]
    }
   ],
   "source": [
    "\n",
    "for fold, (train_idxs, test_idxs) in enumerate(KFold(n_splits=K, random_state=seed, shuffle=True).split(range(N_dtis))):\n",
    "    \n",
    "    val_idxs = np.random.choice(train_idxs, int(val_prop*N_dtis), replace=False)\n",
    "    train_idxs = np.array([i for i in train_idxs if i not in val_idxs]) # unnecessary but just to be sure\n",
    "\n",
    "    assert len(set(train_idxs).intersection(set(val_idxs))) == 0, 'train and val overlap'\n",
    "    assert len(set(train_idxs).intersection(set(test_idxs))) == 0, 'train and test overlap'\n",
    "    assert len(set(val_idxs).intersection(set(test_idxs))) == 0, 'val and test overlap'\n",
    "\n",
    "    print('init...')\n",
    "    GB = GraphBuilder(root=root, relnames=relnames, val_idxs=val_idxs, test_idxs=test_idxs)\n",
    "    print('building...')\n",
    "    GB.build() \n",
    "    print('generating triples...')\n",
    "    train, valid, test, data = GB.get_triples() \n",
    "\n",
    "    os.makedirs('../../data/tkg/processed/', exist_ok=True)\n",
    "    os.makedirs(f'../../data/tkg/processed/FOLD_{fold}/', exist_ok=True)\n",
    "    torch.save(train, f'../../data/tkg/processed/FOLD_{fold}/pos_train.pt')\n",
    "    torch.save(valid, f'../../data/tkg/processed/FOLD_{fold}/pos_valid.pt')\n",
    "    torch.save(test, f'../../data/tkg/processed/FOLD_{fold}/pos_test.pt')\n",
    "\n",
    "    torch.save(None, f'../../data/tkg/processed/FOLD_{fold}/neg_train.pt')\n",
    "    torch.save(None, f'../../data/tkg/processed/FOLD_{fold}/neg_valid.pt')\n",
    "    torch.save(None, f'../../data/tkg/processed/FOLD_{fold}/neg_test.pt')\n",
    "\n",
    "    torch.save(data, f'../../data/tkg/processed/FOLD_{fold}/Data.pt')\n",
    "\n",
    "    print(f'Fold {fold} -> # train: {len(train_idxs)}, # val: {len(val_idxs)}, # test: {len(test_idxs)}')\n",
    "    print()"
   ]
  },
  {
   "cell_type": "code",
   "execution_count": 4,
   "metadata": {},
   "outputs": [
    {
     "data": {
      "text/html": [
       "<div>\n",
       "<style scoped>\n",
       "    .dataframe tbody tr th:only-of-type {\n",
       "        vertical-align: middle;\n",
       "    }\n",
       "\n",
       "    .dataframe tbody tr th {\n",
       "        vertical-align: top;\n",
       "    }\n",
       "\n",
       "    .dataframe thead th {\n",
       "        text-align: right;\n",
       "    }\n",
       "</style>\n",
       "<table border=\"1\" class=\"dataframe\">\n",
       "  <thead>\n",
       "    <tr style=\"text-align: right;\">\n",
       "      <th></th>\n",
       "      <th>src</th>\n",
       "      <th>dst</th>\n",
       "      <th>src_type</th>\n",
       "      <th>dst_type</th>\n",
       "      <th>relation</th>\n",
       "      <th>edge_type</th>\n",
       "      <th>src_idx</th>\n",
       "      <th>dst_idx</th>\n",
       "    </tr>\n",
       "  </thead>\n",
       "  <tbody>\n",
       "    <tr>\n",
       "      <th>0</th>\n",
       "      <td>2157</td>\n",
       "      <td>DNMT3A</td>\n",
       "      <td>dbgap_subject</td>\n",
       "      <td>gene</td>\n",
       "      <td>mut_missense_variant_deleterious_fwd</td>\n",
       "      <td>NaN</td>\n",
       "      <td>73</td>\n",
       "      <td>3193</td>\n",
       "    </tr>\n",
       "    <tr>\n",
       "      <th>1</th>\n",
       "      <td>2606</td>\n",
       "      <td>SYCP2</td>\n",
       "      <td>dbgap_subject</td>\n",
       "      <td>gene</td>\n",
       "      <td>mut_missense_variant_deleterious_fwd</td>\n",
       "      <td>NaN</td>\n",
       "      <td>313</td>\n",
       "      <td>12353</td>\n",
       "    </tr>\n",
       "    <tr>\n",
       "      <th>2</th>\n",
       "      <td>2034</td>\n",
       "      <td>KRAS</td>\n",
       "      <td>dbgap_subject</td>\n",
       "      <td>gene</td>\n",
       "      <td>mut_missense_variant_deleterious_fwd</td>\n",
       "      <td>NaN</td>\n",
       "      <td>16</td>\n",
       "      <td>6077</td>\n",
       "    </tr>\n",
       "    <tr>\n",
       "      <th>3</th>\n",
       "      <td>2034</td>\n",
       "      <td>RAD21</td>\n",
       "      <td>dbgap_subject</td>\n",
       "      <td>gene</td>\n",
       "      <td>mut_missense_variant_deleterious_fwd</td>\n",
       "      <td>NaN</td>\n",
       "      <td>16</td>\n",
       "      <td>10397</td>\n",
       "    </tr>\n",
       "    <tr>\n",
       "      <th>4</th>\n",
       "      <td>2469</td>\n",
       "      <td>MYBPC3</td>\n",
       "      <td>dbgap_subject</td>\n",
       "      <td>gene</td>\n",
       "      <td>mut_missense_variant_deleterious_fwd</td>\n",
       "      <td>NaN</td>\n",
       "      <td>241</td>\n",
       "      <td>7894</td>\n",
       "    </tr>\n",
       "  </tbody>\n",
       "</table>\n",
       "</div>"
      ],
      "text/plain": [
       "    src     dst       src_type dst_type                              relation  \\\n",
       "0  2157  DNMT3A  dbgap_subject     gene  mut_missense_variant_deleterious_fwd   \n",
       "1  2606   SYCP2  dbgap_subject     gene  mut_missense_variant_deleterious_fwd   \n",
       "2  2034    KRAS  dbgap_subject     gene  mut_missense_variant_deleterious_fwd   \n",
       "3  2034   RAD21  dbgap_subject     gene  mut_missense_variant_deleterious_fwd   \n",
       "4  2469  MYBPC3  dbgap_subject     gene  mut_missense_variant_deleterious_fwd   \n",
       "\n",
       "  edge_type  src_idx  dst_idx  \n",
       "0       NaN       73     3193  \n",
       "1       NaN      313    12353  \n",
       "2       NaN       16     6077  \n",
       "3       NaN       16    10397  \n",
       "4       NaN      241     7894  "
      ]
     },
     "execution_count": 4,
     "metadata": {},
     "output_type": "execute_result"
    }
   ],
   "source": [
    "GB.relations.head()"
   ]
  },
  {
   "cell_type": "code",
   "execution_count": 5,
   "metadata": {},
   "outputs": [
    {
     "data": {
      "text/plain": [
       "array(['mut_missense_variant_deleterious_fwd',\n",
       "       'mut_frameshift_variant__fwd', 'PHH_lincs_perturbation_rev',\n",
       "       'HT29_lincs_perturbation_rev', 'PC3_lincs_perturbation_fwd', nan,\n",
       "       'A375_lincs_perturbation_fwd', 'predicted_weak_binding_rev',\n",
       "       'high_expr_rev', 'MCF7_lincs_perturbation_rev',\n",
       "       'A549_lincs_perturbation_rev', 'predicted_weak_binding_fwd',\n",
       "       'HA1E_lincs_perturbation_rev', 'PC3_lincs_perturbation_rev',\n",
       "       'mut_missense_variant_tolerated_rev', 'isin_rev',\n",
       "       'ASC_lincs_perturbation_fwd', 'ASC_lincs_perturbation_rev',\n",
       "       'low_expr_rev', 'HT29_lincs_perturbation_fwd',\n",
       "       'predicted_conf_weak_binding_fwd', 'associates_rev',\n",
       "       'predicted_conf_weak_binding_rev', 'mut_stop_gained__rev',\n",
       "       'resistant_to_rev', 'A549_lincs_perturbation_fwd',\n",
       "       'associates_fwd', 'protbert_similarity', 'resistant_to_fwd',\n",
       "       'predicted_strong_binding_rev', 'VCAP_lincs_perturbation_fwd',\n",
       "       'chemberta_cosine_similarity', 'mut_stop_gained__fwd',\n",
       "       'sensitive_to_fwd', 'sensitive_to_rev', 'low_expr_fwd', 'isin_fwd',\n",
       "       'targets', 'mut_missense_variant_deleterious_rev',\n",
       "       'A375_lincs_perturbation_rev', 'SKB_lincs_perturbation_rev',\n",
       "       'HA1E_lincs_perturbation_fwd', 'NPC_lincs_perturbation_rev',\n",
       "       'NPC_lincs_perturbation_fwd', 'mut_missense_variant_tolerated_fwd',\n",
       "       'SKB_lincs_perturbation_fwd', 'predicted_strong_binding_fwd',\n",
       "       'mut_frameshift_variant__rev', 'VCAP_lincs_perturbation_rev',\n",
       "       'high_expr_fwd', 'MCF7_lincs_perturbation_fwd',\n",
       "       'PHH_lincs_perturbation_fwd'], dtype=object)"
      ]
     },
     "execution_count": 5,
     "metadata": {},
     "output_type": "execute_result"
    }
   ],
   "source": [
    "GB.relations.relation.unique()"
   ]
  },
  {
   "cell_type": "code",
   "execution_count": 6,
   "metadata": {},
   "outputs": [
    {
     "data": {
      "text/plain": [
       "{'dbgap_subject': 470,\n",
       " 'disease': 4095,\n",
       " 'drug': 89,\n",
       " 'gene': 14304,\n",
       " 'pathway': 2363}"
      ]
     },
     "execution_count": 6,
     "metadata": {},
     "output_type": "execute_result"
    }
   ],
   "source": [
    "data['num_nodes_dict']"
   ]
  },
  {
   "cell_type": "code",
   "execution_count": 7,
   "metadata": {},
   "outputs": [
    {
     "name": "stdout",
     "output_type": "stream",
     "text": [
      "dbgap_subject 470\n",
      "disease 4095\n",
      "drug 89\n",
      "gene 14304\n",
      "pathway 2363\n"
     ]
    }
   ],
   "source": [
    "for k,v in data['node_name_dict'].items(): \n",
    "    print(k, len(v))"
   ]
  },
  {
   "cell_type": "code",
   "execution_count": null,
   "metadata": {},
   "outputs": [
    {
     "data": {
      "text/plain": [
       "{'head_type': array(['drug', 'drug', 'drug', 'drug', 'drug', 'drug', 'drug', 'drug',\n",
       "        'drug', 'drug', 'drug', 'drug', 'drug', 'drug', 'drug', 'drug',\n",
       "        'drug', 'drug', 'drug', 'drug', 'drug'], dtype='<U4'),\n",
       " 'head': array([35, 50, 46, 13, 63, 62, 19, 51, 39, 72, 55, 65, 81, 17, 20,  9, 23,\n",
       "        69, 20, 77, 75]),\n",
       " 'relation': array([36, 36, 36, 36, 36, 36, 36, 36, 36, 36, 36, 36, 36, 36, 36, 36, 36,\n",
       "        36, 36, 36, 36]),\n",
       " 'tail_type': array(['gene', 'gene', 'gene', 'gene', 'gene', 'gene', 'gene', 'gene',\n",
       "        'gene', 'gene', 'gene', 'gene', 'gene', 'gene', 'gene', 'gene',\n",
       "        'gene', 'gene', 'gene', 'gene', 'gene'], dtype='<U4'),\n",
       " 'tail': array([ 1062,  5049,  1875, 10416,  7842,  5908,  1062,  3623,  6690,\n",
       "        10587,  2131,    81,  5990,  4040, 10152,  4040,  5734,  9326,\n",
       "        10122,   941,  3623])}"
      ]
     },
     "execution_count": 8,
     "metadata": {},
     "output_type": "execute_result"
    }
   ],
   "source": [
    "valid"
   ]
  },
  {
   "cell_type": "code",
   "execution_count": null,
   "metadata": {},
   "outputs": [
    {
     "name": "stdout",
     "output_type": "stream",
     "text": [
      "num nodes: 21321\n",
      "num edges: 1112377\n",
      "num node types: 5\n",
      "num relations: 51\n"
     ]
    }
   ],
   "source": [
    "# report graph metrics\n",
    "\n",
    "print('num nodes:', sum([v for k,v in data['num_nodes_dict'].items()]))\n",
    "print('num edges:', sum([v.size(1) for k,v in data['edge_index_dict'].items()]))\n",
    "print('num node types:', len(data['node_name_dict']))\n",
    "print('num relations:', len(data['edge_index_dict']))\n"
   ]
  },
  {
   "cell_type": "code",
   "execution_count": null,
   "metadata": {},
   "outputs": [],
   "source": []
  }
 ],
 "metadata": {
  "kernelspec": {
   "display_name": "tkgdti",
   "language": "python",
   "name": "python3"
  },
  "language_info": {
   "codemirror_mode": {
    "name": "ipython",
    "version": 3
   },
   "file_extension": ".py",
   "mimetype": "text/x-python",
   "name": "python",
   "nbconvert_exporter": "python",
   "pygments_lexer": "ipython3",
   "version": "3.11.10"
  }
 },
 "nbformat": 4,
 "nbformat_minor": 2
}
