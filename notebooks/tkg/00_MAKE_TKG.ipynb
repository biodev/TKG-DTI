{
 "cells": [
  {
   "cell_type": "code",
   "execution_count": 11,
   "metadata": {},
   "outputs": [
    {
     "name": "stdout",
     "output_type": "stream",
     "text": [
      "The autoreload extension is already loaded. To reload it, use:\n",
      "  %reload_ext autoreload\n"
     ]
    },
    {
     "data": {
      "text/plain": [
       "<torch._C.Generator at 0x7fad778ba650>"
      ]
     },
     "execution_count": 11,
     "metadata": {},
     "output_type": "execute_result"
    }
   ],
   "source": [
    "import torch \n",
    "import pandas as pd \n",
    "import torch_geometric as pyg \n",
    "import numpy as np \n",
    "import os \n",
    "from tkgdti.data.GraphBuilder import GraphBuilder\n",
    "from sklearn.model_selection import KFold\n",
    "\n",
    "%load_ext autoreload\n",
    "%autoreload 2\n",
    "\n",
    "# seed \n",
    "seed = 42\n",
    "np.random.seed(seed)\n",
    "torch.manual_seed(seed)"
   ]
  },
  {
   "cell_type": "code",
   "execution_count": 12,
   "metadata": {},
   "outputs": [],
   "source": [
    "root = '../../extdata/relations/'\n",
    "relnames = os.listdir(root)\n",
    "N_dtis = pd.read_csv('../../extdata/relations/targetome_drug_targets_gene.csv').shape[0]\n",
    "K=10\n",
    "val_prop = 0.075 \n",
    "\n",
    "NO_REV = False\n",
    "if NO_REV: \n",
    "    relnames = [r for r in relnames if '_rev' not in r]\n"
   ]
  },
  {
   "cell_type": "code",
   "execution_count": 13,
   "metadata": {},
   "outputs": [
    {
     "name": "stdout",
     "output_type": "stream",
     "text": [
      "# of relations types: 49\n"
     ]
    }
   ],
   "source": [
    "\n",
    "relnames2 = [] \n",
    "for rname in relnames: \n",
    "    rdf = pd.read_csv(root + '/' + rname)\n",
    "    if rdf.shape[0] > 0: \n",
    "        relnames2.append(rname)\n",
    "relnames = relnames2 \n",
    "\n",
    "print('# of relations types:', len(relnames))"
   ]
  },
  {
   "cell_type": "code",
   "execution_count": 14,
   "metadata": {},
   "outputs": [
    {
     "name": "stdout",
     "output_type": "stream",
     "text": [
      "init...\n",
      "Node types: ['dbgap_subject' 'disease' 'drug' 'gene' 'pathway']\n",
      "building...\n",
      "generating triples...\n",
      "Fold 0 -> # train: 2666, # val: 242, # test: 324\n",
      "\n",
      "init...\n",
      "Node types: ['dbgap_subject' 'disease' 'drug' 'gene' 'pathway']\n",
      "building...\n",
      "generating triples...\n",
      "Fold 1 -> # train: 2666, # val: 242, # test: 324\n",
      "\n",
      "init...\n",
      "Node types: ['dbgap_subject' 'disease' 'drug' 'gene' 'pathway']\n",
      "building...\n",
      "generating triples...\n",
      "Fold 2 -> # train: 2667, # val: 242, # test: 323\n",
      "\n",
      "init...\n",
      "Node types: ['dbgap_subject' 'disease' 'drug' 'gene' 'pathway']\n",
      "building...\n",
      "generating triples...\n",
      "Fold 3 -> # train: 2667, # val: 242, # test: 323\n",
      "\n",
      "init...\n",
      "Node types: ['dbgap_subject' 'disease' 'drug' 'gene' 'pathway']\n",
      "building...\n",
      "generating triples...\n",
      "Fold 4 -> # train: 2667, # val: 242, # test: 323\n",
      "\n",
      "init...\n",
      "Node types: ['dbgap_subject' 'disease' 'drug' 'gene' 'pathway']\n",
      "building...\n",
      "generating triples...\n",
      "Fold 5 -> # train: 2667, # val: 242, # test: 323\n",
      "\n",
      "init...\n",
      "Node types: ['dbgap_subject' 'disease' 'drug' 'gene' 'pathway']\n",
      "building...\n",
      "generating triples...\n",
      "Fold 6 -> # train: 2667, # val: 242, # test: 323\n",
      "\n",
      "init...\n",
      "Node types: ['dbgap_subject' 'disease' 'drug' 'gene' 'pathway']\n",
      "building...\n",
      "generating triples...\n",
      "Fold 7 -> # train: 2667, # val: 242, # test: 323\n",
      "\n",
      "init...\n",
      "Node types: ['dbgap_subject' 'disease' 'drug' 'gene' 'pathway']\n",
      "building...\n",
      "generating triples...\n",
      "Fold 8 -> # train: 2667, # val: 242, # test: 323\n",
      "\n",
      "init...\n",
      "Node types: ['dbgap_subject' 'disease' 'drug' 'gene' 'pathway']\n",
      "building...\n",
      "generating triples...\n",
      "Fold 9 -> # train: 2667, # val: 242, # test: 323\n",
      "\n"
     ]
    }
   ],
   "source": [
    "\n",
    "for fold, (train_idxs, test_idxs) in enumerate(KFold(n_splits=K, random_state=seed, shuffle=True).split(range(N_dtis))):\n",
    "    \n",
    "    val_idxs = np.random.choice(train_idxs, int(val_prop*N_dtis), replace=False)\n",
    "    train_idxs = np.array([i for i in train_idxs if i not in val_idxs]) # unnecessary but just to be sure\n",
    "\n",
    "    assert len(set(train_idxs).intersection(set(val_idxs))) == 0, 'train and val overlap'\n",
    "    assert len(set(train_idxs).intersection(set(test_idxs))) == 0, 'train and test overlap'\n",
    "    assert len(set(val_idxs).intersection(set(test_idxs))) == 0, 'val and test overlap'\n",
    "\n",
    "    print('init...')\n",
    "    GB = GraphBuilder(root=root, relnames=relnames, val_idxs=val_idxs, test_idxs=test_idxs)\n",
    "    print('building...')\n",
    "    GB.build() \n",
    "    print('generating triples...')\n",
    "    train, valid, test, data = GB.get_triples() \n",
    "\n",
    "    os.makedirs('../../data/tkg/processed/', exist_ok=True)\n",
    "    os.makedirs(f'../../data/tkg/processed/FOLD_{fold}/', exist_ok=True)\n",
    "    torch.save(train, f'../../data/tkg/processed/FOLD_{fold}/pos_train.pt')\n",
    "    torch.save(valid, f'../../data/tkg/processed/FOLD_{fold}/pos_valid.pt')\n",
    "    torch.save(test, f'../../data/tkg/processed/FOLD_{fold}/pos_test.pt')\n",
    "\n",
    "    torch.save(None, f'../../data/tkg/processed/FOLD_{fold}/neg_train.pt')\n",
    "    torch.save(None, f'../../data/tkg/processed/FOLD_{fold}/neg_valid.pt')\n",
    "    torch.save(None, f'../../data/tkg/processed/FOLD_{fold}/neg_test.pt')\n",
    "\n",
    "    torch.save(data, f'../../data/tkg/processed/FOLD_{fold}/Data.pt')\n",
    "\n",
    "    print(f'Fold {fold} -> # train: {len(train_idxs)}, # val: {len(val_idxs)}, # test: {len(test_idxs)}')\n",
    "    print()"
   ]
  },
  {
   "cell_type": "code",
   "execution_count": 15,
   "metadata": {},
   "outputs": [
    {
     "data": {
      "text/html": [
       "<div>\n",
       "<style scoped>\n",
       "    .dataframe tbody tr th:only-of-type {\n",
       "        vertical-align: middle;\n",
       "    }\n",
       "\n",
       "    .dataframe tbody tr th {\n",
       "        vertical-align: top;\n",
       "    }\n",
       "\n",
       "    .dataframe thead th {\n",
       "        text-align: right;\n",
       "    }\n",
       "</style>\n",
       "<table border=\"1\" class=\"dataframe\">\n",
       "  <thead>\n",
       "    <tr style=\"text-align: right;\">\n",
       "      <th></th>\n",
       "      <th>src</th>\n",
       "      <th>dst</th>\n",
       "      <th>src_type</th>\n",
       "      <th>dst_type</th>\n",
       "      <th>relation</th>\n",
       "      <th>src_idx</th>\n",
       "      <th>dst_idx</th>\n",
       "    </tr>\n",
       "  </thead>\n",
       "  <tbody>\n",
       "    <tr>\n",
       "      <th>0</th>\n",
       "      <td>2157</td>\n",
       "      <td>DNMT3A</td>\n",
       "      <td>dbgap_subject</td>\n",
       "      <td>gene</td>\n",
       "      <td>mut_missense_variant_deleterious_fwd</td>\n",
       "      <td>73</td>\n",
       "      <td>3203</td>\n",
       "    </tr>\n",
       "    <tr>\n",
       "      <th>1</th>\n",
       "      <td>2606</td>\n",
       "      <td>SYCP2</td>\n",
       "      <td>dbgap_subject</td>\n",
       "      <td>gene</td>\n",
       "      <td>mut_missense_variant_deleterious_fwd</td>\n",
       "      <td>313</td>\n",
       "      <td>12380</td>\n",
       "    </tr>\n",
       "    <tr>\n",
       "      <th>2</th>\n",
       "      <td>2034</td>\n",
       "      <td>KRAS</td>\n",
       "      <td>dbgap_subject</td>\n",
       "      <td>gene</td>\n",
       "      <td>mut_missense_variant_deleterious_fwd</td>\n",
       "      <td>16</td>\n",
       "      <td>6088</td>\n",
       "    </tr>\n",
       "    <tr>\n",
       "      <th>3</th>\n",
       "      <td>2034</td>\n",
       "      <td>RAD21</td>\n",
       "      <td>dbgap_subject</td>\n",
       "      <td>gene</td>\n",
       "      <td>mut_missense_variant_deleterious_fwd</td>\n",
       "      <td>16</td>\n",
       "      <td>10415</td>\n",
       "    </tr>\n",
       "    <tr>\n",
       "      <th>4</th>\n",
       "      <td>2469</td>\n",
       "      <td>MYBPC3</td>\n",
       "      <td>dbgap_subject</td>\n",
       "      <td>gene</td>\n",
       "      <td>mut_missense_variant_deleterious_fwd</td>\n",
       "      <td>241</td>\n",
       "      <td>7906</td>\n",
       "    </tr>\n",
       "  </tbody>\n",
       "</table>\n",
       "</div>"
      ],
      "text/plain": [
       "    src     dst       src_type dst_type                              relation  \\\n",
       "0  2157  DNMT3A  dbgap_subject     gene  mut_missense_variant_deleterious_fwd   \n",
       "1  2606   SYCP2  dbgap_subject     gene  mut_missense_variant_deleterious_fwd   \n",
       "2  2034    KRAS  dbgap_subject     gene  mut_missense_variant_deleterious_fwd   \n",
       "3  2034   RAD21  dbgap_subject     gene  mut_missense_variant_deleterious_fwd   \n",
       "4  2469  MYBPC3  dbgap_subject     gene  mut_missense_variant_deleterious_fwd   \n",
       "\n",
       "   src_idx  dst_idx  \n",
       "0       73     3203  \n",
       "1      313    12380  \n",
       "2       16     6088  \n",
       "3       16    10415  \n",
       "4      241     7906  "
      ]
     },
     "execution_count": 15,
     "metadata": {},
     "output_type": "execute_result"
    }
   ],
   "source": [
    "GB.relations.head()"
   ]
  },
  {
   "cell_type": "code",
   "execution_count": 16,
   "metadata": {},
   "outputs": [
    {
     "data": {
      "text/plain": [
       "array(['mut_missense_variant_deleterious_fwd',\n",
       "       'PHH_lincs_perturbation_rev', 'HT29_lincs_perturbation_rev',\n",
       "       'PC3_lincs_perturbation_fwd', 'associates_fwd',\n",
       "       'A375_lincs_perturbation_fwd', 'predicted_weak_binding_rev',\n",
       "       'high_expr_rev', 'MCF7_lincs_perturbation_rev',\n",
       "       'A549_lincs_perturbation_rev', 'predicted_weak_binding_fwd',\n",
       "       'HA1E_lincs_perturbation_rev', 'PC3_lincs_perturbation_rev',\n",
       "       'mut_missense_variant_tolerated_rev', 'isin_rev',\n",
       "       'ASC_lincs_perturbation_fwd', 'ASC_lincs_perturbation_rev',\n",
       "       'low_expr_rev', 'HT29_lincs_perturbation_fwd',\n",
       "       'predicted_conf_weak_binding_fwd', 'associates_rev',\n",
       "       'predicted_conf_weak_binding_rev', 'resistant_to_rev',\n",
       "       'A549_lincs_perturbation_fwd', 'protbert_similarity',\n",
       "       'resistant_to_fwd', 'predicted_strong_binding_rev',\n",
       "       'VCAP_lincs_perturbation_fwd', 'chemberta_cosine_similarity',\n",
       "       'sensitive_to_fwd', 'sensitive_to_rev', 'low_expr_fwd', 'isin_fwd',\n",
       "       'targets', 'mut_missense_variant_deleterious_rev',\n",
       "       'A375_lincs_perturbation_rev', 'SKB_lincs_perturbation_rev',\n",
       "       'HA1E_lincs_perturbation_fwd', 'NPC_lincs_perturbation_rev',\n",
       "       'NPC_lincs_perturbation_fwd', 'mut_missense_variant_tolerated_fwd',\n",
       "       'SKB_lincs_perturbation_fwd', 'predicted_strong_binding_fwd',\n",
       "       'VCAP_lincs_perturbation_rev', 'high_expr_fwd',\n",
       "       'MCF7_lincs_perturbation_fwd', 'PHH_lincs_perturbation_fwd'],\n",
       "      dtype=object)"
      ]
     },
     "execution_count": 16,
     "metadata": {},
     "output_type": "execute_result"
    }
   ],
   "source": [
    "GB.relations.relation.unique()"
   ]
  },
  {
   "cell_type": "code",
   "execution_count": 17,
   "metadata": {},
   "outputs": [
    {
     "data": {
      "text/plain": [
       "{'dbgap_subject': 470,\n",
       " 'disease': 4095,\n",
       " 'drug': 89,\n",
       " 'gene': 14334,\n",
       " 'pathway': 2363}"
      ]
     },
     "execution_count": 17,
     "metadata": {},
     "output_type": "execute_result"
    }
   ],
   "source": [
    "data['num_nodes_dict']"
   ]
  },
  {
   "cell_type": "code",
   "execution_count": 18,
   "metadata": {},
   "outputs": [
    {
     "name": "stdout",
     "output_type": "stream",
     "text": [
      "dbgap_subject 470\n",
      "disease 4095\n",
      "drug 89\n",
      "gene 14334\n",
      "pathway 2363\n"
     ]
    }
   ],
   "source": [
    "for k,v in data['node_name_dict'].items(): \n",
    "    print(k, len(v))"
   ]
  },
  {
   "cell_type": "code",
   "execution_count": 19,
   "metadata": {},
   "outputs": [
    {
     "data": {
      "text/plain": [
       "{'head_type': array(['drug', 'drug', 'drug', 'drug', 'drug', 'drug', 'drug', 'drug',\n",
       "        'drug', 'drug', 'drug', 'drug', 'drug', 'drug', 'drug', 'drug',\n",
       "        'drug', 'drug', 'drug', 'drug', 'drug', 'drug', 'drug', 'drug',\n",
       "        'drug', 'drug', 'drug', 'drug', 'drug', 'drug', 'drug', 'drug',\n",
       "        'drug', 'drug', 'drug', 'drug', 'drug', 'drug', 'drug', 'drug',\n",
       "        'drug', 'drug', 'drug', 'drug', 'drug', 'drug', 'drug', 'drug',\n",
       "        'drug', 'drug', 'drug', 'drug', 'drug', 'drug', 'drug', 'drug',\n",
       "        'drug', 'drug', 'drug', 'drug', 'drug', 'drug', 'drug', 'drug',\n",
       "        'drug', 'drug', 'drug', 'drug', 'drug', 'drug', 'drug', 'drug',\n",
       "        'drug', 'drug', 'drug', 'drug', 'drug', 'drug', 'drug', 'drug',\n",
       "        'drug', 'drug', 'drug', 'drug', 'drug', 'drug', 'drug', 'drug',\n",
       "        'drug', 'drug', 'drug', 'drug', 'drug', 'drug', 'drug', 'drug',\n",
       "        'drug', 'drug', 'drug', 'drug', 'drug', 'drug', 'drug', 'drug',\n",
       "        'drug', 'drug', 'drug', 'drug', 'drug', 'drug', 'drug', 'drug',\n",
       "        'drug', 'drug', 'drug', 'drug', 'drug', 'drug', 'drug', 'drug',\n",
       "        'drug', 'drug', 'drug', 'drug', 'drug', 'drug', 'drug', 'drug',\n",
       "        'drug', 'drug', 'drug', 'drug', 'drug', 'drug', 'drug', 'drug',\n",
       "        'drug', 'drug', 'drug', 'drug', 'drug', 'drug', 'drug', 'drug',\n",
       "        'drug', 'drug', 'drug', 'drug', 'drug', 'drug', 'drug', 'drug',\n",
       "        'drug', 'drug', 'drug', 'drug', 'drug', 'drug', 'drug', 'drug',\n",
       "        'drug', 'drug', 'drug', 'drug', 'drug', 'drug', 'drug', 'drug',\n",
       "        'drug', 'drug', 'drug', 'drug', 'drug', 'drug', 'drug', 'drug',\n",
       "        'drug', 'drug', 'drug', 'drug', 'drug', 'drug', 'drug', 'drug',\n",
       "        'drug', 'drug', 'drug', 'drug', 'drug', 'drug', 'drug', 'drug',\n",
       "        'drug', 'drug', 'drug', 'drug', 'drug', 'drug', 'drug', 'drug',\n",
       "        'drug', 'drug', 'drug', 'drug', 'drug', 'drug', 'drug', 'drug',\n",
       "        'drug', 'drug', 'drug', 'drug', 'drug', 'drug', 'drug', 'drug',\n",
       "        'drug', 'drug', 'drug', 'drug', 'drug', 'drug', 'drug', 'drug',\n",
       "        'drug', 'drug', 'drug', 'drug', 'drug', 'drug', 'drug', 'drug',\n",
       "        'drug', 'drug', 'drug', 'drug', 'drug', 'drug', 'drug', 'drug',\n",
       "        'drug', 'drug'], dtype='<U4'),\n",
       " 'head': array([56, 14, 83, 78, 76, 64, 45, 72, 88, 65, 56,  5, 45, 88, 17, 29, 80,\n",
       "        25,  7, 17, 30, 64, 35, 66, 29, 19, 65, 55, 19,  7,  0, 46,  6, 58,\n",
       "        19, 43, 19, 79, 64, 50, 82, 14, 23, 79, 84, 88, 48, 72, 83, 28, 24,\n",
       "        50, 58, 72,  5, 82, 83,  9, 33, 35, 35, 64,  6, 50, 50,  6, 72, 63,\n",
       "         6, 56, 31, 54, 34, 34, 31, 56, 43,  0,  5, 33, 29, 24,  5, 78, 23,\n",
       "        82, 55, 56, 20, 54, 46, 34, 29, 33, 43, 63, 11,  7, 82,  7, 82,  5,\n",
       "        64, 50, 74,  7, 35, 38, 11, 50, 52, 59, 74, 30, 60, 84, 72, 35, 82,\n",
       "        19, 23,  2, 45, 75, 79, 24, 29, 55, 45, 23, 82, 79, 19, 33, 46, 75,\n",
       "        25, 45, 54, 72, 30, 65, 72, 53, 26, 34, 82, 50, 75, 45, 24, 78, 34,\n",
       "        29, 72, 24, 29, 82, 80, 35, 65, 43, 72, 64, 85, 65, 64, 20,  7, 72,\n",
       "        33, 50,  5, 82, 34,  6, 55, 56, 35, 29, 33, 10, 52, 10, 82,  5, 84,\n",
       "        72, 35, 43, 42, 73, 17, 69,  7, 65, 21, 54, 23, 83, 50, 83, 43, 29,\n",
       "        72, 82,  0, 84, 61, 29, 43, 47, 54, 72, 58, 82, 73, 72, 58, 19, 82,\n",
       "        29, 64, 72, 14, 82, 22, 33, 84, 74, 58, 30, 35, 25, 25, 84, 31, 82,\n",
       "        18, 20, 17, 72]),\n",
       " 'relation': array([34, 34, 34, 34, 34, 34, 34, 34, 34, 34, 34, 34, 34, 34, 34, 34, 34,\n",
       "        34, 34, 34, 34, 34, 34, 34, 34, 34, 34, 34, 34, 34, 34, 34, 34, 34,\n",
       "        34, 34, 34, 34, 34, 34, 34, 34, 34, 34, 34, 34, 34, 34, 34, 34, 34,\n",
       "        34, 34, 34, 34, 34, 34, 34, 34, 34, 34, 34, 34, 34, 34, 34, 34, 34,\n",
       "        34, 34, 34, 34, 34, 34, 34, 34, 34, 34, 34, 34, 34, 34, 34, 34, 34,\n",
       "        34, 34, 34, 34, 34, 34, 34, 34, 34, 34, 34, 34, 34, 34, 34, 34, 34,\n",
       "        34, 34, 34, 34, 34, 34, 34, 34, 34, 34, 34, 34, 34, 34, 34, 34, 34,\n",
       "        34, 34, 34, 34, 34, 34, 34, 34, 34, 34, 34, 34, 34, 34, 34, 34, 34,\n",
       "        34, 34, 34, 34, 34, 34, 34, 34, 34, 34, 34, 34, 34, 34, 34, 34, 34,\n",
       "        34, 34, 34, 34, 34, 34, 34, 34, 34, 34, 34, 34, 34, 34, 34, 34, 34,\n",
       "        34, 34, 34, 34, 34, 34, 34, 34, 34, 34, 34, 34, 34, 34, 34, 34, 34,\n",
       "        34, 34, 34, 34, 34, 34, 34, 34, 34, 34, 34, 34, 34, 34, 34, 34, 34,\n",
       "        34, 34, 34, 34, 34, 34, 34, 34, 34, 34, 34, 34, 34, 34, 34, 34, 34,\n",
       "        34, 34, 34, 34, 34, 34, 34, 34, 34, 34, 34, 34, 34, 34, 34, 34, 34,\n",
       "        34, 34, 34, 34]),\n",
       " 'tail_type': array(['gene', 'gene', 'gene', 'gene', 'gene', 'gene', 'gene', 'gene',\n",
       "        'gene', 'gene', 'gene', 'gene', 'gene', 'gene', 'gene', 'gene',\n",
       "        'gene', 'gene', 'gene', 'gene', 'gene', 'gene', 'gene', 'gene',\n",
       "        'gene', 'gene', 'gene', 'gene', 'gene', 'gene', 'gene', 'gene',\n",
       "        'gene', 'gene', 'gene', 'gene', 'gene', 'gene', 'gene', 'gene',\n",
       "        'gene', 'gene', 'gene', 'gene', 'gene', 'gene', 'gene', 'gene',\n",
       "        'gene', 'gene', 'gene', 'gene', 'gene', 'gene', 'gene', 'gene',\n",
       "        'gene', 'gene', 'gene', 'gene', 'gene', 'gene', 'gene', 'gene',\n",
       "        'gene', 'gene', 'gene', 'gene', 'gene', 'gene', 'gene', 'gene',\n",
       "        'gene', 'gene', 'gene', 'gene', 'gene', 'gene', 'gene', 'gene',\n",
       "        'gene', 'gene', 'gene', 'gene', 'gene', 'gene', 'gene', 'gene',\n",
       "        'gene', 'gene', 'gene', 'gene', 'gene', 'gene', 'gene', 'gene',\n",
       "        'gene', 'gene', 'gene', 'gene', 'gene', 'gene', 'gene', 'gene',\n",
       "        'gene', 'gene', 'gene', 'gene', 'gene', 'gene', 'gene', 'gene',\n",
       "        'gene', 'gene', 'gene', 'gene', 'gene', 'gene', 'gene', 'gene',\n",
       "        'gene', 'gene', 'gene', 'gene', 'gene', 'gene', 'gene', 'gene',\n",
       "        'gene', 'gene', 'gene', 'gene', 'gene', 'gene', 'gene', 'gene',\n",
       "        'gene', 'gene', 'gene', 'gene', 'gene', 'gene', 'gene', 'gene',\n",
       "        'gene', 'gene', 'gene', 'gene', 'gene', 'gene', 'gene', 'gene',\n",
       "        'gene', 'gene', 'gene', 'gene', 'gene', 'gene', 'gene', 'gene',\n",
       "        'gene', 'gene', 'gene', 'gene', 'gene', 'gene', 'gene', 'gene',\n",
       "        'gene', 'gene', 'gene', 'gene', 'gene', 'gene', 'gene', 'gene',\n",
       "        'gene', 'gene', 'gene', 'gene', 'gene', 'gene', 'gene', 'gene',\n",
       "        'gene', 'gene', 'gene', 'gene', 'gene', 'gene', 'gene', 'gene',\n",
       "        'gene', 'gene', 'gene', 'gene', 'gene', 'gene', 'gene', 'gene',\n",
       "        'gene', 'gene', 'gene', 'gene', 'gene', 'gene', 'gene', 'gene',\n",
       "        'gene', 'gene', 'gene', 'gene', 'gene', 'gene', 'gene', 'gene',\n",
       "        'gene', 'gene', 'gene', 'gene', 'gene', 'gene', 'gene', 'gene',\n",
       "        'gene', 'gene', 'gene', 'gene', 'gene', 'gene', 'gene', 'gene',\n",
       "        'gene', 'gene', 'gene', 'gene', 'gene', 'gene', 'gene', 'gene',\n",
       "        'gene', 'gene'], dtype='<U4'),\n",
       " 'tail': array([ 6726, 12929,  1872, 12278,  2232,  2587,  3633,  1882,  6763,\n",
       "         2917,  5454,  3340,  7887, 13449, 12478,  2849, 13309,  8390,\n",
       "         5059,  1249,  4726, 10039,  5746,  3340,  6613,  1064,  4052,\n",
       "         4726,  2052,  2598, 12933,  1883, 12549,  4049,  6715,  9510,\n",
       "         5919, 10724,  1064,  6744,  3995,  8390,  2233, 10725,  3633,\n",
       "        10842,  9563,  6722, 10434,  9545, 12271, 10972,  1872,  6774,\n",
       "         1673,  1049,  9342,  9342,  1863,  3598,  3949,  1261,  5747,\n",
       "         1064,  5645, 10032,  2140,  5058, 11456,  8164,  3423,  1887,\n",
       "         6715,  9171, 12267,  4050,  4192,  2148,  9569,  1249,  9705,\n",
       "         1049,  1675,  1227, 10969, 12270,  1679,  7798, 10150,  1872,\n",
       "         9342,  6296, 11817,  9343,  3133,  7581, 11848,  2234, 10047,\n",
       "         5057, 10721, 12944,  5645,  1291,  6322,  2233, 13296, 10720,\n",
       "         6702,  6322,  2916,  3479, 12271,  1487,  4134,  5716,  6712,\n",
       "         6906, 12385,  4052, 10047,  4725,  4050,  4968, 10230,  3600,\n",
       "         6715,  3340, 12478,  4699,  6710,  6705,  5601,  5919, 12480,\n",
       "         3635,    82,  6739,  1876,  6763,  6743, 13313,  2576,    81,\n",
       "         1171,  6297, 10229,  1871,  5645,  9343,    81,  4968,   442,\n",
       "        10851, 10018,  4001,   258, 10972,  6730,  6322,  6613, 10037,\n",
       "         3449,  6322,  2052,  3611,  6728, 10165,  1488,  7944, 12737,\n",
       "         6712, 12480,  4050,  8485, 10018,  1547,    12, 10851,  5745,\n",
       "         8485,  2917, 12625,  8481,  6727,   485,  1183, 12271, 12625,\n",
       "         4252,  3423,  6727,  1048,  4050,  5056,    81,  9550,  1879,\n",
       "         2596,  3611, 10970,  1291,  1313,  4252,  9168,  5602,  4252,\n",
       "        10724,  1414,  3598, 10035, 10605,  4725,  6729,  6716, 12737,\n",
       "         6750,  9342, 10605,  1249,  6730, 10719,  3945,  2593,  3686,\n",
       "           82,  8481,  6726,  2576,  2148, 10724,  1878,  2576,  3602,\n",
       "         5549, 10605,  6727,  6734,  2600, 10140,  1050,  3341])}"
      ]
     },
     "execution_count": 19,
     "metadata": {},
     "output_type": "execute_result"
    }
   ],
   "source": [
    "valid"
   ]
  },
  {
   "cell_type": "code",
   "execution_count": 20,
   "metadata": {},
   "outputs": [
    {
     "name": "stdout",
     "output_type": "stream",
     "text": [
      "num nodes: 21351\n",
      "num edges: 1179913\n",
      "num node types: 5\n",
      "num relations: 49\n"
     ]
    }
   ],
   "source": [
    "# report graph metrics\n",
    "\n",
    "print('num nodes:', sum([v for k,v in data['num_nodes_dict'].items()]))\n",
    "print('num edges:', sum([v.size(1) for k,v in data['edge_index_dict'].items()]))\n",
    "print('num node types:', len(data['node_name_dict']))\n",
    "print('num relations:', len(data['edge_index_dict']))\n"
   ]
  },
  {
   "cell_type": "code",
   "execution_count": null,
   "metadata": {},
   "outputs": [],
   "source": []
  }
 ],
 "metadata": {
  "kernelspec": {
   "display_name": "tkgdti",
   "language": "python",
   "name": "python3"
  },
  "language_info": {
   "codemirror_mode": {
    "name": "ipython",
    "version": 3
   },
   "file_extension": ".py",
   "mimetype": "text/x-python",
   "name": "python",
   "nbconvert_exporter": "python",
   "pygments_lexer": "ipython3",
   "version": "3.11.10"
  }
 },
 "nbformat": 4,
 "nbformat_minor": 2
}
