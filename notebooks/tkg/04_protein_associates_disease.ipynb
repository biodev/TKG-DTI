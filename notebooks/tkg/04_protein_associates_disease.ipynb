{
 "cells": [
  {
   "cell_type": "code",
   "execution_count": 1,
   "metadata": {},
   "outputs": [],
   "source": [
    "import pandas as pd\n",
    "import requests \n",
    "from tqdm import tqdm\n",
    "import os \n",
    "import numpy as np \n",
    "import torch \n",
    "\n",
    "# set seed \n",
    "torch.manual_seed(0)\n",
    "np.random.seed(0)"
   ]
  },
  {
   "cell_type": "markdown",
   "metadata": {},
   "source": [
    "# CTD ; protein associates disease \n",
    "\n",
    "source:https://ctdbase.org/downloads/;jsessionid=5A2DBE8711C67A20D48E2A6F93712BF6#cd\n",
    "\n",
    "NOTE: \n",
    "\n",
    "```\n",
    "# Use is subject to the terms set forth at http://ctdbase.org/about/legal.jsp\n",
    "# These terms include:\n",
    "#\n",
    "#   1. All forms of publication (e.g., web sites, research papers, databases,\n",
    "#      software applications, etc.) that use or rely on CTD data must cite CTD.\n",
    "#      Citation guidelines: http://ctdbase.org/about/publications/#citing\n",
    "#\n",
    "#   2. All electronic or online applications must include hyperlinks from\n",
    "#      contexts that use CTD data to the applicable CTD data pages.\n",
    "#      Linking instructions: http://ctdbase.org/help/linking.jsp\n",
    "#\n",
    "#   3. You must notify CTD, and describe your use of our data:\n",
    "#      http://ctdbase.org/help/contact.go\n",
    "#\n",
    "#   4. For quality control purposes, you must provide CTD with periodic\n",
    "#      access to your publication of our data.\n",
    "#\n",
    "# More information: http://ctdbase.org/downloads/\n",
    "```"
   ]
  },
  {
   "cell_type": "code",
   "execution_count": 2,
   "metadata": {},
   "outputs": [],
   "source": [
    "protdis = pd.read_csv('../../data/tkg_raw/CTD_curated_genes_diseases.csv', comment='#')\n",
    "protdis.columns = 'GeneSymbol,GeneID,DiseaseName,DiseaseID,OmimIDs,PubMedIDs'.split(',')\n",
    "protdis.head()\n",
    "\n",
    "disease_space = np.loadtxt('../../extdata/meta/disease_space.txt', dtype=str)\n",
    "protdis = protdis[lambda x: x.DiseaseID.isin(disease_space)]"
   ]
  },
  {
   "cell_type": "code",
   "execution_count": 3,
   "metadata": {},
   "outputs": [
    {
     "name": "stdout",
     "output_type": "stream",
     "text": [
      "number of unique diseases: 4060\n",
      "number of unique genes: 8534\n"
     ]
    }
   ],
   "source": [
    "print(f'number of unique diseases: {protdis.DiseaseID.nunique()}')\n",
    "print(f'number of unique genes: {protdis.GeneID.nunique()}')"
   ]
  },
  {
   "cell_type": "code",
   "execution_count": 4,
   "metadata": {},
   "outputs": [
    {
     "data": {
      "text/html": [
       "<div>\n",
       "<style scoped>\n",
       "    .dataframe tbody tr th:only-of-type {\n",
       "        vertical-align: middle;\n",
       "    }\n",
       "\n",
       "    .dataframe tbody tr th {\n",
       "        vertical-align: top;\n",
       "    }\n",
       "\n",
       "    .dataframe thead th {\n",
       "        text-align: right;\n",
       "    }\n",
       "</style>\n",
       "<table border=\"1\" class=\"dataframe\">\n",
       "  <thead>\n",
       "    <tr style=\"text-align: right;\">\n",
       "      <th></th>\n",
       "      <th>GeneSymbol</th>\n",
       "      <th>GeneID</th>\n",
       "      <th>DiseaseName</th>\n",
       "      <th>DiseaseID</th>\n",
       "      <th>OmimIDs</th>\n",
       "      <th>PubMedIDs</th>\n",
       "    </tr>\n",
       "  </thead>\n",
       "  <tbody>\n",
       "    <tr>\n",
       "      <th>0</th>\n",
       "      <td>A</td>\n",
       "      <td>50518</td>\n",
       "      <td>Diabetes Mellitus</td>\n",
       "      <td>MESH:D003920</td>\n",
       "      <td>NaN</td>\n",
       "      <td>1473152</td>\n",
       "    </tr>\n",
       "    <tr>\n",
       "      <th>1</th>\n",
       "      <td>A</td>\n",
       "      <td>50518</td>\n",
       "      <td>Diabetes Mellitus, Type 2</td>\n",
       "      <td>MESH:D003924</td>\n",
       "      <td>NaN</td>\n",
       "      <td>8146154</td>\n",
       "    </tr>\n",
       "    <tr>\n",
       "      <th>2</th>\n",
       "      <td>A</td>\n",
       "      <td>50518</td>\n",
       "      <td>Diabetic Nephropathies</td>\n",
       "      <td>MESH:D003928</td>\n",
       "      <td>NaN</td>\n",
       "      <td>37769864</td>\n",
       "    </tr>\n",
       "    <tr>\n",
       "      <th>3</th>\n",
       "      <td>A</td>\n",
       "      <td>50518</td>\n",
       "      <td>Edema</td>\n",
       "      <td>MESH:D004487</td>\n",
       "      <td>NaN</td>\n",
       "      <td>32937126</td>\n",
       "    </tr>\n",
       "    <tr>\n",
       "      <th>4</th>\n",
       "      <td>A</td>\n",
       "      <td>50518</td>\n",
       "      <td>Failure to Thrive</td>\n",
       "      <td>MESH:D005183</td>\n",
       "      <td>NaN</td>\n",
       "      <td>32937126</td>\n",
       "    </tr>\n",
       "  </tbody>\n",
       "</table>\n",
       "</div>"
      ],
      "text/plain": [
       "  GeneSymbol  GeneID                DiseaseName     DiseaseID OmimIDs  \\\n",
       "0          A   50518          Diabetes Mellitus  MESH:D003920     NaN   \n",
       "1          A   50518  Diabetes Mellitus, Type 2  MESH:D003924     NaN   \n",
       "2          A   50518     Diabetic Nephropathies  MESH:D003928     NaN   \n",
       "3          A   50518                      Edema  MESH:D004487     NaN   \n",
       "4          A   50518          Failure to Thrive  MESH:D005183     NaN   \n",
       "\n",
       "  PubMedIDs  \n",
       "0   1473152  \n",
       "1   8146154  \n",
       "2  37769864  \n",
       "3  32937126  \n",
       "4  32937126  "
      ]
     },
     "execution_count": 4,
     "metadata": {},
     "output_type": "execute_result"
    }
   ],
   "source": [
    "protdis.head()"
   ]
  },
  {
   "cell_type": "code",
   "execution_count": 5,
   "metadata": {},
   "outputs": [],
   "source": [
    "protdis.to_csv('../../extdata/meta/CTD__genes_diseases.csv', index=False)"
   ]
  },
  {
   "cell_type": "code",
   "execution_count": 8,
   "metadata": {},
   "outputs": [],
   "source": [
    "protdis_fwd = protdis[['GeneSymbol', 'DiseaseID']].drop_duplicates().rename(columns={'GeneSymbol':'src', 'DiseaseID':'dst'})\n",
    "protdis_fwd = protdis_fwd.assign(src_type='gene', dst_type='disease', relation='associates_fwd')\n",
    "protdis_fwd.to_csv('../../extdata/relations/ctd_genes_diseases_fwd.csv', index=False)\n",
    "\n",
    "protdis_rev = protdis[['DiseaseID', 'GeneSymbol']].drop_duplicates().rename(columns={'GeneSymbol':'dst', 'DiseaseID':'src'})\n",
    "protdis_rev = protdis_rev.assign(src_type='disease', dst_type='gene', relation='associates_rev')\n",
    "protdis_rev.to_csv('../../extdata/relations/ctd_genes_diseases_rev.csv', index=False)\n"
   ]
  },
  {
   "cell_type": "code",
   "execution_count": 9,
   "metadata": {},
   "outputs": [
    {
     "data": {
      "text/html": [
       "<div>\n",
       "<style scoped>\n",
       "    .dataframe tbody tr th:only-of-type {\n",
       "        vertical-align: middle;\n",
       "    }\n",
       "\n",
       "    .dataframe tbody tr th {\n",
       "        vertical-align: top;\n",
       "    }\n",
       "\n",
       "    .dataframe thead th {\n",
       "        text-align: right;\n",
       "    }\n",
       "</style>\n",
       "<table border=\"1\" class=\"dataframe\">\n",
       "  <thead>\n",
       "    <tr style=\"text-align: right;\">\n",
       "      <th></th>\n",
       "      <th>src</th>\n",
       "      <th>dst</th>\n",
       "      <th>src_type</th>\n",
       "      <th>dst_type</th>\n",
       "      <th>relation</th>\n",
       "    </tr>\n",
       "  </thead>\n",
       "  <tbody>\n",
       "    <tr>\n",
       "      <th>0</th>\n",
       "      <td>A</td>\n",
       "      <td>MESH:D003920</td>\n",
       "      <td>gene</td>\n",
       "      <td>disease</td>\n",
       "      <td>associates_fwd</td>\n",
       "    </tr>\n",
       "    <tr>\n",
       "      <th>1</th>\n",
       "      <td>A</td>\n",
       "      <td>MESH:D003924</td>\n",
       "      <td>gene</td>\n",
       "      <td>disease</td>\n",
       "      <td>associates_fwd</td>\n",
       "    </tr>\n",
       "    <tr>\n",
       "      <th>2</th>\n",
       "      <td>A</td>\n",
       "      <td>MESH:D003928</td>\n",
       "      <td>gene</td>\n",
       "      <td>disease</td>\n",
       "      <td>associates_fwd</td>\n",
       "    </tr>\n",
       "    <tr>\n",
       "      <th>3</th>\n",
       "      <td>A</td>\n",
       "      <td>MESH:D004487</td>\n",
       "      <td>gene</td>\n",
       "      <td>disease</td>\n",
       "      <td>associates_fwd</td>\n",
       "    </tr>\n",
       "    <tr>\n",
       "      <th>4</th>\n",
       "      <td>A</td>\n",
       "      <td>MESH:D005183</td>\n",
       "      <td>gene</td>\n",
       "      <td>disease</td>\n",
       "      <td>associates_fwd</td>\n",
       "    </tr>\n",
       "  </tbody>\n",
       "</table>\n",
       "</div>"
      ],
      "text/plain": [
       "  src           dst src_type dst_type        relation\n",
       "0   A  MESH:D003920     gene  disease  associates_fwd\n",
       "1   A  MESH:D003924     gene  disease  associates_fwd\n",
       "2   A  MESH:D003928     gene  disease  associates_fwd\n",
       "3   A  MESH:D004487     gene  disease  associates_fwd\n",
       "4   A  MESH:D005183     gene  disease  associates_fwd"
      ]
     },
     "execution_count": 9,
     "metadata": {},
     "output_type": "execute_result"
    }
   ],
   "source": [
    "protdis_fwd.head()"
   ]
  },
  {
   "cell_type": "code",
   "execution_count": null,
   "metadata": {},
   "outputs": [],
   "source": []
  }
 ],
 "metadata": {
  "kernelspec": {
   "display_name": "tkgdti",
   "language": "python",
   "name": "python3"
  },
  "language_info": {
   "codemirror_mode": {
    "name": "ipython",
    "version": 3
   },
   "file_extension": ".py",
   "mimetype": "text/x-python",
   "name": "python",
   "nbconvert_exporter": "python",
   "pygments_lexer": "ipython3",
   "version": "3.11.10"
  }
 },
 "nbformat": 4,
 "nbformat_minor": 2
}
