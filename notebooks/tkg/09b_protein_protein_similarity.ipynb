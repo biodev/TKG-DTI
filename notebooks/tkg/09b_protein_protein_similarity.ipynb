{
 "cells": [
  {
   "cell_type": "code",
   "execution_count": 1,
   "metadata": {},
   "outputs": [
    {
     "name": "stderr",
     "output_type": "stream",
     "text": [
      "/home/teddy/miniconda3/envs/tkgdti/lib/python3.11/site-packages/tqdm/auto.py:21: TqdmWarning: IProgress not found. Please update jupyter and ipywidgets. See https://ipywidgets.readthedocs.io/en/stable/user_install.html\n",
      "  from .autonotebook import tqdm as notebook_tqdm\n"
     ]
    }
   ],
   "source": [
    "from transformers import AutoTokenizer, AutoModel\n",
    "import torch\n",
    "import numpy as np\n",
    "from rdkit import Chem\n",
    "import requests\n",
    "import pandas as pd\n",
    "from sklearn.metrics.pairwise import cosine_similarity\n",
    "from matplotlib import pyplot as plt\n",
    "from sklearn.decomposition import PCA\n",
    "import umap\n",
    "from sklearn.cluster import DBSCAN\n",
    "\n",
    "from tkgdti.data.GraphBuilder import GraphBuilder\n",
    "import os \n",
    "\n",
    "from tkgdti.data.utils import get_protein_sequence_uniprot\n",
    "from tkgdti.embed.AA2EMB import AA2EMB\n",
    "\n",
    "\n",
    "import re\n",
    "import pandas as pd\n",
    "\n",
    "# set seed \n",
    "torch.manual_seed(0)\n",
    "np.random.seed(0)\n"
   ]
  },
  {
   "cell_type": "markdown",
   "metadata": {},
   "source": [
    "# ProtBert; protein similarity protein "
   ]
  },
  {
   "cell_type": "code",
   "execution_count": 2,
   "metadata": {},
   "outputs": [],
   "source": [
    "SIM_QUANTILE = 0.999"
   ]
  },
  {
   "cell_type": "code",
   "execution_count": 3,
   "metadata": {},
   "outputs": [
    {
     "name": "stderr",
     "output_type": "stream",
     "text": [
      "/tmp/ipykernel_18030/12669663.py:1: FutureWarning: You are using `torch.load` with `weights_only=False` (the current default value), which uses the default pickle module implicitly. It is possible to construct malicious pickle data which will execute arbitrary code during unpickling (See https://github.com/pytorch/pytorch/blob/main/SECURITY.md#untrusted-models for more details). In a future release, the default value for `weights_only` will be flipped to `True`. This limits the functions that could be executed during unpickling. Arbitrary objects will no longer be allowed to be loaded via this mode unless they are explicitly allowlisted by the user via `torch.serialization.add_safe_globals`. We recommend you start setting `weights_only=True` for any use case where you don't have full control of the loaded file. Please open an issue on GitHub for any issues related to this experimental feature.\n",
      "  embed_dict = torch.load('../../extdata/meta/aas_dict.pt')\n"
     ]
    }
   ],
   "source": [
    "embed_dict = torch.load('../../extdata/meta/aas_dict.pt')\n",
    "aas = embed_dict['amino_acids']\n",
    "gene2aa = embed_dict['meta_df']\n",
    "z_prot = embed_dict['embeddings']"
   ]
  },
  {
   "cell_type": "code",
   "execution_count": 4,
   "metadata": {},
   "outputs": [
    {
     "name": "stdout",
     "output_type": "stream",
     "text": [
      "progress: 13051/13053\r"
     ]
    },
    {
     "data": {
      "text/html": [
       "<div>\n",
       "<style scoped>\n",
       "    .dataframe tbody tr th:only-of-type {\n",
       "        vertical-align: middle;\n",
       "    }\n",
       "\n",
       "    .dataframe tbody tr th {\n",
       "        vertical-align: top;\n",
       "    }\n",
       "\n",
       "    .dataframe thead th {\n",
       "        text-align: right;\n",
       "    }\n",
       "</style>\n",
       "<table border=\"1\" class=\"dataframe\">\n",
       "  <thead>\n",
       "    <tr style=\"text-align: right;\">\n",
       "      <th></th>\n",
       "      <th>drug_i</th>\n",
       "      <th>drug_j</th>\n",
       "      <th>cos_sim</th>\n",
       "    </tr>\n",
       "  </thead>\n",
       "  <tbody>\n",
       "    <tr>\n",
       "      <th>0</th>\n",
       "      <td>0</td>\n",
       "      <td>1</td>\n",
       "      <td>0.641422</td>\n",
       "    </tr>\n",
       "    <tr>\n",
       "      <th>1</th>\n",
       "      <td>0</td>\n",
       "      <td>2</td>\n",
       "      <td>0.947920</td>\n",
       "    </tr>\n",
       "    <tr>\n",
       "      <th>2</th>\n",
       "      <td>0</td>\n",
       "      <td>3</td>\n",
       "      <td>0.949097</td>\n",
       "    </tr>\n",
       "    <tr>\n",
       "      <th>3</th>\n",
       "      <td>0</td>\n",
       "      <td>4</td>\n",
       "      <td>0.863938</td>\n",
       "    </tr>\n",
       "    <tr>\n",
       "      <th>4</th>\n",
       "      <td>0</td>\n",
       "      <td>5</td>\n",
       "      <td>0.863159</td>\n",
       "    </tr>\n",
       "  </tbody>\n",
       "</table>\n",
       "</div>"
      ],
      "text/plain": [
       "   drug_i  drug_j   cos_sim\n",
       "0       0       1  0.641422\n",
       "1       0       2  0.947920\n",
       "2       0       3  0.949097\n",
       "3       0       4  0.863938\n",
       "4       0       5  0.863159"
      ]
     },
     "execution_count": 4,
     "metadata": {},
     "output_type": "execute_result"
    }
   ],
   "source": [
    "# Initialize an empty dict for results\n",
    "res = {'drug_i': [], 'drug_j': [], 'cos_sim': []}\n",
    "\n",
    "N = len(aas)  # total number of drugs/proteins\n",
    "\n",
    "for i in range(N - 1):\n",
    "    # Print progress\n",
    "    print(f'progress: {i}/{N}', end='\\r')\n",
    "    \n",
    "    # Cosine similarities of the i-th row ONLY with columns i+1 to N\n",
    "    # shape = (1, N - i - 1) after slicing z_prot[i+1:]\n",
    "    a = z_prot[[i]]\n",
    "    b = z_prot[i+1:].reshape(-1, z_prot.shape[1])\n",
    "    row_sims = cosine_similarity(a,b).ravel()\n",
    "    \n",
    "    # The \"j\" indices for the upper-triangle are i+1...N-1\n",
    "    j_vals = list(range(i+1, N))\n",
    "    \n",
    "    # Add to the dictionary\n",
    "    res['drug_i'].extend([i] * len(j_vals))\n",
    "    res['drug_j'].extend(j_vals)\n",
    "    res['cos_sim'].extend(row_sims.tolist())\n",
    "\n",
    "# Convert to DataFrame\n",
    "res = pd.DataFrame(res)\n",
    "res.head()\n"
   ]
  },
  {
   "cell_type": "code",
   "execution_count": 5,
   "metadata": {},
   "outputs": [
    {
     "data": {
      "text/plain": [
       "(1, 1024)"
      ]
     },
     "execution_count": 5,
     "metadata": {},
     "output_type": "execute_result"
    }
   ],
   "source": [
    "b.shape"
   ]
  },
  {
   "cell_type": "code",
   "execution_count": 6,
   "metadata": {},
   "outputs": [
    {
     "data": {
      "text/html": [
       "<div>\n",
       "<style scoped>\n",
       "    .dataframe tbody tr th:only-of-type {\n",
       "        vertical-align: middle;\n",
       "    }\n",
       "\n",
       "    .dataframe tbody tr th {\n",
       "        vertical-align: top;\n",
       "    }\n",
       "\n",
       "    .dataframe thead th {\n",
       "        text-align: right;\n",
       "    }\n",
       "</style>\n",
       "<table border=\"1\" class=\"dataframe\">\n",
       "  <thead>\n",
       "    <tr style=\"text-align: right;\">\n",
       "      <th></th>\n",
       "      <th>drug_i</th>\n",
       "      <th>drug_j</th>\n",
       "      <th>cos_sim</th>\n",
       "    </tr>\n",
       "  </thead>\n",
       "  <tbody>\n",
       "    <tr>\n",
       "      <th>0</th>\n",
       "      <td>0</td>\n",
       "      <td>1</td>\n",
       "      <td>0.641422</td>\n",
       "    </tr>\n",
       "    <tr>\n",
       "      <th>1</th>\n",
       "      <td>0</td>\n",
       "      <td>2</td>\n",
       "      <td>0.947920</td>\n",
       "    </tr>\n",
       "    <tr>\n",
       "      <th>2</th>\n",
       "      <td>0</td>\n",
       "      <td>3</td>\n",
       "      <td>0.949097</td>\n",
       "    </tr>\n",
       "    <tr>\n",
       "      <th>3</th>\n",
       "      <td>0</td>\n",
       "      <td>4</td>\n",
       "      <td>0.863938</td>\n",
       "    </tr>\n",
       "    <tr>\n",
       "      <th>4</th>\n",
       "      <td>0</td>\n",
       "      <td>5</td>\n",
       "      <td>0.863159</td>\n",
       "    </tr>\n",
       "  </tbody>\n",
       "</table>\n",
       "</div>"
      ],
      "text/plain": [
       "   drug_i  drug_j   cos_sim\n",
       "0       0       1  0.641422\n",
       "1       0       2  0.947920\n",
       "2       0       3  0.949097\n",
       "3       0       4  0.863938\n",
       "4       0       5  0.863159"
      ]
     },
     "execution_count": 6,
     "metadata": {},
     "output_type": "execute_result"
    }
   ],
   "source": [
    "res = pd.DataFrame(res)\n",
    "res.head()"
   ]
  },
  {
   "cell_type": "code",
   "execution_count": 7,
   "metadata": {},
   "outputs": [
    {
     "data": {
      "text/html": [
       "<div>\n",
       "<style scoped>\n",
       "    .dataframe tbody tr th:only-of-type {\n",
       "        vertical-align: middle;\n",
       "    }\n",
       "\n",
       "    .dataframe tbody tr th {\n",
       "        vertical-align: top;\n",
       "    }\n",
       "\n",
       "    .dataframe thead th {\n",
       "        text-align: right;\n",
       "    }\n",
       "</style>\n",
       "<table border=\"1\" class=\"dataframe\">\n",
       "  <thead>\n",
       "    <tr style=\"text-align: right;\">\n",
       "      <th></th>\n",
       "      <th>drug_i</th>\n",
       "      <th>drug_j</th>\n",
       "      <th>cos_sim</th>\n",
       "      <th>gene_i</th>\n",
       "      <th>gene_j</th>\n",
       "    </tr>\n",
       "  </thead>\n",
       "  <tbody>\n",
       "    <tr>\n",
       "      <th>0</th>\n",
       "      <td>0</td>\n",
       "      <td>1</td>\n",
       "      <td>0.641422</td>\n",
       "      <td>A1BG</td>\n",
       "      <td>A1CF</td>\n",
       "    </tr>\n",
       "    <tr>\n",
       "      <th>1</th>\n",
       "      <td>0</td>\n",
       "      <td>2</td>\n",
       "      <td>0.947920</td>\n",
       "      <td>A1BG</td>\n",
       "      <td>A2M</td>\n",
       "    </tr>\n",
       "    <tr>\n",
       "      <th>2</th>\n",
       "      <td>0</td>\n",
       "      <td>3</td>\n",
       "      <td>0.949097</td>\n",
       "      <td>A1BG</td>\n",
       "      <td>A3GALT2</td>\n",
       "    </tr>\n",
       "    <tr>\n",
       "      <th>3</th>\n",
       "      <td>0</td>\n",
       "      <td>4</td>\n",
       "      <td>0.863938</td>\n",
       "      <td>A1BG</td>\n",
       "      <td>A4GALT</td>\n",
       "    </tr>\n",
       "    <tr>\n",
       "      <th>4</th>\n",
       "      <td>0</td>\n",
       "      <td>5</td>\n",
       "      <td>0.863159</td>\n",
       "      <td>A1BG</td>\n",
       "      <td>A4GNT</td>\n",
       "    </tr>\n",
       "  </tbody>\n",
       "</table>\n",
       "</div>"
      ],
      "text/plain": [
       "   drug_i  drug_j   cos_sim gene_i   gene_j\n",
       "0       0       1  0.641422   A1BG     A1CF\n",
       "1       0       2  0.947920   A1BG      A2M\n",
       "2       0       3  0.949097   A1BG  A3GALT2\n",
       "3       0       4  0.863938   A1BG   A4GALT\n",
       "4       0       5  0.863159   A1BG    A4GNT"
      ]
     },
     "execution_count": 7,
     "metadata": {},
     "output_type": "execute_result"
    }
   ],
   "source": [
    "\n",
    "\n",
    "aa2gene = {aa:g for aa,g in zip(gene2aa.sequence, gene2aa.gene_name)}\n",
    "\n",
    "res = res.assign(gene_i = [aa2gene[aas[i]] for i in res['drug_i']],\n",
    "                 gene_j = [aa2gene[aas[j]] for j in res['drug_j']])\n",
    "\n",
    "res.head() "
   ]
  },
  {
   "cell_type": "code",
   "execution_count": 8,
   "metadata": {},
   "outputs": [],
   "source": [
    "res = res[lambda x: x.gene_i != x.gene_j]"
   ]
  },
  {
   "cell_type": "code",
   "execution_count": 9,
   "metadata": {},
   "outputs": [
    {
     "name": "stdout",
     "output_type": "stream",
     "text": [
      "Cosine similarity threshold: 0.9781\n"
     ]
    }
   ],
   "source": [
    "cos_sim_thresh = np.quantile(res['cos_sim'], SIM_QUANTILE)\n",
    "print(f'Cosine similarity threshold: {cos_sim_thresh:.4f}')\n",
    "res = res.assign(is_similar=res['cos_sim'] > cos_sim_thresh)"
   ]
  },
  {
   "cell_type": "code",
   "execution_count": 10,
   "metadata": {},
   "outputs": [],
   "source": [
    "sim_relations = res[res['is_similar']]\n",
    "sim_relations = sim_relations[['gene_i', 'gene_j']].rename({'gene_i': 'src', 'gene_j': 'dst'}, axis=1)\n",
    "sim_relations = sim_relations.assign(src_type = 'gene', dst_type = 'gene', relation = 'protbert_similarity')\n",
    "\n",
    "# duplicate reverse relations (since we only compute the upper triangle and cos sim is symmetric)\n",
    "sim_relations = pd.concat([sim_relations, sim_relations.rename({'src': 'dst', 'dst': 'src'}, axis=1)])\n",
    "\n",
    "sim_relations.to_csv('../../extdata/relations/protbert__gene_gene_similarity.csv', index=False)"
   ]
  },
  {
   "cell_type": "code",
   "execution_count": null,
   "metadata": {},
   "outputs": [
    {
     "name": "stdout",
     "output_type": "stream",
     "text": [
      "(170368, 5)\n"
     ]
    },
    {
     "data": {
      "text/html": [
       "<div>\n",
       "<style scoped>\n",
       "    .dataframe tbody tr th:only-of-type {\n",
       "        vertical-align: middle;\n",
       "    }\n",
       "\n",
       "    .dataframe tbody tr th {\n",
       "        vertical-align: top;\n",
       "    }\n",
       "\n",
       "    .dataframe thead th {\n",
       "        text-align: right;\n",
       "    }\n",
       "</style>\n",
       "<table border=\"1\" class=\"dataframe\">\n",
       "  <thead>\n",
       "    <tr style=\"text-align: right;\">\n",
       "      <th></th>\n",
       "      <th>src</th>\n",
       "      <th>dst</th>\n",
       "      <th>src_type</th>\n",
       "      <th>dst_type</th>\n",
       "      <th>relation</th>\n",
       "    </tr>\n",
       "  </thead>\n",
       "  <tbody>\n",
       "    <tr>\n",
       "      <th>1693</th>\n",
       "      <td>A1BG</td>\n",
       "      <td>CD7</td>\n",
       "      <td>gene</td>\n",
       "      <td>gene</td>\n",
       "      <td>protbert_similarity</td>\n",
       "    </tr>\n",
       "    <tr>\n",
       "      <th>10309</th>\n",
       "      <td>A1BG</td>\n",
       "      <td>SIGLEC1</td>\n",
       "      <td>gene</td>\n",
       "      <td>gene</td>\n",
       "      <td>protbert_similarity</td>\n",
       "    </tr>\n",
       "    <tr>\n",
       "      <th>22522</th>\n",
       "      <td>A1CF</td>\n",
       "      <td>RBM47</td>\n",
       "      <td>gene</td>\n",
       "      <td>gene</td>\n",
       "      <td>protbert_similarity</td>\n",
       "    </tr>\n",
       "    <tr>\n",
       "      <th>27418</th>\n",
       "      <td>A2M</td>\n",
       "      <td>C3</td>\n",
       "      <td>gene</td>\n",
       "      <td>gene</td>\n",
       "      <td>protbert_similarity</td>\n",
       "    </tr>\n",
       "    <tr>\n",
       "      <th>27428</th>\n",
       "      <td>A2M</td>\n",
       "      <td>C7</td>\n",
       "      <td>gene</td>\n",
       "      <td>gene</td>\n",
       "      <td>protbert_similarity</td>\n",
       "    </tr>\n",
       "  </tbody>\n",
       "</table>\n",
       "</div>"
      ],
      "text/plain": [
       "        src      dst src_type dst_type             relation\n",
       "1693   A1BG      CD7     gene     gene  protbert_similarity\n",
       "10309  A1BG  SIGLEC1     gene     gene  protbert_similarity\n",
       "22522  A1CF    RBM47     gene     gene  protbert_similarity\n",
       "27418   A2M       C3     gene     gene  protbert_similarity\n",
       "27428   A2M       C7     gene     gene  protbert_similarity"
      ]
     },
     "execution_count": 11,
     "metadata": {},
     "output_type": "execute_result"
    },
    {
     "ename": "",
     "evalue": "",
     "output_type": "error",
     "traceback": [
      "\u001b[1;31mThe Kernel crashed while executing code in the current cell or a previous cell. \n",
      "\u001b[1;31mPlease review the code in the cell(s) to identify a possible cause of the failure. \n",
      "\u001b[1;31mClick <a href='https://aka.ms/vscodeJupyterKernelCrash'>here</a> for more info. \n",
      "\u001b[1;31mView Jupyter <a href='command:jupyter.viewOutput'>log</a> for further details."
     ]
    }
   ],
   "source": [
    "print(sim_relations.shape)\n",
    "sim_relations.head() "
   ]
  }
 ],
 "metadata": {
  "kernelspec": {
   "display_name": "tkgdti",
   "language": "python",
   "name": "python3"
  },
  "language_info": {
   "codemirror_mode": {
    "name": "ipython",
    "version": 3
   },
   "file_extension": ".py",
   "mimetype": "text/x-python",
   "name": "python",
   "nbconvert_exporter": "python",
   "pygments_lexer": "ipython3",
   "version": "3.11.10"
  }
 },
 "nbformat": 4,
 "nbformat_minor": 2
}
