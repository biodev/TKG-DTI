{
 "cells": [
  {
   "cell_type": "code",
   "execution_count": 1,
   "metadata": {},
   "outputs": [
    {
     "name": "stderr",
     "output_type": "stream",
     "text": [
      "/home/teddy/miniconda3/envs/tkgdti/lib/python3.11/site-packages/tqdm/auto.py:21: TqdmWarning: IProgress not found. Please update jupyter and ipywidgets. See https://ipywidgets.readthedocs.io/en/stable/user_install.html\n",
      "  from .autonotebook import tqdm as notebook_tqdm\n"
     ]
    }
   ],
   "source": [
    "from transformers import AutoTokenizer, AutoModel\n",
    "import torch\n",
    "import numpy as np\n",
    "from rdkit import Chem\n",
    "import requests\n",
    "import pandas as pd\n",
    "from sklearn.metrics.pairwise import cosine_similarity\n",
    "from matplotlib import pyplot as plt\n",
    "from sklearn.decomposition import PCA\n",
    "import umap\n",
    "from sklearn.cluster import DBSCAN\n",
    "\n",
    "# set seed \n",
    "torch.manual_seed(0)\n",
    "np.random.seed(0)\n"
   ]
  },
  {
   "cell_type": "markdown",
   "metadata": {},
   "source": [
    "# CHEMBERTa; drug-similar-drug"
   ]
  },
  {
   "cell_type": "code",
   "execution_count": 2,
   "metadata": {},
   "outputs": [],
   "source": [
    "model_name = \"seyonec/ChemBERTa-zinc-base-v1\"\n",
    "\n",
    "tokenizer = AutoTokenizer.from_pretrained(model_name)\n",
    "model = AutoModel.from_pretrained(model_name)"
   ]
  },
  {
   "cell_type": "code",
   "execution_count": 3,
   "metadata": {},
   "outputs": [
    {
     "name": "stdout",
     "output_type": "stream",
     "text": [
      "max token length: 131\n"
     ]
    }
   ],
   "source": [
    "drug_info = pd.read_csv('../../extdata/meta/targetome__drug_targets_gene.csv')\n",
    "smiles = drug_info['can_smiles'].unique().astype(str).tolist()\n",
    "max_len = max([len(s) for s in smiles]) + 1\n",
    "print('max token length:', max_len)"
   ]
  },
  {
   "cell_type": "code",
   "execution_count": 4,
   "metadata": {},
   "outputs": [],
   "source": [
    "inputs = tokenizer(\n",
    "    smiles,\n",
    "    return_tensors=\"pt\",\n",
    "    padding=True,\n",
    "    truncation=True,\n",
    "    max_length=max_len  # Adjust max_length as needed\n",
    ")"
   ]
  },
  {
   "cell_type": "code",
   "execution_count": 5,
   "metadata": {},
   "outputs": [],
   "source": [
    "with torch.no_grad():\n",
    "    outputs = model(**inputs)"
   ]
  },
  {
   "cell_type": "code",
   "execution_count": 6,
   "metadata": {},
   "outputs": [
    {
     "data": {
      "text/plain": [
       "torch.Size([89, 96, 768])"
      ]
     },
     "execution_count": 6,
     "metadata": {},
     "output_type": "execute_result"
    }
   ],
   "source": [
    "outputs.last_hidden_state.shape"
   ]
  },
  {
   "cell_type": "code",
   "execution_count": 7,
   "metadata": {},
   "outputs": [],
   "source": [
    "z_drug = outputs.last_hidden_state[:, 0, :].numpy() # extract the [CLS] token embedding"
   ]
  },
  {
   "cell_type": "code",
   "execution_count": 8,
   "metadata": {},
   "outputs": [
    {
     "data": {
      "text/plain": [
       "(89, 768)"
      ]
     },
     "execution_count": 8,
     "metadata": {},
     "output_type": "execute_result"
    }
   ],
   "source": [
    "z_drug.shape\n"
   ]
  },
  {
   "cell_type": "code",
   "execution_count": 9,
   "metadata": {},
   "outputs": [
    {
     "data": {
      "image/png": "[encoded data removed]",
      "text/plain": [
       "<Figure size 640x480 with 1 Axes>"
      ]
     },
     "metadata": {},
     "output_type": "display_data"
    }
   ],
   "source": [
    "# Compute the cosine similarity matrix\n",
    "cosine_sim_matrix = cosine_similarity(z_drug)\n",
    "\n",
    "# Remove self similarities by setting the diagonal to 0\n",
    "np.fill_diagonal(cosine_sim_matrix, 0)\n",
    "\n",
    "# Extract the upper triangle of the cosine similarity matrix\n",
    "upper_triangle_indices = np.triu_indices_from(cosine_sim_matrix, k=1)\n",
    "upper_triangle_values = cosine_sim_matrix[upper_triangle_indices]\n",
    "\n",
    "plt.figure()\n",
    "plt.hist(upper_triangle_values, bins=50, alpha=0.7, color='b')\n",
    "plt.xlabel('Cosine similarity')\n",
    "plt.show() "
   ]
  },
  {
   "cell_type": "code",
   "execution_count": 10,
   "metadata": {},
   "outputs": [
    {
     "data": {
      "text/plain": [
       "(7832, 768)"
      ]
     },
     "execution_count": 10,
     "metadata": {},
     "output_type": "execute_result"
    }
   ],
   "source": [
    "# Initialize an empty list to store the combined embeddings\n",
    "combined_embeddings = []\n",
    "cos_sim = []\n",
    "drug_i = [] \n",
    "drug_j = [] \n",
    "\n",
    "# Iterate over the upper triangle indices\n",
    "for i in range(len(smiles)):\n",
    "    for j in range(len(smiles)):\n",
    "        if i == j:\n",
    "            continue\n",
    "        combined_embedding = np.abs(z_drug[i] - z_drug[j])\n",
    "        combined_embeddings.append(combined_embedding)\n",
    "        cos_sim.append(cosine_similarity([z_drug[i]], [z_drug[j]])[0][0])\n",
    "        drug_i.append(i)\n",
    "        drug_j.append(j)\n",
    "\n",
    "# Convert the list to a numpy array\n",
    "combined_embeddings = np.array(combined_embeddings)\n",
    "\n",
    "combined_embeddings.shape"
   ]
  },
  {
   "cell_type": "code",
   "execution_count": 11,
   "metadata": {},
   "outputs": [
    {
     "data": {
      "text/plain": [
       "(3916, 768)"
      ]
     },
     "execution_count": 11,
     "metadata": {},
     "output_type": "execute_result"
    }
   ],
   "source": [
    "np.unique(combined_embeddings, axis=0).shape"
   ]
  },
  {
   "cell_type": "code",
   "execution_count": 12,
   "metadata": {},
   "outputs": [
    {
     "name": "stdout",
     "output_type": "stream",
     "text": [
      "Cosine similarity threshold: 0.92\n"
     ]
    },
    {
     "data": {
      "text/html": [
       "<div>\n",
       "<style scoped>\n",
       "    .dataframe tbody tr th:only-of-type {\n",
       "        vertical-align: middle;\n",
       "    }\n",
       "\n",
       "    .dataframe tbody tr th {\n",
       "        vertical-align: top;\n",
       "    }\n",
       "\n",
       "    .dataframe thead th {\n",
       "        text-align: right;\n",
       "    }\n",
       "</style>\n",
       "<table border=\"1\" class=\"dataframe\">\n",
       "  <thead>\n",
       "    <tr style=\"text-align: right;\">\n",
       "      <th></th>\n",
       "      <th>drug_i</th>\n",
       "      <th>drug_j</th>\n",
       "      <th>cos_sim</th>\n",
       "      <th>smiles_i</th>\n",
       "      <th>smiles_j</th>\n",
       "      <th>is_similar</th>\n",
       "      <th>inchikey_x</th>\n",
       "      <th>inchikey_y</th>\n",
       "    </tr>\n",
       "  </thead>\n",
       "  <tbody>\n",
       "    <tr>\n",
       "      <th>0</th>\n",
       "      <td>0</td>\n",
       "      <td>1</td>\n",
       "      <td>0.606698</td>\n",
       "      <td>CN(C)CCC(CSC1=CC=CC=C1)NC2=C(C=C(C=C2)S(=O)(=O...</td>\n",
       "      <td>CC1=C(C(=O)N(C2=NC(=NC=C12)NC3=NC=C(C=C3)N4CCN...</td>\n",
       "      <td>False</td>\n",
       "      <td>HPLNQCPCUACXLM-PGUFJCEWSA-N</td>\n",
       "      <td>AHJRHEGDXFFMBM-UHFFFAOYSA-N</td>\n",
       "    </tr>\n",
       "    <tr>\n",
       "      <th>1</th>\n",
       "      <td>0</td>\n",
       "      <td>2</td>\n",
       "      <td>0.807199</td>\n",
       "      <td>CN(C)CCC(CSC1=CC=CC=C1)NC2=C(C=C(C=C2)S(=O)(=O...</td>\n",
       "      <td>CN1CCC(C(C1)O)C2=C(C=C(C3=C2OC(=CC3=O)C4=CC=CC...</td>\n",
       "      <td>False</td>\n",
       "      <td>HPLNQCPCUACXLM-PGUFJCEWSA-N</td>\n",
       "      <td>BIIVYFLTOXDAOV-YVEFUNNKSA-N</td>\n",
       "    </tr>\n",
       "    <tr>\n",
       "      <th>2</th>\n",
       "      <td>0</td>\n",
       "      <td>3</td>\n",
       "      <td>0.770142</td>\n",
       "      <td>CN(C)CCC(CSC1=CC=CC=C1)NC2=C(C=C(C=C2)S(=O)(=O...</td>\n",
       "      <td>B(C(CC(C)C)NC(=O)C(CC1=CC=CC=C1)NC(=O)C2=NC=CN...</td>\n",
       "      <td>False</td>\n",
       "      <td>HPLNQCPCUACXLM-PGUFJCEWSA-N</td>\n",
       "      <td>GXJABQQUPOEUTA-RDJZCZTQSA-N</td>\n",
       "    </tr>\n",
       "    <tr>\n",
       "      <th>3</th>\n",
       "      <td>0</td>\n",
       "      <td>4</td>\n",
       "      <td>0.820911</td>\n",
       "      <td>CN(C)CCC(CSC1=CC=CC=C1)NC2=C(C=C(C=C2)S(=O)(=O...</td>\n",
       "      <td>CCN1CCN(CC1)CC2=C(C=C(C=C2)NC(=O)NC3=CC=C(C=C3...</td>\n",
       "      <td>False</td>\n",
       "      <td>HPLNQCPCUACXLM-PGUFJCEWSA-N</td>\n",
       "      <td>ODPGGGTTYSGTGO-UHFFFAOYSA-N</td>\n",
       "    </tr>\n",
       "    <tr>\n",
       "      <th>4</th>\n",
       "      <td>0</td>\n",
       "      <td>5</td>\n",
       "      <td>0.812793</td>\n",
       "      <td>CN(C)CCC(CSC1=CC=CC=C1)NC2=C(C=C(C=C2)S(=O)(=O...</td>\n",
       "      <td>CN1CCN(CC1)CCCOC2=C(C=C3C(=C2)N=CC(=C3NC4=CC(=...</td>\n",
       "      <td>False</td>\n",
       "      <td>HPLNQCPCUACXLM-PGUFJCEWSA-N</td>\n",
       "      <td>UBPYILGKFZZVDX-UHFFFAOYSA-N</td>\n",
       "    </tr>\n",
       "  </tbody>\n",
       "</table>\n",
       "</div>"
      ],
      "text/plain": [
       "   drug_i  drug_j   cos_sim  \\\n",
       "0       0       1  0.606698   \n",
       "1       0       2  0.807199   \n",
       "2       0       3  0.770142   \n",
       "3       0       4  0.820911   \n",
       "4       0       5  0.812793   \n",
       "\n",
       "                                            smiles_i  \\\n",
       "0  CN(C)CCC(CSC1=CC=CC=C1)NC2=C(C=C(C=C2)S(=O)(=O...   \n",
       "1  CN(C)CCC(CSC1=CC=CC=C1)NC2=C(C=C(C=C2)S(=O)(=O...   \n",
       "2  CN(C)CCC(CSC1=CC=CC=C1)NC2=C(C=C(C=C2)S(=O)(=O...   \n",
       "3  CN(C)CCC(CSC1=CC=CC=C1)NC2=C(C=C(C=C2)S(=O)(=O...   \n",
       "4  CN(C)CCC(CSC1=CC=CC=C1)NC2=C(C=C(C=C2)S(=O)(=O...   \n",
       "\n",
       "                                            smiles_j  is_similar  \\\n",
       "0  CC1=C(C(=O)N(C2=NC(=NC=C12)NC3=NC=C(C=C3)N4CCN...       False   \n",
       "1  CN1CCC(C(C1)O)C2=C(C=C(C3=C2OC(=CC3=O)C4=CC=CC...       False   \n",
       "2  B(C(CC(C)C)NC(=O)C(CC1=CC=CC=C1)NC(=O)C2=NC=CN...       False   \n",
       "3  CCN1CCN(CC1)CC2=C(C=C(C=C2)NC(=O)NC3=CC=C(C=C3...       False   \n",
       "4  CN1CCN(CC1)CCCOC2=C(C=C3C(=C2)N=CC(=C3NC4=CC(=...       False   \n",
       "\n",
       "                    inchikey_x                   inchikey_y  \n",
       "0  HPLNQCPCUACXLM-PGUFJCEWSA-N  AHJRHEGDXFFMBM-UHFFFAOYSA-N  \n",
       "1  HPLNQCPCUACXLM-PGUFJCEWSA-N  BIIVYFLTOXDAOV-YVEFUNNKSA-N  \n",
       "2  HPLNQCPCUACXLM-PGUFJCEWSA-N  GXJABQQUPOEUTA-RDJZCZTQSA-N  \n",
       "3  HPLNQCPCUACXLM-PGUFJCEWSA-N  ODPGGGTTYSGTGO-UHFFFAOYSA-N  \n",
       "4  HPLNQCPCUACXLM-PGUFJCEWSA-N  UBPYILGKFZZVDX-UHFFFAOYSA-N  "
      ]
     },
     "execution_count": 12,
     "metadata": {},
     "output_type": "execute_result"
    }
   ],
   "source": [
    "\n",
    "# agg results \n",
    "results = pd.DataFrame({\n",
    "    'drug_i': drug_i,\n",
    "    'drug_j': drug_j,\n",
    "    'cos_sim': cos_sim,\n",
    "})\n",
    "\n",
    "results = results.assign(smiles_i = [smiles[i] for i in results['drug_i']],\n",
    "                         smiles_j = [smiles[j] for j in results['drug_j']])\n",
    "\n",
    "cos_sim_thresh = np.quantile(results['cos_sim'], 0.95)\n",
    "print(f'Cosine similarity threshold: {cos_sim_thresh:.2f}')\n",
    "results = results.assign(is_similar=results['cos_sim'] > cos_sim_thresh)\n",
    "\n",
    "\n",
    "s2i = drug_info[['can_smiles', 'inchikey']].drop_duplicates()\n",
    "results = results.merge(s2i, left_on='smiles_i', right_on='can_smiles', how='left').drop(columns='can_smiles')\n",
    "results = results.merge(s2i, left_on='smiles_j', right_on='can_smiles', how='left').drop(columns='can_smiles')\n",
    "\n",
    "results.head()"
   ]
  },
  {
   "cell_type": "code",
   "execution_count": 13,
   "metadata": {},
   "outputs": [],
   "source": [
    "results.to_csv('../../extdata/meta/chemberta_drug_drug_similarity.csv', index=False)"
   ]
  },
  {
   "cell_type": "code",
   "execution_count": 14,
   "metadata": {},
   "outputs": [
    {
     "data": {
      "text/html": [
       "<div>\n",
       "<style scoped>\n",
       "    .dataframe tbody tr th:only-of-type {\n",
       "        vertical-align: middle;\n",
       "    }\n",
       "\n",
       "    .dataframe tbody tr th {\n",
       "        vertical-align: top;\n",
       "    }\n",
       "\n",
       "    .dataframe thead th {\n",
       "        text-align: right;\n",
       "    }\n",
       "</style>\n",
       "<table border=\"1\" class=\"dataframe\">\n",
       "  <thead>\n",
       "    <tr style=\"text-align: right;\">\n",
       "      <th></th>\n",
       "      <th>src</th>\n",
       "      <th>dst</th>\n",
       "      <th>src_type</th>\n",
       "      <th>dst_type</th>\n",
       "      <th>relation</th>\n",
       "    </tr>\n",
       "  </thead>\n",
       "  <tbody>\n",
       "    <tr>\n",
       "      <th>356</th>\n",
       "      <td>ODPGGGTTYSGTGO-UHFFFAOYSA-N</td>\n",
       "      <td>UBPYILGKFZZVDX-UHFFFAOYSA-N</td>\n",
       "      <td>drug</td>\n",
       "      <td>drug</td>\n",
       "      <td>chemberta_cosine_similarity</td>\n",
       "    </tr>\n",
       "    <tr>\n",
       "      <th>362</th>\n",
       "      <td>ODPGGGTTYSGTGO-UHFFFAOYSA-N</td>\n",
       "      <td>UHTHHESEBZOYNR-UHFFFAOYSA-N</td>\n",
       "      <td>drug</td>\n",
       "      <td>drug</td>\n",
       "      <td>chemberta_cosine_similarity</td>\n",
       "    </tr>\n",
       "    <tr>\n",
       "      <th>363</th>\n",
       "      <td>ODPGGGTTYSGTGO-UHFFFAOYSA-N</td>\n",
       "      <td>LGLHCXISMKHLIK-UHFFFAOYSA-N</td>\n",
       "      <td>drug</td>\n",
       "      <td>drug</td>\n",
       "      <td>chemberta_cosine_similarity</td>\n",
       "    </tr>\n",
       "    <tr>\n",
       "      <th>392</th>\n",
       "      <td>ODPGGGTTYSGTGO-UHFFFAOYSA-N</td>\n",
       "      <td>OUKYUETWWIPKQR-UHFFFAOYSA-N</td>\n",
       "      <td>drug</td>\n",
       "      <td>drug</td>\n",
       "      <td>chemberta_cosine_similarity</td>\n",
       "    </tr>\n",
       "    <tr>\n",
       "      <th>400</th>\n",
       "      <td>ODPGGGTTYSGTGO-UHFFFAOYSA-N</td>\n",
       "      <td>DESOLSKAHZZIGK-UHFFFAOYSA-N</td>\n",
       "      <td>drug</td>\n",
       "      <td>drug</td>\n",
       "      <td>chemberta_cosine_similarity</td>\n",
       "    </tr>\n",
       "  </tbody>\n",
       "</table>\n",
       "</div>"
      ],
      "text/plain": [
       "                             src                          dst src_type  \\\n",
       "356  ODPGGGTTYSGTGO-UHFFFAOYSA-N  UBPYILGKFZZVDX-UHFFFAOYSA-N     drug   \n",
       "362  ODPGGGTTYSGTGO-UHFFFAOYSA-N  UHTHHESEBZOYNR-UHFFFAOYSA-N     drug   \n",
       "363  ODPGGGTTYSGTGO-UHFFFAOYSA-N  LGLHCXISMKHLIK-UHFFFAOYSA-N     drug   \n",
       "392  ODPGGGTTYSGTGO-UHFFFAOYSA-N  OUKYUETWWIPKQR-UHFFFAOYSA-N     drug   \n",
       "400  ODPGGGTTYSGTGO-UHFFFAOYSA-N  DESOLSKAHZZIGK-UHFFFAOYSA-N     drug   \n",
       "\n",
       "    dst_type                     relation  \n",
       "356     drug  chemberta_cosine_similarity  \n",
       "362     drug  chemberta_cosine_similarity  \n",
       "363     drug  chemberta_cosine_similarity  \n",
       "392     drug  chemberta_cosine_similarity  \n",
       "400     drug  chemberta_cosine_similarity  "
      ]
     },
     "execution_count": 14,
     "metadata": {},
     "output_type": "execute_result"
    }
   ],
   "source": [
    "sim_relations = results[results['is_similar']]\n",
    "sim_relations = sim_relations[['inchikey_x', 'inchikey_y']].rename({'inchikey_x': 'src', 'inchikey_y': 'dst'}, axis=1)\n",
    "sim_relations = sim_relations.assign(src_type = 'drug', dst_type = 'drug', relation = 'chemberta_cosine_similarity')\n",
    "sim_relations.to_csv('../../extdata/relations/chemberta_drug_cosine_similarity.csv', index=False)\n",
    "sim_relations.head()"
   ]
  },
  {
   "cell_type": "code",
   "execution_count": 15,
   "metadata": {},
   "outputs": [
    {
     "data": {
      "text/plain": [
       "392"
      ]
     },
     "execution_count": 15,
     "metadata": {},
     "output_type": "execute_result"
    }
   ],
   "source": [
    "len(sim_relations)"
   ]
  },
  {
   "cell_type": "code",
   "execution_count": null,
   "metadata": {},
   "outputs": [],
   "source": []
  }
 ],
 "metadata": {
  "kernelspec": {
   "display_name": "tkgdti",
   "language": "python",
   "name": "python3"
  },
  "language_info": {
   "codemirror_mode": {
    "name": "ipython",
    "version": 3
   },
   "file_extension": ".py",
   "mimetype": "text/x-python",
   "name": "python",
   "nbconvert_exporter": "python",
   "pygments_lexer": "ipython3",
   "version": "3.11.10"
  }
 },
 "nbformat": 4,
 "nbformat_minor": 2
}
