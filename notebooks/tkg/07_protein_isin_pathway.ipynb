{
 "cells": [
  {
   "cell_type": "code",
   "execution_count": null,
   "metadata": {},
   "outputs": [
    {
     "name": "stderr",
     "output_type": "stream",
     "text": [
      "/home/teddy/miniconda3/envs/tkgdti/lib/python3.11/site-packages/tqdm/auto.py:21: TqdmWarning: IProgress not found. Please update jupyter and ipywidgets. See https://ipywidgets.readthedocs.io/en/stable/user_install.html\n",
      "  from .autonotebook import tqdm as notebook_tqdm\n"
     ]
    }
   ],
   "source": [
    "import omnipath as op \n",
    "import pandas as pd\n",
    "import numpy as np\n",
    "import os\n",
    "import requests\n",
    "import time\n",
    "import csv\n",
    "import pandas as pd\n",
    "import torch \n",
    "\n",
    "# set seed \n",
    "torch.manual_seed(0)\n",
    "np.random.seed(0)"
   ]
  },
  {
   "cell_type": "code",
   "execution_count": 2,
   "metadata": {},
   "outputs": [
    {
     "data": {
      "text/html": [
       "<div>\n",
       "<style scoped>\n",
       "    .dataframe tbody tr th:only-of-type {\n",
       "        vertical-align: middle;\n",
       "    }\n",
       "\n",
       "    .dataframe tbody tr th {\n",
       "        vertical-align: top;\n",
       "    }\n",
       "\n",
       "    .dataframe thead th {\n",
       "        text-align: right;\n",
       "    }\n",
       "</style>\n",
       "<table border=\"1\" class=\"dataframe\">\n",
       "  <thead>\n",
       "    <tr style=\"text-align: right;\">\n",
       "      <th></th>\n",
       "      <th>GeneSymbol</th>\n",
       "      <th>GeneID</th>\n",
       "      <th>PathwayName</th>\n",
       "      <th>PathwayID</th>\n",
       "    </tr>\n",
       "  </thead>\n",
       "  <tbody>\n",
       "    <tr>\n",
       "      <th>0</th>\n",
       "      <td>A1BG</td>\n",
       "      <td>1</td>\n",
       "      <td>Hemostasis</td>\n",
       "      <td>REACT:R-HSA-109582</td>\n",
       "    </tr>\n",
       "    <tr>\n",
       "      <th>1</th>\n",
       "      <td>A1BG</td>\n",
       "      <td>1</td>\n",
       "      <td>Immune System</td>\n",
       "      <td>REACT:R-HSA-168256</td>\n",
       "    </tr>\n",
       "    <tr>\n",
       "      <th>2</th>\n",
       "      <td>A1BG</td>\n",
       "      <td>1</td>\n",
       "      <td>Innate Immune System</td>\n",
       "      <td>REACT:R-HSA-168249</td>\n",
       "    </tr>\n",
       "    <tr>\n",
       "      <th>3</th>\n",
       "      <td>A1BG</td>\n",
       "      <td>1</td>\n",
       "      <td>Neutrophil degranulation</td>\n",
       "      <td>REACT:R-HSA-6798695</td>\n",
       "    </tr>\n",
       "    <tr>\n",
       "      <th>4</th>\n",
       "      <td>A1BG</td>\n",
       "      <td>1</td>\n",
       "      <td>Platelet activation, signaling and aggregation</td>\n",
       "      <td>REACT:R-HSA-76002</td>\n",
       "    </tr>\n",
       "  </tbody>\n",
       "</table>\n",
       "</div>"
      ],
      "text/plain": [
       "  GeneSymbol  GeneID                                     PathwayName  \\\n",
       "0       A1BG       1                                      Hemostasis   \n",
       "1       A1BG       1                                   Immune System   \n",
       "2       A1BG       1                            Innate Immune System   \n",
       "3       A1BG       1                        Neutrophil degranulation   \n",
       "4       A1BG       1  Platelet activation, signaling and aggregation   \n",
       "\n",
       "             PathwayID  \n",
       "0   REACT:R-HSA-109582  \n",
       "1   REACT:R-HSA-168256  \n",
       "2   REACT:R-HSA-168249  \n",
       "3  REACT:R-HSA-6798695  \n",
       "4    REACT:R-HSA-76002  "
      ]
     },
     "execution_count": 2,
     "metadata": {},
     "output_type": "execute_result"
    }
   ],
   "source": [
    "genepath = pd.read_csv('../../data/tkg_raw/CTD_genes_pathways.csv', comment='#', header=None)\n",
    "genepath.columns = 'GeneSymbol,GeneID,PathwayName,PathwayID'.split(',')\n",
    "genepath.head()"
   ]
  },
  {
   "cell_type": "code",
   "execution_count": 3,
   "metadata": {},
   "outputs": [
    {
     "name": "stdout",
     "output_type": "stream",
     "text": [
      "# unique genes: 11586\n",
      "# unique pathways: 2352\n",
      "# edges:  135792\n"
     ]
    }
   ],
   "source": [
    "print('# unique genes:', genepath.GeneSymbol.unique().shape[0]) \n",
    "print('# unique pathways:', genepath.PathwayName.unique().shape[0])\n",
    "print('# edges: ', genepath.shape[0])"
   ]
  },
  {
   "cell_type": "code",
   "execution_count": 4,
   "metadata": {},
   "outputs": [],
   "source": [
    "gp_fwd = genepath[['GeneSymbol', 'PathwayID']].rename({'GeneSymbol':'src', 'PathwayID':'dst'}, axis=1).assign(src_type='gene', dst_type='pathway', relation='isin_fwd').drop_duplicates()\n",
    "gp_fwd.to_csv('../../extdata/relations/ctd_gene_isin_pathway_fwd.csv', index=False)\n",
    "\n",
    "gp_rev = genepath[['PathwayID', 'GeneSymbol']].rename({'PathwayID':'src', 'GeneSymbol':'dst'}, axis=1).assign(src_type='pathway', dst_type='gene', relation='isin_rev').drop_duplicates()\n",
    "gp_rev.to_csv('../../extdata/relations/ctd_pathway_isin_gene_rev.csv', index=False)"
   ]
  },
  {
   "cell_type": "code",
   "execution_count": null,
   "metadata": {},
   "outputs": [],
   "source": []
  }
 ],
 "metadata": {
  "kernelspec": {
   "display_name": "tkgdti",
   "language": "python",
   "name": "python3"
  },
  "language_info": {
   "codemirror_mode": {
    "name": "ipython",
    "version": 3
   },
   "file_extension": ".py",
   "mimetype": "text/x-python",
   "name": "python",
   "nbconvert_exporter": "python",
   "pygments_lexer": "ipython3",
   "version": "3.11.10"
  }
 },
 "nbformat": 4,
 "nbformat_minor": 2
}
