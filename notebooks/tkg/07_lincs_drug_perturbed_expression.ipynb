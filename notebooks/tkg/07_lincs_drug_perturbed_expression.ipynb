{
 "cells": [
  {
   "cell_type": "code",
   "execution_count": 1,
   "metadata": {},
   "outputs": [],
   "source": [
    "import pandas as pd \n",
    "import h5py\n",
    "import numpy as np \n",
    "from matplotlib import pyplot as plt"
   ]
  },
  {
   "cell_type": "markdown",
   "metadata": {},
   "source": [
    "# LINCS PERTURBATION RELATIONS \n",
    "\n",
    "Future work: \n",
    "- consider using stimulatory/inhibitory relations (currently abs(score))"
   ]
  },
  {
   "cell_type": "code",
   "execution_count": null,
   "metadata": {},
   "outputs": [],
   "source": [
    "# NOTE: ablation study suggests NPC and ASC are detrimental to perfomance. These will be removed. \n",
    "#       A549 \"_rev\" edge was also detrimental, however, we will remove that in `00_MAKE_TKG.ipynb`\n",
    "VALID_CELL_LINES = ['MCF7', 'SKB', 'PC3', 'VCAP', 'PHH', 'HT29', 'A549', 'HA1E', 'A375']\n",
    "\n",
    "SCORE_THRESHOLD = 5 # +/- 10 is most perturbed, 0 is unperturbed"
   ]
  },
  {
   "cell_type": "code",
   "execution_count": 3,
   "metadata": {},
   "outputs": [
    {
     "data": {
      "text/html": [
       "<div>\n",
       "<style scoped>\n",
       "    .dataframe tbody tr th:only-of-type {\n",
       "        vertical-align: middle;\n",
       "    }\n",
       "\n",
       "    .dataframe tbody tr th {\n",
       "        vertical-align: top;\n",
       "    }\n",
       "\n",
       "    .dataframe thead th {\n",
       "        text-align: right;\n",
       "    }\n",
       "</style>\n",
       "<table border=\"1\" class=\"dataframe\">\n",
       "  <thead>\n",
       "    <tr style=\"text-align: right;\">\n",
       "      <th></th>\n",
       "      <th>bead_batch</th>\n",
       "      <th>nearest_dose</th>\n",
       "      <th>pert_dose</th>\n",
       "      <th>pert_dose_unit</th>\n",
       "      <th>pert_idose</th>\n",
       "      <th>pert_itime</th>\n",
       "      <th>pert_time</th>\n",
       "      <th>pert_time_unit</th>\n",
       "      <th>cell_mfc_name</th>\n",
       "      <th>pert_mfc_id</th>\n",
       "      <th>...</th>\n",
       "      <th>cell_iname</th>\n",
       "      <th>det_wells</th>\n",
       "      <th>det_plates</th>\n",
       "      <th>distil_ids</th>\n",
       "      <th>build_name</th>\n",
       "      <th>project_code</th>\n",
       "      <th>cmap_name</th>\n",
       "      <th>is_exemplar_sig</th>\n",
       "      <th>is_ncs_sig</th>\n",
       "      <th>is_null_sig</th>\n",
       "    </tr>\n",
       "  </thead>\n",
       "  <tbody>\n",
       "    <tr>\n",
       "      <th>0</th>\n",
       "      <td>b17</td>\n",
       "      <td>NaN</td>\n",
       "      <td>100.0</td>\n",
       "      <td>ug/ml</td>\n",
       "      <td>100 ug/ml</td>\n",
       "      <td>336 h</td>\n",
       "      <td>336.0</td>\n",
       "      <td>h</td>\n",
       "      <td>N8</td>\n",
       "      <td>BRD-U44432129</td>\n",
       "      <td>...</td>\n",
       "      <td>NAMEC8</td>\n",
       "      <td>H05|H06|H07|H08</td>\n",
       "      <td>MET001_N8_XH_X1_B17</td>\n",
       "      <td>MET001_N8_XH_X1_B17:H05|MET001_N8_XH_X1_B17:H0...</td>\n",
       "      <td>NaN</td>\n",
       "      <td>MET</td>\n",
       "      <td>BRD-U44432129</td>\n",
       "      <td>0</td>\n",
       "      <td>0.0</td>\n",
       "      <td>0.0</td>\n",
       "    </tr>\n",
       "    <tr>\n",
       "      <th>1</th>\n",
       "      <td>b15</td>\n",
       "      <td>10.0</td>\n",
       "      <td>10.0</td>\n",
       "      <td>uM</td>\n",
       "      <td>10 uM</td>\n",
       "      <td>3 h</td>\n",
       "      <td>3.0</td>\n",
       "      <td>h</td>\n",
       "      <td>A549</td>\n",
       "      <td>BRD-K81418486</td>\n",
       "      <td>...</td>\n",
       "      <td>A549</td>\n",
       "      <td>L04|L08|L12</td>\n",
       "      <td>ABY001_A549_XH_X1_B15</td>\n",
       "      <td>ABY001_A549_XH_X1_B15:L04|ABY001_A549_XH_X1_B1...</td>\n",
       "      <td>NaN</td>\n",
       "      <td>ABY</td>\n",
       "      <td>vorinostat</td>\n",
       "      <td>0</td>\n",
       "      <td>1.0</td>\n",
       "      <td>0.0</td>\n",
       "    </tr>\n",
       "    <tr>\n",
       "      <th>2</th>\n",
       "      <td>b15</td>\n",
       "      <td>2.5</td>\n",
       "      <td>2.5</td>\n",
       "      <td>uM</td>\n",
       "      <td>2.5 uM</td>\n",
       "      <td>24 h</td>\n",
       "      <td>24.0</td>\n",
       "      <td>h</td>\n",
       "      <td>HT29</td>\n",
       "      <td>BRD-K70511574</td>\n",
       "      <td>...</td>\n",
       "      <td>HT29</td>\n",
       "      <td>E18|E22</td>\n",
       "      <td>ABY001_HT29_XH_X1_B15</td>\n",
       "      <td>ABY001_HT29_XH_X1_B15:E18|ABY001_HT29_XH_X1_B1...</td>\n",
       "      <td>NaN</td>\n",
       "      <td>ABY</td>\n",
       "      <td>HMN-214</td>\n",
       "      <td>0</td>\n",
       "      <td>1.0</td>\n",
       "      <td>0.0</td>\n",
       "    </tr>\n",
       "    <tr>\n",
       "      <th>3</th>\n",
       "      <td>b18</td>\n",
       "      <td>10.0</td>\n",
       "      <td>10.0</td>\n",
       "      <td>uM</td>\n",
       "      <td>10 uM</td>\n",
       "      <td>3 h</td>\n",
       "      <td>3.0</td>\n",
       "      <td>h</td>\n",
       "      <td>HME1</td>\n",
       "      <td>BRD-K81418486</td>\n",
       "      <td>...</td>\n",
       "      <td>HME1</td>\n",
       "      <td>F19</td>\n",
       "      <td>LTC002_HME1_3H_X1_B18</td>\n",
       "      <td>LTC002_HME1_3H_X1_B18:F19</td>\n",
       "      <td>NaN</td>\n",
       "      <td>LTC</td>\n",
       "      <td>vorinostat</td>\n",
       "      <td>0</td>\n",
       "      <td>0.0</td>\n",
       "      <td>0.0</td>\n",
       "    </tr>\n",
       "    <tr>\n",
       "      <th>4</th>\n",
       "      <td>b15</td>\n",
       "      <td>10.0</td>\n",
       "      <td>10.0</td>\n",
       "      <td>uM</td>\n",
       "      <td>10 uM</td>\n",
       "      <td>3 h</td>\n",
       "      <td>3.0</td>\n",
       "      <td>h</td>\n",
       "      <td>H1975</td>\n",
       "      <td>BRD-A61304759</td>\n",
       "      <td>...</td>\n",
       "      <td>H1975</td>\n",
       "      <td>P01|P05|P09</td>\n",
       "      <td>ABY001_H1975_XH_X1_B15</td>\n",
       "      <td>ABY001_H1975_XH_X1_B15:P01|ABY001_H1975_XH_X1_...</td>\n",
       "      <td>NaN</td>\n",
       "      <td>ABY</td>\n",
       "      <td>tanespimycin</td>\n",
       "      <td>0</td>\n",
       "      <td>0.0</td>\n",
       "      <td>0.0</td>\n",
       "    </tr>\n",
       "  </tbody>\n",
       "</table>\n",
       "<p>5 rows × 37 columns</p>\n",
       "</div>"
      ],
      "text/plain": [
       "  bead_batch  nearest_dose  pert_dose pert_dose_unit pert_idose pert_itime  \\\n",
       "0        b17           NaN      100.0          ug/ml  100 ug/ml      336 h   \n",
       "1        b15          10.0       10.0             uM      10 uM        3 h   \n",
       "2        b15           2.5        2.5             uM     2.5 uM       24 h   \n",
       "3        b18          10.0       10.0             uM      10 uM        3 h   \n",
       "4        b15          10.0       10.0             uM      10 uM        3 h   \n",
       "\n",
       "   pert_time pert_time_unit cell_mfc_name    pert_mfc_id  ...  cell_iname  \\\n",
       "0      336.0              h            N8  BRD-U44432129  ...      NAMEC8   \n",
       "1        3.0              h          A549  BRD-K81418486  ...        A549   \n",
       "2       24.0              h          HT29  BRD-K70511574  ...        HT29   \n",
       "3        3.0              h          HME1  BRD-K81418486  ...        HME1   \n",
       "4        3.0              h         H1975  BRD-A61304759  ...       H1975   \n",
       "\n",
       "         det_wells              det_plates  \\\n",
       "0  H05|H06|H07|H08     MET001_N8_XH_X1_B17   \n",
       "1      L04|L08|L12   ABY001_A549_XH_X1_B15   \n",
       "2          E18|E22   ABY001_HT29_XH_X1_B15   \n",
       "3              F19   LTC002_HME1_3H_X1_B18   \n",
       "4      P01|P05|P09  ABY001_H1975_XH_X1_B15   \n",
       "\n",
       "                                          distil_ids  build_name project_code  \\\n",
       "0  MET001_N8_XH_X1_B17:H05|MET001_N8_XH_X1_B17:H0...         NaN          MET   \n",
       "1  ABY001_A549_XH_X1_B15:L04|ABY001_A549_XH_X1_B1...         NaN          ABY   \n",
       "2  ABY001_HT29_XH_X1_B15:E18|ABY001_HT29_XH_X1_B1...         NaN          ABY   \n",
       "3                          LTC002_HME1_3H_X1_B18:F19         NaN          LTC   \n",
       "4  ABY001_H1975_XH_X1_B15:P01|ABY001_H1975_XH_X1_...         NaN          ABY   \n",
       "\n",
       "       cmap_name  is_exemplar_sig  is_ncs_sig  is_null_sig  \n",
       "0  BRD-U44432129                0         0.0          0.0  \n",
       "1     vorinostat                0         1.0          0.0  \n",
       "2        HMN-214                0         1.0          0.0  \n",
       "3     vorinostat                0         0.0          0.0  \n",
       "4   tanespimycin                0         0.0          0.0  \n",
       "\n",
       "[5 rows x 37 columns]"
      ]
     },
     "execution_count": 3,
     "metadata": {},
     "output_type": "execute_result"
    }
   ],
   "source": [
    "siginfo = pd.read_csv('../../../data/siginfo_beta.txt', sep='\\t', low_memory=False)\n",
    "siginfo.head()"
   ]
  },
  {
   "cell_type": "code",
   "execution_count": 4,
   "metadata": {},
   "outputs": [
    {
     "data": {
      "text/html": [
       "<div>\n",
       "<style scoped>\n",
       "    .dataframe tbody tr th:only-of-type {\n",
       "        vertical-align: middle;\n",
       "    }\n",
       "\n",
       "    .dataframe tbody tr th {\n",
       "        vertical-align: top;\n",
       "    }\n",
       "\n",
       "    .dataframe thead th {\n",
       "        text-align: right;\n",
       "    }\n",
       "</style>\n",
       "<table border=\"1\" class=\"dataframe\">\n",
       "  <thead>\n",
       "    <tr style=\"text-align: right;\">\n",
       "      <th></th>\n",
       "      <th>pert_id</th>\n",
       "      <th>cmap_name</th>\n",
       "      <th>target</th>\n",
       "      <th>moa</th>\n",
       "      <th>canonical_smiles</th>\n",
       "      <th>inchi_key</th>\n",
       "      <th>compound_aliases</th>\n",
       "    </tr>\n",
       "  </thead>\n",
       "  <tbody>\n",
       "    <tr>\n",
       "      <th>37</th>\n",
       "      <td>BRD-K87737963</td>\n",
       "      <td>CYT-387</td>\n",
       "      <td>NaN</td>\n",
       "      <td>NaN</td>\n",
       "      <td>O=C(NCC#N)c1ccc(cc1)-c1ccnc(Nc2ccc(cc2)N2CCOCC...</td>\n",
       "      <td>ZVHNDZWQTBEVRY-UHFFFAOYSA-N</td>\n",
       "      <td>momelotinib</td>\n",
       "    </tr>\n",
       "    <tr>\n",
       "      <th>508</th>\n",
       "      <td>BRD-K62391742</td>\n",
       "      <td>GDC-0199</td>\n",
       "      <td>NaN</td>\n",
       "      <td>NaN</td>\n",
       "      <td>CC1(C)CCC(CN2CCN(CC2)c2ccc(C(=O)NS(=O)(=O)c3cc...</td>\n",
       "      <td>LQBVNQSMGBZMKD-UHFFFAOYSA-N</td>\n",
       "      <td>venetoclax</td>\n",
       "    </tr>\n",
       "    <tr>\n",
       "      <th>610</th>\n",
       "      <td>BRD-K70301465</td>\n",
       "      <td>ibrutinib</td>\n",
       "      <td>BTK</td>\n",
       "      <td>BTK inhibitor</td>\n",
       "      <td>Nc1ncnc2n(nc(-c3ccc(Oc4ccccc4)cc3)c12)[C@@H]1C...</td>\n",
       "      <td>XYFPWWZEPKGCCK-GOSISDBHSA-N</td>\n",
       "      <td>PCI-32765</td>\n",
       "    </tr>\n",
       "    <tr>\n",
       "      <th>627</th>\n",
       "      <td>BRD-K42828737</td>\n",
       "      <td>sunitinib</td>\n",
       "      <td>FLT1</td>\n",
       "      <td>KIT inhibitor</td>\n",
       "      <td>CCN(CC)CCNC(=O)c1c(C)[nH]c(C=C2/C(=O)Nc3ccc(F)...</td>\n",
       "      <td>WINHZLLDWRZWRT-ATVHPVEESA-N</td>\n",
       "      <td>sunitinib-malate</td>\n",
       "    </tr>\n",
       "    <tr>\n",
       "      <th>628</th>\n",
       "      <td>BRD-K42828737</td>\n",
       "      <td>sunitinib</td>\n",
       "      <td>FLT3</td>\n",
       "      <td>KIT inhibitor</td>\n",
       "      <td>CCN(CC)CCNC(=O)c1c(C)[nH]c(C=C2/C(=O)Nc3ccc(F)...</td>\n",
       "      <td>WINHZLLDWRZWRT-ATVHPVEESA-N</td>\n",
       "      <td>sunitinib-malate</td>\n",
       "    </tr>\n",
       "  </tbody>\n",
       "</table>\n",
       "</div>"
      ],
      "text/plain": [
       "           pert_id  cmap_name target            moa  \\\n",
       "37   BRD-K87737963    CYT-387    NaN            NaN   \n",
       "508  BRD-K62391742   GDC-0199    NaN            NaN   \n",
       "610  BRD-K70301465  ibrutinib    BTK  BTK inhibitor   \n",
       "627  BRD-K42828737  sunitinib   FLT1  KIT inhibitor   \n",
       "628  BRD-K42828737  sunitinib   FLT3  KIT inhibitor   \n",
       "\n",
       "                                      canonical_smiles  \\\n",
       "37   O=C(NCC#N)c1ccc(cc1)-c1ccnc(Nc2ccc(cc2)N2CCOCC...   \n",
       "508  CC1(C)CCC(CN2CCN(CC2)c2ccc(C(=O)NS(=O)(=O)c3cc...   \n",
       "610  Nc1ncnc2n(nc(-c3ccc(Oc4ccccc4)cc3)c12)[C@@H]1C...   \n",
       "627  CCN(CC)CCNC(=O)c1c(C)[nH]c(C=C2/C(=O)Nc3ccc(F)...   \n",
       "628  CCN(CC)CCNC(=O)c1c(C)[nH]c(C=C2/C(=O)Nc3ccc(F)...   \n",
       "\n",
       "                       inchi_key  compound_aliases  \n",
       "37   ZVHNDZWQTBEVRY-UHFFFAOYSA-N       momelotinib  \n",
       "508  LQBVNQSMGBZMKD-UHFFFAOYSA-N        venetoclax  \n",
       "610  XYFPWWZEPKGCCK-GOSISDBHSA-N         PCI-32765  \n",
       "627  WINHZLLDWRZWRT-ATVHPVEESA-N  sunitinib-malate  \n",
       "628  WINHZLLDWRZWRT-ATVHPVEESA-N  sunitinib-malate  "
      ]
     },
     "execution_count": 4,
     "metadata": {},
     "output_type": "execute_result"
    }
   ],
   "source": [
    "drugspace = np.loadtxt('../../extdata/meta/drugspace.txt', dtype=str)\n",
    "druginfo = pd.read_csv('../../../data/compoundinfo_beta.txt', sep='\\t', low_memory=False)[lambda x: x.inchi_key.isin(drugspace)]\n",
    "pertid_space = druginfo.pert_id.unique()\n",
    "druginfo.head()"
   ]
  },
  {
   "cell_type": "code",
   "execution_count": 5,
   "metadata": {},
   "outputs": [
    {
     "data": {
      "text/plain": [
       "(844, 37)"
      ]
     },
     "execution_count": 5,
     "metadata": {},
     "output_type": "execute_result"
    }
   ],
   "source": [
    "siginfo = siginfo[lambda x: x.pert_id.isin(pertid_space) & (x.pert_dose == 10.) & (x.pert_time == 24.)]\n",
    "siginfo = siginfo[lambda x: x.is_exemplar_sig == 1]\n",
    "siginfo.shape "
   ]
  },
  {
   "cell_type": "code",
   "execution_count": 6,
   "metadata": {},
   "outputs": [
    {
     "name": "stdout",
     "output_type": "stream",
     "text": [
      "# drugs: 78\n"
     ]
    },
    {
     "data": {
      "text/plain": [
       "(290, 37)"
      ]
     },
     "execution_count": 6,
     "metadata": {},
     "output_type": "execute_result"
    }
   ],
   "source": [
    "# only include cell lines if there are at least 25 exemplar signatures\n",
    "#cell_lines = siginfo.groupby('cell_iname').count()[['sig_id']].sort_values('sig_id', ascending=False)[lambda x: x.sig_id > 5].index.tolist()\n",
    "#print('# cell lines:', len(cell_lines))\n",
    "\n",
    "siginfo = siginfo[lambda x: x.cell_iname.isin(VALID_CELL_LINES)]\n",
    "drugs = siginfo.pert_id.unique()\n",
    "print('# drugs:', len(drugs))\n",
    "siginfo.shape"
   ]
  },
  {
   "cell_type": "code",
   "execution_count": 7,
   "metadata": {},
   "outputs": [
    {
     "data": {
      "text/plain": [
       "(290, 37)"
      ]
     },
     "execution_count": 7,
     "metadata": {},
     "output_type": "execute_result"
    }
   ],
   "source": [
    "siginfo = siginfo.groupby(['cell_iname', 'pert_id']).first().reset_index()\n",
    "siginfo.shape"
   ]
  },
  {
   "cell_type": "code",
   "execution_count": 8,
   "metadata": {},
   "outputs": [],
   "source": [
    "hdf = h5py.File('../../../data/level5_beta_trt_cp_n720216x12328.gctx')"
   ]
  },
  {
   "cell_type": "code",
   "execution_count": 9,
   "metadata": {},
   "outputs": [],
   "source": [
    "hdf_ids = hdf['0']['META']['COL']['id'][...].astype(str)\n",
    "hdf_genes = hdf['0']['META']['ROW']['id'][...].astype(str)"
   ]
  },
  {
   "cell_type": "code",
   "execution_count": 10,
   "metadata": {},
   "outputs": [
    {
     "data": {
      "text/html": [
       "<div>\n",
       "<style scoped>\n",
       "    .dataframe tbody tr th:only-of-type {\n",
       "        vertical-align: middle;\n",
       "    }\n",
       "\n",
       "    .dataframe tbody tr th {\n",
       "        vertical-align: top;\n",
       "    }\n",
       "\n",
       "    .dataframe thead th {\n",
       "        text-align: right;\n",
       "    }\n",
       "</style>\n",
       "<table border=\"1\" class=\"dataframe\">\n",
       "  <thead>\n",
       "    <tr style=\"text-align: right;\">\n",
       "      <th></th>\n",
       "      <th>gene_id</th>\n",
       "      <th>gene_symbol</th>\n",
       "      <th>ensembl_id</th>\n",
       "      <th>gene_title</th>\n",
       "      <th>gene_type</th>\n",
       "      <th>src</th>\n",
       "      <th>feature_space</th>\n",
       "    </tr>\n",
       "  </thead>\n",
       "  <tbody>\n",
       "    <tr>\n",
       "      <th>0</th>\n",
       "      <td>750</td>\n",
       "      <td>GAS8-AS1</td>\n",
       "      <td>ENSG00000221819</td>\n",
       "      <td>GAS8 antisense RNA 1</td>\n",
       "      <td>ncRNA</td>\n",
       "      <td>NCBI</td>\n",
       "      <td>inferred</td>\n",
       "    </tr>\n",
       "    <tr>\n",
       "      <th>1</th>\n",
       "      <td>6315</td>\n",
       "      <td>ATXN8OS</td>\n",
       "      <td>NaN</td>\n",
       "      <td>ATXN8 opposite strand lncRNA</td>\n",
       "      <td>ncRNA</td>\n",
       "      <td>NCBI</td>\n",
       "      <td>inferred</td>\n",
       "    </tr>\n",
       "    <tr>\n",
       "      <th>2</th>\n",
       "      <td>7503</td>\n",
       "      <td>XIST</td>\n",
       "      <td>ENSG00000229807</td>\n",
       "      <td>X inactive specific transcript</td>\n",
       "      <td>ncRNA</td>\n",
       "      <td>NCBI</td>\n",
       "      <td>inferred</td>\n",
       "    </tr>\n",
       "    <tr>\n",
       "      <th>3</th>\n",
       "      <td>8552</td>\n",
       "      <td>INE1</td>\n",
       "      <td>ENSG00000224975</td>\n",
       "      <td>inactivation escape 1</td>\n",
       "      <td>ncRNA</td>\n",
       "      <td>NCBI</td>\n",
       "      <td>inferred</td>\n",
       "    </tr>\n",
       "    <tr>\n",
       "      <th>4</th>\n",
       "      <td>9834</td>\n",
       "      <td>FAM30A</td>\n",
       "      <td>ENSG00000226777</td>\n",
       "      <td>family with sequence similarity 30 member A</td>\n",
       "      <td>ncRNA</td>\n",
       "      <td>NCBI</td>\n",
       "      <td>inferred</td>\n",
       "    </tr>\n",
       "  </tbody>\n",
       "</table>\n",
       "</div>"
      ],
      "text/plain": [
       "  gene_id gene_symbol       ensembl_id  \\\n",
       "0     750    GAS8-AS1  ENSG00000221819   \n",
       "1    6315     ATXN8OS              NaN   \n",
       "2    7503        XIST  ENSG00000229807   \n",
       "3    8552        INE1  ENSG00000224975   \n",
       "4    9834      FAM30A  ENSG00000226777   \n",
       "\n",
       "                                    gene_title gene_type   src feature_space  \n",
       "0                         GAS8 antisense RNA 1     ncRNA  NCBI      inferred  \n",
       "1                 ATXN8 opposite strand lncRNA     ncRNA  NCBI      inferred  \n",
       "2               X inactive specific transcript     ncRNA  NCBI      inferred  \n",
       "3                        inactivation escape 1     ncRNA  NCBI      inferred  \n",
       "4  family with sequence similarity 30 member A     ncRNA  NCBI      inferred  "
      ]
     },
     "execution_count": 10,
     "metadata": {},
     "output_type": "execute_result"
    }
   ],
   "source": [
    "geneinfo = pd.read_csv('../../../data/geneinfo_beta.txt', sep='\\t', low_memory=False)\n",
    "geneinfo.gene_id = geneinfo.gene_id.astype(str)\n",
    "geneinfo.head()"
   ]
  },
  {
   "cell_type": "code",
   "execution_count": 11,
   "metadata": {},
   "outputs": [],
   "source": [
    "sig2hdfix = {sig: i for i, sig in enumerate(hdf_ids)}\n",
    "idxs = [sig2hdfix[sig] for sig in siginfo.sig_id.values]\n",
    "sorting_ixs = np.argsort(idxs)\n",
    "sorted_idxs = np.array(idxs)[sorting_ixs]\n",
    "sorted_sigids= siginfo.sig_id.values[sorting_ixs]"
   ]
  },
  {
   "cell_type": "code",
   "execution_count": 12,
   "metadata": {},
   "outputs": [
    {
     "data": {
      "text/plain": [
       "(290, 12328)"
      ]
     },
     "execution_count": 12,
     "metadata": {},
     "output_type": "execute_result"
    }
   ],
   "source": [
    "x = hdf['0']['DATA']['0']['matrix'][sorted_idxs]\n",
    "x.shape"
   ]
  },
  {
   "cell_type": "code",
   "execution_count": 13,
   "metadata": {},
   "outputs": [
    {
     "data": {
      "text/html": [
       "<div>\n",
       "<style scoped>\n",
       "    .dataframe tbody tr th:only-of-type {\n",
       "        vertical-align: middle;\n",
       "    }\n",
       "\n",
       "    .dataframe tbody tr th {\n",
       "        vertical-align: top;\n",
       "    }\n",
       "\n",
       "    .dataframe thead th {\n",
       "        text-align: right;\n",
       "    }\n",
       "</style>\n",
       "<table border=\"1\" class=\"dataframe\">\n",
       "  <thead>\n",
       "    <tr style=\"text-align: right;\">\n",
       "      <th></th>\n",
       "      <th>gene_id</th>\n",
       "      <th>sig_id</th>\n",
       "      <th>score</th>\n",
       "      <th>gene_symbol</th>\n",
       "      <th>feature_space</th>\n",
       "      <th>gene_type</th>\n",
       "      <th>cell_iname</th>\n",
       "      <th>pert_id</th>\n",
       "      <th>inchi_key</th>\n",
       "    </tr>\n",
       "  </thead>\n",
       "  <tbody>\n",
       "    <tr>\n",
       "      <th>0</th>\n",
       "      <td>100</td>\n",
       "      <td>ASG002_A549_24H:H04</td>\n",
       "      <td>1.14860</td>\n",
       "      <td>ADA</td>\n",
       "      <td>best inferred</td>\n",
       "      <td>protein-coding</td>\n",
       "      <td>A549</td>\n",
       "      <td>BRD-K02113016</td>\n",
       "      <td>FDLYAMZZIXQODN-UHFFFAOYSA-N</td>\n",
       "    </tr>\n",
       "    <tr>\n",
       "      <th>1</th>\n",
       "      <td>100</td>\n",
       "      <td>ASG002_A549_24H:H04</td>\n",
       "      <td>1.14860</td>\n",
       "      <td>ADA</td>\n",
       "      <td>best inferred</td>\n",
       "      <td>protein-coding</td>\n",
       "      <td>A549</td>\n",
       "      <td>BRD-K02113016</td>\n",
       "      <td>FDLYAMZZIXQODN-UHFFFAOYSA-N</td>\n",
       "    </tr>\n",
       "    <tr>\n",
       "      <th>2</th>\n",
       "      <td>100</td>\n",
       "      <td>ASG002_MCF7_24H:D22</td>\n",
       "      <td>0.35843</td>\n",
       "      <td>ADA</td>\n",
       "      <td>best inferred</td>\n",
       "      <td>protein-coding</td>\n",
       "      <td>MCF7</td>\n",
       "      <td>BRD-K92723993</td>\n",
       "      <td>KTUFNOKKBVMGRW-UHFFFAOYSA-N</td>\n",
       "    </tr>\n",
       "    <tr>\n",
       "      <th>3</th>\n",
       "      <td>100</td>\n",
       "      <td>ASG002_MCF7_24H:D22</td>\n",
       "      <td>0.35843</td>\n",
       "      <td>ADA</td>\n",
       "      <td>best inferred</td>\n",
       "      <td>protein-coding</td>\n",
       "      <td>MCF7</td>\n",
       "      <td>BRD-K92723993</td>\n",
       "      <td>KTUFNOKKBVMGRW-UHFFFAOYSA-N</td>\n",
       "    </tr>\n",
       "    <tr>\n",
       "      <th>4</th>\n",
       "      <td>100</td>\n",
       "      <td>ASG002_MCF7_24H:D22</td>\n",
       "      <td>0.35843</td>\n",
       "      <td>ADA</td>\n",
       "      <td>best inferred</td>\n",
       "      <td>protein-coding</td>\n",
       "      <td>MCF7</td>\n",
       "      <td>BRD-K92723993</td>\n",
       "      <td>KTUFNOKKBVMGRW-UHFFFAOYSA-N</td>\n",
       "    </tr>\n",
       "  </tbody>\n",
       "</table>\n",
       "</div>"
      ],
      "text/plain": [
       "  gene_id               sig_id    score gene_symbol  feature_space  \\\n",
       "0     100  ASG002_A549_24H:H04  1.14860         ADA  best inferred   \n",
       "1     100  ASG002_A549_24H:H04  1.14860         ADA  best inferred   \n",
       "2     100  ASG002_MCF7_24H:D22  0.35843         ADA  best inferred   \n",
       "3     100  ASG002_MCF7_24H:D22  0.35843         ADA  best inferred   \n",
       "4     100  ASG002_MCF7_24H:D22  0.35843         ADA  best inferred   \n",
       "\n",
       "        gene_type cell_iname        pert_id                    inchi_key  \n",
       "0  protein-coding       A549  BRD-K02113016  FDLYAMZZIXQODN-UHFFFAOYSA-N  \n",
       "1  protein-coding       A549  BRD-K02113016  FDLYAMZZIXQODN-UHFFFAOYSA-N  \n",
       "2  protein-coding       MCF7  BRD-K92723993  KTUFNOKKBVMGRW-UHFFFAOYSA-N  \n",
       "3  protein-coding       MCF7  BRD-K92723993  KTUFNOKKBVMGRW-UHFFFAOYSA-N  \n",
       "4  protein-coding       MCF7  BRD-K92723993  KTUFNOKKBVMGRW-UHFFFAOYSA-N  "
      ]
     },
     "execution_count": 13,
     "metadata": {},
     "output_type": "execute_result"
    }
   ],
   "source": [
    "res = pd.DataFrame(x, columns=hdf_genes, index=sorted_sigids).unstack().reset_index().rename({'level_0':'gene_id', 'level_1':'sig_id', 0:'score'}, axis=1)\n",
    "res = res.merge(geneinfo[['gene_id', 'gene_symbol', 'feature_space', 'gene_type']], on='gene_id', how='inner')\n",
    "res = res[lambda x: x.feature_space.isin(['best inferred', 'landmark']) & (x.gene_type == 'protein-coding')]\n",
    "res = res.merge(siginfo[['cell_iname', 'pert_id', 'sig_id']], on='sig_id', how='inner')\n",
    "res = res.merge(druginfo[['pert_id', 'inchi_key']], on='pert_id', how='inner')\n",
    "res.head()"
   ]
  },
  {
   "cell_type": "code",
   "execution_count": 14,
   "metadata": {},
   "outputs": [
    {
     "data": {
      "text/html": [
       "<div>\n",
       "<style scoped>\n",
       "    .dataframe tbody tr th:only-of-type {\n",
       "        vertical-align: middle;\n",
       "    }\n",
       "\n",
       "    .dataframe tbody tr th {\n",
       "        vertical-align: top;\n",
       "    }\n",
       "\n",
       "    .dataframe thead th {\n",
       "        text-align: right;\n",
       "    }\n",
       "</style>\n",
       "<table border=\"1\" class=\"dataframe\">\n",
       "  <thead>\n",
       "    <tr style=\"text-align: right;\">\n",
       "      <th></th>\n",
       "      <th>gene_name</th>\n",
       "      <th>id</th>\n",
       "      <th>organism</th>\n",
       "      <th>sequence</th>\n",
       "    </tr>\n",
       "  </thead>\n",
       "  <tbody>\n",
       "    <tr>\n",
       "      <th>0</th>\n",
       "      <td>A1BG</td>\n",
       "      <td>sp|P04217|A1BG_HUMAN</td>\n",
       "      <td>Homo sapiens</td>\n",
       "      <td>MSMLVVFLLLWGVTWGPVTEAAIFYETQPSLWAESESLLKPLANVT...</td>\n",
       "    </tr>\n",
       "    <tr>\n",
       "      <th>1</th>\n",
       "      <td>A1CF</td>\n",
       "      <td>sp|Q9NQ94|A1CF_HUMAN</td>\n",
       "      <td>Homo sapiens</td>\n",
       "      <td>MESNHKSGDGLSGTQKEAALRALVQRTGYSLVQENGQRKYGGPPPG...</td>\n",
       "    </tr>\n",
       "    <tr>\n",
       "      <th>2</th>\n",
       "      <td>A2M</td>\n",
       "      <td>sp|P01023|A2MG_HUMAN</td>\n",
       "      <td>Homo sapiens</td>\n",
       "      <td>MGKNKLLHPSLVLLLLVLLPTDASVSGKPQYMVLVPSLLHTETTEK...</td>\n",
       "    </tr>\n",
       "    <tr>\n",
       "      <th>3</th>\n",
       "      <td>A3GALT2</td>\n",
       "      <td>sp|U3KPV4|A3LT2_HUMAN</td>\n",
       "      <td>Homo sapiens</td>\n",
       "      <td>MALKEGLRAWKRIFWRQILLTLGLLGLFLYGLPKFRHLEALIPMGV...</td>\n",
       "    </tr>\n",
       "    <tr>\n",
       "      <th>4</th>\n",
       "      <td>A4GALT</td>\n",
       "      <td>sp|Q9NPC4|A4GAT_HUMAN</td>\n",
       "      <td>Homo sapiens</td>\n",
       "      <td>MSKPPDLLLRLLRGAPRQRVCTLFIIGFKFTFFVSIMIYWHVVGEP...</td>\n",
       "    </tr>\n",
       "  </tbody>\n",
       "</table>\n",
       "</div>"
      ],
      "text/plain": [
       "  gene_name                     id      organism  \\\n",
       "0      A1BG   sp|P04217|A1BG_HUMAN  Homo sapiens   \n",
       "1      A1CF   sp|Q9NQ94|A1CF_HUMAN  Homo sapiens   \n",
       "2       A2M   sp|P01023|A2MG_HUMAN  Homo sapiens   \n",
       "3   A3GALT2  sp|U3KPV4|A3LT2_HUMAN  Homo sapiens   \n",
       "4    A4GALT  sp|Q9NPC4|A4GAT_HUMAN  Homo sapiens   \n",
       "\n",
       "                                            sequence  \n",
       "0  MSMLVVFLLLWGVTWGPVTEAAIFYETQPSLWAESESLLKPLANVT...  \n",
       "1  MESNHKSGDGLSGTQKEAALRALVQRTGYSLVQENGQRKYGGPPPG...  \n",
       "2  MGKNKLLHPSLVLLLLVLLPTDASVSGKPQYMVLVPSLLHTETTEK...  \n",
       "3  MALKEGLRAWKRIFWRQILLTLGLLGLFLYGLPKFRHLEALIPMGV...  \n",
       "4  MSKPPDLLLRLLRGAPRQRVCTLFIIGFKFTFFVSIMIYWHVVGEP...  "
      ]
     },
     "execution_count": 14,
     "metadata": {},
     "output_type": "execute_result"
    }
   ],
   "source": [
    "kg_geneinfo = pd.read_csv('../../extdata/meta/gene2aa.csv')\n",
    "genespace = kg_geneinfo.gene_name.unique()\n",
    "kg_geneinfo.head()"
   ]
  },
  {
   "cell_type": "code",
   "execution_count": 15,
   "metadata": {},
   "outputs": [
    {
     "data": {
      "text/plain": [
       "7872"
      ]
     },
     "execution_count": 15,
     "metadata": {},
     "output_type": "execute_result"
    }
   ],
   "source": [
    "res = res[lambda x: x.gene_symbol.isin(genespace)]\n",
    "res.gene_symbol.nunique()"
   ]
  },
  {
   "cell_type": "code",
   "execution_count": 16,
   "metadata": {},
   "outputs": [
    {
     "data": {
      "image/png": "[encoded data removed]",
      "text/plain": [
       "<Figure size 640x480 with 1 Axes>"
      ]
     },
     "metadata": {},
     "output_type": "display_data"
    }
   ],
   "source": [
    "plt.figure()\n",
    "plt.hist(res.score.values, bins=200)\n",
    "plt.show()"
   ]
  },
  {
   "cell_type": "code",
   "execution_count": 17,
   "metadata": {},
   "outputs": [],
   "source": [
    "res = res.assign(perturbed = (res.score < -SCORE_THRESHOLD) | (res.score > SCORE_THRESHOLD))"
   ]
  },
  {
   "cell_type": "code",
   "execution_count": 18,
   "metadata": {},
   "outputs": [
    {
     "name": "stdout",
     "output_type": "stream",
     "text": [
      "MCF7 391\n",
      "SKB 254\n",
      "PC3 335\n",
      "VCAP 209\n",
      "PHH 297\n",
      "HT29 1127\n",
      "A549 457\n",
      "HA1E 633\n",
      "A375 847\n"
     ]
    }
   ],
   "source": [
    "for cell in VALID_CELL_LINES: \n",
    "\n",
    "    relations_fwd = res[lambda x: (x.cell_iname == cell) & x.perturbed]\n",
    "    relations_fwd = relations_fwd[['inchi_key', 'gene_symbol']].rename({'inchi_key':'src', 'gene_symbol':'dst'}, axis=1)\n",
    "    relations_fwd = relations_fwd.assign(src_type = 'drug', dst_type = 'gene', relation=f'{cell}_lincs_perturbation_fwd')\n",
    "    relations_fwd = relations_fwd.drop_duplicates()\n",
    "    relations_fwd.to_csv(f'../../extdata/relations/{cell}_lincs_perturbation_fwd.csv', index=False)\n",
    "\n",
    "    relations_rev = res[lambda x: (x.cell_iname == cell) & x.perturbed]\n",
    "    relations_rev = relations_rev[['inchi_key', 'gene_symbol']].rename({'inchi_key':'dst', 'gene_symbol':'src'}, axis=1)\n",
    "    relations_rev = relations_rev.assign(dst_type = 'drug', src_type = 'gene', relation=f'{cell}_lincs_perturbation_rev')\n",
    "    relations_rev = relations_rev.drop_duplicates()\n",
    "    relations_rev.to_csv(f'../../extdata/relations/{cell}_lincs_perturbation_rev.csv', index=False)\n",
    "\n",
    "    print(cell, relations_fwd.shape[0])"
   ]
  },
  {
   "cell_type": "code",
   "execution_count": null,
   "metadata": {},
   "outputs": [],
   "source": []
  }
 ],
 "metadata": {
  "kernelspec": {
   "display_name": "tkgdti",
   "language": "python",
   "name": "python3"
  },
  "language_info": {
   "codemirror_mode": {
    "name": "ipython",
    "version": 3
   },
   "file_extension": ".py",
   "mimetype": "text/x-python",
   "name": "python",
   "nbconvert_exporter": "python",
   "pygments_lexer": "ipython3",
   "version": "3.11.10"
  }
 },
 "nbformat": 4,
 "nbformat_minor": 2
}
