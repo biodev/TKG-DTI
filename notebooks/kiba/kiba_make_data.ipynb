{
 "cells": [
  {
   "cell_type": "code",
   "execution_count": 1,
   "metadata": {},
   "outputs": [
    {
     "name": "stderr",
     "output_type": "stream",
     "text": [
      "/home/teddy/miniconda3/envs/tkgdti/lib/python3.11/site-packages/tqdm/auto.py:21: TqdmWarning: IProgress not found. Please update jupyter and ipywidgets. See https://ipywidgets.readthedocs.io/en/stable/user_install.html\n",
      "  from .autonotebook import tqdm as notebook_tqdm\n"
     ]
    }
   ],
   "source": [
    "import kagglehub\n",
    "import os\n",
    "import sys\n",
    "import pandas as pd \n",
    "import numpy as np\n",
    "import torch \n",
    "from matplotlib import pyplot as plt\n",
    "\n",
    "from transformers import AutoTokenizer, AutoModel"
   ]
  },
  {
   "cell_type": "code",
   "execution_count": 2,
   "metadata": {},
   "outputs": [
    {
     "name": "stdout",
     "output_type": "stream",
     "text": [
      "Path to dataset files: /home/teddy/.cache/kagglehub/datasets/blk1804/kiba-drug-binding-dataset/versions/1\n"
     ]
    }
   ],
   "source": [
    "# Download latest version\n",
    "path = kagglehub.dataset_download(\"blk1804/kiba-drug-binding-dataset\")\n",
    "print(\"Path to dataset files:\", path)"
   ]
  },
  {
   "cell_type": "code",
   "execution_count": 3,
   "metadata": {},
   "outputs": [
    {
     "data": {
      "text/html": [
       "<div>\n",
       "<style scoped>\n",
       "    .dataframe tbody tr th:only-of-type {\n",
       "        vertical-align: middle;\n",
       "    }\n",
       "\n",
       "    .dataframe tbody tr th {\n",
       "        vertical-align: top;\n",
       "    }\n",
       "\n",
       "    .dataframe thead th {\n",
       "        text-align: right;\n",
       "    }\n",
       "</style>\n",
       "<table border=\"1\" class=\"dataframe\">\n",
       "  <thead>\n",
       "    <tr style=\"text-align: right;\">\n",
       "      <th></th>\n",
       "      <th>CHEMBLID</th>\n",
       "      <th>ProteinID</th>\n",
       "      <th>compound_iso_smiles</th>\n",
       "      <th>target_sequence</th>\n",
       "      <th>Ki , Kd and IC50  (KIBA Score)</th>\n",
       "    </tr>\n",
       "  </thead>\n",
       "  <tbody>\n",
       "    <tr>\n",
       "      <th>0</th>\n",
       "      <td>CHEMBL373751</td>\n",
       "      <td>P53350</td>\n",
       "      <td>COC1=C(C=C2C(=C1)N=CN2C3=CC(=C(S3)C#N)OCC4=CC=...</td>\n",
       "      <td>MSAAVTAGKLARAPADPGKAGVPGVAAPGAPAAAPPAKEIPEVLVD...</td>\n",
       "      <td>0.0</td>\n",
       "    </tr>\n",
       "    <tr>\n",
       "      <th>1</th>\n",
       "      <td>CHEMBL373751</td>\n",
       "      <td>P00533</td>\n",
       "      <td>COC1=C(C=C2C(=C1)N=CN2C3=CC(=C(S3)C#N)OCC4=CC=...</td>\n",
       "      <td>MRPSGTAGAALLALLAALCPASRALEEKKVCQGTSNKLTQLGTFED...</td>\n",
       "      <td>1.1</td>\n",
       "    </tr>\n",
       "    <tr>\n",
       "      <th>2</th>\n",
       "      <td>CHEMBL373751</td>\n",
       "      <td>P04626</td>\n",
       "      <td>COC1=C(C=C2C(=C1)N=CN2C3=CC(=C(S3)C#N)OCC4=CC=...</td>\n",
       "      <td>MELAALCRWGLLLALLPPGAASTQVCTGTDMKLRLPASPETHLDML...</td>\n",
       "      <td>1.1</td>\n",
       "    </tr>\n",
       "    <tr>\n",
       "      <th>3</th>\n",
       "      <td>CHEMBL373751</td>\n",
       "      <td>P49840</td>\n",
       "      <td>COC1=C(C=C2C(=C1)N=CN2C3=CC(=C(S3)C#N)OCC4=CC=...</td>\n",
       "      <td>MSGGGPSGGGPGGSGRARTSSFAEPGGGGGGGGGGPGGSASGPGGT...</td>\n",
       "      <td>1.3</td>\n",
       "    </tr>\n",
       "    <tr>\n",
       "      <th>4</th>\n",
       "      <td>CHEMBL373751</td>\n",
       "      <td>P49841</td>\n",
       "      <td>COC1=C(C=C2C(=C1)N=CN2C3=CC(=C(S3)C#N)OCC4=CC=...</td>\n",
       "      <td>MSGRPRTTSFAESCKPVQQPSAFGSMKVSRDKDGSKVTTVVATPGQ...</td>\n",
       "      <td>1.3</td>\n",
       "    </tr>\n",
       "  </tbody>\n",
       "</table>\n",
       "</div>"
      ],
      "text/plain": [
       "       CHEMBLID ProteinID                                compound_iso_smiles  \\\n",
       "0  CHEMBL373751    P53350  COC1=C(C=C2C(=C1)N=CN2C3=CC(=C(S3)C#N)OCC4=CC=...   \n",
       "1  CHEMBL373751    P00533  COC1=C(C=C2C(=C1)N=CN2C3=CC(=C(S3)C#N)OCC4=CC=...   \n",
       "2  CHEMBL373751    P04626  COC1=C(C=C2C(=C1)N=CN2C3=CC(=C(S3)C#N)OCC4=CC=...   \n",
       "3  CHEMBL373751    P49840  COC1=C(C=C2C(=C1)N=CN2C3=CC(=C(S3)C#N)OCC4=CC=...   \n",
       "4  CHEMBL373751    P49841  COC1=C(C=C2C(=C1)N=CN2C3=CC(=C(S3)C#N)OCC4=CC=...   \n",
       "\n",
       "                                     target_sequence  \\\n",
       "0  MSAAVTAGKLARAPADPGKAGVPGVAAPGAPAAAPPAKEIPEVLVD...   \n",
       "1  MRPSGTAGAALLALLAALCPASRALEEKKVCQGTSNKLTQLGTFED...   \n",
       "2  MELAALCRWGLLLALLPPGAASTQVCTGTDMKLRLPASPETHLDML...   \n",
       "3  MSGGGPSGGGPGGSGRARTSSFAEPGGGGGGGGGGPGGSASGPGGT...   \n",
       "4  MSGRPRTTSFAESCKPVQQPSAFGSMKVSRDKDGSKVTTVVATPGQ...   \n",
       "\n",
       "   Ki , Kd and IC50  (KIBA Score)  \n",
       "0                             0.0  \n",
       "1                             1.1  \n",
       "2                             1.1  \n",
       "3                             1.3  \n",
       "4                             1.3  "
      ]
     },
     "execution_count": 3,
     "metadata": {},
     "output_type": "execute_result"
    }
   ],
   "source": [
    "kiba = pd.read_csv(os.path.join(path, \"KIBA.csv\"))\n",
    "kiba.head()"
   ]
  },
  {
   "cell_type": "code",
   "execution_count": 4,
   "metadata": {},
   "outputs": [
    {
     "name": "stdout",
     "output_type": "stream",
     "text": [
      "Number of drugs: 2111\n",
      "Number of proteins: 229\n"
     ]
    },
    {
     "data": {
      "text/html": [
       "<div>\n",
       "<style scoped>\n",
       "    .dataframe tbody tr th:only-of-type {\n",
       "        vertical-align: middle;\n",
       "    }\n",
       "\n",
       "    .dataframe tbody tr th {\n",
       "        vertical-align: top;\n",
       "    }\n",
       "\n",
       "    .dataframe thead th {\n",
       "        text-align: right;\n",
       "    }\n",
       "</style>\n",
       "<table border=\"1\" class=\"dataframe\">\n",
       "  <thead>\n",
       "    <tr style=\"text-align: right;\">\n",
       "      <th></th>\n",
       "      <th>CHEMBLID</th>\n",
       "      <th>ProteinID</th>\n",
       "      <th>compound_iso_smiles</th>\n",
       "      <th>target_sequence</th>\n",
       "      <th>Ki , Kd and IC50  (KIBA Score)</th>\n",
       "      <th>drug_idx</th>\n",
       "      <th>prot_idx</th>\n",
       "    </tr>\n",
       "  </thead>\n",
       "  <tbody>\n",
       "    <tr>\n",
       "      <th>0</th>\n",
       "      <td>CHEMBL373751</td>\n",
       "      <td>P53350</td>\n",
       "      <td>COC1=C(C=C2C(=C1)N=CN2C3=CC(=C(S3)C#N)OCC4=CC=...</td>\n",
       "      <td>MSAAVTAGKLARAPADPGKAGVPGVAAPGAPAAAPPAKEIPEVLVD...</td>\n",
       "      <td>0.0</td>\n",
       "      <td>0</td>\n",
       "      <td>0</td>\n",
       "    </tr>\n",
       "    <tr>\n",
       "      <th>1</th>\n",
       "      <td>CHEMBL373751</td>\n",
       "      <td>P00533</td>\n",
       "      <td>COC1=C(C=C2C(=C1)N=CN2C3=CC(=C(S3)C#N)OCC4=CC=...</td>\n",
       "      <td>MRPSGTAGAALLALLAALCPASRALEEKKVCQGTSNKLTQLGTFED...</td>\n",
       "      <td>1.1</td>\n",
       "      <td>0</td>\n",
       "      <td>1</td>\n",
       "    </tr>\n",
       "    <tr>\n",
       "      <th>2</th>\n",
       "      <td>CHEMBL373751</td>\n",
       "      <td>P04626</td>\n",
       "      <td>COC1=C(C=C2C(=C1)N=CN2C3=CC(=C(S3)C#N)OCC4=CC=...</td>\n",
       "      <td>MELAALCRWGLLLALLPPGAASTQVCTGTDMKLRLPASPETHLDML...</td>\n",
       "      <td>1.1</td>\n",
       "      <td>0</td>\n",
       "      <td>2</td>\n",
       "    </tr>\n",
       "    <tr>\n",
       "      <th>3</th>\n",
       "      <td>CHEMBL373751</td>\n",
       "      <td>P49840</td>\n",
       "      <td>COC1=C(C=C2C(=C1)N=CN2C3=CC(=C(S3)C#N)OCC4=CC=...</td>\n",
       "      <td>MSGGGPSGGGPGGSGRARTSSFAEPGGGGGGGGGGPGGSASGPGGT...</td>\n",
       "      <td>1.3</td>\n",
       "      <td>0</td>\n",
       "      <td>3</td>\n",
       "    </tr>\n",
       "    <tr>\n",
       "      <th>4</th>\n",
       "      <td>CHEMBL373751</td>\n",
       "      <td>P49841</td>\n",
       "      <td>COC1=C(C=C2C(=C1)N=CN2C3=CC(=C(S3)C#N)OCC4=CC=...</td>\n",
       "      <td>MSGRPRTTSFAESCKPVQQPSAFGSMKVSRDKDGSKVTTVVATPGQ...</td>\n",
       "      <td>1.3</td>\n",
       "      <td>0</td>\n",
       "      <td>4</td>\n",
       "    </tr>\n",
       "  </tbody>\n",
       "</table>\n",
       "</div>"
      ],
      "text/plain": [
       "       CHEMBLID ProteinID                                compound_iso_smiles  \\\n",
       "0  CHEMBL373751    P53350  COC1=C(C=C2C(=C1)N=CN2C3=CC(=C(S3)C#N)OCC4=CC=...   \n",
       "1  CHEMBL373751    P00533  COC1=C(C=C2C(=C1)N=CN2C3=CC(=C(S3)C#N)OCC4=CC=...   \n",
       "2  CHEMBL373751    P04626  COC1=C(C=C2C(=C1)N=CN2C3=CC(=C(S3)C#N)OCC4=CC=...   \n",
       "3  CHEMBL373751    P49840  COC1=C(C=C2C(=C1)N=CN2C3=CC(=C(S3)C#N)OCC4=CC=...   \n",
       "4  CHEMBL373751    P49841  COC1=C(C=C2C(=C1)N=CN2C3=CC(=C(S3)C#N)OCC4=CC=...   \n",
       "\n",
       "                                     target_sequence  \\\n",
       "0  MSAAVTAGKLARAPADPGKAGVPGVAAPGAPAAAPPAKEIPEVLVD...   \n",
       "1  MRPSGTAGAALLALLAALCPASRALEEKKVCQGTSNKLTQLGTFED...   \n",
       "2  MELAALCRWGLLLALLPPGAASTQVCTGTDMKLRLPASPETHLDML...   \n",
       "3  MSGGGPSGGGPGGSGRARTSSFAEPGGGGGGGGGGPGGSASGPGGT...   \n",
       "4  MSGRPRTTSFAESCKPVQQPSAFGSMKVSRDKDGSKVTTVVATPGQ...   \n",
       "\n",
       "   Ki , Kd and IC50  (KIBA Score)  drug_idx  prot_idx  \n",
       "0                             0.0         0         0  \n",
       "1                             1.1         0         1  \n",
       "2                             1.1         0         2  \n",
       "3                             1.3         0         3  \n",
       "4                             1.3         0         4  "
      ]
     },
     "execution_count": 4,
     "metadata": {},
     "output_type": "execute_result"
    }
   ],
   "source": [
    "drugs = kiba[['CHEMBLID', 'compound_iso_smiles']].drop_duplicates()\n",
    "prots = kiba[['ProteinID', 'target_sequence']].drop_duplicates()\n",
    "\n",
    "print(\"Number of drugs:\", len(drugs))\n",
    "print(\"Number of proteins:\", len(prots))\n",
    "\n",
    "drug2idx = {d: i for i, d in enumerate(drugs['CHEMBLID'])}\n",
    "prot2idx = {p: i for i, p in enumerate(prots['ProteinID'])}\n",
    "\n",
    "kiba = kiba.assign(drug_idx=kiba['CHEMBLID'].map(drug2idx))\n",
    "kiba = kiba.assign(prot_idx=kiba['ProteinID'].map(prot2idx))\n",
    "kiba.head()"
   ]
  },
  {
   "cell_type": "code",
   "execution_count": 5,
   "metadata": {},
   "outputs": [
    {
     "name": "stdout",
     "output_type": "stream",
     "text": [
      "Max length of SMILES: 512\n",
      "torch.Size([2111, 768])\n"
     ]
    }
   ],
   "source": [
    "model_name = \"seyonec/ChemBERTa-zinc-base-v1\"\n",
    "\n",
    "tokenizer = AutoTokenizer.from_pretrained(model_name)\n",
    "model = AutoModel.from_pretrained(model_name).cuda()\n",
    "\n",
    "smiles = drugs['compound_iso_smiles'].values.tolist()\n",
    "max_len = 512\n",
    "print(\"Max length of SMILES:\", max_len)\n",
    "\n",
    "inputs = tokenizer(\n",
    "    smiles,\n",
    "    return_tensors=\"pt\",\n",
    "    padding=True,\n",
    "    truncation=True,\n",
    "    max_length=max_len  # Adjust max_length as needed\n",
    ")\n",
    "\n",
    "batch_size = 500\n",
    "outputs = []\n",
    "\n",
    "with torch.no_grad():\n",
    "\n",
    "    for i in range(0, len(smiles), batch_size):\n",
    "        batch_inputs = {k: v[i:i+batch_size].cuda() for k, v in inputs.items()}\n",
    "        batch_outputs = model(**batch_inputs)\n",
    "        outputs.append(batch_outputs.last_hidden_state[:, 0, :])\n",
    "\n",
    "# Concatenate all batch outputs\n",
    "z_drug = torch.cat(outputs, dim=0)\n",
    "\n",
    "print(z_drug.shape)"
   ]
  },
  {
   "cell_type": "code",
   "execution_count": 6,
   "metadata": {},
   "outputs": [],
   "source": [
    "aas = prots['target_sequence'].values.tolist()\n",
    "\n",
    "model_name = \"Rostlab/prot_bert\"\n",
    "\n",
    "tokenizer = AutoTokenizer.from_pretrained(model_name, do_lower_case=False)\n",
    "model = AutoModel.from_pretrained(model_name)\n",
    "\n",
    "def prepare_sequence(seq):\n",
    "    seq = ' '.join(list(seq))\n",
    "    return f\"[CLS] {seq} [SEP]\"\n",
    "\n",
    "sequences_prepared = [prepare_sequence(seq) for seq in aas]"
   ]
  },
  {
   "cell_type": "code",
   "execution_count": 7,
   "metadata": {},
   "outputs": [
    {
     "data": {
      "image/png": "[encoded data removed]",
      "text/plain": [
       "<Figure size 640x480 with 1 Axes>"
      ]
     },
     "metadata": {},
     "output_type": "display_data"
    }
   ],
   "source": [
    "plt.figure()\n",
    "plt.hist([len(aa) for aa in aas], bins=25)\n",
    "plt.show()\n",
    "\n",
    "max_len = 1500"
   ]
  },
  {
   "cell_type": "code",
   "execution_count": 8,
   "metadata": {},
   "outputs": [],
   "source": [
    "inputs = tokenizer(\n",
    "    sequences_prepared,\n",
    "    return_tensors=\"pt\",\n",
    "    padding=True,\n",
    "    truncation=True,\n",
    "    max_length=max_len  # Adjust as needed\n",
    ")"
   ]
  },
  {
   "cell_type": "code",
   "execution_count": 9,
   "metadata": {},
   "outputs": [
    {
     "name": "stdout",
     "output_type": "stream",
     "text": [
      "torch.Size([229, 1024])\n"
     ]
    }
   ],
   "source": [
    "device = torch.device(\"cuda\" if torch.cuda.is_available() else \"cpu\")\n",
    "model.to(device)\n",
    "inputs = {key: value.to(device) for key, value in inputs.items()}\n",
    "\n",
    "batch_size = 32\n",
    "outputs = []\n",
    "for i in range(0, len(inputs['input_ids']), batch_size):\n",
    "    print(f'progress: {i}/{len(inputs[\"input_ids\"])}', end='\\r')\n",
    "    batch_inputs = {key: value[i:i+batch_size] for key, value in inputs.items()}\n",
    "    with torch.no_grad():\n",
    "        batch_outputs = model(**batch_inputs)\n",
    "    outputs.append(batch_outputs.last_hidden_state[:, 0, :])\n",
    "    \n",
    "z_prot = torch.cat(outputs, dim=0)\n",
    "print(z_prot.shape)"
   ]
  },
  {
   "cell_type": "code",
   "execution_count": 10,
   "metadata": {},
   "outputs": [],
   "source": [
    "os.makedirs(\"../../extdata/kiba\", exist_ok=True)\n",
    "kiba.to_csv(\"../../extdata/kiba/kiba.csv\", index=False)\n",
    "drugs.to_csv(\"../../extdata/kiba/drugs.csv\", index=False)\n",
    "prots.to_csv(\"../../extdata/kiba/prots.csv\", index=False)\n",
    "torch.save(z_drug, \"../../extdata/kiba/z_drug.pt\")\n",
    "torch.save(z_prot, \"../../extdata/kiba/z_prot.pt\")"
   ]
  },
  {
   "cell_type": "code",
   "execution_count": null,
   "metadata": {},
   "outputs": [],
   "source": []
  }
 ],
 "metadata": {
  "kernelspec": {
   "display_name": "tkgdti",
   "language": "python",
   "name": "python3"
  },
  "language_info": {
   "codemirror_mode": {
    "name": "ipython",
    "version": 3
   },
   "file_extension": ".py",
   "mimetype": "text/x-python",
   "name": "python",
   "nbconvert_exporter": "python",
   "pygments_lexer": "ipython3",
   "version": "3.11.10"
  }
 },
 "nbformat": 4,
 "nbformat_minor": 2
}
