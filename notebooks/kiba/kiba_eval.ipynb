{
 "cells": [
  {
   "cell_type": "code",
   "execution_count": 1,
   "metadata": {},
   "outputs": [
    {
     "name": "stderr",
     "output_type": "stream",
     "text": [
      "/home/teddy/miniconda3/envs/tkgdti/lib/python3.11/site-packages/tqdm/auto.py:21: TqdmWarning: IProgress not found. Please update jupyter and ipywidgets. See https://ipywidgets.readthedocs.io/en/stable/user_install.html\n",
      "  from .autonotebook import tqdm as notebook_tqdm\n"
     ]
    }
   ],
   "source": [
    "import torch \n",
    "from hnet.train.hnet import train_hnet\n",
    "import pandas as pd \n",
    "from matplotlib import pyplot as plt\n",
    "import numpy as np\n",
    "from sklearn.metrics import r2_score\n",
    "from hnet.models.MLP import MLP \n",
    "from hnet.models.HyperNet import HyperNet\n",
    "from hnet.train.hnet import EnergyDistanceLoss \n",
    "from datasets import load_dataset\n",
    "from transformers import AutoTokenizer, AutoModel\n",
    "from sklearn.metrics import roc_auc_score"
   ]
  },
  {
   "cell_type": "code",
   "execution_count": 2,
   "metadata": {},
   "outputs": [
    {
     "data": {
      "text/html": [
       "<div>\n",
       "<style scoped>\n",
       "    .dataframe tbody tr th:only-of-type {\n",
       "        vertical-align: middle;\n",
       "    }\n",
       "\n",
       "    .dataframe tbody tr th {\n",
       "        vertical-align: top;\n",
       "    }\n",
       "\n",
       "    .dataframe thead th {\n",
       "        text-align: right;\n",
       "    }\n",
       "</style>\n",
       "<table border=\"1\" class=\"dataframe\">\n",
       "  <thead>\n",
       "    <tr style=\"text-align: right;\">\n",
       "      <th></th>\n",
       "      <th>inhibitor</th>\n",
       "      <th>Symbol</th>\n",
       "      <th>GeneID</th>\n",
       "      <th>targetome_adj_tier</th>\n",
       "      <th>smiles</th>\n",
       "      <th>inchikey</th>\n",
       "      <th>AA</th>\n",
       "    </tr>\n",
       "  </thead>\n",
       "  <tbody>\n",
       "    <tr>\n",
       "      <th>0</th>\n",
       "      <td>ABT-737</td>\n",
       "      <td>BAD</td>\n",
       "      <td>572</td>\n",
       "      <td>TIER_1</td>\n",
       "      <td>CN(C)CCC(CSC1=CC=CC=C1)NC2=C(C=C(C=C2)S(=O)(=O...</td>\n",
       "      <td>HPLNQCPCUACXLM-PGUFJCEWSA-N</td>\n",
       "      <td>MFQIPEFEPSEQEDSSSAERGLGPSPAGDGPSGSGKHHRQAPGLLW...</td>\n",
       "    </tr>\n",
       "    <tr>\n",
       "      <th>1</th>\n",
       "      <td>Palbociclib</td>\n",
       "      <td>CCND1</td>\n",
       "      <td>595</td>\n",
       "      <td>TIER_1</td>\n",
       "      <td>CC1=C(C(=O)N(C2=NC(=NC=C12)NC3=NC=C(C=C3)N4CCN...</td>\n",
       "      <td>AHJRHEGDXFFMBM-UHFFFAOYSA-N</td>\n",
       "      <td>MEHQLLCCEVETIRRAYPDANLLNDRVLRAMLKAEETCAPSVSYFK...</td>\n",
       "    </tr>\n",
       "    <tr>\n",
       "      <th>2</th>\n",
       "      <td>Flavopiridol</td>\n",
       "      <td>CCNT1</td>\n",
       "      <td>904</td>\n",
       "      <td>TIER_1</td>\n",
       "      <td>CN1CCC(C(C1)O)C2=C(C=C(C3=C2OC(=CC3=O)C4=CC=CC...</td>\n",
       "      <td>BIIVYFLTOXDAOV-YVEFUNNKSA-N</td>\n",
       "      <td>MEGERKNNNKRWYFTREQLENSPSRRFGVDPDKELSYRQQAANLLQ...</td>\n",
       "    </tr>\n",
       "    <tr>\n",
       "      <th>3</th>\n",
       "      <td>Bortezomib (Velcade)</td>\n",
       "      <td>PSMA1</td>\n",
       "      <td>5682</td>\n",
       "      <td>TIER_1</td>\n",
       "      <td>B(C(CC(C)C)NC(=O)C(CC1=CC=CC=C1)NC(=O)C2=NC=CN...</td>\n",
       "      <td>GXJABQQUPOEUTA-RDJZCZTQSA-N</td>\n",
       "      <td>MFRNQYDNDVTVWSPQGRIHQIEYAMEAVKQGSATVGLKSKTHAVL...</td>\n",
       "    </tr>\n",
       "    <tr>\n",
       "      <th>4</th>\n",
       "      <td>Bortezomib (Velcade)</td>\n",
       "      <td>PSMA2</td>\n",
       "      <td>5683</td>\n",
       "      <td>TIER_1</td>\n",
       "      <td>B(C(CC(C)C)NC(=O)C(CC1=CC=CC=C1)NC(=O)C2=NC=CN...</td>\n",
       "      <td>GXJABQQUPOEUTA-RDJZCZTQSA-N</td>\n",
       "      <td>MAERGYSFSLTTFSPSGKLVQIEYALAAVAGGAPSVGIKAANGVVL...</td>\n",
       "    </tr>\n",
       "  </tbody>\n",
       "</table>\n",
       "</div>"
      ],
      "text/plain": [
       "              inhibitor Symbol  GeneID targetome_adj_tier  \\\n",
       "0               ABT-737    BAD     572             TIER_1   \n",
       "1           Palbociclib  CCND1     595             TIER_1   \n",
       "2          Flavopiridol  CCNT1     904             TIER_1   \n",
       "3  Bortezomib (Velcade)  PSMA1    5682             TIER_1   \n",
       "4  Bortezomib (Velcade)  PSMA2    5683             TIER_1   \n",
       "\n",
       "                                              smiles  \\\n",
       "0  CN(C)CCC(CSC1=CC=CC=C1)NC2=C(C=C(C=C2)S(=O)(=O...   \n",
       "1  CC1=C(C(=O)N(C2=NC(=NC=C12)NC3=NC=C(C=C3)N4CCN...   \n",
       "2  CN1CCC(C(C1)O)C2=C(C=C(C3=C2OC(=CC3=O)C4=CC=CC...   \n",
       "3  B(C(CC(C)C)NC(=O)C(CC1=CC=CC=C1)NC(=O)C2=NC=CN...   \n",
       "4  B(C(CC(C)C)NC(=O)C(CC1=CC=CC=C1)NC(=O)C2=NC=CN...   \n",
       "\n",
       "                      inchikey  \\\n",
       "0  HPLNQCPCUACXLM-PGUFJCEWSA-N   \n",
       "1  AHJRHEGDXFFMBM-UHFFFAOYSA-N   \n",
       "2  BIIVYFLTOXDAOV-YVEFUNNKSA-N   \n",
       "3  GXJABQQUPOEUTA-RDJZCZTQSA-N   \n",
       "4  GXJABQQUPOEUTA-RDJZCZTQSA-N   \n",
       "\n",
       "                                                  AA  \n",
       "0  MFQIPEFEPSEQEDSSSAERGLGPSPAGDGPSGSGKHHRQAPGLLW...  \n",
       "1  MEHQLLCCEVETIRRAYPDANLLNDRVLRAMLKAEETCAPSVSYFK...  \n",
       "2  MEGERKNNNKRWYFTREQLENSPSRRFGVDPDKELSYRQQAANLLQ...  \n",
       "3  MFRNQYDNDVTVWSPQGRIHQIEYAMEAVKQGSATVGLKSKTHAVL...  \n",
       "4  MAERGYSFSLTTFSPSGKLVQIEYALAAVAGGAPSVGIKAANGVVL...  "
      ]
     },
     "execution_count": 2,
     "metadata": {},
     "output_type": "execute_result"
    }
   ],
   "source": [
    "tdf = pd.read_csv('../../extdata/meta/targetome__drug_interacts_protein.csv')\n",
    "tdf.head()"
   ]
  },
  {
   "cell_type": "code",
   "execution_count": 3,
   "metadata": {},
   "outputs": [],
   "source": [
    "smiles = tdf['smiles'].unique().astype(str).tolist()\n",
    "aas = tdf['AA'].unique().astype(str).tolist()"
   ]
  },
  {
   "cell_type": "code",
   "execution_count": 4,
   "metadata": {},
   "outputs": [
    {
     "name": "stdout",
     "output_type": "stream",
     "text": [
      "Max length of SMILES: 512\n",
      "encoding smiles...\n",
      "Processing batch 1/1\n",
      "torch.Size([89, 768])\n"
     ]
    }
   ],
   "source": [
    "model_name = \"seyonec/ChemBERTa-zinc-base-v1\"\n",
    "\n",
    "max_len = 512\n",
    "print(\"Max length of SMILES:\", max_len)\n",
    "\n",
    "tokenizer = AutoTokenizer.from_pretrained(model_name)\n",
    "model = AutoModel.from_pretrained(model_name).cuda()\n",
    "\n",
    "batch_size = 250\n",
    "outputs = []\n",
    "\n",
    "print('encoding smiles...')\n",
    "with torch.no_grad():\n",
    "\n",
    "    for i in range(0, len(smiles), batch_size):\n",
    "        print(f\"Processing batch {i // batch_size + 1}/{len(smiles) // batch_size + 1}\", end=\"\\r\")\n",
    "        smiles_batch = smiles[i:i+batch_size] \n",
    "        \n",
    "        inputs = tokenizer(\n",
    "            smiles_batch,\n",
    "            return_tensors=\"pt\",\n",
    "            padding=True,\n",
    "            truncation=True,\n",
    "            max_length=max_len  # Adjust max_length as needed\n",
    "        )\n",
    "\n",
    "        inputs = {k: v.cuda() for k, v in inputs.items()}\n",
    "        batch_outputs = model(**inputs)\n",
    "        outputs.append(batch_outputs.last_hidden_state[:, 0, :].cpu())\n",
    "\n",
    "# Concatenate all batch outputs\n",
    "z_drug = torch.cat(outputs, dim=0)\n",
    "print()\n",
    "\n",
    "print(z_drug.shape)"
   ]
  },
  {
   "cell_type": "code",
   "execution_count": 5,
   "metadata": {},
   "outputs": [
    {
     "name": "stdout",
     "output_type": "stream",
     "text": [
      "torch.Size([214, 1024])\n"
     ]
    }
   ],
   "source": [
    "model_name = \"Rostlab/prot_bert\"\n",
    "\n",
    "tokenizer = AutoTokenizer.from_pretrained(model_name, do_lower_case=False)\n",
    "model = AutoModel.from_pretrained(model_name)\n",
    "\n",
    "def prepare_sequence(seq):\n",
    "    seq = ' '.join(list(seq))\n",
    "    return f\"[CLS] {seq} [SEP]\"\n",
    "\n",
    "sequences_prepared = [prepare_sequence(seq) for seq in aas]\n",
    "\n",
    "device = torch.device(\"cuda\" if torch.cuda.is_available() else \"cpu\")\n",
    "model.to(device)\n",
    "\n",
    "batch_size = 25\n",
    "max_len = 1500\n",
    "outputs = []\n",
    "for i in range(0, len(aas), batch_size):\n",
    "    print(f'progress: {i}/{len(aas)}', end='\\r')\n",
    "\n",
    "    inputs = tokenizer(\n",
    "        sequences_prepared[i:i+batch_size],\n",
    "        return_tensors=\"pt\",\n",
    "        padding=True,\n",
    "        truncation=True,\n",
    "        max_length=max_len  # Adjust as needed\n",
    "    )\n",
    "\n",
    "    batch_inputs = {key: value.cuda() for key, value in inputs.items()}\n",
    "    with torch.no_grad():\n",
    "        batch_outputs = model(**batch_inputs)\n",
    "    outputs.append(batch_outputs.last_hidden_state[:, 0, :].cpu())\n",
    "    torch.cuda.empty_cache()\n",
    "    \n",
    "z_prot = torch.cat(outputs, dim=0)\n",
    "print(z_prot.shape)"
   ]
  },
  {
   "cell_type": "code",
   "execution_count": 6,
   "metadata": {},
   "outputs": [],
   "source": [
    "smiles2idx = {smile: i for i, smile in enumerate(smiles)}\n",
    "aas2idx = {aa: i for i, aa in enumerate(aas)}\n",
    "\n",
    "tdf = tdf.assign(drug_idx=tdf.smiles.map(smiles2idx))\n",
    "tdf = tdf.assign(prot_idx=tdf.AA.map(aas2idx))"
   ]
  },
  {
   "cell_type": "code",
   "execution_count": 7,
   "metadata": {},
   "outputs": [
    {
     "name": "stderr",
     "output_type": "stream",
     "text": [
      "/tmp/ipykernel_28026/2890264594.py:1: FutureWarning: You are using `torch.load` with `weights_only=False` (the current default value), which uses the default pickle module implicitly. It is possible to construct malicious pickle data which will execute arbitrary code during unpickling (See https://github.com/pytorch/pytorch/blob/main/SECURITY.md#untrusted-models for more details). In a future release, the default value for `weights_only` will be flipped to `True`. This limits the functions that could be executed during unpickling. Arbitrary objects will no longer be allowed to be loaded via this mode unless they are explicitly allowlisted by the user via `torch.serialization.add_safe_globals`. We recommend you start setting `weights_only=True` for any use case where you don't have full control of the loaded file. Please open an issue on GitHub for any issues related to this experimental feature.\n",
      "  model = torch.load('model.pt').cpu()\n"
     ]
    }
   ],
   "source": [
    "model = torch.load('model.pt').cpu()"
   ]
  },
  {
   "cell_type": "code",
   "execution_count": 8,
   "metadata": {},
   "outputs": [
    {
     "name": "stdout",
     "output_type": "stream",
     "text": [
      "# positive samples: 422\n",
      "# negative samples: 18624\n"
     ]
    }
   ],
   "source": [
    "#rand_drug_idx = torch.randint(0, len(smiles), size=(1000,), dtype=torch.long)\n",
    "#rand_prot_idx = torch.randint(0, len(aas), size=(1000,), dtype=torch.long)\n",
    "\n",
    "drug_idx = torch.tensor(tdf.drug_idx.values, dtype=torch.long)\n",
    "prot_idx = torch.tensor(tdf.prot_idx.values, dtype=torch.long)\n",
    "\n",
    "A = torch.zeros(len(smiles), len(aas))\n",
    "A[drug_idx, prot_idx] = 1 \n",
    "Anot = ~(A.bool())\n",
    "neg_drug_idx, neg_prot_idx = Anot.nonzero(as_tuple=True)\n",
    "\n",
    "x_pos = torch.cat([z_drug[drug_idx], z_prot[prot_idx]], dim=1).float()\n",
    "x_neg = torch.cat([z_drug[neg_drug_idx], z_prot[neg_prot_idx]], dim=1).float()\n",
    "\n",
    "print('# positive samples:', len(x_pos))\n",
    "print('# negative samples:', len(x_neg))\n",
    "\n",
    "y = torch.cat([torch.ones(len(tdf)), torch.zeros(x_neg.size(0))], dim=0).float()\n",
    "\n",
    "with torch.no_grad(): \n",
    "    yhat_pos = model(x_pos, samples=100)\n",
    "    yhat_neg = model(x_neg, samples=100)\n",
    "\n",
    "yhat = torch.cat([yhat_pos, yhat_neg], dim=1)"
   ]
  },
  {
   "cell_type": "code",
   "execution_count": 9,
   "metadata": {},
   "outputs": [
    {
     "name": "stdout",
     "output_type": "stream",
     "text": [
      "AUC: 0.46924877037833257\n"
     ]
    }
   ],
   "source": [
    "auc = roc_auc_score(y.detach().numpy(), yhat.mean(0).detach().numpy())\n",
    "print(f'AUC: {auc}')"
   ]
  },
  {
   "cell_type": "code",
   "execution_count": 10,
   "metadata": {},
   "outputs": [
    {
     "data": {
      "image/png": "[encoded data removed]",
      "text/plain": [
       "<Figure size 640x480 with 1 Axes>"
      ]
     },
     "metadata": {},
     "output_type": "display_data"
    }
   ],
   "source": [
    "plt.figure()\n",
    "plt.hist(yhat_pos.cpu().mean(dim=0).numpy(), bins=50, alpha=0.5, label='positive', density=True)\n",
    "plt.hist(yhat_neg.cpu().mean(dim=0).numpy(), bins=50, alpha=0.5, label='negative', density=True)\n",
    "plt.legend()\n",
    "plt.show()"
   ]
  },
  {
   "cell_type": "code",
   "execution_count": 11,
   "metadata": {},
   "outputs": [
    {
     "data": {
      "image/png": "[encoded data removed]",
      "text/plain": [
       "<Figure size 640x480 with 1 Axes>"
      ]
     },
     "metadata": {},
     "output_type": "display_data"
    }
   ],
   "source": [
    "var_pos = yhat_pos.var(dim=0)\n",
    "var_neg = yhat_neg.var(dim=0)\n",
    "\n",
    "_bins = np.linspace(0,10, 50)\n",
    "plt.figure()\n",
    "plt.hist(var_pos.cpu().numpy(), bins=_bins, label='positive', alpha=0.5, density=True)\n",
    "plt.hist(var_neg.cpu().numpy(), bins=_bins, label='negative', alpha=0.5, density=True)\n",
    "plt.yscale('log')\n",
    "plt.show()"
   ]
  },
  {
   "cell_type": "code",
   "execution_count": 12,
   "metadata": {},
   "outputs": [
    {
     "data": {
      "image/png": "[encoded data removed]",
      "text/plain": [
       "<Figure size 640x480 with 1 Axes>"
      ]
     },
     "metadata": {},
     "output_type": "display_data"
    }
   ],
   "source": [
    "var = yhat.var(dim=0).squeeze()\n",
    "hi_conf_mask = var < 0.33\n",
    "\n",
    "y_hi_conf = y[hi_conf_mask]\n",
    "yhat_hi_conf = yhat.mean(0)[hi_conf_mask]\n",
    "\n",
    "plt.figure()\n",
    "plt.hist(yhat_hi_conf[y_hi_conf.bool()].cpu().numpy(), bins=50, alpha=0.5, label='positive', density=True)\n",
    "plt.hist(yhat_hi_conf[~y_hi_conf.bool()].cpu().numpy(), bins=50, alpha=0.5, label='negative', density=True)\n",
    "plt.legend()\n",
    "plt.show()"
   ]
  },
  {
   "cell_type": "code",
   "execution_count": 13,
   "metadata": {},
   "outputs": [
    {
     "name": "stdout",
     "output_type": "stream",
     "text": [
      "AUC: 0.6300219333440326\n"
     ]
    }
   ],
   "source": [
    "auc = roc_auc_score(y_hi_conf.detach().numpy(), yhat_hi_conf.detach().numpy())\n",
    "print(f'AUC: {auc}')"
   ]
  },
  {
   "cell_type": "code",
   "execution_count": null,
   "metadata": {},
   "outputs": [],
   "source": []
  },
  {
   "cell_type": "code",
   "execution_count": 14,
   "metadata": {},
   "outputs": [
    {
     "data": {
      "text/html": [
       "<div>\n",
       "<style scoped>\n",
       "    .dataframe tbody tr th:only-of-type {\n",
       "        vertical-align: middle;\n",
       "    }\n",
       "\n",
       "    .dataframe tbody tr th {\n",
       "        vertical-align: top;\n",
       "    }\n",
       "\n",
       "    .dataframe thead th {\n",
       "        text-align: right;\n",
       "    }\n",
       "</style>\n",
       "<table border=\"1\" class=\"dataframe\">\n",
       "  <thead>\n",
       "    <tr style=\"text-align: right;\">\n",
       "      <th></th>\n",
       "      <th>CHEMBLID</th>\n",
       "      <th>ProteinID</th>\n",
       "      <th>compound_iso_smiles</th>\n",
       "      <th>target_sequence</th>\n",
       "      <th>Ki , Kd and IC50  (KIBA Score)</th>\n",
       "      <th>drug_idx</th>\n",
       "      <th>prot_idx</th>\n",
       "    </tr>\n",
       "  </thead>\n",
       "  <tbody>\n",
       "    <tr>\n",
       "      <th>0</th>\n",
       "      <td>CHEMBL373751</td>\n",
       "      <td>P53350</td>\n",
       "      <td>COC1=C(C=C2C(=C1)N=CN2C3=CC(=C(S3)C#N)OCC4=CC=...</td>\n",
       "      <td>MSAAVTAGKLARAPADPGKAGVPGVAAPGAPAAAPPAKEIPEVLVD...</td>\n",
       "      <td>0.0</td>\n",
       "      <td>0</td>\n",
       "      <td>0</td>\n",
       "    </tr>\n",
       "    <tr>\n",
       "      <th>1</th>\n",
       "      <td>CHEMBL373751</td>\n",
       "      <td>P00533</td>\n",
       "      <td>COC1=C(C=C2C(=C1)N=CN2C3=CC(=C(S3)C#N)OCC4=CC=...</td>\n",
       "      <td>MRPSGTAGAALLALLAALCPASRALEEKKVCQGTSNKLTQLGTFED...</td>\n",
       "      <td>1.1</td>\n",
       "      <td>0</td>\n",
       "      <td>1</td>\n",
       "    </tr>\n",
       "    <tr>\n",
       "      <th>2</th>\n",
       "      <td>CHEMBL373751</td>\n",
       "      <td>P04626</td>\n",
       "      <td>COC1=C(C=C2C(=C1)N=CN2C3=CC(=C(S3)C#N)OCC4=CC=...</td>\n",
       "      <td>MELAALCRWGLLLALLPPGAASTQVCTGTDMKLRLPASPETHLDML...</td>\n",
       "      <td>1.1</td>\n",
       "      <td>0</td>\n",
       "      <td>2</td>\n",
       "    </tr>\n",
       "    <tr>\n",
       "      <th>3</th>\n",
       "      <td>CHEMBL373751</td>\n",
       "      <td>P49840</td>\n",
       "      <td>COC1=C(C=C2C(=C1)N=CN2C3=CC(=C(S3)C#N)OCC4=CC=...</td>\n",
       "      <td>MSGGGPSGGGPGGSGRARTSSFAEPGGGGGGGGGGPGGSASGPGGT...</td>\n",
       "      <td>1.3</td>\n",
       "      <td>0</td>\n",
       "      <td>3</td>\n",
       "    </tr>\n",
       "    <tr>\n",
       "      <th>4</th>\n",
       "      <td>CHEMBL373751</td>\n",
       "      <td>P49841</td>\n",
       "      <td>COC1=C(C=C2C(=C1)N=CN2C3=CC(=C(S3)C#N)OCC4=CC=...</td>\n",
       "      <td>MSGRPRTTSFAESCKPVQQPSAFGSMKVSRDKDGSKVTTVVATPGQ...</td>\n",
       "      <td>1.3</td>\n",
       "      <td>0</td>\n",
       "      <td>4</td>\n",
       "    </tr>\n",
       "  </tbody>\n",
       "</table>\n",
       "</div>"
      ],
      "text/plain": [
       "       CHEMBLID ProteinID                                compound_iso_smiles  \\\n",
       "0  CHEMBL373751    P53350  COC1=C(C=C2C(=C1)N=CN2C3=CC(=C(S3)C#N)OCC4=CC=...   \n",
       "1  CHEMBL373751    P00533  COC1=C(C=C2C(=C1)N=CN2C3=CC(=C(S3)C#N)OCC4=CC=...   \n",
       "2  CHEMBL373751    P04626  COC1=C(C=C2C(=C1)N=CN2C3=CC(=C(S3)C#N)OCC4=CC=...   \n",
       "3  CHEMBL373751    P49840  COC1=C(C=C2C(=C1)N=CN2C3=CC(=C(S3)C#N)OCC4=CC=...   \n",
       "4  CHEMBL373751    P49841  COC1=C(C=C2C(=C1)N=CN2C3=CC(=C(S3)C#N)OCC4=CC=...   \n",
       "\n",
       "                                     target_sequence  \\\n",
       "0  MSAAVTAGKLARAPADPGKAGVPGVAAPGAPAAAPPAKEIPEVLVD...   \n",
       "1  MRPSGTAGAALLALLAALCPASRALEEKKVCQGTSNKLTQLGTFED...   \n",
       "2  MELAALCRWGLLLALLPPGAASTQVCTGTDMKLRLPASPETHLDML...   \n",
       "3  MSGGGPSGGGPGGSGRARTSSFAEPGGGGGGGGGGPGGSASGPGGT...   \n",
       "4  MSGRPRTTSFAESCKPVQQPSAFGSMKVSRDKDGSKVTTVVATPGQ...   \n",
       "\n",
       "   Ki , Kd and IC50  (KIBA Score)  drug_idx  prot_idx  \n",
       "0                             0.0         0         0  \n",
       "1                             1.1         0         1  \n",
       "2                             1.1         0         2  \n",
       "3                             1.3         0         3  \n",
       "4                             1.3         0         4  "
      ]
     },
     "execution_count": 14,
     "metadata": {},
     "output_type": "execute_result"
    }
   ],
   "source": [
    "# kiba \n",
    "kiba = pd.read_csv('../../extdata/kiba/kiba.csv')\n",
    "kiba.head()"
   ]
  },
  {
   "cell_type": "code",
   "execution_count": 15,
   "metadata": {},
   "outputs": [
    {
     "name": "stderr",
     "output_type": "stream",
     "text": [
      "/tmp/ipykernel_28026/4234575712.py:1: FutureWarning: You are using `torch.load` with `weights_only=False` (the current default value), which uses the default pickle module implicitly. It is possible to construct malicious pickle data which will execute arbitrary code during unpickling (See https://github.com/pytorch/pytorch/blob/main/SECURITY.md#untrusted-models for more details). In a future release, the default value for `weights_only` will be flipped to `True`. This limits the functions that could be executed during unpickling. Arbitrary objects will no longer be allowed to be loaded via this mode unless they are explicitly allowlisted by the user via `torch.serialization.add_safe_globals`. We recommend you start setting `weights_only=True` for any use case where you don't have full control of the loaded file. Please open an issue on GitHub for any issues related to this experimental feature.\n",
      "  z_drug = torch.load('../../extdata/kiba/z_drug.pt')\n",
      "/tmp/ipykernel_28026/4234575712.py:2: FutureWarning: You are using `torch.load` with `weights_only=False` (the current default value), which uses the default pickle module implicitly. It is possible to construct malicious pickle data which will execute arbitrary code during unpickling (See https://github.com/pytorch/pytorch/blob/main/SECURITY.md#untrusted-models for more details). In a future release, the default value for `weights_only` will be flipped to `True`. This limits the functions that could be executed during unpickling. Arbitrary objects will no longer be allowed to be loaded via this mode unless they are explicitly allowlisted by the user via `torch.serialization.add_safe_globals`. We recommend you start setting `weights_only=True` for any use case where you don't have full control of the loaded file. Please open an issue on GitHub for any issues related to this experimental feature.\n",
      "  z_prot = torch.load('../../extdata/kiba/z_prot.pt')\n"
     ]
    }
   ],
   "source": [
    "z_drug = torch.load('../../extdata/kiba/z_drug.pt')\n",
    "z_prot = torch.load('../../extdata/kiba/z_prot.pt')"
   ]
  },
  {
   "cell_type": "code",
   "execution_count": 16,
   "metadata": {},
   "outputs": [],
   "source": [
    "kiba = kiba.assign(neg_lgo10_uM = -np.log(kiba['Ki , Kd and IC50  (KIBA Score)'] + 1e-10))\n",
    "mu = kiba['neg_lgo10_uM'].mean()\n",
    "sigma = kiba['neg_lgo10_uM'].std()\n",
    "kiba = kiba.assign(binding_affinity = (kiba['neg_lgo10_uM'] - mu) / (sigma + 1e-8))"
   ]
  },
  {
   "cell_type": "code",
   "execution_count": 17,
   "metadata": {},
   "outputs": [
    {
     "data": {
      "image/png": "[encoded data removed]",
      "text/plain": [
       "<Figure size 640x480 with 1 Axes>"
      ]
     },
     "metadata": {},
     "output_type": "display_data"
    }
   ],
   "source": [
    "plt.figure()\n",
    "plt.hist(kiba['binding_affinity'], bins=100)\n",
    "plt.show()"
   ]
  },
  {
   "cell_type": "code",
   "execution_count": 18,
   "metadata": {},
   "outputs": [],
   "source": [
    "drug_idx = torch.tensor(kiba.drug_idx.values, dtype=torch.long)\n",
    "prot_idx = torch.tensor(kiba.prot_idx.values, dtype=torch.long)\n",
    "\n",
    "x = torch.cat([z_drug[drug_idx], z_prot[prot_idx]], dim=1)\n",
    "#y = torch.tensor(kiba.binding_affinity.values, dtype=torch.float32).view(-1, 1)\n",
    "y = torch.tensor(kiba['Ki , Kd and IC50  (KIBA Score)'], dtype=torch.float32)"
   ]
  },
  {
   "cell_type": "code",
   "execution_count": 19,
   "metadata": {},
   "outputs": [],
   "source": [
    "with torch.no_grad(): \n",
    "    y_pred = model.cuda()(x.cuda(), samples=100).squeeze()"
   ]
  },
  {
   "cell_type": "code",
   "execution_count": 20,
   "metadata": {},
   "outputs": [
    {
     "data": {
      "text/plain": [
       "0.6201885840620212"
      ]
     },
     "execution_count": 20,
     "metadata": {},
     "output_type": "execute_result"
    }
   ],
   "source": [
    "np.corrcoef(y.cpu().numpy().ravel(), y_pred.mean(0).cpu().numpy().ravel())[0,1]"
   ]
  },
  {
   "cell_type": "code",
   "execution_count": 21,
   "metadata": {},
   "outputs": [
    {
     "data": {
      "image/png": "[encoded data removed]",
      "text/plain": [
       "<Figure size 640x480 with 1 Axes>"
      ]
     },
     "metadata": {},
     "output_type": "display_data"
    }
   ],
   "source": [
    "plt.figure()\n",
    "plt.plot(y.cpu().numpy(), y_pred.mean(0).cpu().numpy(), 'r.', alpha=0.01)\n",
    "#plt.xlim(-5, 5)\n",
    "#plt.ylim(-5, 5)\n",
    "plt.xlabel('True')\n",
    "plt.ylabel('Predicted')\n",
    "plt.show()"
   ]
  },
  {
   "cell_type": "code",
   "execution_count": 22,
   "metadata": {},
   "outputs": [],
   "source": [
    "affin = load_dataset(\"jglaser/binding_affinity\",split='train[:90%]').to_pandas()"
   ]
  },
  {
   "cell_type": "code",
   "execution_count": 23,
   "metadata": {},
   "outputs": [
    {
     "ename": "NameError",
     "evalue": "name 'overlap' is not defined",
     "output_type": "error",
     "traceback": [
      "\u001b[0;31m---------------------------------------------------------------------------\u001b[0m",
      "\u001b[0;31mNameError\u001b[0m                                 Traceback (most recent call last)",
      "Cell \u001b[0;32mIn[23], line 5\u001b[0m\n\u001b[1;32m      2\u001b[0m jglaser_smiles \u001b[38;5;241m=\u001b[39m affin[\u001b[38;5;124m'\u001b[39m\u001b[38;5;124msmiles_can\u001b[39m\u001b[38;5;124m'\u001b[39m]\u001b[38;5;241m.\u001b[39munique()\n\u001b[1;32m      4\u001b[0m overlap_smiles \u001b[38;5;241m=\u001b[39m np\u001b[38;5;241m.\u001b[39mintersect1d(kiba_smiles, jglaser_smiles)\n\u001b[0;32m----> 5\u001b[0m \u001b[38;5;28mlen\u001b[39m(\u001b[43moverlap\u001b[49m)\n",
      "\u001b[0;31mNameError\u001b[0m: name 'overlap' is not defined"
     ]
    }
   ],
   "source": [
    "kiba_smiles = kiba['compound_iso_smiles'].unique() \n",
    "jglaser_smiles = affin['smiles_can'].unique()\n",
    "\n",
    "overlap_smiles = np.intersect1d(kiba_smiles, jglaser_smiles)\n",
    "len(overlap)"
   ]
  },
  {
   "cell_type": "code",
   "execution_count": null,
   "metadata": {},
   "outputs": [
    {
     "data": {
      "text/plain": [
       "224"
      ]
     },
     "execution_count": 81,
     "metadata": {},
     "output_type": "execute_result"
    }
   ],
   "source": [
    "kiba_aas = kiba['target_sequence'].unique()\n",
    "jglaser_aas = affin['seq'].unique()\n",
    "\n",
    "overlap_aas = np.intersect1d(kiba_aas, jglaser_aas)\n",
    "len(overlap_aas)"
   ]
  },
  {
   "cell_type": "code",
   "execution_count": null,
   "metadata": {},
   "outputs": [
    {
     "data": {
      "text/html": [
       "<div>\n",
       "<style scoped>\n",
       "    .dataframe tbody tr th:only-of-type {\n",
       "        vertical-align: middle;\n",
       "    }\n",
       "\n",
       "    .dataframe tbody tr th {\n",
       "        vertical-align: top;\n",
       "    }\n",
       "\n",
       "    .dataframe thead th {\n",
       "        text-align: right;\n",
       "    }\n",
       "</style>\n",
       "<table border=\"1\" class=\"dataframe\">\n",
       "  <thead>\n",
       "    <tr style=\"text-align: right;\">\n",
       "      <th></th>\n",
       "      <th>seq</th>\n",
       "      <th>smiles</th>\n",
       "      <th>affinity_uM</th>\n",
       "      <th>neg_log10_affinity_M</th>\n",
       "      <th>smiles_can</th>\n",
       "      <th>affinity</th>\n",
       "    </tr>\n",
       "  </thead>\n",
       "  <tbody>\n",
       "    <tr>\n",
       "      <th>0</th>\n",
       "      <td>MTVPDRSEIAGKWYVVALASNTEFFLREKDKMKMAMARISFLGEDE...</td>\n",
       "      <td>CCCCCCCCCCCCCCCCCCCC(=O)O</td>\n",
       "      <td>0.026</td>\n",
       "      <td>7.585027</td>\n",
       "      <td>CCCCCCCCCCCCCCCCCCCC(=O)O</td>\n",
       "      <td>0.691712</td>\n",
       "    </tr>\n",
       "    <tr>\n",
       "      <th>1</th>\n",
       "      <td>APQTITELCSEYRNTQIYTINDKILSYTESMAGKREMVIITFKSGE...</td>\n",
       "      <td>OC[C@H]1O[C@H](Oc2cccc(c2)N(=O)=O)[C@@H]([C@H]...</td>\n",
       "      <td>500.000</td>\n",
       "      <td>3.301030</td>\n",
       "      <td>O=[N+]([O-])c1cccc(O[C@H]2O[C@H](CO)[C@H](O)[C...</td>\n",
       "      <td>-2.054668</td>\n",
       "    </tr>\n",
       "    <tr>\n",
       "      <th>2</th>\n",
       "      <td>VETFAFQAEIAQLMSLIINTFYSNKEIFLRELISNSSDALDKIRYE...</td>\n",
       "      <td>COc1ccc(cc1)c1c(onc1c1cc(C(C)C)c(cc1O)O)NC(=O)...</td>\n",
       "      <td>0.023</td>\n",
       "      <td>7.638272</td>\n",
       "      <td>COc1ccc(-c2c(-c3cc(C(C)C)c(O)cc3O)noc2NC(=O)C2...</td>\n",
       "      <td>0.725847</td>\n",
       "    </tr>\n",
       "    <tr>\n",
       "      <th>3</th>\n",
       "      <td>AAPFDKSKNVAQSIDQLIGQTPALYLNKLNNTKAKVVLKMECENPM...</td>\n",
       "      <td>OC[C@@H](C(=O)N[C@@H]([C@H](CC)C)C(=O)O)NC(=O)...</td>\n",
       "      <td>6.430</td>\n",
       "      <td>5.191789</td>\n",
       "      <td>CC[C@H](C)[C@H](NC(=O)[C@H](CO)NC(=O)[C@H](CC1...</td>\n",
       "      <td>-0.842542</td>\n",
       "    </tr>\n",
       "    <tr>\n",
       "      <th>4</th>\n",
       "      <td>YITFRSFTAVLIAFFLTLVLSPSFINRLRKIQRKKYTPTMGGIVIL...</td>\n",
       "      <td>CO[C@@H]1[C@H](O[C@H]([C@@H]1O)n1ccc(=O)[nH]c1...</td>\n",
       "      <td>0.185</td>\n",
       "      <td>6.732828</td>\n",
       "      <td>CO[C@@H]1[C@@H]([C@@H](O[C@H]2OC(C(=O)N[C@H]3C...</td>\n",
       "      <td>0.145386</td>\n",
       "    </tr>\n",
       "  </tbody>\n",
       "</table>\n",
       "</div>"
      ],
      "text/plain": [
       "                                                 seq  \\\n",
       "0  MTVPDRSEIAGKWYVVALASNTEFFLREKDKMKMAMARISFLGEDE...   \n",
       "1  APQTITELCSEYRNTQIYTINDKILSYTESMAGKREMVIITFKSGE...   \n",
       "2  VETFAFQAEIAQLMSLIINTFYSNKEIFLRELISNSSDALDKIRYE...   \n",
       "3  AAPFDKSKNVAQSIDQLIGQTPALYLNKLNNTKAKVVLKMECENPM...   \n",
       "4  YITFRSFTAVLIAFFLTLVLSPSFINRLRKIQRKKYTPTMGGIVIL...   \n",
       "\n",
       "                                              smiles  affinity_uM  \\\n",
       "0                          CCCCCCCCCCCCCCCCCCCC(=O)O        0.026   \n",
       "1  OC[C@H]1O[C@H](Oc2cccc(c2)N(=O)=O)[C@@H]([C@H]...      500.000   \n",
       "2  COc1ccc(cc1)c1c(onc1c1cc(C(C)C)c(cc1O)O)NC(=O)...        0.023   \n",
       "3  OC[C@@H](C(=O)N[C@@H]([C@H](CC)C)C(=O)O)NC(=O)...        6.430   \n",
       "4  CO[C@@H]1[C@H](O[C@H]([C@@H]1O)n1ccc(=O)[nH]c1...        0.185   \n",
       "\n",
       "   neg_log10_affinity_M                                         smiles_can  \\\n",
       "0              7.585027                          CCCCCCCCCCCCCCCCCCCC(=O)O   \n",
       "1              3.301030  O=[N+]([O-])c1cccc(O[C@H]2O[C@H](CO)[C@H](O)[C...   \n",
       "2              7.638272  COc1ccc(-c2c(-c3cc(C(C)C)c(O)cc3O)noc2NC(=O)C2...   \n",
       "3              5.191789  CC[C@H](C)[C@H](NC(=O)[C@H](CO)NC(=O)[C@H](CC1...   \n",
       "4              6.732828  CO[C@@H]1[C@@H]([C@@H](O[C@H]2OC(C(=O)N[C@H]3C...   \n",
       "\n",
       "   affinity  \n",
       "0  0.691712  \n",
       "1 -2.054668  \n",
       "2  0.725847  \n",
       "3 -0.842542  \n",
       "4  0.145386  "
      ]
     },
     "execution_count": 72,
     "metadata": {},
     "output_type": "execute_result"
    }
   ],
   "source": [
    "affin.head()"
   ]
  },
  {
   "cell_type": "code",
   "execution_count": null,
   "metadata": {},
   "outputs": [
    {
     "data": {
      "text/html": [
       "<div>\n",
       "<style scoped>\n",
       "    .dataframe tbody tr th:only-of-type {\n",
       "        vertical-align: middle;\n",
       "    }\n",
       "\n",
       "    .dataframe tbody tr th {\n",
       "        vertical-align: top;\n",
       "    }\n",
       "\n",
       "    .dataframe thead th {\n",
       "        text-align: right;\n",
       "    }\n",
       "</style>\n",
       "<table border=\"1\" class=\"dataframe\">\n",
       "  <thead>\n",
       "    <tr style=\"text-align: right;\">\n",
       "      <th></th>\n",
       "      <th>CHEMBLID</th>\n",
       "      <th>ProteinID</th>\n",
       "      <th>compound_iso_smiles</th>\n",
       "      <th>target_sequence</th>\n",
       "      <th>Ki , Kd and IC50  (KIBA Score)</th>\n",
       "      <th>drug_idx</th>\n",
       "      <th>prot_idx</th>\n",
       "      <th>neg_lgo10_uM</th>\n",
       "      <th>binding_affinity</th>\n",
       "    </tr>\n",
       "  </thead>\n",
       "  <tbody>\n",
       "    <tr>\n",
       "      <th>0</th>\n",
       "      <td>CHEMBL373751</td>\n",
       "      <td>P53350</td>\n",
       "      <td>COC1=C(C=C2C(=C1)N=CN2C3=CC(=C(S3)C#N)OCC4=CC=...</td>\n",
       "      <td>MSAAVTAGKLARAPADPGKAGVPGVAAPGAPAAAPPAKEIPEVLVD...</td>\n",
       "      <td>0.0</td>\n",
       "      <td>0</td>\n",
       "      <td>0</td>\n",
       "      <td>23.025851</td>\n",
       "      <td>249.303756</td>\n",
       "    </tr>\n",
       "    <tr>\n",
       "      <th>1</th>\n",
       "      <td>CHEMBL373751</td>\n",
       "      <td>P00533</td>\n",
       "      <td>COC1=C(C=C2C(=C1)N=CN2C3=CC(=C(S3)C#N)OCC4=CC=...</td>\n",
       "      <td>MRPSGTAGAALLALLAALCPASRALEEKKVCQGTSNKLTQLGTFED...</td>\n",
       "      <td>1.1</td>\n",
       "      <td>0</td>\n",
       "      <td>1</td>\n",
       "      <td>-0.095310</td>\n",
       "      <td>23.119186</td>\n",
       "    </tr>\n",
       "    <tr>\n",
       "      <th>2</th>\n",
       "      <td>CHEMBL373751</td>\n",
       "      <td>P04626</td>\n",
       "      <td>COC1=C(C=C2C(=C1)N=CN2C3=CC(=C(S3)C#N)OCC4=CC=...</td>\n",
       "      <td>MELAALCRWGLLLALLPPGAASTQVCTGTDMKLRLPASPETHLDML...</td>\n",
       "      <td>1.1</td>\n",
       "      <td>0</td>\n",
       "      <td>2</td>\n",
       "      <td>-0.095310</td>\n",
       "      <td>23.119186</td>\n",
       "    </tr>\n",
       "    <tr>\n",
       "      <th>3</th>\n",
       "      <td>CHEMBL373751</td>\n",
       "      <td>P49840</td>\n",
       "      <td>COC1=C(C=C2C(=C1)N=CN2C3=CC(=C(S3)C#N)OCC4=CC=...</td>\n",
       "      <td>MSGGGPSGGGPGGSGRARTSSFAEPGGGGGGGGGGPGGSASGPGGT...</td>\n",
       "      <td>1.3</td>\n",
       "      <td>0</td>\n",
       "      <td>3</td>\n",
       "      <td>-0.262364</td>\n",
       "      <td>21.484966</td>\n",
       "    </tr>\n",
       "    <tr>\n",
       "      <th>4</th>\n",
       "      <td>CHEMBL373751</td>\n",
       "      <td>P49841</td>\n",
       "      <td>COC1=C(C=C2C(=C1)N=CN2C3=CC(=C(S3)C#N)OCC4=CC=...</td>\n",
       "      <td>MSGRPRTTSFAESCKPVQQPSAFGSMKVSRDKDGSKVTTVVATPGQ...</td>\n",
       "      <td>1.3</td>\n",
       "      <td>0</td>\n",
       "      <td>4</td>\n",
       "      <td>-0.262364</td>\n",
       "      <td>21.484966</td>\n",
       "    </tr>\n",
       "  </tbody>\n",
       "</table>\n",
       "</div>"
      ],
      "text/plain": [
       "       CHEMBLID ProteinID                                compound_iso_smiles  \\\n",
       "0  CHEMBL373751    P53350  COC1=C(C=C2C(=C1)N=CN2C3=CC(=C(S3)C#N)OCC4=CC=...   \n",
       "1  CHEMBL373751    P00533  COC1=C(C=C2C(=C1)N=CN2C3=CC(=C(S3)C#N)OCC4=CC=...   \n",
       "2  CHEMBL373751    P04626  COC1=C(C=C2C(=C1)N=CN2C3=CC(=C(S3)C#N)OCC4=CC=...   \n",
       "3  CHEMBL373751    P49840  COC1=C(C=C2C(=C1)N=CN2C3=CC(=C(S3)C#N)OCC4=CC=...   \n",
       "4  CHEMBL373751    P49841  COC1=C(C=C2C(=C1)N=CN2C3=CC(=C(S3)C#N)OCC4=CC=...   \n",
       "\n",
       "                                     target_sequence  \\\n",
       "0  MSAAVTAGKLARAPADPGKAGVPGVAAPGAPAAAPPAKEIPEVLVD...   \n",
       "1  MRPSGTAGAALLALLAALCPASRALEEKKVCQGTSNKLTQLGTFED...   \n",
       "2  MELAALCRWGLLLALLPPGAASTQVCTGTDMKLRLPASPETHLDML...   \n",
       "3  MSGGGPSGGGPGGSGRARTSSFAEPGGGGGGGGGGPGGSASGPGGT...   \n",
       "4  MSGRPRTTSFAESCKPVQQPSAFGSMKVSRDKDGSKVTTVVATPGQ...   \n",
       "\n",
       "   Ki , Kd and IC50  (KIBA Score)  drug_idx  prot_idx  neg_lgo10_uM  \\\n",
       "0                             0.0         0         0     23.025851   \n",
       "1                             1.1         0         1     -0.095310   \n",
       "2                             1.1         0         2     -0.095310   \n",
       "3                             1.3         0         3     -0.262364   \n",
       "4                             1.3         0         4     -0.262364   \n",
       "\n",
       "   binding_affinity  \n",
       "0        249.303756  \n",
       "1         23.119186  \n",
       "2         23.119186  \n",
       "3         21.484966  \n",
       "4         21.484966  "
      ]
     },
     "execution_count": 66,
     "metadata": {},
     "output_type": "execute_result"
    }
   ],
   "source": [
    "kiba.head()"
   ]
  },
  {
   "cell_type": "code",
   "execution_count": null,
   "metadata": {},
   "outputs": [
    {
     "data": {
      "text/html": [
       "<div>\n",
       "<style scoped>\n",
       "    .dataframe tbody tr th:only-of-type {\n",
       "        vertical-align: middle;\n",
       "    }\n",
       "\n",
       "    .dataframe tbody tr th {\n",
       "        vertical-align: top;\n",
       "    }\n",
       "\n",
       "    .dataframe thead th {\n",
       "        text-align: right;\n",
       "    }\n",
       "</style>\n",
       "<table border=\"1\" class=\"dataframe\">\n",
       "  <thead>\n",
       "    <tr style=\"text-align: right;\">\n",
       "      <th></th>\n",
       "      <th>seq</th>\n",
       "      <th>smiles</th>\n",
       "      <th>affinity_uM</th>\n",
       "      <th>neg_log10_affinity_M</th>\n",
       "      <th>smiles_can</th>\n",
       "      <th>affinity</th>\n",
       "      <th>CHEMBLID</th>\n",
       "      <th>ProteinID</th>\n",
       "      <th>compound_iso_smiles</th>\n",
       "      <th>target_sequence</th>\n",
       "      <th>Ki , Kd and IC50  (KIBA Score)</th>\n",
       "      <th>drug_idx</th>\n",
       "      <th>prot_idx</th>\n",
       "      <th>neg_lgo10_uM</th>\n",
       "      <th>binding_affinity</th>\n",
       "    </tr>\n",
       "  </thead>\n",
       "  <tbody>\n",
       "    <tr>\n",
       "      <th>0</th>\n",
       "      <td>MSDVAIVKEGWLHKRGEYIKTWRPRYFLLKNDGTFIGYKERPQDVD...</td>\n",
       "      <td>CCCCCCCCCCCCCCCCCCOCC(COP([O-])(=O)OCC[N+](C)(...</td>\n",
       "      <td>3.5</td>\n",
       "      <td>5.455932</td>\n",
       "      <td>CCCCCCCCCCCCCCCCCCOCC(COP(=O)([O-])OCC[N+](C)(...</td>\n",
       "      <td>-0.673205</td>\n",
       "      <td>CHEMBL28509</td>\n",
       "      <td>P31749</td>\n",
       "      <td>CCCCCCCCCCCCCCCCCCOCC(COP(=O)([O-])OCC[N+](C)(...</td>\n",
       "      <td>MSDVAIVKEGWLHKRGEYIKTWRPRYFLLKNDGTFIGYKERPQDVD...</td>\n",
       "      <td>11.555932</td>\n",
       "      <td>798</td>\n",
       "      <td>76</td>\n",
       "      <td>-2.447199</td>\n",
       "      <td>0.11165</td>\n",
       "    </tr>\n",
       "  </tbody>\n",
       "</table>\n",
       "</div>"
      ],
      "text/plain": [
       "                                                 seq  \\\n",
       "0  MSDVAIVKEGWLHKRGEYIKTWRPRYFLLKNDGTFIGYKERPQDVD...   \n",
       "\n",
       "                                              smiles  affinity_uM  \\\n",
       "0  CCCCCCCCCCCCCCCCCCOCC(COP([O-])(=O)OCC[N+](C)(...          3.5   \n",
       "\n",
       "   neg_log10_affinity_M                                         smiles_can  \\\n",
       "0              5.455932  CCCCCCCCCCCCCCCCCCOCC(COP(=O)([O-])OCC[N+](C)(...   \n",
       "\n",
       "   affinity     CHEMBLID ProteinID  \\\n",
       "0 -0.673205  CHEMBL28509    P31749   \n",
       "\n",
       "                                 compound_iso_smiles  \\\n",
       "0  CCCCCCCCCCCCCCCCCCOCC(COP(=O)([O-])OCC[N+](C)(...   \n",
       "\n",
       "                                     target_sequence  \\\n",
       "0  MSDVAIVKEGWLHKRGEYIKTWRPRYFLLKNDGTFIGYKERPQDVD...   \n",
       "\n",
       "   Ki , Kd and IC50  (KIBA Score)  drug_idx  prot_idx  neg_lgo10_uM  \\\n",
       "0                       11.555932       798        76     -2.447199   \n",
       "\n",
       "   binding_affinity  \n",
       "0           0.11165  "
      ]
     },
     "execution_count": 76,
     "metadata": {},
     "output_type": "execute_result"
    }
   ],
   "source": [
    "df = affin.merge(kiba, left_on=['smiles_can', 'seq'], right_on=['compound_iso_smiles', 'target_sequence'], how='inner')\n",
    "df"
   ]
  },
  {
   "cell_type": "code",
   "execution_count": null,
   "metadata": {},
   "outputs": [],
   "source": []
  }
 ],
 "metadata": {
  "kernelspec": {
   "display_name": "tkgdti",
   "language": "python",
   "name": "python3"
  },
  "language_info": {
   "codemirror_mode": {
    "name": "ipython",
    "version": 3
   },
   "file_extension": ".py",
   "mimetype": "text/x-python",
   "name": "python",
   "nbconvert_exporter": "python",
   "pygments_lexer": "ipython3",
   "version": "3.11.10"
  }
 },
 "nbformat": 4,
 "nbformat_minor": 2
}
