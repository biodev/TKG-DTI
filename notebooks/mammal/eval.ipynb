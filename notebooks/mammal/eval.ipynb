{
 "cells": [
  {
   "cell_type": "code",
   "execution_count": null,
   "metadata": {},
   "outputs": [],
   "source": [
    "https://huggingface.co/ibm/biomed.omics.bl.sm.ma-ted-458m.dti_bindingdb_pkd"
   ]
  },
  {
   "cell_type": "code",
   "execution_count": null,
   "metadata": {},
   "outputs": [],
   "source": [
    "tdf = pd.read_csv('../../extdata/meta/targetome__drug_interacts_protein.csv')\n",
    "tdf.head()\n",
    "\n",
    "smiles = tdf['smiles'].unique().astype(str).tolist()\n",
    "aas = tdf['AA'].unique().astype(str).tolist()\n",
    "\n",
    "smiles2idx = {smile: i for i, smile in enumerate(smiles)}\n",
    "aas2idx = {aa: i for i, aa in enumerate(aas)}\n",
    "\n",
    "tdf = tdf.assign(drug_idx=tdf.smiles.map(smiles2idx))\n",
    "tdf = tdf.assign(prot_idx=tdf.AA.map(aas2idx))"
   ]
  },
  {
   "cell_type": "code",
   "execution_count": null,
   "metadata": {},
   "outputs": [],
   "source": []
  }
 ],
 "metadata": {
  "kernelspec": {
   "display_name": "tkgdti",
   "language": "python",
   "name": "python3"
  },
  "language_info": {
   "name": "python",
   "version": "3.11.10"
  }
 },
 "nbformat": 4,
 "nbformat_minor": 2
}
