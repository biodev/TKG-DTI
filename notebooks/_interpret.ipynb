{
 "cells": [
  {
   "cell_type": "code",
   "execution_count": 1,
   "metadata": {},
   "outputs": [],
   "source": [
    "import torch \n",
    "from matplotlib import pyplot as plt \n",
    "from tkgdti.train.utils import device_and_data_loading\n",
    "import argparse \n",
    "from tkgdti.data.TriplesDatasetGNN import TriplesDatasetGNN\n",
    "from tkgdti.data.process_graph import process_graph\n",
    "import torch_geometric as pyg\n",
    "import numpy as np\n",
    "import pandas as pd\n",
    "from sklearn.metrics import roc_auc_score, average_precision_score\n",
    "from torch_geometric.explain import Explainer, GNNExplainer\n",
    "import networkx as nx"
   ]
  },
  {
   "cell_type": "code",
   "execution_count": 2,
   "metadata": {},
   "outputs": [],
   "source": [
    "res = torch.load('../output/gnn/results_99.pt')\n",
    "model = res['model']"
   ]
  },
  {
   "cell_type": "code",
   "execution_count": 3,
   "metadata": {},
   "outputs": [
    {
     "name": "stdout",
     "output_type": "stream",
     "text": [
      "device: cuda\n"
     ]
    }
   ],
   "source": [
    "args = argparse.Namespace() \n",
    "args.data = '/home/teddy/local/KGDTI/data/HeteroA/processed/FOLD_0'\n",
    "args.verbose = True\n",
    "\n",
    "device, data, train_triples, valid_triples, \\\n",
    "        valid_neg_triples, test_triples, test_neg_triples  = device_and_data_loading(args, return_test=True)\n",
    "\n",
    "tdata = process_graph(data)\n",
    "\n",
    "edge_index_dict = {key: tdata[key]['edge_index'] for key in tdata.metadata()[1]}\n",
    "num_node_dict = {key: tdata[key].num_nodes for key in tdata.metadata()[0]}\n"
   ]
  },
  {
   "cell_type": "code",
   "execution_count": 4,
   "metadata": {},
   "outputs": [],
   "source": [
    "datas = []\n",
    "for i in range(data['num_nodes_dict']['drug']):\n",
    "    head = i \n",
    "    x_dict = {node:torch.zeros((num_nodes, 1), dtype=torch.float32) for node, num_nodes in num_node_dict.items()}\n",
    "\n",
    "    x_dict['drug'][head] = torch.ones((1,), dtype=torch.float32)\n",
    "\n",
    "    edge_index_dict = edge_index_dict\n",
    "\n",
    "    # Create a HeteroData object for this instance\n",
    "    dat = pyg.data.HeteroData()\n",
    "\n",
    "    # Add node features\n",
    "    for node_type in x_dict:\n",
    "        dat[node_type].x = x_dict[node_type]\n",
    "\n",
    "    # Add edge indices\n",
    "    for edge_type in edge_index_dict:\n",
    "        src_type, relation, dst_type = edge_type\n",
    "        dat[(src_type, relation, dst_type)].edge_index = edge_index_dict[edge_type]\n",
    "\n",
    "    datas.append(dat)"
   ]
  },
  {
   "cell_type": "code",
   "execution_count": 44,
   "metadata": {},
   "outputs": [
    {
     "name": "stdout",
     "output_type": "stream",
     "text": [
      "drug_idx: 24\n",
      "prot_idx: tensor(26, device='cuda:0')\n",
      "prot_idx prob (target): tensor([0.9156], device='cuda:0', grad_fn=<SelectBackward0>)\n",
      "targ_idx: tensor(6337)\n",
      "src_idx: tensor(24)\n"
     ]
    }
   ],
   "source": [
    "# didx=4,9,12 \n",
    "drug_idx = 24\n",
    "prot_idx = tdata.metadata()[0].index('protein')\n",
    "dat = datas[drug_idx].to_homogeneous()\n",
    "out = model(dat.x.to(device), dat.edge_index.to(device), dat.edge_type.to(device))\n",
    "prot_mask = dat.node_type == prot_idx\n",
    "prot_probs = out[prot_mask] \n",
    "prot_idx = prot_probs.argmax()\n",
    "\n",
    "# convert prot_idx to global idx\n",
    "rng = torch.arange(out.size(0))\n",
    "targ_idx = rng[prot_mask][prot_idx]\n",
    "\n",
    "# convert drug_idx to global idx \n",
    "src_idx = dat.x[:, 0].nonzero().squeeze()\n",
    "\n",
    "print('drug_idx:', drug_idx)\n",
    "print('prot_idx:', prot_idx)\n",
    "print('prot_idx prob (target):', prot_probs[prot_idx])  # larger probs will probably work better \n",
    "print('targ_idx:', targ_idx)\n",
    "print('src_idx:', src_idx)\n",
    "\n",
    "assert out[targ_idx] == prot_probs[prot_idx], 'something went wrong'"
   ]
  },
  {
   "cell_type": "code",
   "execution_count": 45,
   "metadata": {},
   "outputs": [
    {
     "ename": "RuntimeError",
     "evalue": "zero-dimensional tensor (at position 0) cannot be concatenated",
     "output_type": "error",
     "traceback": [
      "\u001b[0;31m---------------------------------------------------------------------------\u001b[0m",
      "\u001b[0;31mRuntimeError\u001b[0m                              Traceback (most recent call last)",
      "Cell \u001b[0;32mIn[45], line 16\u001b[0m\n\u001b[1;32m      1\u001b[0m model\u001b[38;5;241m.\u001b[39meval() \n\u001b[1;32m      3\u001b[0m explainer \u001b[38;5;241m=\u001b[39m Explainer(\n\u001b[1;32m      4\u001b[0m     model\u001b[38;5;241m=\u001b[39mmodel,\n\u001b[1;32m      5\u001b[0m     \u001b[38;5;66;03m#algorithm=pyg.explain.GNNExplainer(edge_size=0.001, epochs=100, lr=1e-2),\u001b[39;00m\n\u001b[0;32m   (...)\u001b[0m\n\u001b[1;32m     13\u001b[0m     ),\n\u001b[1;32m     14\u001b[0m )\n\u001b[0;32m---> 16\u001b[0m explanation \u001b[38;5;241m=\u001b[39m \u001b[43mexplainer\u001b[49m\u001b[43m(\u001b[49m\u001b[43mx\u001b[49m\u001b[38;5;241;43m=\u001b[39;49m\u001b[43mdat\u001b[49m\u001b[38;5;241;43m.\u001b[39;49m\u001b[43mx\u001b[49m\u001b[38;5;241;43m.\u001b[39;49m\u001b[43mto\u001b[49m\u001b[43m(\u001b[49m\u001b[43mdevice\u001b[49m\u001b[43m)\u001b[49m\u001b[43m,\u001b[49m\u001b[43m \u001b[49m\u001b[43medge_index\u001b[49m\u001b[38;5;241;43m=\u001b[39;49m\u001b[43mdat\u001b[49m\u001b[38;5;241;43m.\u001b[39;49m\u001b[43medge_index\u001b[49m\u001b[38;5;241;43m.\u001b[39;49m\u001b[43mto\u001b[49m\u001b[43m(\u001b[49m\u001b[43mdevice\u001b[49m\u001b[43m)\u001b[49m\u001b[43m,\u001b[49m\u001b[43m \u001b[49m\u001b[43medge_type\u001b[49m\u001b[38;5;241;43m=\u001b[39;49m\u001b[43mdat\u001b[49m\u001b[38;5;241;43m.\u001b[39;49m\u001b[43medge_type\u001b[49m\u001b[38;5;241;43m.\u001b[39;49m\u001b[43mto\u001b[49m\u001b[43m(\u001b[49m\u001b[43mdevice\u001b[49m\u001b[43m)\u001b[49m\u001b[43m,\u001b[49m\u001b[43m \u001b[49m\u001b[43mindex\u001b[49m\u001b[38;5;241;43m=\u001b[39;49m\u001b[43mtarg_idx\u001b[49m\u001b[43m)\u001b[49m\n\u001b[1;32m     17\u001b[0m \u001b[38;5;28mprint\u001b[39m(\u001b[38;5;124mf\u001b[39m\u001b[38;5;124m'\u001b[39m\u001b[38;5;124mGenerated explanations in \u001b[39m\u001b[38;5;132;01m{\u001b[39;00mexplanation\u001b[38;5;241m.\u001b[39mavailable_explanations\u001b[38;5;132;01m}\u001b[39;00m\u001b[38;5;124m'\u001b[39m)\n",
      "File \u001b[0;32m~/miniconda3/envs/tkgdti/lib/python3.11/site-packages/torch_geometric/explain/explainer.py:205\u001b[0m, in \u001b[0;36mExplainer.__call__\u001b[0;34m(self, x, edge_index, target, index, **kwargs)\u001b[0m\n\u001b[1;32m    202\u001b[0m training \u001b[38;5;241m=\u001b[39m \u001b[38;5;28mself\u001b[39m\u001b[38;5;241m.\u001b[39mmodel\u001b[38;5;241m.\u001b[39mtraining\n\u001b[1;32m    203\u001b[0m \u001b[38;5;28mself\u001b[39m\u001b[38;5;241m.\u001b[39mmodel\u001b[38;5;241m.\u001b[39meval()\n\u001b[0;32m--> 205\u001b[0m explanation \u001b[38;5;241m=\u001b[39m \u001b[38;5;28;43mself\u001b[39;49m\u001b[38;5;241;43m.\u001b[39;49m\u001b[43malgorithm\u001b[49m\u001b[43m(\u001b[49m\n\u001b[1;32m    206\u001b[0m \u001b[43m    \u001b[49m\u001b[38;5;28;43mself\u001b[39;49m\u001b[38;5;241;43m.\u001b[39;49m\u001b[43mmodel\u001b[49m\u001b[43m,\u001b[49m\n\u001b[1;32m    207\u001b[0m \u001b[43m    \u001b[49m\u001b[43mx\u001b[49m\u001b[43m,\u001b[49m\n\u001b[1;32m    208\u001b[0m \u001b[43m    \u001b[49m\u001b[43medge_index\u001b[49m\u001b[43m,\u001b[49m\n\u001b[1;32m    209\u001b[0m \u001b[43m    \u001b[49m\u001b[43mtarget\u001b[49m\u001b[38;5;241;43m=\u001b[39;49m\u001b[43mtarget\u001b[49m\u001b[43m,\u001b[49m\n\u001b[1;32m    210\u001b[0m \u001b[43m    \u001b[49m\u001b[43mindex\u001b[49m\u001b[38;5;241;43m=\u001b[39;49m\u001b[43mindex\u001b[49m\u001b[43m,\u001b[49m\n\u001b[1;32m    211\u001b[0m \u001b[43m    \u001b[49m\u001b[38;5;241;43m*\u001b[39;49m\u001b[38;5;241;43m*\u001b[39;49m\u001b[43mkwargs\u001b[49m\u001b[43m,\u001b[49m\n\u001b[1;32m    212\u001b[0m \u001b[43m\u001b[49m\u001b[43m)\u001b[49m\n\u001b[1;32m    214\u001b[0m \u001b[38;5;28mself\u001b[39m\u001b[38;5;241m.\u001b[39mmodel\u001b[38;5;241m.\u001b[39mtrain(training)\n\u001b[1;32m    216\u001b[0m \u001b[38;5;66;03m# Add explainer objectives to the `Explanation` object:\u001b[39;00m\n",
      "File \u001b[0;32m~/miniconda3/envs/tkgdti/lib/python3.11/site-packages/torch/nn/modules/module.py:1553\u001b[0m, in \u001b[0;36mModule._wrapped_call_impl\u001b[0;34m(self, *args, **kwargs)\u001b[0m\n\u001b[1;32m   1551\u001b[0m     \u001b[38;5;28;01mreturn\u001b[39;00m \u001b[38;5;28mself\u001b[39m\u001b[38;5;241m.\u001b[39m_compiled_call_impl(\u001b[38;5;241m*\u001b[39margs, \u001b[38;5;241m*\u001b[39m\u001b[38;5;241m*\u001b[39mkwargs)  \u001b[38;5;66;03m# type: ignore[misc]\u001b[39;00m\n\u001b[1;32m   1552\u001b[0m \u001b[38;5;28;01melse\u001b[39;00m:\n\u001b[0;32m-> 1553\u001b[0m     \u001b[38;5;28;01mreturn\u001b[39;00m \u001b[38;5;28;43mself\u001b[39;49m\u001b[38;5;241;43m.\u001b[39;49m\u001b[43m_call_impl\u001b[49m\u001b[43m(\u001b[49m\u001b[38;5;241;43m*\u001b[39;49m\u001b[43margs\u001b[49m\u001b[43m,\u001b[49m\u001b[43m \u001b[49m\u001b[38;5;241;43m*\u001b[39;49m\u001b[38;5;241;43m*\u001b[39;49m\u001b[43mkwargs\u001b[49m\u001b[43m)\u001b[49m\n",
      "File \u001b[0;32m~/miniconda3/envs/tkgdti/lib/python3.11/site-packages/torch/nn/modules/module.py:1562\u001b[0m, in \u001b[0;36mModule._call_impl\u001b[0;34m(self, *args, **kwargs)\u001b[0m\n\u001b[1;32m   1557\u001b[0m \u001b[38;5;66;03m# If we don't have any hooks, we want to skip the rest of the logic in\u001b[39;00m\n\u001b[1;32m   1558\u001b[0m \u001b[38;5;66;03m# this function, and just call forward.\u001b[39;00m\n\u001b[1;32m   1559\u001b[0m \u001b[38;5;28;01mif\u001b[39;00m \u001b[38;5;129;01mnot\u001b[39;00m (\u001b[38;5;28mself\u001b[39m\u001b[38;5;241m.\u001b[39m_backward_hooks \u001b[38;5;129;01mor\u001b[39;00m \u001b[38;5;28mself\u001b[39m\u001b[38;5;241m.\u001b[39m_backward_pre_hooks \u001b[38;5;129;01mor\u001b[39;00m \u001b[38;5;28mself\u001b[39m\u001b[38;5;241m.\u001b[39m_forward_hooks \u001b[38;5;129;01mor\u001b[39;00m \u001b[38;5;28mself\u001b[39m\u001b[38;5;241m.\u001b[39m_forward_pre_hooks\n\u001b[1;32m   1560\u001b[0m         \u001b[38;5;129;01mor\u001b[39;00m _global_backward_pre_hooks \u001b[38;5;129;01mor\u001b[39;00m _global_backward_hooks\n\u001b[1;32m   1561\u001b[0m         \u001b[38;5;129;01mor\u001b[39;00m _global_forward_hooks \u001b[38;5;129;01mor\u001b[39;00m _global_forward_pre_hooks):\n\u001b[0;32m-> 1562\u001b[0m     \u001b[38;5;28;01mreturn\u001b[39;00m \u001b[43mforward_call\u001b[49m\u001b[43m(\u001b[49m\u001b[38;5;241;43m*\u001b[39;49m\u001b[43margs\u001b[49m\u001b[43m,\u001b[49m\u001b[43m \u001b[49m\u001b[38;5;241;43m*\u001b[39;49m\u001b[38;5;241;43m*\u001b[39;49m\u001b[43mkwargs\u001b[49m\u001b[43m)\u001b[49m\n\u001b[1;32m   1564\u001b[0m \u001b[38;5;28;01mtry\u001b[39;00m:\n\u001b[1;32m   1565\u001b[0m     result \u001b[38;5;241m=\u001b[39m \u001b[38;5;28;01mNone\u001b[39;00m\n",
      "File \u001b[0;32m~/miniconda3/envs/tkgdti/lib/python3.11/site-packages/torch_geometric/explain/algorithm/attention_explainer.py:48\u001b[0m, in \u001b[0;36mAttentionExplainer.forward\u001b[0;34m(self, model, x, edge_index, target, index, **kwargs)\u001b[0m\n\u001b[1;32m     44\u001b[0m hard_edge_mask \u001b[38;5;241m=\u001b[39m \u001b[38;5;28;01mNone\u001b[39;00m\n\u001b[1;32m     45\u001b[0m \u001b[38;5;28;01mif\u001b[39;00m \u001b[38;5;28mself\u001b[39m\u001b[38;5;241m.\u001b[39mmodel_config\u001b[38;5;241m.\u001b[39mtask_level \u001b[38;5;241m==\u001b[39m ModelTaskLevel\u001b[38;5;241m.\u001b[39mnode:\n\u001b[1;32m     46\u001b[0m     \u001b[38;5;66;03m# We need to compute the hard edge mask to properly clean up edge\u001b[39;00m\n\u001b[1;32m     47\u001b[0m     \u001b[38;5;66;03m# attributions not involved during message passing:\u001b[39;00m\n\u001b[0;32m---> 48\u001b[0m     _, hard_edge_mask \u001b[38;5;241m=\u001b[39m \u001b[38;5;28;43mself\u001b[39;49m\u001b[38;5;241;43m.\u001b[39;49m\u001b[43m_get_hard_masks\u001b[49m\u001b[43m(\u001b[49m\u001b[43mmodel\u001b[49m\u001b[43m,\u001b[49m\u001b[43m \u001b[49m\u001b[43mindex\u001b[49m\u001b[43m,\u001b[49m\u001b[43m \u001b[49m\u001b[43medge_index\u001b[49m\u001b[43m,\u001b[49m\n\u001b[1;32m     49\u001b[0m \u001b[43m                                             \u001b[49m\u001b[43mnum_nodes\u001b[49m\u001b[38;5;241;43m=\u001b[39;49m\u001b[43mx\u001b[49m\u001b[38;5;241;43m.\u001b[39;49m\u001b[43msize\u001b[49m\u001b[43m(\u001b[49m\u001b[38;5;241;43m0\u001b[39;49m\u001b[43m)\u001b[49m\u001b[43m)\u001b[49m\n\u001b[1;32m     51\u001b[0m alphas: List[Tensor] \u001b[38;5;241m=\u001b[39m []\n\u001b[1;32m     53\u001b[0m \u001b[38;5;28;01mdef\u001b[39;00m \u001b[38;5;21mhook\u001b[39m(module, msg_kwargs, out):\n",
      "File \u001b[0;32m~/miniconda3/envs/tkgdti/lib/python3.11/site-packages/torch_geometric/explain/algorithm/base.py:131\u001b[0m, in \u001b[0;36mExplainerAlgorithm._get_hard_masks\u001b[0;34m(model, node_index, edge_index, num_nodes)\u001b[0m\n\u001b[1;32m    128\u001b[0m \u001b[38;5;28;01mif\u001b[39;00m node_index \u001b[38;5;129;01mis\u001b[39;00m \u001b[38;5;28;01mNone\u001b[39;00m:\n\u001b[1;32m    129\u001b[0m     \u001b[38;5;28;01mreturn\u001b[39;00m \u001b[38;5;28;01mNone\u001b[39;00m, \u001b[38;5;28;01mNone\u001b[39;00m  \u001b[38;5;66;03m# Consider all nodes and edges.\u001b[39;00m\n\u001b[0;32m--> 131\u001b[0m index, _, _, edge_mask \u001b[38;5;241m=\u001b[39m \u001b[43mk_hop_subgraph\u001b[49m\u001b[43m(\u001b[49m\n\u001b[1;32m    132\u001b[0m \u001b[43m    \u001b[49m\u001b[43mnode_index\u001b[49m\u001b[43m,\u001b[49m\n\u001b[1;32m    133\u001b[0m \u001b[43m    \u001b[49m\u001b[43mnum_hops\u001b[49m\u001b[38;5;241;43m=\u001b[39;49m\u001b[43mExplainerAlgorithm\u001b[49m\u001b[38;5;241;43m.\u001b[39;49m\u001b[43m_num_hops\u001b[49m\u001b[43m(\u001b[49m\u001b[43mmodel\u001b[49m\u001b[43m)\u001b[49m\u001b[43m,\u001b[49m\n\u001b[1;32m    134\u001b[0m \u001b[43m    \u001b[49m\u001b[43medge_index\u001b[49m\u001b[38;5;241;43m=\u001b[39;49m\u001b[43medge_index\u001b[49m\u001b[43m,\u001b[49m\n\u001b[1;32m    135\u001b[0m \u001b[43m    \u001b[49m\u001b[43mnum_nodes\u001b[49m\u001b[38;5;241;43m=\u001b[39;49m\u001b[43mnum_nodes\u001b[49m\u001b[43m,\u001b[49m\n\u001b[1;32m    136\u001b[0m \u001b[43m    \u001b[49m\u001b[43mflow\u001b[49m\u001b[38;5;241;43m=\u001b[39;49m\u001b[43mExplainerAlgorithm\u001b[49m\u001b[38;5;241;43m.\u001b[39;49m\u001b[43m_flow\u001b[49m\u001b[43m(\u001b[49m\u001b[43mmodel\u001b[49m\u001b[43m)\u001b[49m\u001b[43m,\u001b[49m\n\u001b[1;32m    137\u001b[0m \u001b[43m\u001b[49m\u001b[43m)\u001b[49m\n\u001b[1;32m    139\u001b[0m node_mask \u001b[38;5;241m=\u001b[39m edge_index\u001b[38;5;241m.\u001b[39mnew_zeros(num_nodes, dtype\u001b[38;5;241m=\u001b[39mtorch\u001b[38;5;241m.\u001b[39mbool)\n\u001b[1;32m    140\u001b[0m node_mask[index] \u001b[38;5;241m=\u001b[39m \u001b[38;5;28;01mTrue\u001b[39;00m\n",
      "File \u001b[0;32m~/miniconda3/envs/tkgdti/lib/python3.11/site-packages/torch_geometric/utils/_subgraph.py:355\u001b[0m, in \u001b[0;36mk_hop_subgraph\u001b[0;34m(node_idx, num_hops, edge_index, relabel_nodes, num_nodes, flow, directed)\u001b[0m\n\u001b[1;32m    352\u001b[0m     torch\u001b[38;5;241m.\u001b[39mindex_select(node_mask, \u001b[38;5;241m0\u001b[39m, row, out\u001b[38;5;241m=\u001b[39medge_mask)\n\u001b[1;32m    353\u001b[0m     subsets\u001b[38;5;241m.\u001b[39mappend(col[edge_mask])\n\u001b[0;32m--> 355\u001b[0m subset, inv \u001b[38;5;241m=\u001b[39m \u001b[43mtorch\u001b[49m\u001b[38;5;241;43m.\u001b[39;49m\u001b[43mcat\u001b[49m\u001b[43m(\u001b[49m\u001b[43msubsets\u001b[49m\u001b[43m)\u001b[49m\u001b[38;5;241m.\u001b[39munique(return_inverse\u001b[38;5;241m=\u001b[39m\u001b[38;5;28;01mTrue\u001b[39;00m)\n\u001b[1;32m    356\u001b[0m inv \u001b[38;5;241m=\u001b[39m inv[:node_idx\u001b[38;5;241m.\u001b[39mnumel()]\n\u001b[1;32m    358\u001b[0m node_mask\u001b[38;5;241m.\u001b[39mfill_(\u001b[38;5;28;01mFalse\u001b[39;00m)\n",
      "\u001b[0;31mRuntimeError\u001b[0m: zero-dimensional tensor (at position 0) cannot be concatenated"
     ]
    }
   ],
   "source": [
    "model.eval() \n",
    "\n",
    "explainer = Explainer(\n",
    "    model=model,\n",
    "    #algorithm=pyg.explain.GNNExplainer(edge_size=0.001, epochs=100, lr=1e-2),\n",
    "    algorithm=pyg.explain.AttentionExplainer(),\n",
    "    explanation_type='model',\n",
    "    edge_mask_type='object',\n",
    "    model_config=dict(\n",
    "        mode='binary_classification',\n",
    "        task_level='node',\n",
    "        return_type='raw',\n",
    "    ),\n",
    ")\n",
    "\n",
    "explanation = explainer(x=dat.x.to(device), edge_index=dat.edge_index.to(device), edge_type=dat.edge_type.to(device), index=targ_idx)\n",
    "print(f'Generated explanations in {explanation.available_explanations}')"
   ]
  },
  {
   "cell_type": "code",
   "execution_count": 42,
   "metadata": {},
   "outputs": [
    {
     "data": {
      "image/png": "[encoded data removed]",
      "text/plain": [
       "<Figure size 640x480 with 1 Axes>"
      ]
     },
     "metadata": {},
     "output_type": "display_data"
    }
   ],
   "source": [
    "plt.figure()\n",
    "plt.hist(explanation.edge_mask.cpu().numpy(), bins=10)\n",
    "plt.show()"
   ]
  },
  {
   "cell_type": "code",
   "execution_count": null,
   "metadata": {},
   "outputs": [
    {
     "ename": "NetworkXError",
     "evalue": "Node 'DB00202' has no position.",
     "output_type": "error",
     "traceback": [
      "\u001b[0;31m---------------------------------------------------------------------------\u001b[0m",
      "\u001b[0;31mKeyError\u001b[0m                                  Traceback (most recent call last)",
      "File \u001b[0;32m~/miniconda3/envs/tkgdti/lib/python3.11/site-packages/networkx/drawing/nx_pylab.py:442\u001b[0m, in \u001b[0;36mdraw_networkx_nodes\u001b[0;34m(G, pos, nodelist, node_size, node_color, node_shape, alpha, cmap, vmin, vmax, ax, linewidths, edgecolors, label, margins, hide_ticks)\u001b[0m\n\u001b[1;32m    441\u001b[0m \u001b[38;5;28;01mtry\u001b[39;00m:\n\u001b[0;32m--> 442\u001b[0m     xy \u001b[38;5;241m=\u001b[39m np\u001b[38;5;241m.\u001b[39masarray(\u001b[43m[\u001b[49m\u001b[43mpos\u001b[49m\u001b[43m[\u001b[49m\u001b[43mv\u001b[49m\u001b[43m]\u001b[49m\u001b[43m \u001b[49m\u001b[38;5;28;43;01mfor\u001b[39;49;00m\u001b[43m \u001b[49m\u001b[43mv\u001b[49m\u001b[43m \u001b[49m\u001b[38;5;129;43;01min\u001b[39;49;00m\u001b[43m \u001b[49m\u001b[43mnodelist\u001b[49m\u001b[43m]\u001b[49m)\n\u001b[1;32m    443\u001b[0m \u001b[38;5;28;01mexcept\u001b[39;00m \u001b[38;5;167;01mKeyError\u001b[39;00m \u001b[38;5;28;01mas\u001b[39;00m err:\n",
      "File \u001b[0;32m~/miniconda3/envs/tkgdti/lib/python3.11/site-packages/networkx/drawing/nx_pylab.py:442\u001b[0m, in \u001b[0;36m<listcomp>\u001b[0;34m(.0)\u001b[0m\n\u001b[1;32m    441\u001b[0m \u001b[38;5;28;01mtry\u001b[39;00m:\n\u001b[0;32m--> 442\u001b[0m     xy \u001b[38;5;241m=\u001b[39m np\u001b[38;5;241m.\u001b[39masarray([\u001b[43mpos\u001b[49m\u001b[43m[\u001b[49m\u001b[43mv\u001b[49m\u001b[43m]\u001b[49m \u001b[38;5;28;01mfor\u001b[39;00m v \u001b[38;5;129;01min\u001b[39;00m nodelist])\n\u001b[1;32m    443\u001b[0m \u001b[38;5;28;01mexcept\u001b[39;00m \u001b[38;5;167;01mKeyError\u001b[39;00m \u001b[38;5;28;01mas\u001b[39;00m err:\n",
      "\u001b[0;31mKeyError\u001b[0m: 'DB00202'",
      "\nThe above exception was the direct cause of the following exception:\n",
      "\u001b[0;31mNetworkXError\u001b[0m                             Traceback (most recent call last)",
      "Cell \u001b[0;32mIn[35], line 23\u001b[0m\n\u001b[1;32m     19\u001b[0m pos \u001b[38;5;241m=\u001b[39m nx\u001b[38;5;241m.\u001b[39mspring_layout(G, seed\u001b[38;5;241m=\u001b[39m\u001b[38;5;241m42\u001b[39m, \n\u001b[1;32m     20\u001b[0m                        fixed\u001b[38;5;241m=\u001b[39m[node_names[src_idx\u001b[38;5;241m.\u001b[39mitem()], node_names[targ_idx\u001b[38;5;241m.\u001b[39mitem()]], \n\u001b[1;32m     21\u001b[0m                        pos\u001b[38;5;241m=\u001b[39m{node_names[src_idx\u001b[38;5;241m.\u001b[39mitem()]: (\u001b[38;5;241m0\u001b[39m, \u001b[38;5;241m1\u001b[39m), node_names[targ_idx\u001b[38;5;241m.\u001b[39mitem()]: (\u001b[38;5;241m0\u001b[39m, \u001b[38;5;241m0\u001b[39m)})\n\u001b[1;32m     22\u001b[0m nx\u001b[38;5;241m.\u001b[39mdraw(G, pos, with_labels\u001b[38;5;241m=\u001b[39m\u001b[38;5;28;01mTrue\u001b[39;00m, node_size\u001b[38;5;241m=\u001b[39msz, node_color\u001b[38;5;241m=\u001b[39m\u001b[38;5;124m'\u001b[39m\u001b[38;5;124mgray\u001b[39m\u001b[38;5;124m'\u001b[39m, node_shape\u001b[38;5;241m=\u001b[39m\u001b[38;5;124m'\u001b[39m\u001b[38;5;124ms\u001b[39m\u001b[38;5;124m'\u001b[39m)\n\u001b[0;32m---> 23\u001b[0m \u001b[43mnx\u001b[49m\u001b[38;5;241;43m.\u001b[39;49m\u001b[43mdraw_networkx_nodes\u001b[49m\u001b[43m(\u001b[49m\u001b[43mG\u001b[49m\u001b[43m,\u001b[49m\u001b[43m \u001b[49m\u001b[43mpos\u001b[49m\u001b[43m,\u001b[49m\u001b[43m \u001b[49m\u001b[43mnodelist\u001b[49m\u001b[38;5;241;43m=\u001b[39;49m\u001b[43m[\u001b[49m\u001b[43mnode_names\u001b[49m\u001b[43m[\u001b[49m\u001b[43msrc_idx\u001b[49m\u001b[38;5;241;43m.\u001b[39;49m\u001b[43mitem\u001b[49m\u001b[43m(\u001b[49m\u001b[43m)\u001b[49m\u001b[43m]\u001b[49m\u001b[43m]\u001b[49m\u001b[43m,\u001b[49m\u001b[43m \u001b[49m\u001b[43mnode_color\u001b[49m\u001b[38;5;241;43m=\u001b[39;49m\u001b[38;5;124;43m'\u001b[39;49m\u001b[38;5;124;43mred\u001b[39;49m\u001b[38;5;124;43m'\u001b[39;49m\u001b[43m,\u001b[49m\u001b[43m \u001b[49m\u001b[43mnode_size\u001b[49m\u001b[38;5;241;43m=\u001b[39;49m\u001b[43msz\u001b[49m\u001b[43m)\u001b[49m\n\u001b[1;32m     24\u001b[0m nx\u001b[38;5;241m.\u001b[39mdraw_networkx_nodes(G, pos, nodelist\u001b[38;5;241m=\u001b[39m[node_names[targ_idx\u001b[38;5;241m.\u001b[39mitem()]], node_color\u001b[38;5;241m=\u001b[39m\u001b[38;5;124m'\u001b[39m\u001b[38;5;124mblue\u001b[39m\u001b[38;5;124m'\u001b[39m, node_size\u001b[38;5;241m=\u001b[39msz)\n\u001b[1;32m     25\u001b[0m plt\u001b[38;5;241m.\u001b[39mshow()\n",
      "File \u001b[0;32m~/miniconda3/envs/tkgdti/lib/python3.11/site-packages/networkx/drawing/nx_pylab.py:444\u001b[0m, in \u001b[0;36mdraw_networkx_nodes\u001b[0;34m(G, pos, nodelist, node_size, node_color, node_shape, alpha, cmap, vmin, vmax, ax, linewidths, edgecolors, label, margins, hide_ticks)\u001b[0m\n\u001b[1;32m    442\u001b[0m     xy \u001b[38;5;241m=\u001b[39m np\u001b[38;5;241m.\u001b[39masarray([pos[v] \u001b[38;5;28;01mfor\u001b[39;00m v \u001b[38;5;129;01min\u001b[39;00m nodelist])\n\u001b[1;32m    443\u001b[0m \u001b[38;5;28;01mexcept\u001b[39;00m \u001b[38;5;167;01mKeyError\u001b[39;00m \u001b[38;5;28;01mas\u001b[39;00m err:\n\u001b[0;32m--> 444\u001b[0m     \u001b[38;5;28;01mraise\u001b[39;00m nx\u001b[38;5;241m.\u001b[39mNetworkXError(\u001b[38;5;124mf\u001b[39m\u001b[38;5;124m\"\u001b[39m\u001b[38;5;124mNode \u001b[39m\u001b[38;5;132;01m{\u001b[39;00merr\u001b[38;5;132;01m}\u001b[39;00m\u001b[38;5;124m has no position.\u001b[39m\u001b[38;5;124m\"\u001b[39m) \u001b[38;5;28;01mfrom\u001b[39;00m \u001b[38;5;21;01merr\u001b[39;00m\n\u001b[1;32m    446\u001b[0m \u001b[38;5;28;01mif\u001b[39;00m \u001b[38;5;28misinstance\u001b[39m(alpha, Iterable):\n\u001b[1;32m    447\u001b[0m     node_color \u001b[38;5;241m=\u001b[39m apply_alpha(node_color, alpha, nodelist, cmap, vmin, vmax)\n",
      "\u001b[0;31mNetworkXError\u001b[0m: Node 'DB00202' has no position."
     ]
    },
    {
     "data": {
      "image/png": "[encoded data removed]",
      "text/plain": [
       "<Figure size 600x600 with 1 Axes>"
      ]
     },
     "metadata": {},
     "output_type": "display_data"
    }
   ],
   "source": [
    "subgraph = explanation.get_explanation_subgraph()\n",
    "sub_edge_index = subgraph.edge_index[:, subgraph.edge_mask > 0.5]\n",
    "\n",
    "node_names = [] \n",
    "for ntype in tdata.metadata()[0]: \n",
    "    node_names += tdata[ntype].names\n",
    "node_names = np.array(node_names)\n",
    "\n",
    "G = nx.DiGraph() \n",
    "for src,dst in sub_edge_index.T: \n",
    "    G.add_edge(node_names[src.item()], node_names[dst.item()])\n",
    "\n",
    "sz = 1000\n",
    "\n",
    "# color drug (src_idx) red and prot (targ_idx) blue, all other nodes should be gray \n",
    "# fix the drug at the top of the graph and the prot at the bottom\n",
    "# change shape of nodes to be rectangles\n",
    "plt.figure(figsize=(6, 6))\n",
    "pos = nx.spring_layout(G, seed=42, \n",
    "                       fixed=[node_names[src_idx.item()], node_names[targ_idx.item()]], \n",
    "                       pos={node_names[src_idx.item()]: (0, 1), node_names[targ_idx.item()]: (0, 0)})\n",
    "nx.draw(G, pos, with_labels=True, node_size=sz, node_color='gray', node_shape='s')\n",
    "nx.draw_networkx_nodes(G, pos, nodelist=[node_names[src_idx.item()]], node_color='red', node_size=sz)\n",
    "nx.draw_networkx_nodes(G, pos, nodelist=[node_names[targ_idx.item()]], node_color='blue', node_size=sz)\n",
    "plt.show()"
   ]
  },
  {
   "cell_type": "code",
   "execution_count": null,
   "metadata": {},
   "outputs": [
    {
     "data": {
      "image/png": "[encoded data removed]",
      "text/plain": [
       "<Figure size 640x480 with 1 Axes>"
      ]
     },
     "metadata": {},
     "output_type": "display_data"
    }
   ],
   "source": [
    "plt.figure()\n",
    "plt.hist( subgraph.edge_mask.detach().cpu().numpy() ) \n",
    "plt.yscale('log')\n",
    "plt.show()"
   ]
  },
  {
   "cell_type": "code",
   "execution_count": 9,
   "metadata": {},
   "outputs": [
    {
     "data": {
      "text/plain": [
       "True"
      ]
     },
     "execution_count": 9,
     "metadata": {},
     "output_type": "execute_result"
    }
   ],
   "source": [
    "explanation.validate()"
   ]
  },
  {
   "cell_type": "code",
   "execution_count": null,
   "metadata": {},
   "outputs": [],
   "source": [
    "subgraph = explanation.get_explanation_subgraph()"
   ]
  }
 ],
 "metadata": {
  "kernelspec": {
   "display_name": "tkgdti",
   "language": "python",
   "name": "python3"
  },
  "language_info": {
   "codemirror_mode": {
    "name": "ipython",
    "version": 3
   },
   "file_extension": ".py",
   "mimetype": "text/x-python",
   "name": "python",
   "nbconvert_exporter": "python",
   "pygments_lexer": "ipython3",
   "version": "3.11.10"
  }
 },
 "nbformat": 4,
 "nbformat_minor": 2
}
