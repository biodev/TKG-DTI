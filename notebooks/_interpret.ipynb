{
 "cells": [
  {
   "cell_type": "code",
   "execution_count": 1,
   "metadata": {},
   "outputs": [],
   "source": [
    "import torch \n",
    "from matplotlib import pyplot as plt \n",
    "from tkgdti.train.utils import device_and_data_loading\n",
    "import argparse \n",
    "from tkgdti.data.TriplesDatasetGNN import TriplesDatasetGNN\n",
    "from tkgdti.data.process_graph import process_graph\n",
    "import torch_geometric as pyg\n",
    "import numpy as np\n",
    "import pandas as pd\n",
    "from sklearn.metrics import roc_auc_score, average_precision_score\n",
    "from torch_geometric.explain import Explainer, GNNExplainer\n",
    "import networkx as nx"
   ]
  },
  {
   "cell_type": "code",
   "execution_count": 2,
   "metadata": {},
   "outputs": [],
   "source": [
    "res = torch.load('../output/gnn/transformer/results_6.pt')\n",
    "model = res['best_model']"
   ]
  },
  {
   "cell_type": "code",
   "execution_count": 3,
   "metadata": {},
   "outputs": [
    {
     "name": "stdout",
     "output_type": "stream",
     "text": [
      "device: cuda\n"
     ]
    }
   ],
   "source": [
    "args = argparse.Namespace() \n",
    "args.data = '/home/teddy/local/KGDTI/data/HeteroA/processed/FOLD_0'\n",
    "args.verbose = True\n",
    "\n",
    "device, data, train_triples, valid_triples, \\\n",
    "        valid_neg_triples, test_triples, test_neg_triples  = device_and_data_loading(args, return_test=True)\n",
    "\n",
    "tdata = process_graph(data)\n",
    "\n",
    "edge_index_dict = {key: tdata[key]['edge_index'] for key in tdata.metadata()[1]}\n",
    "num_node_dict = {key: tdata[key].num_nodes for key in tdata.metadata()[0]}\n"
   ]
  },
  {
   "cell_type": "code",
   "execution_count": 4,
   "metadata": {},
   "outputs": [],
   "source": [
    "datas = []\n",
    "for i in range(data['num_nodes_dict']['drug']):\n",
    "    head = i \n",
    "    x_dict = {node:torch.zeros((num_nodes, 1), dtype=torch.float32) for node, num_nodes in num_node_dict.items()}\n",
    "\n",
    "    x_dict['drug'][head] = torch.ones((1,), dtype=torch.float32)\n",
    "\n",
    "    edge_index_dict = edge_index_dict\n",
    "\n",
    "    # Create a HeteroData object for this instance\n",
    "    dat = pyg.data.HeteroData()\n",
    "\n",
    "    # Add node features\n",
    "    for node_type in x_dict:\n",
    "        dat[node_type].x = x_dict[node_type]\n",
    "\n",
    "    # Add edge indices\n",
    "    for edge_type in edge_index_dict:\n",
    "        src_type, relation, dst_type = edge_type\n",
    "        dat[(src_type, relation, dst_type)].edge_index = edge_index_dict[edge_type]\n",
    "\n",
    "    datas.append(dat)"
   ]
  },
  {
   "cell_type": "code",
   "execution_count": 5,
   "metadata": {},
   "outputs": [
    {
     "name": "stdout",
     "output_type": "stream",
     "text": [
      "drug_idx: 12\n",
      "prot_idx: tensor(1166, device='cuda:0')\n",
      "prot_idx prob (target): tensor([0.4671], device='cuda:0')\n",
      "targ_idx: tensor(7477)\n",
      "src_idx: tensor(12)\n"
     ]
    }
   ],
   "source": [
    "# didx=4,9,12 \n",
    "drug_idx = 12\n",
    "prot_idx = tdata.metadata()[0].index('protein')\n",
    "dat = datas[drug_idx].to_homogeneous()\n",
    "model.eval()\n",
    "with torch.no_grad():\n",
    "    out = model(dat.x.to(device), dat.edge_index.to(device), dat.edge_type.to(device))\n",
    "prot_mask = dat.node_type == prot_idx\n",
    "prot_probs = out[prot_mask] \n",
    "prot_idx = prot_probs.argmax()\n",
    "\n",
    "# convert prot_idx to global idx\n",
    "rng = torch.arange(out.size(0))\n",
    "targ_idx = rng[prot_mask][prot_idx]\n",
    "\n",
    "# convert drug_idx to global idx \n",
    "src_idx = dat.x[:, 0].nonzero().squeeze()\n",
    "\n",
    "print('drug_idx:', drug_idx)\n",
    "print('prot_idx:', prot_idx)\n",
    "print('prot_idx prob (target):', prot_probs[prot_idx])  # larger probs will probably work better \n",
    "print('targ_idx:', targ_idx)\n",
    "print('src_idx:', src_idx)\n",
    "\n",
    "assert out[targ_idx] == prot_probs[prot_idx], 'something went wrong'"
   ]
  },
  {
   "cell_type": "code",
   "execution_count": null,
   "metadata": {},
   "outputs": [
    {
     "name": "stdout",
     "output_type": "stream",
     "text": [
      "Generated explanations in ['edge_mask']\n"
     ]
    }
   ],
   "source": [
    "model.eval() \n",
    "\n",
    "explainer = Explainer(\n",
    "    model=model,\n",
    "    algorithm=pyg.explain.GNNExplainer(edge_size=0.005, epochs=100, lr=1e-2),\n",
    "    explanation_type='model',\n",
    "    edge_mask_type='object',\n",
    "    model_config=dict(\n",
    "        mode='binary_classification',\n",
    "        task_level='node',\n",
    "        return_type='raw',\n",
    "    ),\n",
    ")\n",
    "\n",
    "explanation = explainer(x=dat.x.to(device), edge_index=dat.edge_index.to(device), edge_type=dat.edge_type.to(device), index=targ_idx)\n",
    "print(f'Generated explanations in {explanation.available_explanations}')"
   ]
  },
  {
   "cell_type": "code",
   "execution_count": 8,
   "metadata": {},
   "outputs": [
    {
     "data": {
      "image/png": "[encoded data removed]",
      "text/plain": [
       "<Figure size 640x480 with 1 Axes>"
      ]
     },
     "metadata": {},
     "output_type": "display_data"
    }
   ],
   "source": [
    "plt.figure()\n",
    "plt.hist(explanation.edge_mask.cpu().numpy(), bins=10)\n",
    "plt.show()"
   ]
  },
  {
   "cell_type": "code",
   "execution_count": null,
   "metadata": {},
   "outputs": [
    {
     "ename": "NetworkXError",
     "evalue": "Node 'DB00202' has no position.",
     "output_type": "error",
     "traceback": [
      "\u001b[0;31m---------------------------------------------------------------------------\u001b[0m",
      "\u001b[0;31mKeyError\u001b[0m                                  Traceback (most recent call last)",
      "File \u001b[0;32m~/miniconda3/envs/tkgdti/lib/python3.11/site-packages/networkx/drawing/nx_pylab.py:442\u001b[0m, in \u001b[0;36mdraw_networkx_nodes\u001b[0;34m(G, pos, nodelist, node_size, node_color, node_shape, alpha, cmap, vmin, vmax, ax, linewidths, edgecolors, label, margins, hide_ticks)\u001b[0m\n\u001b[1;32m    441\u001b[0m \u001b[38;5;28;01mtry\u001b[39;00m:\n\u001b[0;32m--> 442\u001b[0m     xy \u001b[38;5;241m=\u001b[39m np\u001b[38;5;241m.\u001b[39masarray(\u001b[43m[\u001b[49m\u001b[43mpos\u001b[49m\u001b[43m[\u001b[49m\u001b[43mv\u001b[49m\u001b[43m]\u001b[49m\u001b[43m \u001b[49m\u001b[38;5;28;43;01mfor\u001b[39;49;00m\u001b[43m \u001b[49m\u001b[43mv\u001b[49m\u001b[43m \u001b[49m\u001b[38;5;129;43;01min\u001b[39;49;00m\u001b[43m \u001b[49m\u001b[43mnodelist\u001b[49m\u001b[43m]\u001b[49m)\n\u001b[1;32m    443\u001b[0m \u001b[38;5;28;01mexcept\u001b[39;00m \u001b[38;5;167;01mKeyError\u001b[39;00m \u001b[38;5;28;01mas\u001b[39;00m err:\n",
      "File \u001b[0;32m~/miniconda3/envs/tkgdti/lib/python3.11/site-packages/networkx/drawing/nx_pylab.py:442\u001b[0m, in \u001b[0;36m<listcomp>\u001b[0;34m(.0)\u001b[0m\n\u001b[1;32m    441\u001b[0m \u001b[38;5;28;01mtry\u001b[39;00m:\n\u001b[0;32m--> 442\u001b[0m     xy \u001b[38;5;241m=\u001b[39m np\u001b[38;5;241m.\u001b[39masarray([\u001b[43mpos\u001b[49m\u001b[43m[\u001b[49m\u001b[43mv\u001b[49m\u001b[43m]\u001b[49m \u001b[38;5;28;01mfor\u001b[39;00m v \u001b[38;5;129;01min\u001b[39;00m nodelist])\n\u001b[1;32m    443\u001b[0m \u001b[38;5;28;01mexcept\u001b[39;00m \u001b[38;5;167;01mKeyError\u001b[39;00m \u001b[38;5;28;01mas\u001b[39;00m err:\n",
      "\u001b[0;31mKeyError\u001b[0m: 'DB00202'",
      "\nThe above exception was the direct cause of the following exception:\n",
      "\u001b[0;31mNetworkXError\u001b[0m                             Traceback (most recent call last)",
      "Cell \u001b[0;32mIn[35], line 23\u001b[0m\n\u001b[1;32m     19\u001b[0m pos \u001b[38;5;241m=\u001b[39m nx\u001b[38;5;241m.\u001b[39mspring_layout(G, seed\u001b[38;5;241m=\u001b[39m\u001b[38;5;241m42\u001b[39m, \n\u001b[1;32m     20\u001b[0m                        fixed\u001b[38;5;241m=\u001b[39m[node_names[src_idx\u001b[38;5;241m.\u001b[39mitem()], node_names[targ_idx\u001b[38;5;241m.\u001b[39mitem()]], \n\u001b[1;32m     21\u001b[0m                        pos\u001b[38;5;241m=\u001b[39m{node_names[src_idx\u001b[38;5;241m.\u001b[39mitem()]: (\u001b[38;5;241m0\u001b[39m, \u001b[38;5;241m1\u001b[39m), node_names[targ_idx\u001b[38;5;241m.\u001b[39mitem()]: (\u001b[38;5;241m0\u001b[39m, \u001b[38;5;241m0\u001b[39m)})\n\u001b[1;32m     22\u001b[0m nx\u001b[38;5;241m.\u001b[39mdraw(G, pos, with_labels\u001b[38;5;241m=\u001b[39m\u001b[38;5;28;01mTrue\u001b[39;00m, node_size\u001b[38;5;241m=\u001b[39msz, node_color\u001b[38;5;241m=\u001b[39m\u001b[38;5;124m'\u001b[39m\u001b[38;5;124mgray\u001b[39m\u001b[38;5;124m'\u001b[39m, node_shape\u001b[38;5;241m=\u001b[39m\u001b[38;5;124m'\u001b[39m\u001b[38;5;124ms\u001b[39m\u001b[38;5;124m'\u001b[39m)\n\u001b[0;32m---> 23\u001b[0m \u001b[43mnx\u001b[49m\u001b[38;5;241;43m.\u001b[39;49m\u001b[43mdraw_networkx_nodes\u001b[49m\u001b[43m(\u001b[49m\u001b[43mG\u001b[49m\u001b[43m,\u001b[49m\u001b[43m \u001b[49m\u001b[43mpos\u001b[49m\u001b[43m,\u001b[49m\u001b[43m \u001b[49m\u001b[43mnodelist\u001b[49m\u001b[38;5;241;43m=\u001b[39;49m\u001b[43m[\u001b[49m\u001b[43mnode_names\u001b[49m\u001b[43m[\u001b[49m\u001b[43msrc_idx\u001b[49m\u001b[38;5;241;43m.\u001b[39;49m\u001b[43mitem\u001b[49m\u001b[43m(\u001b[49m\u001b[43m)\u001b[49m\u001b[43m]\u001b[49m\u001b[43m]\u001b[49m\u001b[43m,\u001b[49m\u001b[43m \u001b[49m\u001b[43mnode_color\u001b[49m\u001b[38;5;241;43m=\u001b[39;49m\u001b[38;5;124;43m'\u001b[39;49m\u001b[38;5;124;43mred\u001b[39;49m\u001b[38;5;124;43m'\u001b[39;49m\u001b[43m,\u001b[49m\u001b[43m \u001b[49m\u001b[43mnode_size\u001b[49m\u001b[38;5;241;43m=\u001b[39;49m\u001b[43msz\u001b[49m\u001b[43m)\u001b[49m\n\u001b[1;32m     24\u001b[0m nx\u001b[38;5;241m.\u001b[39mdraw_networkx_nodes(G, pos, nodelist\u001b[38;5;241m=\u001b[39m[node_names[targ_idx\u001b[38;5;241m.\u001b[39mitem()]], node_color\u001b[38;5;241m=\u001b[39m\u001b[38;5;124m'\u001b[39m\u001b[38;5;124mblue\u001b[39m\u001b[38;5;124m'\u001b[39m, node_size\u001b[38;5;241m=\u001b[39msz)\n\u001b[1;32m     25\u001b[0m plt\u001b[38;5;241m.\u001b[39mshow()\n",
      "File \u001b[0;32m~/miniconda3/envs/tkgdti/lib/python3.11/site-packages/networkx/drawing/nx_pylab.py:444\u001b[0m, in \u001b[0;36mdraw_networkx_nodes\u001b[0;34m(G, pos, nodelist, node_size, node_color, node_shape, alpha, cmap, vmin, vmax, ax, linewidths, edgecolors, label, margins, hide_ticks)\u001b[0m\n\u001b[1;32m    442\u001b[0m     xy \u001b[38;5;241m=\u001b[39m np\u001b[38;5;241m.\u001b[39masarray([pos[v] \u001b[38;5;28;01mfor\u001b[39;00m v \u001b[38;5;129;01min\u001b[39;00m nodelist])\n\u001b[1;32m    443\u001b[0m \u001b[38;5;28;01mexcept\u001b[39;00m \u001b[38;5;167;01mKeyError\u001b[39;00m \u001b[38;5;28;01mas\u001b[39;00m err:\n\u001b[0;32m--> 444\u001b[0m     \u001b[38;5;28;01mraise\u001b[39;00m nx\u001b[38;5;241m.\u001b[39mNetworkXError(\u001b[38;5;124mf\u001b[39m\u001b[38;5;124m\"\u001b[39m\u001b[38;5;124mNode \u001b[39m\u001b[38;5;132;01m{\u001b[39;00merr\u001b[38;5;132;01m}\u001b[39;00m\u001b[38;5;124m has no position.\u001b[39m\u001b[38;5;124m\"\u001b[39m) \u001b[38;5;28;01mfrom\u001b[39;00m \u001b[38;5;21;01merr\u001b[39;00m\n\u001b[1;32m    446\u001b[0m \u001b[38;5;28;01mif\u001b[39;00m \u001b[38;5;28misinstance\u001b[39m(alpha, Iterable):\n\u001b[1;32m    447\u001b[0m     node_color \u001b[38;5;241m=\u001b[39m apply_alpha(node_color, alpha, nodelist, cmap, vmin, vmax)\n",
      "\u001b[0;31mNetworkXError\u001b[0m: Node 'DB00202' has no position."
     ]
    },
    {
     "data": {
      "image/png": "[encoded data removed]",
      "text/plain": [
       "<Figure size 600x600 with 1 Axes>"
      ]
     },
     "metadata": {},
     "output_type": "display_data"
    }
   ],
   "source": [
    "subgraph = explanation.get_explanation_subgraph()\n",
    "sub_edge_index = subgraph.edge_index[:, subgraph.edge_mask > 0.5]\n",
    "\n",
    "node_names = [] \n",
    "for ntype in tdata.metadata()[0]: \n",
    "    node_names += tdata[ntype].names\n",
    "node_names = np.array(node_names)\n",
    "\n",
    "G = nx.DiGraph() \n",
    "for src,dst in sub_edge_index.T: \n",
    "    G.add_edge(node_names[src.item()], node_names[dst.item()])\n",
    "\n",
    "sz = 1000\n",
    "\n",
    "# color drug (src_idx) red and prot (targ_idx) blue, all other nodes should be gray \n",
    "# fix the drug at the top of the graph and the prot at the bottom\n",
    "# change shape of nodes to be rectangles\n",
    "plt.figure(figsize=(6, 6))\n",
    "pos = nx.spring_layout(G, seed=42, \n",
    "                       fixed=[node_names[src_idx.item()], node_names[targ_idx.item()]], \n",
    "                       pos={node_names[src_idx.item()]: (0, 1), node_names[targ_idx.item()]: (0, 0)})\n",
    "nx.draw(G, pos, with_labels=True, node_size=sz, node_color='gray', node_shape='s')\n",
    "nx.draw_networkx_nodes(G, pos, nodelist=[node_names[src_idx.item()]], node_color='red', node_size=sz)\n",
    "nx.draw_networkx_nodes(G, pos, nodelist=[node_names[targ_idx.item()]], node_color='blue', node_size=sz)\n",
    "plt.show()"
   ]
  },
  {
   "cell_type": "code",
   "execution_count": null,
   "metadata": {},
   "outputs": [
    {
     "data": {
      "image/png": "[encoded data removed]",
      "text/plain": [
       "<Figure size 640x480 with 1 Axes>"
      ]
     },
     "metadata": {},
     "output_type": "display_data"
    }
   ],
   "source": [
    "plt.figure()\n",
    "plt.hist( subgraph.edge_mask.detach().cpu().numpy() ) \n",
    "plt.yscale('log')\n",
    "plt.show()"
   ]
  },
  {
   "cell_type": "code",
   "execution_count": 9,
   "metadata": {},
   "outputs": [
    {
     "data": {
      "text/plain": [
       "True"
      ]
     },
     "execution_count": 9,
     "metadata": {},
     "output_type": "execute_result"
    }
   ],
   "source": [
    "explanation.validate()"
   ]
  },
  {
   "cell_type": "code",
   "execution_count": null,
   "metadata": {},
   "outputs": [],
   "source": [
    "subgraph = explanation.get_explanation_subgraph()"
   ]
  }
 ],
 "metadata": {
  "kernelspec": {
   "display_name": "tkgdti",
   "language": "python",
   "name": "python3"
  },
  "language_info": {
   "codemirror_mode": {
    "name": "ipython",
    "version": 3
   },
   "file_extension": ".py",
   "mimetype": "text/x-python",
   "name": "python",
   "nbconvert_exporter": "python",
   "pygments_lexer": "ipython3",
   "version": "3.11.10"
  }
 },
 "nbformat": 4,
 "nbformat_minor": 2
}
