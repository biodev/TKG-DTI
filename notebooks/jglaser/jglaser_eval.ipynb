{
 "cells": [
  {
   "cell_type": "code",
   "execution_count": 18,
   "metadata": {},
   "outputs": [],
   "source": [
    "import torch \n",
    "from hnet.train.hnet import train_hnet\n",
    "import pandas as pd \n",
    "from matplotlib import pyplot as plt\n",
    "import numpy as np\n",
    "from sklearn.metrics import r2_score\n",
    "from hnet.models.MLP import MLP \n",
    "from hnet.models.HyperNet import HyperNet\n",
    "from hnet.train.hnet import EnergyDistanceLoss \n",
    "from datasets import load_dataset\n",
    "from transformers import AutoTokenizer, AutoModel\n",
    "from sklearn.metrics import roc_auc_score\n",
    "\n",
    "from tkgdti.embed.AA2EMB import AA2EMB\n",
    "from tkgdti.embed.SMILES2EMB import SMILES2EMB"
   ]
  },
  {
   "cell_type": "code",
   "execution_count": 19,
   "metadata": {},
   "outputs": [
    {
     "data": {
      "text/html": [
       "<div>\n",
       "<style scoped>\n",
       "    .dataframe tbody tr th:only-of-type {\n",
       "        vertical-align: middle;\n",
       "    }\n",
       "\n",
       "    .dataframe tbody tr th {\n",
       "        vertical-align: top;\n",
       "    }\n",
       "\n",
       "    .dataframe thead th {\n",
       "        text-align: right;\n",
       "    }\n",
       "</style>\n",
       "<table border=\"1\" class=\"dataframe\">\n",
       "  <thead>\n",
       "    <tr style=\"text-align: right;\">\n",
       "      <th></th>\n",
       "      <th>inhibitor</th>\n",
       "      <th>Symbol</th>\n",
       "      <th>GeneID</th>\n",
       "      <th>targetome_adj_tier</th>\n",
       "      <th>can_smiles</th>\n",
       "      <th>inchikey</th>\n",
       "      <th>iso_smiles</th>\n",
       "    </tr>\n",
       "  </thead>\n",
       "  <tbody>\n",
       "    <tr>\n",
       "      <th>0</th>\n",
       "      <td>ABT-737</td>\n",
       "      <td>BAD</td>\n",
       "      <td>572</td>\n",
       "      <td>TIER_1</td>\n",
       "      <td>CN(C)CCC(CSC1=CC=CC=C1)NC2=C(C=C(C=C2)S(=O)(=O...</td>\n",
       "      <td>HPLNQCPCUACXLM-PGUFJCEWSA-N</td>\n",
       "      <td>CN(C)CC[C@H](CSC1=CC=CC=C1)NC2=C(C=C(C=C2)S(=O...</td>\n",
       "    </tr>\n",
       "    <tr>\n",
       "      <th>1</th>\n",
       "      <td>Palbociclib</td>\n",
       "      <td>CCND1</td>\n",
       "      <td>595</td>\n",
       "      <td>TIER_1</td>\n",
       "      <td>CC1=C(C(=O)N(C2=NC(=NC=C12)NC3=NC=C(C=C3)N4CCN...</td>\n",
       "      <td>AHJRHEGDXFFMBM-UHFFFAOYSA-N</td>\n",
       "      <td>CC1=C(C(=O)N(C2=NC(=NC=C12)NC3=NC=C(C=C3)N4CCN...</td>\n",
       "    </tr>\n",
       "    <tr>\n",
       "      <th>2</th>\n",
       "      <td>Flavopiridol</td>\n",
       "      <td>CCNT1</td>\n",
       "      <td>904</td>\n",
       "      <td>TIER_1</td>\n",
       "      <td>CN1CCC(C(C1)O)C2=C(C=C(C3=C2OC(=CC3=O)C4=CC=CC...</td>\n",
       "      <td>BIIVYFLTOXDAOV-YVEFUNNKSA-N</td>\n",
       "      <td>CN1CC[C@@H]([C@@H](C1)O)C2=C(C=C(C3=C2OC(=CC3=...</td>\n",
       "    </tr>\n",
       "    <tr>\n",
       "      <th>3</th>\n",
       "      <td>Bortezomib (Velcade)</td>\n",
       "      <td>PSMA1</td>\n",
       "      <td>5682</td>\n",
       "      <td>TIER_1</td>\n",
       "      <td>B(C(CC(C)C)NC(=O)C(CC1=CC=CC=C1)NC(=O)C2=NC=CN...</td>\n",
       "      <td>GXJABQQUPOEUTA-RDJZCZTQSA-N</td>\n",
       "      <td>B([C@H](CC(C)C)NC(=O)[C@H](CC1=CC=CC=C1)NC(=O)...</td>\n",
       "    </tr>\n",
       "    <tr>\n",
       "      <th>4</th>\n",
       "      <td>Bortezomib (Velcade)</td>\n",
       "      <td>PSMA2</td>\n",
       "      <td>5683</td>\n",
       "      <td>TIER_1</td>\n",
       "      <td>B(C(CC(C)C)NC(=O)C(CC1=CC=CC=C1)NC(=O)C2=NC=CN...</td>\n",
       "      <td>GXJABQQUPOEUTA-RDJZCZTQSA-N</td>\n",
       "      <td>B([C@H](CC(C)C)NC(=O)[C@H](CC1=CC=CC=C1)NC(=O)...</td>\n",
       "    </tr>\n",
       "  </tbody>\n",
       "</table>\n",
       "</div>"
      ],
      "text/plain": [
       "              inhibitor Symbol  GeneID targetome_adj_tier  \\\n",
       "0               ABT-737    BAD     572             TIER_1   \n",
       "1           Palbociclib  CCND1     595             TIER_1   \n",
       "2          Flavopiridol  CCNT1     904             TIER_1   \n",
       "3  Bortezomib (Velcade)  PSMA1    5682             TIER_1   \n",
       "4  Bortezomib (Velcade)  PSMA2    5683             TIER_1   \n",
       "\n",
       "                                          can_smiles  \\\n",
       "0  CN(C)CCC(CSC1=CC=CC=C1)NC2=C(C=C(C=C2)S(=O)(=O...   \n",
       "1  CC1=C(C(=O)N(C2=NC(=NC=C12)NC3=NC=C(C=C3)N4CCN...   \n",
       "2  CN1CCC(C(C1)O)C2=C(C=C(C3=C2OC(=CC3=O)C4=CC=CC...   \n",
       "3  B(C(CC(C)C)NC(=O)C(CC1=CC=CC=C1)NC(=O)C2=NC=CN...   \n",
       "4  B(C(CC(C)C)NC(=O)C(CC1=CC=CC=C1)NC(=O)C2=NC=CN...   \n",
       "\n",
       "                      inchikey  \\\n",
       "0  HPLNQCPCUACXLM-PGUFJCEWSA-N   \n",
       "1  AHJRHEGDXFFMBM-UHFFFAOYSA-N   \n",
       "2  BIIVYFLTOXDAOV-YVEFUNNKSA-N   \n",
       "3  GXJABQQUPOEUTA-RDJZCZTQSA-N   \n",
       "4  GXJABQQUPOEUTA-RDJZCZTQSA-N   \n",
       "\n",
       "                                          iso_smiles  \n",
       "0  CN(C)CC[C@H](CSC1=CC=CC=C1)NC2=C(C=C(C=C2)S(=O...  \n",
       "1  CC1=C(C(=O)N(C2=NC(=NC=C12)NC3=NC=C(C=C3)N4CCN...  \n",
       "2  CN1CC[C@@H]([C@@H](C1)O)C2=C(C=C(C3=C2OC(=CC3=...  \n",
       "3  B([C@H](CC(C)C)NC(=O)[C@H](CC1=CC=CC=C1)NC(=O)...  \n",
       "4  B([C@H](CC(C)C)NC(=O)[C@H](CC1=CC=CC=C1)NC(=O)...  "
      ]
     },
     "execution_count": 19,
     "metadata": {},
     "output_type": "execute_result"
    }
   ],
   "source": [
    "tdf = pd.read_csv('../../extdata/meta/targetome__drug_targets_gene.csv')\n",
    "aadf = pd.read_csv('../../extdata/meta/gene2aa.csv')\n",
    "tdf.head()"
   ]
  },
  {
   "cell_type": "code",
   "execution_count": 20,
   "metadata": {},
   "outputs": [],
   "source": [
    "# TODO: retrieve canonical smiles from pubchem"
   ]
  },
  {
   "cell_type": "code",
   "execution_count": 21,
   "metadata": {},
   "outputs": [],
   "source": [
    "smiles = tdf['can_smiles'].unique().astype(str).tolist()\n",
    "aas = aadf['sequence'].unique().astype(str).tolist()"
   ]
  },
  {
   "cell_type": "code",
   "execution_count": 22,
   "metadata": {},
   "outputs": [
    {
     "data": {
      "text/html": [
       "<div>\n",
       "<style scoped>\n",
       "    .dataframe tbody tr th:only-of-type {\n",
       "        vertical-align: middle;\n",
       "    }\n",
       "\n",
       "    .dataframe tbody tr th {\n",
       "        vertical-align: top;\n",
       "    }\n",
       "\n",
       "    .dataframe thead th {\n",
       "        text-align: right;\n",
       "    }\n",
       "</style>\n",
       "<table border=\"1\" class=\"dataframe\">\n",
       "  <thead>\n",
       "    <tr style=\"text-align: right;\">\n",
       "      <th></th>\n",
       "      <th>inhibitor</th>\n",
       "      <th>Symbol</th>\n",
       "      <th>GeneID</th>\n",
       "      <th>targetome_adj_tier</th>\n",
       "      <th>can_smiles</th>\n",
       "      <th>inchikey</th>\n",
       "      <th>iso_smiles</th>\n",
       "      <th>drug_idx</th>\n",
       "      <th>prot_idx</th>\n",
       "    </tr>\n",
       "  </thead>\n",
       "  <tbody>\n",
       "    <tr>\n",
       "      <th>0</th>\n",
       "      <td>ABT-737</td>\n",
       "      <td>BAD</td>\n",
       "      <td>572</td>\n",
       "      <td>TIER_1</td>\n",
       "      <td>CN(C)CCC(CSC1=CC=CC=C1)NC2=C(C=C(C=C2)S(=O)(=O...</td>\n",
       "      <td>HPLNQCPCUACXLM-PGUFJCEWSA-N</td>\n",
       "      <td>CN(C)CC[C@H](CSC1=CC=CC=C1)NC2=C(C=C(C=C2)S(=O...</td>\n",
       "      <td>0</td>\n",
       "      <td>1069</td>\n",
       "    </tr>\n",
       "    <tr>\n",
       "      <th>1</th>\n",
       "      <td>Palbociclib</td>\n",
       "      <td>CCND1</td>\n",
       "      <td>595</td>\n",
       "      <td>TIER_1</td>\n",
       "      <td>CC1=C(C(=O)N(C2=NC(=NC=C12)NC3=NC=C(C=C3)N4CCN...</td>\n",
       "      <td>AHJRHEGDXFFMBM-UHFFFAOYSA-N</td>\n",
       "      <td>CC1=C(C(=O)N(C2=NC(=NC=C12)NC3=NC=C(C=C3)N4CCN...</td>\n",
       "      <td>1</td>\n",
       "      <td>1579</td>\n",
       "    </tr>\n",
       "    <tr>\n",
       "      <th>2</th>\n",
       "      <td>Flavopiridol</td>\n",
       "      <td>CCNT1</td>\n",
       "      <td>904</td>\n",
       "      <td>TIER_1</td>\n",
       "      <td>CN1CCC(C(C1)O)C2=C(C=C(C3=C2OC(=CC3=O)C4=CC=CC...</td>\n",
       "      <td>BIIVYFLTOXDAOV-YVEFUNNKSA-N</td>\n",
       "      <td>CN1CC[C@@H]([C@@H](C1)O)C2=C(C=C(C3=C2OC(=CC3=...</td>\n",
       "      <td>2</td>\n",
       "      <td>1592</td>\n",
       "    </tr>\n",
       "    <tr>\n",
       "      <th>3</th>\n",
       "      <td>Bortezomib (Velcade)</td>\n",
       "      <td>PSMA1</td>\n",
       "      <td>5682</td>\n",
       "      <td>TIER_1</td>\n",
       "      <td>B(C(CC(C)C)NC(=O)C(CC1=CC=CC=C1)NC(=O)C2=NC=CN...</td>\n",
       "      <td>GXJABQQUPOEUTA-RDJZCZTQSA-N</td>\n",
       "      <td>B([C@H](CC(C)C)NC(=O)[C@H](CC1=CC=CC=C1)NC(=O)...</td>\n",
       "      <td>3</td>\n",
       "      <td>9065</td>\n",
       "    </tr>\n",
       "    <tr>\n",
       "      <th>4</th>\n",
       "      <td>Bortezomib (Velcade)</td>\n",
       "      <td>PSMA2</td>\n",
       "      <td>5683</td>\n",
       "      <td>TIER_1</td>\n",
       "      <td>B(C(CC(C)C)NC(=O)C(CC1=CC=CC=C1)NC(=O)C2=NC=CN...</td>\n",
       "      <td>GXJABQQUPOEUTA-RDJZCZTQSA-N</td>\n",
       "      <td>B([C@H](CC(C)C)NC(=O)[C@H](CC1=CC=CC=C1)NC(=O)...</td>\n",
       "      <td>3</td>\n",
       "      <td>9066</td>\n",
       "    </tr>\n",
       "  </tbody>\n",
       "</table>\n",
       "</div>"
      ],
      "text/plain": [
       "              inhibitor Symbol  GeneID targetome_adj_tier  \\\n",
       "0               ABT-737    BAD     572             TIER_1   \n",
       "1           Palbociclib  CCND1     595             TIER_1   \n",
       "2          Flavopiridol  CCNT1     904             TIER_1   \n",
       "3  Bortezomib (Velcade)  PSMA1    5682             TIER_1   \n",
       "4  Bortezomib (Velcade)  PSMA2    5683             TIER_1   \n",
       "\n",
       "                                          can_smiles  \\\n",
       "0  CN(C)CCC(CSC1=CC=CC=C1)NC2=C(C=C(C=C2)S(=O)(=O...   \n",
       "1  CC1=C(C(=O)N(C2=NC(=NC=C12)NC3=NC=C(C=C3)N4CCN...   \n",
       "2  CN1CCC(C(C1)O)C2=C(C=C(C3=C2OC(=CC3=O)C4=CC=CC...   \n",
       "3  B(C(CC(C)C)NC(=O)C(CC1=CC=CC=C1)NC(=O)C2=NC=CN...   \n",
       "4  B(C(CC(C)C)NC(=O)C(CC1=CC=CC=C1)NC(=O)C2=NC=CN...   \n",
       "\n",
       "                      inchikey  \\\n",
       "0  HPLNQCPCUACXLM-PGUFJCEWSA-N   \n",
       "1  AHJRHEGDXFFMBM-UHFFFAOYSA-N   \n",
       "2  BIIVYFLTOXDAOV-YVEFUNNKSA-N   \n",
       "3  GXJABQQUPOEUTA-RDJZCZTQSA-N   \n",
       "4  GXJABQQUPOEUTA-RDJZCZTQSA-N   \n",
       "\n",
       "                                          iso_smiles  drug_idx  prot_idx  \n",
       "0  CN(C)CC[C@H](CSC1=CC=CC=C1)NC2=C(C=C(C=C2)S(=O...         0      1069  \n",
       "1  CC1=C(C(=O)N(C2=NC(=NC=C12)NC3=NC=C(C=C3)N4CCN...         1      1579  \n",
       "2  CN1CC[C@@H]([C@@H](C1)O)C2=C(C=C(C3=C2OC(=CC3=...         2      1592  \n",
       "3  B([C@H](CC(C)C)NC(=O)[C@H](CC1=CC=CC=C1)NC(=O)...         3      9065  \n",
       "4  B([C@H](CC(C)C)NC(=O)[C@H](CC1=CC=CC=C1)NC(=O)...         3      9066  "
      ]
     },
     "execution_count": 22,
     "metadata": {},
     "output_type": "execute_result"
    }
   ],
   "source": [
    "smiles2idx = {smile: i for i, smile in enumerate(smiles)}\n",
    "aas2idx = {aa: i for i, aa in enumerate(aas)}\n",
    "gene2aas = {gene: aas for gene, aas in zip(aadf.gene_name, aadf.sequence)}\n",
    "gene2idx = lambda gene: aas2idx[gene2aas[gene]]\n",
    "\n",
    "tdf = tdf.assign(drug_idx=tdf.can_smiles.map(smiles2idx))\n",
    "tdf = tdf.assign(prot_idx=tdf.Symbol.map(gene2idx))\n",
    "tdf.head()"
   ]
  },
  {
   "cell_type": "code",
   "execution_count": 23,
   "metadata": {},
   "outputs": [
    {
     "name": "stdout",
     "output_type": "stream",
     "text": [
      "embedding smiles...: 0/89\r"
     ]
    }
   ],
   "source": [
    "S2E = SMILES2EMB()\n",
    "z_drug = S2E.embed(smiles)"
   ]
  },
  {
   "cell_type": "code",
   "execution_count": 24,
   "metadata": {},
   "outputs": [
    {
     "name": "stdout",
     "output_type": "stream",
     "text": [
      "Progress: 12896/13013\r"
     ]
    }
   ],
   "source": [
    "AA2E = AA2EMB()\n",
    "z_prot = AA2E.embed(aas)"
   ]
  },
  {
   "cell_type": "code",
   "execution_count": 25,
   "metadata": {},
   "outputs": [
    {
     "name": "stderr",
     "output_type": "stream",
     "text": [
      "/tmp/ipykernel_3558/3300617903.py:1: FutureWarning: You are using `torch.load` with `weights_only=False` (the current default value), which uses the default pickle module implicitly. It is possible to construct malicious pickle data which will execute arbitrary code during unpickling (See https://github.com/pytorch/pytorch/blob/main/SECURITY.md#untrusted-models for more details). In a future release, the default value for `weights_only` will be flipped to `True`. This limits the functions that could be executed during unpickling. Arbitrary objects will no longer be allowed to be loaded via this mode unless they are explicitly allowlisted by the user via `torch.serialization.add_safe_globals`. We recommend you start setting `weights_only=True` for any use case where you don't have full control of the loaded file. Please open an issue on GitHub for any issues related to this experimental feature.\n",
      "  model = torch.load('../../output/kd/model.pt').cpu()\n"
     ]
    }
   ],
   "source": [
    "model = torch.load('../../output/kd/model.pt').cpu()"
   ]
  },
  {
   "cell_type": "code",
   "execution_count": 26,
   "metadata": {},
   "outputs": [],
   "source": [
    "smiles2inchi = {smile: inchi for smile, inchi in zip(tdf.can_smiles, tdf.inchikey)}\n",
    "aa2gene = {aa: gene for aa, gene in zip(aadf.sequence, aadf.gene_name)}"
   ]
  },
  {
   "cell_type": "code",
   "execution_count": 27,
   "metadata": {},
   "outputs": [
    {
     "name": "stdout",
     "output_type": "stream",
     "text": [
      "(1158157, 5)\n"
     ]
    },
    {
     "name": "stderr",
     "output_type": "stream",
     "text": [
      "/tmp/ipykernel_3558/2427235751.py:12: FutureWarning: Downcasting object dtype arrays on .fillna, .ffill, .bfill is deprecated and will change in a future version. Call result.infer_objects(copy=False) instead. To opt-in to the future behavior, set `pd.set_option('future.no_silent_downcasting', True)`\n",
      "  res = pd.DataFrame(res).merge(tdf[['prot_idx', 'drug_idx']].assign(in_targetome=True), on=['prot_idx', 'drug_idx'], how='left').fillna(False)\n"
     ]
    },
    {
     "data": {
      "text/html": [
       "<div>\n",
       "<style scoped>\n",
       "    .dataframe tbody tr th:only-of-type {\n",
       "        vertical-align: middle;\n",
       "    }\n",
       "\n",
       "    .dataframe tbody tr th {\n",
       "        vertical-align: top;\n",
       "    }\n",
       "\n",
       "    .dataframe thead th {\n",
       "        text-align: right;\n",
       "    }\n",
       "</style>\n",
       "<table border=\"1\" class=\"dataframe\">\n",
       "  <thead>\n",
       "    <tr style=\"text-align: right;\">\n",
       "      <th></th>\n",
       "      <th>drug_idx</th>\n",
       "      <th>prot_idx</th>\n",
       "      <th>inchikey</th>\n",
       "      <th>gene_symbol</th>\n",
       "      <th>in_targetome</th>\n",
       "    </tr>\n",
       "  </thead>\n",
       "  <tbody>\n",
       "    <tr>\n",
       "      <th>0</th>\n",
       "      <td>0</td>\n",
       "      <td>0</td>\n",
       "      <td>HPLNQCPCUACXLM-PGUFJCEWSA-N</td>\n",
       "      <td>A1BG</td>\n",
       "      <td>False</td>\n",
       "    </tr>\n",
       "    <tr>\n",
       "      <th>1</th>\n",
       "      <td>0</td>\n",
       "      <td>1</td>\n",
       "      <td>HPLNQCPCUACXLM-PGUFJCEWSA-N</td>\n",
       "      <td>A1CF</td>\n",
       "      <td>False</td>\n",
       "    </tr>\n",
       "    <tr>\n",
       "      <th>2</th>\n",
       "      <td>0</td>\n",
       "      <td>2</td>\n",
       "      <td>HPLNQCPCUACXLM-PGUFJCEWSA-N</td>\n",
       "      <td>A2M</td>\n",
       "      <td>False</td>\n",
       "    </tr>\n",
       "    <tr>\n",
       "      <th>3</th>\n",
       "      <td>0</td>\n",
       "      <td>3</td>\n",
       "      <td>HPLNQCPCUACXLM-PGUFJCEWSA-N</td>\n",
       "      <td>A3GALT2</td>\n",
       "      <td>False</td>\n",
       "    </tr>\n",
       "    <tr>\n",
       "      <th>4</th>\n",
       "      <td>0</td>\n",
       "      <td>4</td>\n",
       "      <td>HPLNQCPCUACXLM-PGUFJCEWSA-N</td>\n",
       "      <td>A4GALT</td>\n",
       "      <td>False</td>\n",
       "    </tr>\n",
       "  </tbody>\n",
       "</table>\n",
       "</div>"
      ],
      "text/plain": [
       "   drug_idx  prot_idx                     inchikey gene_symbol  in_targetome\n",
       "0         0         0  HPLNQCPCUACXLM-PGUFJCEWSA-N        A1BG         False\n",
       "1         0         1  HPLNQCPCUACXLM-PGUFJCEWSA-N        A1CF         False\n",
       "2         0         2  HPLNQCPCUACXLM-PGUFJCEWSA-N         A2M         False\n",
       "3         0         3  HPLNQCPCUACXLM-PGUFJCEWSA-N     A3GALT2         False\n",
       "4         0         4  HPLNQCPCUACXLM-PGUFJCEWSA-N      A4GALT         False"
      ]
     },
     "execution_count": 27,
     "metadata": {},
     "output_type": "execute_result"
    }
   ],
   "source": [
    "res = {'drug_idx': [], 'prot_idx': [], 'inchikey': [], 'gene_symbol': []}\n",
    "\n",
    "for i in range(len(smiles)): \n",
    "    for j in range(len(aas)):\n",
    "        res['drug_idx'].append(i)\n",
    "        res['prot_idx'].append(j)\n",
    "        gene = aa2gene[aas[j]]\n",
    "        inchi = smiles2inchi[smiles[i]]\n",
    "        res['inchikey'].append(inchi)\n",
    "        res['gene_symbol'].append(gene)\n",
    "\n",
    "res = pd.DataFrame(res).merge(tdf[['prot_idx', 'drug_idx']].assign(in_targetome=True), on=['prot_idx', 'drug_idx'], how='left').fillna(False)\n",
    "print(res.shape)\n",
    "res.head()"
   ]
  },
  {
   "cell_type": "code",
   "execution_count": 32,
   "metadata": {},
   "outputs": [
    {
     "name": "stdout",
     "output_type": "stream",
     "text": [
      "progress: 1158000/1158157\r"
     ]
    }
   ],
   "source": [
    "y_pred = []\n",
    "lcb_pred = []\n",
    "ucb_pred = []\n",
    "for i in range(0, len(res), 1000):\n",
    "    print(f'progress: {i}/{len(res)}', end='\\r')\n",
    "    z_drug_batch = z_drug[res.drug_idx.values[i:i+1000]]\n",
    "    z_prot_batch = z_prot[res.prot_idx.values[i:i+1000]]\n",
    "    zz = torch.cat([z_drug_batch, z_prot_batch], dim=1)\n",
    "    preds = model(zz, samples=100).detach().cpu().numpy()\n",
    "    y_pred.append( preds.mean(0) )\n",
    "    lcb_pred.append( np.quantile(preds, q=0.05, axis=0) )\n",
    "    ucb_pred.append( np.quantile(preds, q=0.95, axis=0) )\n",
    "y_pred = np.concatenate(y_pred)\n",
    "lcb_pred = np.concatenate(lcb_pred)\n",
    "ucb_pred = np.concatenate(ucb_pred)\n"
   ]
  },
  {
   "cell_type": "code",
   "execution_count": 33,
   "metadata": {},
   "outputs": [
    {
     "data": {
      "text/html": [
       "<div>\n",
       "<style scoped>\n",
       "    .dataframe tbody tr th:only-of-type {\n",
       "        vertical-align: middle;\n",
       "    }\n",
       "\n",
       "    .dataframe tbody tr th {\n",
       "        vertical-align: top;\n",
       "    }\n",
       "\n",
       "    .dataframe thead th {\n",
       "        text-align: right;\n",
       "    }\n",
       "</style>\n",
       "<table border=\"1\" class=\"dataframe\">\n",
       "  <thead>\n",
       "    <tr style=\"text-align: right;\">\n",
       "      <th></th>\n",
       "      <th>drug_idx</th>\n",
       "      <th>prot_idx</th>\n",
       "      <th>inchikey</th>\n",
       "      <th>gene_symbol</th>\n",
       "      <th>in_targetome</th>\n",
       "      <th>kd_score</th>\n",
       "      <th>kd_lcb</th>\n",
       "      <th>kd_ucb</th>\n",
       "    </tr>\n",
       "  </thead>\n",
       "  <tbody>\n",
       "    <tr>\n",
       "      <th>0</th>\n",
       "      <td>0</td>\n",
       "      <td>0</td>\n",
       "      <td>HPLNQCPCUACXLM-PGUFJCEWSA-N</td>\n",
       "      <td>A1BG</td>\n",
       "      <td>False</td>\n",
       "      <td>-0.631237</td>\n",
       "      <td>-2.087436</td>\n",
       "      <td>1.409813</td>\n",
       "    </tr>\n",
       "    <tr>\n",
       "      <th>1</th>\n",
       "      <td>0</td>\n",
       "      <td>1</td>\n",
       "      <td>HPLNQCPCUACXLM-PGUFJCEWSA-N</td>\n",
       "      <td>A1CF</td>\n",
       "      <td>False</td>\n",
       "      <td>-0.677140</td>\n",
       "      <td>-1.780508</td>\n",
       "      <td>1.364411</td>\n",
       "    </tr>\n",
       "    <tr>\n",
       "      <th>2</th>\n",
       "      <td>0</td>\n",
       "      <td>2</td>\n",
       "      <td>HPLNQCPCUACXLM-PGUFJCEWSA-N</td>\n",
       "      <td>A2M</td>\n",
       "      <td>False</td>\n",
       "      <td>-0.606264</td>\n",
       "      <td>-1.967222</td>\n",
       "      <td>1.569811</td>\n",
       "    </tr>\n",
       "    <tr>\n",
       "      <th>3</th>\n",
       "      <td>0</td>\n",
       "      <td>3</td>\n",
       "      <td>HPLNQCPCUACXLM-PGUFJCEWSA-N</td>\n",
       "      <td>A3GALT2</td>\n",
       "      <td>False</td>\n",
       "      <td>-0.743567</td>\n",
       "      <td>-2.083765</td>\n",
       "      <td>0.695713</td>\n",
       "    </tr>\n",
       "    <tr>\n",
       "      <th>4</th>\n",
       "      <td>0</td>\n",
       "      <td>4</td>\n",
       "      <td>HPLNQCPCUACXLM-PGUFJCEWSA-N</td>\n",
       "      <td>A4GALT</td>\n",
       "      <td>False</td>\n",
       "      <td>-0.678936</td>\n",
       "      <td>-1.923692</td>\n",
       "      <td>0.806777</td>\n",
       "    </tr>\n",
       "  </tbody>\n",
       "</table>\n",
       "</div>"
      ],
      "text/plain": [
       "   drug_idx  prot_idx                     inchikey gene_symbol  in_targetome  \\\n",
       "0         0         0  HPLNQCPCUACXLM-PGUFJCEWSA-N        A1BG         False   \n",
       "1         0         1  HPLNQCPCUACXLM-PGUFJCEWSA-N        A1CF         False   \n",
       "2         0         2  HPLNQCPCUACXLM-PGUFJCEWSA-N         A2M         False   \n",
       "3         0         3  HPLNQCPCUACXLM-PGUFJCEWSA-N     A3GALT2         False   \n",
       "4         0         4  HPLNQCPCUACXLM-PGUFJCEWSA-N      A4GALT         False   \n",
       "\n",
       "   kd_score    kd_lcb    kd_ucb  \n",
       "0 -0.631237 -2.087436  1.409813  \n",
       "1 -0.677140 -1.780508  1.364411  \n",
       "2 -0.606264 -1.967222  1.569811  \n",
       "3 -0.743567 -2.083765  0.695713  \n",
       "4 -0.678936 -1.923692  0.806777  "
      ]
     },
     "execution_count": 33,
     "metadata": {},
     "output_type": "execute_result"
    }
   ],
   "source": [
    "res = res.assign(kd_score=y_pred, kd_lcb=lcb_pred, kd_ucb=ucb_pred)\n",
    "res.head()"
   ]
  },
  {
   "cell_type": "code",
   "execution_count": 34,
   "metadata": {},
   "outputs": [],
   "source": [
    "res.to_csv('../../output/kd/predictions.csv', index=False)"
   ]
  },
  {
   "cell_type": "code",
   "execution_count": 14,
   "metadata": {},
   "outputs": [
    {
     "data": {
      "text/plain": [
       "0.7124459822749589"
      ]
     },
     "execution_count": 14,
     "metadata": {},
     "output_type": "execute_result"
    }
   ],
   "source": [
    "roc_auc_score(res.in_targetome, res.kd_score)"
   ]
  },
  {
   "cell_type": "code",
   "execution_count": 1,
   "metadata": {},
   "outputs": [
    {
     "ename": "NameError",
     "evalue": "name 'plt' is not defined",
     "output_type": "error",
     "traceback": [
      "\u001b[0;31m---------------------------------------------------------------------------\u001b[0m",
      "\u001b[0;31mNameError\u001b[0m                                 Traceback (most recent call last)",
      "Cell \u001b[0;32mIn[1], line 1\u001b[0m\n\u001b[0;32m----> 1\u001b[0m \u001b[43mplt\u001b[49m\u001b[38;5;241m.\u001b[39mfigure()\n\u001b[1;32m      2\u001b[0m plt\u001b[38;5;241m.\u001b[39mhist(res[\u001b[38;5;28;01mlambda\u001b[39;00m x: x\u001b[38;5;241m.\u001b[39min_targetome]\u001b[38;5;241m.\u001b[39mkd_score, bins\u001b[38;5;241m=\u001b[39m\u001b[38;5;241m25\u001b[39m, alpha\u001b[38;5;241m=\u001b[39m\u001b[38;5;241m0.25\u001b[39m, density\u001b[38;5;241m=\u001b[39m\u001b[38;5;28;01mTrue\u001b[39;00m, color\u001b[38;5;241m=\u001b[39m\u001b[38;5;124m'\u001b[39m\u001b[38;5;124mr\u001b[39m\u001b[38;5;124m'\u001b[39m, label\u001b[38;5;241m=\u001b[39m\u001b[38;5;124m'\u001b[39m\u001b[38;5;124mtargetome\u001b[39m\u001b[38;5;124m'\u001b[39m)\n\u001b[1;32m      3\u001b[0m plt\u001b[38;5;241m.\u001b[39mhist(res[\u001b[38;5;28;01mlambda\u001b[39;00m x: \u001b[38;5;241m~\u001b[39mx\u001b[38;5;241m.\u001b[39min_targetome]\u001b[38;5;241m.\u001b[39mkd_score, bins\u001b[38;5;241m=\u001b[39m\u001b[38;5;241m100\u001b[39m, alpha\u001b[38;5;241m=\u001b[39m\u001b[38;5;241m0.25\u001b[39m, density\u001b[38;5;241m=\u001b[39m\u001b[38;5;28;01mTrue\u001b[39;00m, color\u001b[38;5;241m=\u001b[39m\u001b[38;5;124m'\u001b[39m\u001b[38;5;124mb\u001b[39m\u001b[38;5;124m'\u001b[39m, label\u001b[38;5;241m=\u001b[39m\u001b[38;5;124m'\u001b[39m\u001b[38;5;124mnon-targetome\u001b[39m\u001b[38;5;124m'\u001b[39m)\n",
      "\u001b[0;31mNameError\u001b[0m: name 'plt' is not defined"
     ]
    }
   ],
   "source": [
    "plt.figure()\n",
    "plt.hist(res[lambda x: x.in_targetome].kd_score, bins=25, alpha=0.25, density=True, color='r', label='targetome')\n",
    "plt.hist(res[lambda x: ~x.in_targetome].kd_score, bins=100, alpha=0.25, density=True, color='b', label='non-targetome')\n",
    "plt.xlabel('KD score')\n",
    "plt.legend()\n",
    "plt.show()"
   ]
  },
  {
   "cell_type": "code",
   "execution_count": null,
   "metadata": {},
   "outputs": [],
   "source": []
  },
  {
   "cell_type": "code",
   "execution_count": 16,
   "metadata": {},
   "outputs": [
    {
     "data": {
      "text/plain": [
       "1158157"
      ]
     },
     "execution_count": 16,
     "metadata": {},
     "output_type": "execute_result"
    }
   ],
   "source": [
    "didx, pidx = torch.ones((len(smiles), len(aas))).nonzero(as_tuple=True)\n",
    "\n",
    "drug_idx = torch.tensor(tdf.drug_idx.values, dtype=torch.long)\n",
    "prot_idx = torch.tensor(tdf.prot_idx.values, dtype=torch.long)\n",
    "A = torch.zeros(len(smiles), len(aas), dtype=torch.bool)\n",
    "A[drug_idx, prot_idx] = True\n",
    "\n",
    "y = A[didx, pidx].float()\n",
    "\n",
    "len(y)"
   ]
  },
  {
   "cell_type": "code",
   "execution_count": null,
   "metadata": {},
   "outputs": [
    {
     "name": "stdout",
     "output_type": "stream",
     "text": [
      "progress: 0.03\r"
     ]
    },
    {
     "ename": "KeyboardInterrupt",
     "evalue": "",
     "output_type": "error",
     "traceback": [
      "\u001b[0;31m---------------------------------------------------------------------------\u001b[0m",
      "\u001b[0;31mKeyboardInterrupt\u001b[0m                         Traceback (most recent call last)",
      "Cell \u001b[0;32mIn[17], line 8\u001b[0m\n\u001b[1;32m      6\u001b[0m \u001b[38;5;28;01mwith\u001b[39;00m torch\u001b[38;5;241m.\u001b[39mno_grad(): \n\u001b[1;32m      7\u001b[0m     zz \u001b[38;5;241m=\u001b[39m torch\u001b[38;5;241m.\u001b[39mcat((z_drug[didx[i:i\u001b[38;5;241m+\u001b[39m\u001b[38;5;241m1000\u001b[39m]], z_prot[pidx[i:i\u001b[38;5;241m+\u001b[39m\u001b[38;5;241m1000\u001b[39m]]), dim\u001b[38;5;241m=\u001b[39m\u001b[38;5;241m1\u001b[39m)\n\u001b[0;32m----> 8\u001b[0m     yhat \u001b[38;5;241m=\u001b[39m \u001b[43mmodel\u001b[49m\u001b[43m(\u001b[49m\u001b[43mzz\u001b[49m\u001b[43m,\u001b[49m\u001b[43m \u001b[49m\u001b[43msamples\u001b[49m\u001b[38;5;241;43m=\u001b[39;49m\u001b[38;5;241;43m250\u001b[39;49m\u001b[43m)\u001b[49m\n\u001b[1;32m      9\u001b[0m     yhat_mu\u001b[38;5;241m.\u001b[39mappend( yhat\u001b[38;5;241m.\u001b[39mmean(dim\u001b[38;5;241m=\u001b[39m\u001b[38;5;241m0\u001b[39m) ) \n\u001b[1;32m     10\u001b[0m     yhat_lcb\u001b[38;5;241m.\u001b[39mappend( torch\u001b[38;5;241m.\u001b[39mquantile(yhat, \u001b[38;5;241m0.025\u001b[39m, dim\u001b[38;5;241m=\u001b[39m\u001b[38;5;241m0\u001b[39m) )\n",
      "File \u001b[0;32m~/miniconda3/envs/tkgdti/lib/python3.11/site-packages/torch/nn/modules/module.py:1553\u001b[0m, in \u001b[0;36mModule._wrapped_call_impl\u001b[0;34m(self, *args, **kwargs)\u001b[0m\n\u001b[1;32m   1551\u001b[0m     \u001b[38;5;28;01mreturn\u001b[39;00m \u001b[38;5;28mself\u001b[39m\u001b[38;5;241m.\u001b[39m_compiled_call_impl(\u001b[38;5;241m*\u001b[39margs, \u001b[38;5;241m*\u001b[39m\u001b[38;5;241m*\u001b[39mkwargs)  \u001b[38;5;66;03m# type: ignore[misc]\u001b[39;00m\n\u001b[1;32m   1552\u001b[0m \u001b[38;5;28;01melse\u001b[39;00m:\n\u001b[0;32m-> 1553\u001b[0m     \u001b[38;5;28;01mreturn\u001b[39;00m \u001b[38;5;28;43mself\u001b[39;49m\u001b[38;5;241;43m.\u001b[39;49m\u001b[43m_call_impl\u001b[49m\u001b[43m(\u001b[49m\u001b[38;5;241;43m*\u001b[39;49m\u001b[43margs\u001b[49m\u001b[43m,\u001b[49m\u001b[43m \u001b[49m\u001b[38;5;241;43m*\u001b[39;49m\u001b[38;5;241;43m*\u001b[39;49m\u001b[43mkwargs\u001b[49m\u001b[43m)\u001b[49m\n",
      "File \u001b[0;32m~/miniconda3/envs/tkgdti/lib/python3.11/site-packages/torch/nn/modules/module.py:1562\u001b[0m, in \u001b[0;36mModule._call_impl\u001b[0;34m(self, *args, **kwargs)\u001b[0m\n\u001b[1;32m   1557\u001b[0m \u001b[38;5;66;03m# If we don't have any hooks, we want to skip the rest of the logic in\u001b[39;00m\n\u001b[1;32m   1558\u001b[0m \u001b[38;5;66;03m# this function, and just call forward.\u001b[39;00m\n\u001b[1;32m   1559\u001b[0m \u001b[38;5;28;01mif\u001b[39;00m \u001b[38;5;129;01mnot\u001b[39;00m (\u001b[38;5;28mself\u001b[39m\u001b[38;5;241m.\u001b[39m_backward_hooks \u001b[38;5;129;01mor\u001b[39;00m \u001b[38;5;28mself\u001b[39m\u001b[38;5;241m.\u001b[39m_backward_pre_hooks \u001b[38;5;129;01mor\u001b[39;00m \u001b[38;5;28mself\u001b[39m\u001b[38;5;241m.\u001b[39m_forward_hooks \u001b[38;5;129;01mor\u001b[39;00m \u001b[38;5;28mself\u001b[39m\u001b[38;5;241m.\u001b[39m_forward_pre_hooks\n\u001b[1;32m   1560\u001b[0m         \u001b[38;5;129;01mor\u001b[39;00m _global_backward_pre_hooks \u001b[38;5;129;01mor\u001b[39;00m _global_backward_hooks\n\u001b[1;32m   1561\u001b[0m         \u001b[38;5;129;01mor\u001b[39;00m _global_forward_hooks \u001b[38;5;129;01mor\u001b[39;00m _global_forward_pre_hooks):\n\u001b[0;32m-> 1562\u001b[0m     \u001b[38;5;28;01mreturn\u001b[39;00m \u001b[43mforward_call\u001b[49m\u001b[43m(\u001b[49m\u001b[38;5;241;43m*\u001b[39;49m\u001b[43margs\u001b[49m\u001b[43m,\u001b[49m\u001b[43m \u001b[49m\u001b[38;5;241;43m*\u001b[39;49m\u001b[38;5;241;43m*\u001b[39;49m\u001b[43mkwargs\u001b[49m\u001b[43m)\u001b[49m\n\u001b[1;32m   1564\u001b[0m \u001b[38;5;28;01mtry\u001b[39;00m:\n\u001b[1;32m   1565\u001b[0m     result \u001b[38;5;241m=\u001b[39m \u001b[38;5;28;01mNone\u001b[39;00m\n",
      "File \u001b[0;32m~/local/hypernet/hnet/models/HyperNet.py:67\u001b[0m, in \u001b[0;36mHyperNet.forward\u001b[0;34m(self, x, samples, kwargs)\u001b[0m\n\u001b[1;32m     64\u001b[0m     state_dict \u001b[38;5;241m=\u001b[39m \u001b[38;5;28mself\u001b[39m\u001b[38;5;241m.\u001b[39msample()\n\u001b[1;32m     65\u001b[0m     \u001b[38;5;28;01mreturn\u001b[39;00m torch\u001b[38;5;241m.\u001b[39mfunc\u001b[38;5;241m.\u001b[39mfunctional_call(\u001b[38;5;28mself\u001b[39m\u001b[38;5;241m.\u001b[39mmodel, state_dict, args\u001b[38;5;241m=\u001b[39mx, kwargs\u001b[38;5;241m=\u001b[39mkwargs)\n\u001b[0;32m---> 67\u001b[0m \u001b[38;5;28;01mreturn\u001b[39;00m \u001b[43mtorch\u001b[49m\u001b[38;5;241;43m.\u001b[39;49m\u001b[43mfunc\u001b[49m\u001b[38;5;241;43m.\u001b[39;49m\u001b[43mvmap\u001b[49m\u001b[43m(\u001b[49m\u001b[43msample_\u001b[49m\u001b[43m,\u001b[49m\u001b[43m \u001b[49m\u001b[43min_dims\u001b[49m\u001b[38;5;241;43m=\u001b[39;49m\u001b[38;5;241;43m0\u001b[39;49m\u001b[43m,\u001b[49m\u001b[43m \u001b[49m\u001b[43mrandomness\u001b[49m\u001b[38;5;241;43m=\u001b[39;49m\u001b[38;5;124;43m'\u001b[39;49m\u001b[38;5;124;43mdifferent\u001b[39;49m\u001b[38;5;124;43m'\u001b[39;49m\u001b[43m)\u001b[49m\u001b[43m(\u001b[49m\u001b[43mx\u001b[49m\u001b[38;5;241;43m.\u001b[39;49m\u001b[43munsqueeze\u001b[49m\u001b[43m(\u001b[49m\u001b[38;5;241;43m0\u001b[39;49m\u001b[43m)\u001b[49m\u001b[38;5;241;43m.\u001b[39;49m\u001b[43mexpand\u001b[49m\u001b[43m(\u001b[49m\u001b[43msamples\u001b[49m\u001b[43m,\u001b[49m\u001b[43m \u001b[49m\u001b[38;5;241;43m-\u001b[39;49m\u001b[38;5;241;43m1\u001b[39;49m\u001b[43m,\u001b[49m\u001b[43m \u001b[49m\u001b[38;5;241;43m-\u001b[39;49m\u001b[38;5;241;43m1\u001b[39;49m\u001b[43m)\u001b[49m\u001b[43m)\u001b[49m\n",
      "File \u001b[0;32m~/miniconda3/envs/tkgdti/lib/python3.11/site-packages/torch/_functorch/apis.py:201\u001b[0m, in \u001b[0;36mvmap.<locals>.wrapped\u001b[0;34m(*args, **kwargs)\u001b[0m\n\u001b[1;32m    200\u001b[0m \u001b[38;5;28;01mdef\u001b[39;00m \u001b[38;5;21mwrapped\u001b[39m(\u001b[38;5;241m*\u001b[39margs, \u001b[38;5;241m*\u001b[39m\u001b[38;5;241m*\u001b[39mkwargs):\n\u001b[0;32m--> 201\u001b[0m     \u001b[38;5;28;01mreturn\u001b[39;00m \u001b[43mvmap_impl\u001b[49m\u001b[43m(\u001b[49m\n\u001b[1;32m    202\u001b[0m \u001b[43m        \u001b[49m\u001b[43mfunc\u001b[49m\u001b[43m,\u001b[49m\u001b[43m \u001b[49m\u001b[43min_dims\u001b[49m\u001b[43m,\u001b[49m\u001b[43m \u001b[49m\u001b[43mout_dims\u001b[49m\u001b[43m,\u001b[49m\u001b[43m \u001b[49m\u001b[43mrandomness\u001b[49m\u001b[43m,\u001b[49m\u001b[43m \u001b[49m\u001b[43mchunk_size\u001b[49m\u001b[43m,\u001b[49m\u001b[43m \u001b[49m\u001b[38;5;241;43m*\u001b[39;49m\u001b[43margs\u001b[49m\u001b[43m,\u001b[49m\u001b[43m \u001b[49m\u001b[38;5;241;43m*\u001b[39;49m\u001b[38;5;241;43m*\u001b[39;49m\u001b[43mkwargs\u001b[49m\n\u001b[1;32m    203\u001b[0m \u001b[43m    \u001b[49m\u001b[43m)\u001b[49m\n",
      "File \u001b[0;32m~/miniconda3/envs/tkgdti/lib/python3.11/site-packages/torch/_functorch/vmap.py:331\u001b[0m, in \u001b[0;36mvmap_impl\u001b[0;34m(func, in_dims, out_dims, randomness, chunk_size, *args, **kwargs)\u001b[0m\n\u001b[1;32m    320\u001b[0m     \u001b[38;5;28;01mreturn\u001b[39;00m _chunked_vmap(\n\u001b[1;32m    321\u001b[0m         func,\n\u001b[1;32m    322\u001b[0m         flat_in_dims,\n\u001b[0;32m   (...)\u001b[0m\n\u001b[1;32m    327\u001b[0m         \u001b[38;5;241m*\u001b[39m\u001b[38;5;241m*\u001b[39mkwargs,\n\u001b[1;32m    328\u001b[0m     )\n\u001b[1;32m    330\u001b[0m \u001b[38;5;66;03m# If chunk_size is not specified.\u001b[39;00m\n\u001b[0;32m--> 331\u001b[0m \u001b[38;5;28;01mreturn\u001b[39;00m \u001b[43m_flat_vmap\u001b[49m\u001b[43m(\u001b[49m\n\u001b[1;32m    332\u001b[0m \u001b[43m    \u001b[49m\u001b[43mfunc\u001b[49m\u001b[43m,\u001b[49m\n\u001b[1;32m    333\u001b[0m \u001b[43m    \u001b[49m\u001b[43mbatch_size\u001b[49m\u001b[43m,\u001b[49m\n\u001b[1;32m    334\u001b[0m \u001b[43m    \u001b[49m\u001b[43mflat_in_dims\u001b[49m\u001b[43m,\u001b[49m\n\u001b[1;32m    335\u001b[0m \u001b[43m    \u001b[49m\u001b[43mflat_args\u001b[49m\u001b[43m,\u001b[49m\n\u001b[1;32m    336\u001b[0m \u001b[43m    \u001b[49m\u001b[43margs_spec\u001b[49m\u001b[43m,\u001b[49m\n\u001b[1;32m    337\u001b[0m \u001b[43m    \u001b[49m\u001b[43mout_dims\u001b[49m\u001b[43m,\u001b[49m\n\u001b[1;32m    338\u001b[0m \u001b[43m    \u001b[49m\u001b[43mrandomness\u001b[49m\u001b[43m,\u001b[49m\n\u001b[1;32m    339\u001b[0m \u001b[43m    \u001b[49m\u001b[38;5;241;43m*\u001b[39;49m\u001b[38;5;241;43m*\u001b[39;49m\u001b[43mkwargs\u001b[49m\u001b[43m,\u001b[49m\n\u001b[1;32m    340\u001b[0m \u001b[43m\u001b[49m\u001b[43m)\u001b[49m\n",
      "File \u001b[0;32m~/miniconda3/envs/tkgdti/lib/python3.11/site-packages/torch/_functorch/vmap.py:48\u001b[0m, in \u001b[0;36mdoesnt_support_saved_tensors_hooks.<locals>.fn\u001b[0;34m(*args, **kwargs)\u001b[0m\n\u001b[1;32m     45\u001b[0m \u001b[38;5;129m@functools\u001b[39m\u001b[38;5;241m.\u001b[39mwraps(f)\n\u001b[1;32m     46\u001b[0m \u001b[38;5;28;01mdef\u001b[39;00m \u001b[38;5;21mfn\u001b[39m(\u001b[38;5;241m*\u001b[39margs, \u001b[38;5;241m*\u001b[39m\u001b[38;5;241m*\u001b[39mkwargs):\n\u001b[1;32m     47\u001b[0m     \u001b[38;5;28;01mwith\u001b[39;00m torch\u001b[38;5;241m.\u001b[39mautograd\u001b[38;5;241m.\u001b[39mgraph\u001b[38;5;241m.\u001b[39mdisable_saved_tensors_hooks(message):\n\u001b[0;32m---> 48\u001b[0m         \u001b[38;5;28;01mreturn\u001b[39;00m \u001b[43mf\u001b[49m\u001b[43m(\u001b[49m\u001b[38;5;241;43m*\u001b[39;49m\u001b[43margs\u001b[49m\u001b[43m,\u001b[49m\u001b[43m \u001b[49m\u001b[38;5;241;43m*\u001b[39;49m\u001b[38;5;241;43m*\u001b[39;49m\u001b[43mkwargs\u001b[49m\u001b[43m)\u001b[49m\n",
      "File \u001b[0;32m~/miniconda3/envs/tkgdti/lib/python3.11/site-packages/torch/_functorch/vmap.py:480\u001b[0m, in \u001b[0;36m_flat_vmap\u001b[0;34m(func, batch_size, flat_in_dims, flat_args, args_spec, out_dims, randomness, **kwargs)\u001b[0m\n\u001b[1;32m    476\u001b[0m \u001b[38;5;28;01mwith\u001b[39;00m vmap_increment_nesting(batch_size, randomness) \u001b[38;5;28;01mas\u001b[39;00m vmap_level:\n\u001b[1;32m    477\u001b[0m     batched_inputs \u001b[38;5;241m=\u001b[39m _create_batched_inputs(\n\u001b[1;32m    478\u001b[0m         flat_in_dims, flat_args, vmap_level, args_spec\n\u001b[1;32m    479\u001b[0m     )\n\u001b[0;32m--> 480\u001b[0m     batched_outputs \u001b[38;5;241m=\u001b[39m \u001b[43mfunc\u001b[49m\u001b[43m(\u001b[49m\u001b[38;5;241;43m*\u001b[39;49m\u001b[43mbatched_inputs\u001b[49m\u001b[43m,\u001b[49m\u001b[43m \u001b[49m\u001b[38;5;241;43m*\u001b[39;49m\u001b[38;5;241;43m*\u001b[39;49m\u001b[43mkwargs\u001b[49m\u001b[43m)\u001b[49m\n\u001b[1;32m    481\u001b[0m     \u001b[38;5;28;01mreturn\u001b[39;00m _unwrap_batched(batched_outputs, out_dims, vmap_level, batch_size, func)\n",
      "File \u001b[0;32m~/local/hypernet/hnet/models/HyperNet.py:64\u001b[0m, in \u001b[0;36mHyperNet.forward.<locals>.sample_\u001b[0;34m(x)\u001b[0m\n\u001b[1;32m     63\u001b[0m \u001b[38;5;28;01mdef\u001b[39;00m \u001b[38;5;21msample_\u001b[39m(x):\n\u001b[0;32m---> 64\u001b[0m     state_dict \u001b[38;5;241m=\u001b[39m \u001b[38;5;28;43mself\u001b[39;49m\u001b[38;5;241;43m.\u001b[39;49m\u001b[43msample\u001b[49m\u001b[43m(\u001b[49m\u001b[43m)\u001b[49m\n\u001b[1;32m     65\u001b[0m     \u001b[38;5;28;01mreturn\u001b[39;00m torch\u001b[38;5;241m.\u001b[39mfunc\u001b[38;5;241m.\u001b[39mfunctional_call(\u001b[38;5;28mself\u001b[39m\u001b[38;5;241m.\u001b[39mmodel, state_dict, args\u001b[38;5;241m=\u001b[39mx, kwargs\u001b[38;5;241m=\u001b[39mkwargs)\n",
      "File \u001b[0;32m~/local/hypernet/hnet/models/HyperNet.py:54\u001b[0m, in \u001b[0;36mHyperNet.sample\u001b[0;34m(self)\u001b[0m\n\u001b[1;32m     52\u001b[0m m \u001b[38;5;241m=\u001b[39m torch\u001b[38;5;241m.\u001b[39mdistributions\u001b[38;5;241m.\u001b[39mNormal(\u001b[38;5;28mself\u001b[39m\u001b[38;5;241m.\u001b[39mmu, \u001b[38;5;28mself\u001b[39m\u001b[38;5;241m.\u001b[39mstd)\n\u001b[1;32m     53\u001b[0m z \u001b[38;5;241m=\u001b[39m m\u001b[38;5;241m.\u001b[39msample()\n\u001b[0;32m---> 54\u001b[0m theta \u001b[38;5;241m=\u001b[39m \u001b[38;5;28;43mself\u001b[39;49m\u001b[38;5;241;43m.\u001b[39;49m\u001b[43mf_phi\u001b[49m\u001b[43m(\u001b[49m\u001b[43mz\u001b[49m\u001b[43m)\u001b[49m\n\u001b[1;32m     55\u001b[0m \u001b[38;5;28;01mif\u001b[39;00m \u001b[38;5;28mself\u001b[39m\u001b[38;5;241m.\u001b[39maffine: \n\u001b[1;32m     56\u001b[0m     state_dict \u001b[38;5;241m=\u001b[39m {n:\u001b[38;5;28mself\u001b[39m\u001b[38;5;241m.\u001b[39mscale_dict[n\u001b[38;5;241m.\u001b[39mreplace(\u001b[38;5;124m'\u001b[39m\u001b[38;5;124m.\u001b[39m\u001b[38;5;124m'\u001b[39m, \u001b[38;5;124m'\u001b[39m\u001b[38;5;124mdot\u001b[39m\u001b[38;5;124m'\u001b[39m)]\u001b[38;5;241m*\u001b[39mtheta[idx]\u001b[38;5;241m.\u001b[39mview(\u001b[38;5;28mself\u001b[39m\u001b[38;5;241m.\u001b[39mstate_size_dict[n]) \u001b[38;5;241m+\u001b[39m \u001b[38;5;28mself\u001b[39m\u001b[38;5;241m.\u001b[39mloc_dict[n\u001b[38;5;241m.\u001b[39mreplace(\u001b[38;5;124m'\u001b[39m\u001b[38;5;124m.\u001b[39m\u001b[38;5;124m'\u001b[39m, \u001b[38;5;124m'\u001b[39m\u001b[38;5;124mdot\u001b[39m\u001b[38;5;124m'\u001b[39m)] \u001b[38;5;28;01mfor\u001b[39;00m n,idx \u001b[38;5;129;01min\u001b[39;00m \u001b[38;5;28mself\u001b[39m\u001b[38;5;241m.\u001b[39mstate_idx_dict\u001b[38;5;241m.\u001b[39mitems()}\n",
      "File \u001b[0;32m~/miniconda3/envs/tkgdti/lib/python3.11/site-packages/torch/nn/modules/module.py:1553\u001b[0m, in \u001b[0;36mModule._wrapped_call_impl\u001b[0;34m(self, *args, **kwargs)\u001b[0m\n\u001b[1;32m   1551\u001b[0m     \u001b[38;5;28;01mreturn\u001b[39;00m \u001b[38;5;28mself\u001b[39m\u001b[38;5;241m.\u001b[39m_compiled_call_impl(\u001b[38;5;241m*\u001b[39margs, \u001b[38;5;241m*\u001b[39m\u001b[38;5;241m*\u001b[39mkwargs)  \u001b[38;5;66;03m# type: ignore[misc]\u001b[39;00m\n\u001b[1;32m   1552\u001b[0m \u001b[38;5;28;01melse\u001b[39;00m:\n\u001b[0;32m-> 1553\u001b[0m     \u001b[38;5;28;01mreturn\u001b[39;00m \u001b[38;5;28;43mself\u001b[39;49m\u001b[38;5;241;43m.\u001b[39;49m\u001b[43m_call_impl\u001b[49m\u001b[43m(\u001b[49m\u001b[38;5;241;43m*\u001b[39;49m\u001b[43margs\u001b[49m\u001b[43m,\u001b[49m\u001b[43m \u001b[49m\u001b[38;5;241;43m*\u001b[39;49m\u001b[38;5;241;43m*\u001b[39;49m\u001b[43mkwargs\u001b[49m\u001b[43m)\u001b[49m\n",
      "File \u001b[0;32m~/miniconda3/envs/tkgdti/lib/python3.11/site-packages/torch/nn/modules/module.py:1562\u001b[0m, in \u001b[0;36mModule._call_impl\u001b[0;34m(self, *args, **kwargs)\u001b[0m\n\u001b[1;32m   1557\u001b[0m \u001b[38;5;66;03m# If we don't have any hooks, we want to skip the rest of the logic in\u001b[39;00m\n\u001b[1;32m   1558\u001b[0m \u001b[38;5;66;03m# this function, and just call forward.\u001b[39;00m\n\u001b[1;32m   1559\u001b[0m \u001b[38;5;28;01mif\u001b[39;00m \u001b[38;5;129;01mnot\u001b[39;00m (\u001b[38;5;28mself\u001b[39m\u001b[38;5;241m.\u001b[39m_backward_hooks \u001b[38;5;129;01mor\u001b[39;00m \u001b[38;5;28mself\u001b[39m\u001b[38;5;241m.\u001b[39m_backward_pre_hooks \u001b[38;5;129;01mor\u001b[39;00m \u001b[38;5;28mself\u001b[39m\u001b[38;5;241m.\u001b[39m_forward_hooks \u001b[38;5;129;01mor\u001b[39;00m \u001b[38;5;28mself\u001b[39m\u001b[38;5;241m.\u001b[39m_forward_pre_hooks\n\u001b[1;32m   1560\u001b[0m         \u001b[38;5;129;01mor\u001b[39;00m _global_backward_pre_hooks \u001b[38;5;129;01mor\u001b[39;00m _global_backward_hooks\n\u001b[1;32m   1561\u001b[0m         \u001b[38;5;129;01mor\u001b[39;00m _global_forward_hooks \u001b[38;5;129;01mor\u001b[39;00m _global_forward_pre_hooks):\n\u001b[0;32m-> 1562\u001b[0m     \u001b[38;5;28;01mreturn\u001b[39;00m \u001b[43mforward_call\u001b[49m\u001b[43m(\u001b[49m\u001b[38;5;241;43m*\u001b[39;49m\u001b[43margs\u001b[49m\u001b[43m,\u001b[49m\u001b[43m \u001b[49m\u001b[38;5;241;43m*\u001b[39;49m\u001b[38;5;241;43m*\u001b[39;49m\u001b[43mkwargs\u001b[49m\u001b[43m)\u001b[49m\n\u001b[1;32m   1564\u001b[0m \u001b[38;5;28;01mtry\u001b[39;00m:\n\u001b[1;32m   1565\u001b[0m     result \u001b[38;5;241m=\u001b[39m \u001b[38;5;28;01mNone\u001b[39;00m\n",
      "File \u001b[0;32m~/miniconda3/envs/tkgdti/lib/python3.11/site-packages/torch/nn/modules/container.py:219\u001b[0m, in \u001b[0;36mSequential.forward\u001b[0;34m(self, input)\u001b[0m\n\u001b[1;32m    217\u001b[0m \u001b[38;5;28;01mdef\u001b[39;00m \u001b[38;5;21mforward\u001b[39m(\u001b[38;5;28mself\u001b[39m, \u001b[38;5;28minput\u001b[39m):\n\u001b[1;32m    218\u001b[0m     \u001b[38;5;28;01mfor\u001b[39;00m module \u001b[38;5;129;01min\u001b[39;00m \u001b[38;5;28mself\u001b[39m:\n\u001b[0;32m--> 219\u001b[0m         \u001b[38;5;28minput\u001b[39m \u001b[38;5;241m=\u001b[39m \u001b[43mmodule\u001b[49m\u001b[43m(\u001b[49m\u001b[38;5;28;43minput\u001b[39;49m\u001b[43m)\u001b[49m\n\u001b[1;32m    220\u001b[0m     \u001b[38;5;28;01mreturn\u001b[39;00m \u001b[38;5;28minput\u001b[39m\n",
      "File \u001b[0;32m~/miniconda3/envs/tkgdti/lib/python3.11/site-packages/torch/nn/modules/module.py:1553\u001b[0m, in \u001b[0;36mModule._wrapped_call_impl\u001b[0;34m(self, *args, **kwargs)\u001b[0m\n\u001b[1;32m   1551\u001b[0m     \u001b[38;5;28;01mreturn\u001b[39;00m \u001b[38;5;28mself\u001b[39m\u001b[38;5;241m.\u001b[39m_compiled_call_impl(\u001b[38;5;241m*\u001b[39margs, \u001b[38;5;241m*\u001b[39m\u001b[38;5;241m*\u001b[39mkwargs)  \u001b[38;5;66;03m# type: ignore[misc]\u001b[39;00m\n\u001b[1;32m   1552\u001b[0m \u001b[38;5;28;01melse\u001b[39;00m:\n\u001b[0;32m-> 1553\u001b[0m     \u001b[38;5;28;01mreturn\u001b[39;00m \u001b[38;5;28;43mself\u001b[39;49m\u001b[38;5;241;43m.\u001b[39;49m\u001b[43m_call_impl\u001b[49m\u001b[43m(\u001b[49m\u001b[38;5;241;43m*\u001b[39;49m\u001b[43margs\u001b[49m\u001b[43m,\u001b[49m\u001b[43m \u001b[49m\u001b[38;5;241;43m*\u001b[39;49m\u001b[38;5;241;43m*\u001b[39;49m\u001b[43mkwargs\u001b[49m\u001b[43m)\u001b[49m\n",
      "File \u001b[0;32m~/miniconda3/envs/tkgdti/lib/python3.11/site-packages/torch/nn/modules/module.py:1562\u001b[0m, in \u001b[0;36mModule._call_impl\u001b[0;34m(self, *args, **kwargs)\u001b[0m\n\u001b[1;32m   1557\u001b[0m \u001b[38;5;66;03m# If we don't have any hooks, we want to skip the rest of the logic in\u001b[39;00m\n\u001b[1;32m   1558\u001b[0m \u001b[38;5;66;03m# this function, and just call forward.\u001b[39;00m\n\u001b[1;32m   1559\u001b[0m \u001b[38;5;28;01mif\u001b[39;00m \u001b[38;5;129;01mnot\u001b[39;00m (\u001b[38;5;28mself\u001b[39m\u001b[38;5;241m.\u001b[39m_backward_hooks \u001b[38;5;129;01mor\u001b[39;00m \u001b[38;5;28mself\u001b[39m\u001b[38;5;241m.\u001b[39m_backward_pre_hooks \u001b[38;5;129;01mor\u001b[39;00m \u001b[38;5;28mself\u001b[39m\u001b[38;5;241m.\u001b[39m_forward_hooks \u001b[38;5;129;01mor\u001b[39;00m \u001b[38;5;28mself\u001b[39m\u001b[38;5;241m.\u001b[39m_forward_pre_hooks\n\u001b[1;32m   1560\u001b[0m         \u001b[38;5;129;01mor\u001b[39;00m _global_backward_pre_hooks \u001b[38;5;129;01mor\u001b[39;00m _global_backward_hooks\n\u001b[1;32m   1561\u001b[0m         \u001b[38;5;129;01mor\u001b[39;00m _global_forward_hooks \u001b[38;5;129;01mor\u001b[39;00m _global_forward_pre_hooks):\n\u001b[0;32m-> 1562\u001b[0m     \u001b[38;5;28;01mreturn\u001b[39;00m \u001b[43mforward_call\u001b[49m\u001b[43m(\u001b[49m\u001b[38;5;241;43m*\u001b[39;49m\u001b[43margs\u001b[49m\u001b[43m,\u001b[49m\u001b[43m \u001b[49m\u001b[38;5;241;43m*\u001b[39;49m\u001b[38;5;241;43m*\u001b[39;49m\u001b[43mkwargs\u001b[49m\u001b[43m)\u001b[49m\n\u001b[1;32m   1564\u001b[0m \u001b[38;5;28;01mtry\u001b[39;00m:\n\u001b[1;32m   1565\u001b[0m     result \u001b[38;5;241m=\u001b[39m \u001b[38;5;28;01mNone\u001b[39;00m\n",
      "File \u001b[0;32m~/miniconda3/envs/tkgdti/lib/python3.11/site-packages/torch/nn/modules/linear.py:117\u001b[0m, in \u001b[0;36mLinear.forward\u001b[0;34m(self, input)\u001b[0m\n\u001b[1;32m    116\u001b[0m \u001b[38;5;28;01mdef\u001b[39;00m \u001b[38;5;21mforward\u001b[39m(\u001b[38;5;28mself\u001b[39m, \u001b[38;5;28minput\u001b[39m: Tensor) \u001b[38;5;241m-\u001b[39m\u001b[38;5;241m>\u001b[39m Tensor:\n\u001b[0;32m--> 117\u001b[0m     \u001b[38;5;28;01mreturn\u001b[39;00m \u001b[43mF\u001b[49m\u001b[38;5;241;43m.\u001b[39;49m\u001b[43mlinear\u001b[49m\u001b[43m(\u001b[49m\u001b[38;5;28;43minput\u001b[39;49m\u001b[43m,\u001b[49m\u001b[43m \u001b[49m\u001b[38;5;28;43mself\u001b[39;49m\u001b[38;5;241;43m.\u001b[39;49m\u001b[43mweight\u001b[49m\u001b[43m,\u001b[49m\u001b[43m \u001b[49m\u001b[38;5;28;43mself\u001b[39;49m\u001b[38;5;241;43m.\u001b[39;49m\u001b[43mbias\u001b[49m\u001b[43m)\u001b[49m\n",
      "\u001b[0;31mKeyboardInterrupt\u001b[0m: "
     ]
    }
   ],
   "source": [
    "\n",
    "\n",
    "yhat_mu = []\n",
    "yhat_lcb = []\n",
    "yhat_ucb = []\n",
    "for i in range(0, len(y), 1000):\n",
    "    print(f'progress: {i/len(y):.2f}', end='\\r')\n",
    "    with torch.no_grad(): \n",
    "        zz = torch.cat((z_drug[didx[i:i+1000]], z_prot[pidx[i:i+1000]]), dim=1)\n",
    "        yhat = model(zz, samples=100)\n",
    "        yhat_mu.append( yhat.mean(dim=0) ) \n",
    "        yhat_lcb.append( torch.quantile(yhat, 0.025, dim=0) )\n",
    "        yhat_ucb.append( torch.quantile(yhat, 0.975, dim=0) )\n",
    "\n",
    "yhat_mu = torch.cat(yhat_mu)\n",
    "yhat_lcb = torch.cat(yhat_lcb)\n",
    "yhat_ucb = torch.cat(yhat_ucb)\n",
    "\n"
   ]
  },
  {
   "cell_type": "code",
   "execution_count": 37,
   "metadata": {},
   "outputs": [],
   "source": [
    "idx2smiles = {v: k for k, v in smiles2idx.items()}\n",
    "smiles2inchi = {row.smiles:row.inchikey for i,row in tdf[['smiles', 'inchikey']].drop_duplicates().iterrows()}\n",
    "idx2inchi = lambda x: smiles2inchi[idx2smiles[x]]\n",
    "\n",
    "idx2aa = {v: k for k, v in aas2idx.items()}\n",
    "aa2gene = {row.AA:row.Symbol for i,row in tdf[['AA', 'Symbol']].drop_duplicates().iterrows()}\n",
    "idx2gene = lambda x: aa2gene[idx2aa[x]]"
   ]
  },
  {
   "cell_type": "code",
   "execution_count": 45,
   "metadata": {},
   "outputs": [
    {
     "data": {
      "text/html": [
       "<div>\n",
       "<style scoped>\n",
       "    .dataframe tbody tr th:only-of-type {\n",
       "        vertical-align: middle;\n",
       "    }\n",
       "\n",
       "    .dataframe tbody tr th {\n",
       "        vertical-align: top;\n",
       "    }\n",
       "\n",
       "    .dataframe thead th {\n",
       "        text-align: right;\n",
       "    }\n",
       "</style>\n",
       "<table border=\"1\" class=\"dataframe\">\n",
       "  <thead>\n",
       "    <tr style=\"text-align: right;\">\n",
       "      <th></th>\n",
       "      <th>targetome</th>\n",
       "      <th>score_mean</th>\n",
       "      <th>score_lcb</th>\n",
       "      <th>score_ucb</th>\n",
       "      <th>drug</th>\n",
       "      <th>gene</th>\n",
       "    </tr>\n",
       "  </thead>\n",
       "  <tbody>\n",
       "    <tr>\n",
       "      <th>0</th>\n",
       "      <td>True</td>\n",
       "      <td>-1.352746</td>\n",
       "      <td>-3.399308</td>\n",
       "      <td>0.047438</td>\n",
       "      <td>HPLNQCPCUACXLM-PGUFJCEWSA-N</td>\n",
       "      <td>BAD</td>\n",
       "    </tr>\n",
       "    <tr>\n",
       "      <th>1</th>\n",
       "      <td>False</td>\n",
       "      <td>-0.753388</td>\n",
       "      <td>-2.351048</td>\n",
       "      <td>0.996499</td>\n",
       "      <td>HPLNQCPCUACXLM-PGUFJCEWSA-N</td>\n",
       "      <td>CCND1</td>\n",
       "    </tr>\n",
       "    <tr>\n",
       "      <th>2</th>\n",
       "      <td>False</td>\n",
       "      <td>-0.890982</td>\n",
       "      <td>-2.702962</td>\n",
       "      <td>1.091414</td>\n",
       "      <td>HPLNQCPCUACXLM-PGUFJCEWSA-N</td>\n",
       "      <td>CCNT1</td>\n",
       "    </tr>\n",
       "    <tr>\n",
       "      <th>3</th>\n",
       "      <td>False</td>\n",
       "      <td>-1.218118</td>\n",
       "      <td>-2.903158</td>\n",
       "      <td>0.693510</td>\n",
       "      <td>HPLNQCPCUACXLM-PGUFJCEWSA-N</td>\n",
       "      <td>PSMA1</td>\n",
       "    </tr>\n",
       "    <tr>\n",
       "      <th>4</th>\n",
       "      <td>False</td>\n",
       "      <td>-1.198125</td>\n",
       "      <td>-2.993247</td>\n",
       "      <td>0.658259</td>\n",
       "      <td>HPLNQCPCUACXLM-PGUFJCEWSA-N</td>\n",
       "      <td>PSMA2</td>\n",
       "    </tr>\n",
       "  </tbody>\n",
       "</table>\n",
       "</div>"
      ],
      "text/plain": [
       "   targetome  score_mean  score_lcb  score_ucb                         drug  \\\n",
       "0       True   -1.352746  -3.399308   0.047438  HPLNQCPCUACXLM-PGUFJCEWSA-N   \n",
       "1      False   -0.753388  -2.351048   0.996499  HPLNQCPCUACXLM-PGUFJCEWSA-N   \n",
       "2      False   -0.890982  -2.702962   1.091414  HPLNQCPCUACXLM-PGUFJCEWSA-N   \n",
       "3      False   -1.218118  -2.903158   0.693510  HPLNQCPCUACXLM-PGUFJCEWSA-N   \n",
       "4      False   -1.198125  -2.993247   0.658259  HPLNQCPCUACXLM-PGUFJCEWSA-N   \n",
       "\n",
       "    gene  \n",
       "0    BAD  \n",
       "1  CCND1  \n",
       "2  CCNT1  \n",
       "3  PSMA1  \n",
       "4  PSMA2  "
      ]
     },
     "execution_count": 45,
     "metadata": {},
     "output_type": "execute_result"
    }
   ],
   "source": [
    "res = pd.DataFrame({'targetome': np.array([False, True])[y.long().numpy()], \n",
    "                    'score_mean': yhat_mu.squeeze().numpy(), \n",
    "                    'score_lcb': yhat_lcb.squeeze().numpy(),\n",
    "                    'score_ucb': yhat_ucb.squeeze().numpy(),\n",
    "                    'drug': [idx2inchi(i) for i in didx.numpy()], \n",
    "                    'gene': [idx2gene(i) for i in pidx.numpy()]})\n",
    "\n",
    "res.head()"
   ]
  },
  {
   "cell_type": "code",
   "execution_count": 50,
   "metadata": {},
   "outputs": [
    {
     "data": {
      "text/plain": [
       "0.5918003422175534"
      ]
     },
     "execution_count": 50,
     "metadata": {},
     "output_type": "execute_result"
    }
   ],
   "source": [
    "roc_auc_score(res.targetome*1., res.score_mean)"
   ]
  },
  {
   "cell_type": "code",
   "execution_count": null,
   "metadata": {},
   "outputs": [],
   "source": []
  },
  {
   "cell_type": "code",
   "execution_count": 55,
   "metadata": {},
   "outputs": [
    {
     "name": "stdout",
     "output_type": "stream",
     "text": [
      "3809\n",
      "3809\n"
     ]
    }
   ],
   "source": [
    "\n",
    "# select top 10% \n",
    "high_binders = res[lambda x: x.score_mean > x.score_mean.quantile(0.8)]\n",
    "\n",
    "# select bottom 10%\n",
    "low_binders = res[lambda x: x.score_mean < x.score_mean.quantile(0.2)]\n",
    "\n",
    "# print num of high binders\n",
    "print(len(high_binders))\n",
    "print(len(low_binders))"
   ]
  },
  {
   "cell_type": "code",
   "execution_count": 58,
   "metadata": {},
   "outputs": [],
   "source": [
    "strong_binding_fwd = high_binders.rename({'drug':'src', 'gene':'dst'}, axis=1).assign(src_type='drug', dst_type='gene', relation='predicted_strong_binding_fwd')[['src', 'dst', 'src_type', 'dst_type', 'relation']]\n",
    "strong_binding_rev = high_binders.rename({'drug':'dst', 'gene':'src'}, axis=1).assign(src_type='gene', dst_type='drug', relation='predicted_strong_binding_rev')[['src', 'dst', 'src_type', 'dst_type', 'relation']]\n",
    "\n",
    "weak_binding_fwd = low_binders.rename({'drug':'src', 'gene':'dst'}, axis=1).assign(src_type='drug', dst_type='gene', relation='predicted_weak_binding_fwd')[['src', 'dst', 'src_type', 'dst_type', 'relation']]\n",
    "weak_binding_rev = low_binders.rename({'drug':'dst', 'gene':'src'}, axis=1).assign(src_type='gene', dst_type='drug', relation='predicted_weak_binding_rev')[['src', 'dst', 'src_type', 'dst_type', 'relation']]\n",
    "\n",
    "strong_binding_fwd.to_csv('../../extdata/relations/jglaser_predicted_strong_binding_fwd.csv', index=False)\n",
    "strong_binding_rev.to_csv('../../extdata/relations/jglaser_predicted_strong_binding_rev.csv', index=False)\n",
    "weak_binding_fwd.to_csv('../../extdata/relations/jglaser_predicted_weak_binding_fwd.csv', index=False)\n",
    "weak_binding_rev.to_csv('../../extdata/relations/jglaser_predicted_weak_binding_rev.csv', index=False)"
   ]
  },
  {
   "cell_type": "code",
   "execution_count": null,
   "metadata": {},
   "outputs": [],
   "source": [
    "res."
   ]
  },
  {
   "cell_type": "code",
   "execution_count": 53,
   "metadata": {},
   "outputs": [
    {
     "data": {
      "image/png": "[encoded data removed]",
      "text/plain": [
       "<Figure size 640x480 with 1 Axes>"
      ]
     },
     "metadata": {},
     "output_type": "display_data"
    },
    {
     "data": {
      "image/png": "[encoded data removed]",
      "text/plain": [
       "<Figure size 640x480 with 1 Axes>"
      ]
     },
     "metadata": {},
     "output_type": "display_data"
    },
    {
     "data": {
      "image/png": "[encoded data removed]",
      "text/plain": [
       "<Figure size 640x480 with 1 Axes>"
      ]
     },
     "metadata": {},
     "output_type": "display_data"
    }
   ],
   "source": [
    "# -1 ~ 1uM \n",
    "_bins = np.linspace(-2, 2, 50)\n",
    "\n",
    "plt.figure()\n",
    "plt.title('mean')\n",
    "plt.hist(res[lambda x: x.targetome].score_mean.values, bins=_bins, alpha=0.5, label='positive', density=True)\n",
    "plt.hist(res[lambda x: ~x.targetome].score_mean.values, bins=_bins, alpha=0.5, label='negative', density=True)\n",
    "plt.xlabel('binding affinity')\n",
    "plt.legend()\n",
    "plt.show()\n",
    "\n",
    "plt.figure()\n",
    "plt.title('lower confidence bound')\n",
    "plt.hist(res[lambda x: x.targetome].score_lcb.values, bins=100, alpha=0.5, label='positive', density=True)\n",
    "plt.hist(res[lambda x: ~x.targetome].score_lcb.values, bins=100, alpha=0.5, label='negative', density=True)\n",
    "plt.xlabel('binding affinity')\n",
    "plt.legend()\n",
    "plt.show()\n",
    "\n",
    "plt.figure()\n",
    "plt.title('upper confidence bound')\n",
    "plt.hist(res[lambda x: x.targetome].score_ucb.values, bins=100, alpha=0.5, label='positive', density=True)\n",
    "plt.hist(res[lambda x: ~x.targetome].score_ucb.values, bins=100, alpha=0.5, label='negative', density=True)\n",
    "plt.xlabel('binding affinity')\n",
    "plt.legend()\n",
    "plt.show()"
   ]
  },
  {
   "cell_type": "code",
   "execution_count": null,
   "metadata": {},
   "outputs": [],
   "source": []
  },
  {
   "cell_type": "code",
   "execution_count": null,
   "metadata": {},
   "outputs": [],
   "source": []
  },
  {
   "cell_type": "code",
   "execution_count": null,
   "metadata": {},
   "outputs": [
    {
     "name": "stdout",
     "output_type": "stream",
     "text": [
      "# positive samples: 422\n",
      "# negative samples: 18624\n"
     ]
    }
   ],
   "source": [
    "#rand_drug_idx = torch.randint(0, len(smiles), size=(1000,), dtype=torch.long)\n",
    "#rand_prot_idx = torch.randint(0, len(aas), size=(1000,), dtype=torch.long)\n",
    "\n",
    "drug_idx = torch.tensor(tdf.drug_idx.values, dtype=torch.long)\n",
    "prot_idx = torch.tensor(tdf.prot_idx.values, dtype=torch.long)\n",
    "\n",
    "A = torch.zeros(len(smiles), len(aas), dtype=torch.bool)\n",
    "A[drug_idx, prot_idx] = True\n",
    "Anot = ~(A)\n",
    "neg_drug_idx, neg_prot_idx = Anot.nonzero(as_tuple=True)\n",
    "\n",
    "x_pos = torch.cat([z_drug[drug_idx], z_prot[prot_idx]], dim=1).float()\n",
    "x_neg = torch.cat([z_drug[neg_drug_idx], z_prot[neg_prot_idx]], dim=1).float()\n",
    "\n",
    "print('# positive samples:', len(x_pos))\n",
    "print('# negative samples:', len(x_neg))\n",
    "\n",
    "y = torch.cat([torch.ones(len(tdf)), torch.zeros(x_neg.size(0))], dim=0).float()\n",
    "\n",
    "with torch.no_grad(): \n",
    "    yhat_pos = model(x_pos, samples=250)\n",
    "    yhat_neg = model(x_neg, samples=250)\n",
    "\n",
    "yhat = torch.cat([yhat_pos, yhat_neg], dim=1)"
   ]
  },
  {
   "cell_type": "code",
   "execution_count": 26,
   "metadata": {},
   "outputs": [
    {
     "name": "stdout",
     "output_type": "stream",
     "text": [
      "AUC: 0.6581709021432876\n"
     ]
    }
   ],
   "source": [
    "auc = roc_auc_score(y.detach().numpy(), yhat.mean(0).detach().numpy())\n",
    "print(f'AUC: {auc}')"
   ]
  },
  {
   "cell_type": "code",
   "execution_count": null,
   "metadata": {},
   "outputs": [],
   "source": [
    "# confusion matrix \n",
    "cls = y > 0 \n",
    "phat = (yhat > 0).mean(0).squeeze() \n"
   ]
  },
  {
   "cell_type": "code",
   "execution_count": 24,
   "metadata": {},
   "outputs": [
    {
     "data": {
      "image/png": "[encoded data removed]",
      "text/plain": [
       "<Figure size 640x480 with 1 Axes>"
      ]
     },
     "metadata": {},
     "output_type": "display_data"
    }
   ],
   "source": [
    "# -1 ~ 1uM \n",
    "_bins = np.linspace(-2, 2, 50)\n",
    "\n",
    "plt.figure()\n",
    "plt.hist(yhat_pos.cpu().mean(dim=0).numpy(), bins=_bins, alpha=0.5, label='positive', density=True)\n",
    "plt.hist(yhat_neg.cpu().mean(dim=0).numpy(), bins=_bins, alpha=0.5, label='negative', density=True)\n",
    "plt.xlabel('binding affinity')\n",
    "plt.legend()\n",
    "plt.show()"
   ]
  },
  {
   "cell_type": "code",
   "execution_count": 14,
   "metadata": {},
   "outputs": [
    {
     "data": {
      "image/png": "[encoded data removed]",
      "text/plain": [
       "<Figure size 640x480 with 1 Axes>"
      ]
     },
     "metadata": {},
     "output_type": "display_data"
    }
   ],
   "source": [
    "var_pos = yhat_pos.var(dim=0)\n",
    "var_neg = yhat_neg.var(dim=0)\n",
    "\n",
    "_bins = np.linspace(0,10, 50)\n",
    "plt.figure()\n",
    "plt.hist(var_pos.cpu().numpy(), bins=_bins, label='positive', alpha=0.5, density=True)\n",
    "plt.hist(var_neg.cpu().numpy(), bins=_bins, label='negative', alpha=0.5, density=True)\n",
    "plt.yscale('log')\n",
    "plt.show()"
   ]
  },
  {
   "cell_type": "code",
   "execution_count": 21,
   "metadata": {},
   "outputs": [
    {
     "data": {
      "image/png": "[encoded data removed]",
      "text/plain": [
       "<Figure size 640x480 with 1 Axes>"
      ]
     },
     "metadata": {},
     "output_type": "display_data"
    }
   ],
   "source": [
    "var = yhat.var(dim=0).squeeze()\n",
    "hi_conf_mask = var < 0.5\n",
    "\n",
    "y_hi_conf = y[hi_conf_mask]\n",
    "yhat_hi_conf = yhat.mean(0)[hi_conf_mask]\n",
    "\n",
    "plt.figure()\n",
    "plt.hist(yhat_hi_conf[y_hi_conf.bool()].cpu().numpy(), bins=50, alpha=0.5, label='positive', density=True)\n",
    "plt.hist(yhat_hi_conf[~y_hi_conf.bool()].cpu().numpy(), bins=50, alpha=0.5, label='negative', density=True)\n",
    "plt.legend()\n",
    "plt.show()"
   ]
  },
  {
   "cell_type": "code",
   "execution_count": 22,
   "metadata": {},
   "outputs": [
    {
     "name": "stdout",
     "output_type": "stream",
     "text": [
      "AUC: 0.6788555276576618\n"
     ]
    }
   ],
   "source": [
    "auc = roc_auc_score(y_hi_conf.detach().numpy(), yhat_hi_conf.detach().numpy())\n",
    "print(f'AUC: {auc}')"
   ]
  },
  {
   "cell_type": "code",
   "execution_count": 26,
   "metadata": {},
   "outputs": [
    {
     "data": {
      "text/plain": [
       "0.6301624642717545"
      ]
     },
     "execution_count": 26,
     "metadata": {},
     "output_type": "execute_result"
    }
   ],
   "source": [
    "phat = (yhat > 0).float().mean(0)\n",
    "roc_auc_score(y.detach().numpy(), phat.detach().numpy())"
   ]
  },
  {
   "cell_type": "code",
   "execution_count": 15,
   "metadata": {},
   "outputs": [
    {
     "data": {
      "text/html": [
       "<div>\n",
       "<style scoped>\n",
       "    .dataframe tbody tr th:only-of-type {\n",
       "        vertical-align: middle;\n",
       "    }\n",
       "\n",
       "    .dataframe tbody tr th {\n",
       "        vertical-align: top;\n",
       "    }\n",
       "\n",
       "    .dataframe thead th {\n",
       "        text-align: right;\n",
       "    }\n",
       "</style>\n",
       "<table border=\"1\" class=\"dataframe\">\n",
       "  <thead>\n",
       "    <tr style=\"text-align: right;\">\n",
       "      <th></th>\n",
       "      <th>CHEMBLID</th>\n",
       "      <th>ProteinID</th>\n",
       "      <th>compound_iso_smiles</th>\n",
       "      <th>target_sequence</th>\n",
       "      <th>Ki , Kd and IC50  (KIBA Score)</th>\n",
       "      <th>drug_idx</th>\n",
       "      <th>prot_idx</th>\n",
       "    </tr>\n",
       "  </thead>\n",
       "  <tbody>\n",
       "    <tr>\n",
       "      <th>0</th>\n",
       "      <td>CHEMBL373751</td>\n",
       "      <td>P53350</td>\n",
       "      <td>COC1=C(C=C2C(=C1)N=CN2C3=CC(=C(S3)C#N)OCC4=CC=...</td>\n",
       "      <td>MSAAVTAGKLARAPADPGKAGVPGVAAPGAPAAAPPAKEIPEVLVD...</td>\n",
       "      <td>0.0</td>\n",
       "      <td>0</td>\n",
       "      <td>0</td>\n",
       "    </tr>\n",
       "    <tr>\n",
       "      <th>1</th>\n",
       "      <td>CHEMBL373751</td>\n",
       "      <td>P00533</td>\n",
       "      <td>COC1=C(C=C2C(=C1)N=CN2C3=CC(=C(S3)C#N)OCC4=CC=...</td>\n",
       "      <td>MRPSGTAGAALLALLAALCPASRALEEKKVCQGTSNKLTQLGTFED...</td>\n",
       "      <td>1.1</td>\n",
       "      <td>0</td>\n",
       "      <td>1</td>\n",
       "    </tr>\n",
       "    <tr>\n",
       "      <th>2</th>\n",
       "      <td>CHEMBL373751</td>\n",
       "      <td>P04626</td>\n",
       "      <td>COC1=C(C=C2C(=C1)N=CN2C3=CC(=C(S3)C#N)OCC4=CC=...</td>\n",
       "      <td>MELAALCRWGLLLALLPPGAASTQVCTGTDMKLRLPASPETHLDML...</td>\n",
       "      <td>1.1</td>\n",
       "      <td>0</td>\n",
       "      <td>2</td>\n",
       "    </tr>\n",
       "    <tr>\n",
       "      <th>3</th>\n",
       "      <td>CHEMBL373751</td>\n",
       "      <td>P49840</td>\n",
       "      <td>COC1=C(C=C2C(=C1)N=CN2C3=CC(=C(S3)C#N)OCC4=CC=...</td>\n",
       "      <td>MSGGGPSGGGPGGSGRARTSSFAEPGGGGGGGGGGPGGSASGPGGT...</td>\n",
       "      <td>1.3</td>\n",
       "      <td>0</td>\n",
       "      <td>3</td>\n",
       "    </tr>\n",
       "    <tr>\n",
       "      <th>4</th>\n",
       "      <td>CHEMBL373751</td>\n",
       "      <td>P49841</td>\n",
       "      <td>COC1=C(C=C2C(=C1)N=CN2C3=CC(=C(S3)C#N)OCC4=CC=...</td>\n",
       "      <td>MSGRPRTTSFAESCKPVQQPSAFGSMKVSRDKDGSKVTTVVATPGQ...</td>\n",
       "      <td>1.3</td>\n",
       "      <td>0</td>\n",
       "      <td>4</td>\n",
       "    </tr>\n",
       "  </tbody>\n",
       "</table>\n",
       "</div>"
      ],
      "text/plain": [
       "       CHEMBLID ProteinID                                compound_iso_smiles  \\\n",
       "0  CHEMBL373751    P53350  COC1=C(C=C2C(=C1)N=CN2C3=CC(=C(S3)C#N)OCC4=CC=...   \n",
       "1  CHEMBL373751    P00533  COC1=C(C=C2C(=C1)N=CN2C3=CC(=C(S3)C#N)OCC4=CC=...   \n",
       "2  CHEMBL373751    P04626  COC1=C(C=C2C(=C1)N=CN2C3=CC(=C(S3)C#N)OCC4=CC=...   \n",
       "3  CHEMBL373751    P49840  COC1=C(C=C2C(=C1)N=CN2C3=CC(=C(S3)C#N)OCC4=CC=...   \n",
       "4  CHEMBL373751    P49841  COC1=C(C=C2C(=C1)N=CN2C3=CC(=C(S3)C#N)OCC4=CC=...   \n",
       "\n",
       "                                     target_sequence  \\\n",
       "0  MSAAVTAGKLARAPADPGKAGVPGVAAPGAPAAAPPAKEIPEVLVD...   \n",
       "1  MRPSGTAGAALLALLAALCPASRALEEKKVCQGTSNKLTQLGTFED...   \n",
       "2  MELAALCRWGLLLALLPPGAASTQVCTGTDMKLRLPASPETHLDML...   \n",
       "3  MSGGGPSGGGPGGSGRARTSSFAEPGGGGGGGGGGPGGSASGPGGT...   \n",
       "4  MSGRPRTTSFAESCKPVQQPSAFGSMKVSRDKDGSKVTTVVATPGQ...   \n",
       "\n",
       "   Ki , Kd and IC50  (KIBA Score)  drug_idx  prot_idx  \n",
       "0                             0.0         0         0  \n",
       "1                             1.1         0         1  \n",
       "2                             1.1         0         2  \n",
       "3                             1.3         0         3  \n",
       "4                             1.3         0         4  "
      ]
     },
     "execution_count": 15,
     "metadata": {},
     "output_type": "execute_result"
    }
   ],
   "source": [
    "# kiba \n",
    "kiba = pd.read_csv('../../extdata/kiba/kiba.csv')\n",
    "kiba.head()"
   ]
  },
  {
   "cell_type": "code",
   "execution_count": 16,
   "metadata": {},
   "outputs": [
    {
     "name": "stderr",
     "output_type": "stream",
     "text": [
      "/tmp/ipykernel_805/4234575712.py:1: FutureWarning: You are using `torch.load` with `weights_only=False` (the current default value), which uses the default pickle module implicitly. It is possible to construct malicious pickle data which will execute arbitrary code during unpickling (See https://github.com/pytorch/pytorch/blob/main/SECURITY.md#untrusted-models for more details). In a future release, the default value for `weights_only` will be flipped to `True`. This limits the functions that could be executed during unpickling. Arbitrary objects will no longer be allowed to be loaded via this mode unless they are explicitly allowlisted by the user via `torch.serialization.add_safe_globals`. We recommend you start setting `weights_only=True` for any use case where you don't have full control of the loaded file. Please open an issue on GitHub for any issues related to this experimental feature.\n",
      "  z_drug = torch.load('../../extdata/kiba/z_drug.pt')\n",
      "/tmp/ipykernel_805/4234575712.py:2: FutureWarning: You are using `torch.load` with `weights_only=False` (the current default value), which uses the default pickle module implicitly. It is possible to construct malicious pickle data which will execute arbitrary code during unpickling (See https://github.com/pytorch/pytorch/blob/main/SECURITY.md#untrusted-models for more details). In a future release, the default value for `weights_only` will be flipped to `True`. This limits the functions that could be executed during unpickling. Arbitrary objects will no longer be allowed to be loaded via this mode unless they are explicitly allowlisted by the user via `torch.serialization.add_safe_globals`. We recommend you start setting `weights_only=True` for any use case where you don't have full control of the loaded file. Please open an issue on GitHub for any issues related to this experimental feature.\n",
      "  z_prot = torch.load('../../extdata/kiba/z_prot.pt')\n"
     ]
    }
   ],
   "source": [
    "z_drug = torch.load('../../extdata/kiba/z_drug.pt')\n",
    "z_prot = torch.load('../../extdata/kiba/z_prot.pt')"
   ]
  },
  {
   "cell_type": "code",
   "execution_count": 17,
   "metadata": {},
   "outputs": [],
   "source": [
    "kiba = kiba.assign(neg_lgo10_uM = -np.log(kiba['Ki , Kd and IC50  (KIBA Score)'] + 1e-10))\n",
    "mu = kiba['neg_lgo10_uM'].mean()\n",
    "sigma = kiba['neg_lgo10_uM'].std()\n",
    "kiba = kiba.assign(binding_affinity = (kiba['neg_lgo10_uM'] - mu) / (sigma + 1e-8))"
   ]
  },
  {
   "cell_type": "code",
   "execution_count": 18,
   "metadata": {},
   "outputs": [
    {
     "data": {
      "image/png": "[encoded data removed]",
      "text/plain": [
       "<Figure size 640x480 with 1 Axes>"
      ]
     },
     "metadata": {},
     "output_type": "display_data"
    }
   ],
   "source": [
    "plt.figure()\n",
    "plt.hist(kiba['binding_affinity'], bins=100)\n",
    "plt.show()"
   ]
  },
  {
   "cell_type": "code",
   "execution_count": 19,
   "metadata": {},
   "outputs": [],
   "source": [
    "drug_idx = torch.tensor(kiba.drug_idx.values, dtype=torch.long)\n",
    "prot_idx = torch.tensor(kiba.prot_idx.values, dtype=torch.long)\n",
    "\n",
    "x = torch.cat([z_drug[drug_idx], z_prot[prot_idx]], dim=1)\n",
    "#y = torch.tensor(kiba.binding_affinity.values, dtype=torch.float32).view(-1, 1)\n",
    "y = torch.tensor(kiba['Ki , Kd and IC50  (KIBA Score)'], dtype=torch.float32)"
   ]
  },
  {
   "cell_type": "code",
   "execution_count": 20,
   "metadata": {},
   "outputs": [],
   "source": [
    "with torch.no_grad(): \n",
    "    y_pred = model.cuda()(x.cuda(), samples=100).squeeze()"
   ]
  },
  {
   "cell_type": "code",
   "execution_count": 21,
   "metadata": {},
   "outputs": [
    {
     "ename": "KeyboardInterrupt",
     "evalue": "",
     "output_type": "error",
     "traceback": [
      "\u001b[0;31m---------------------------------------------------------------------------\u001b[0m",
      "\u001b[0;31mKeyboardInterrupt\u001b[0m                         Traceback (most recent call last)",
      "Cell \u001b[0;32mIn[21], line 1\u001b[0m\n\u001b[0;32m----> 1\u001b[0m np\u001b[38;5;241m.\u001b[39mcorrcoef(y\u001b[38;5;241m.\u001b[39mcpu()\u001b[38;5;241m.\u001b[39mnumpy()\u001b[38;5;241m.\u001b[39mravel(), \u001b[43my_pred\u001b[49m\u001b[38;5;241;43m.\u001b[39;49m\u001b[43mmean\u001b[49m\u001b[43m(\u001b[49m\u001b[38;5;241;43m0\u001b[39;49m\u001b[43m)\u001b[49m\u001b[38;5;241m.\u001b[39mcpu()\u001b[38;5;241m.\u001b[39mnumpy()\u001b[38;5;241m.\u001b[39mravel())[\u001b[38;5;241m0\u001b[39m,\u001b[38;5;241m1\u001b[39m]\n",
      "\u001b[0;31mKeyboardInterrupt\u001b[0m: "
     ]
    }
   ],
   "source": [
    "np.corrcoef(y.cpu().numpy().ravel(), y_pred.mean(0).cpu().numpy().ravel())[0,1]"
   ]
  },
  {
   "cell_type": "code",
   "execution_count": null,
   "metadata": {},
   "outputs": [
    {
     "data": {
      "image/png": "[encoded data removed]",
      "text/plain": [
       "<Figure size 640x480 with 1 Axes>"
      ]
     },
     "metadata": {},
     "output_type": "display_data"
    }
   ],
   "source": [
    "plt.figure()\n",
    "plt.plot(y.cpu().numpy(), y_pred.mean(0).cpu().numpy(), 'r.', alpha=0.01)\n",
    "#plt.xlim(-5, 5)\n",
    "#plt.ylim(-5, 5)\n",
    "plt.xlabel('True')\n",
    "plt.ylabel('Predicted')\n",
    "plt.show()"
   ]
  },
  {
   "cell_type": "code",
   "execution_count": null,
   "metadata": {},
   "outputs": [],
   "source": [
    "affin = load_dataset(\"jglaser/binding_affinity\",split='train[:90%]').to_pandas()"
   ]
  },
  {
   "cell_type": "code",
   "execution_count": null,
   "metadata": {},
   "outputs": [
    {
     "data": {
      "text/plain": [
       "1"
      ]
     },
     "execution_count": 80,
     "metadata": {},
     "output_type": "execute_result"
    }
   ],
   "source": [
    "kiba_smiles = kiba['compound_iso_smiles'].unique() \n",
    "jglaser_smiles = affin['smiles_can'].unique()\n",
    "\n",
    "overlap_smiles = np.intersect1d(kiba_smiles, jglaser_smiles)\n",
    "len(overlap)"
   ]
  },
  {
   "cell_type": "code",
   "execution_count": null,
   "metadata": {},
   "outputs": [
    {
     "data": {
      "text/plain": [
       "224"
      ]
     },
     "execution_count": 81,
     "metadata": {},
     "output_type": "execute_result"
    }
   ],
   "source": [
    "kiba_aas = kiba['target_sequence'].unique()\n",
    "jglaser_aas = affin['seq'].unique()\n",
    "\n",
    "overlap_aas = np.intersect1d(kiba_aas, jglaser_aas)\n",
    "len(overlap_aas)"
   ]
  },
  {
   "cell_type": "code",
   "execution_count": null,
   "metadata": {},
   "outputs": [
    {
     "data": {
      "text/html": [
       "<div>\n",
       "<style scoped>\n",
       "    .dataframe tbody tr th:only-of-type {\n",
       "        vertical-align: middle;\n",
       "    }\n",
       "\n",
       "    .dataframe tbody tr th {\n",
       "        vertical-align: top;\n",
       "    }\n",
       "\n",
       "    .dataframe thead th {\n",
       "        text-align: right;\n",
       "    }\n",
       "</style>\n",
       "<table border=\"1\" class=\"dataframe\">\n",
       "  <thead>\n",
       "    <tr style=\"text-align: right;\">\n",
       "      <th></th>\n",
       "      <th>seq</th>\n",
       "      <th>smiles</th>\n",
       "      <th>affinity_uM</th>\n",
       "      <th>neg_log10_affinity_M</th>\n",
       "      <th>smiles_can</th>\n",
       "      <th>affinity</th>\n",
       "    </tr>\n",
       "  </thead>\n",
       "  <tbody>\n",
       "    <tr>\n",
       "      <th>0</th>\n",
       "      <td>MTVPDRSEIAGKWYVVALASNTEFFLREKDKMKMAMARISFLGEDE...</td>\n",
       "      <td>CCCCCCCCCCCCCCCCCCCC(=O)O</td>\n",
       "      <td>0.026</td>\n",
       "      <td>7.585027</td>\n",
       "      <td>CCCCCCCCCCCCCCCCCCCC(=O)O</td>\n",
       "      <td>0.691712</td>\n",
       "    </tr>\n",
       "    <tr>\n",
       "      <th>1</th>\n",
       "      <td>APQTITELCSEYRNTQIYTINDKILSYTESMAGKREMVIITFKSGE...</td>\n",
       "      <td>OC[C@H]1O[C@H](Oc2cccc(c2)N(=O)=O)[C@@H]([C@H]...</td>\n",
       "      <td>500.000</td>\n",
       "      <td>3.301030</td>\n",
       "      <td>O=[N+]([O-])c1cccc(O[C@H]2O[C@H](CO)[C@H](O)[C...</td>\n",
       "      <td>-2.054668</td>\n",
       "    </tr>\n",
       "    <tr>\n",
       "      <th>2</th>\n",
       "      <td>VETFAFQAEIAQLMSLIINTFYSNKEIFLRELISNSSDALDKIRYE...</td>\n",
       "      <td>COc1ccc(cc1)c1c(onc1c1cc(C(C)C)c(cc1O)O)NC(=O)...</td>\n",
       "      <td>0.023</td>\n",
       "      <td>7.638272</td>\n",
       "      <td>COc1ccc(-c2c(-c3cc(C(C)C)c(O)cc3O)noc2NC(=O)C2...</td>\n",
       "      <td>0.725847</td>\n",
       "    </tr>\n",
       "    <tr>\n",
       "      <th>3</th>\n",
       "      <td>AAPFDKSKNVAQSIDQLIGQTPALYLNKLNNTKAKVVLKMECENPM...</td>\n",
       "      <td>OC[C@@H](C(=O)N[C@@H]([C@H](CC)C)C(=O)O)NC(=O)...</td>\n",
       "      <td>6.430</td>\n",
       "      <td>5.191789</td>\n",
       "      <td>CC[C@H](C)[C@H](NC(=O)[C@H](CO)NC(=O)[C@H](CC1...</td>\n",
       "      <td>-0.842542</td>\n",
       "    </tr>\n",
       "    <tr>\n",
       "      <th>4</th>\n",
       "      <td>YITFRSFTAVLIAFFLTLVLSPSFINRLRKIQRKKYTPTMGGIVIL...</td>\n",
       "      <td>CO[C@@H]1[C@H](O[C@H]([C@@H]1O)n1ccc(=O)[nH]c1...</td>\n",
       "      <td>0.185</td>\n",
       "      <td>6.732828</td>\n",
       "      <td>CO[C@@H]1[C@@H]([C@@H](O[C@H]2OC(C(=O)N[C@H]3C...</td>\n",
       "      <td>0.145386</td>\n",
       "    </tr>\n",
       "  </tbody>\n",
       "</table>\n",
       "</div>"
      ],
      "text/plain": [
       "                                                 seq  \\\n",
       "0  MTVPDRSEIAGKWYVVALASNTEFFLREKDKMKMAMARISFLGEDE...   \n",
       "1  APQTITELCSEYRNTQIYTINDKILSYTESMAGKREMVIITFKSGE...   \n",
       "2  VETFAFQAEIAQLMSLIINTFYSNKEIFLRELISNSSDALDKIRYE...   \n",
       "3  AAPFDKSKNVAQSIDQLIGQTPALYLNKLNNTKAKVVLKMECENPM...   \n",
       "4  YITFRSFTAVLIAFFLTLVLSPSFINRLRKIQRKKYTPTMGGIVIL...   \n",
       "\n",
       "                                              smiles  affinity_uM  \\\n",
       "0                          CCCCCCCCCCCCCCCCCCCC(=O)O        0.026   \n",
       "1  OC[C@H]1O[C@H](Oc2cccc(c2)N(=O)=O)[C@@H]([C@H]...      500.000   \n",
       "2  COc1ccc(cc1)c1c(onc1c1cc(C(C)C)c(cc1O)O)NC(=O)...        0.023   \n",
       "3  OC[C@@H](C(=O)N[C@@H]([C@H](CC)C)C(=O)O)NC(=O)...        6.430   \n",
       "4  CO[C@@H]1[C@H](O[C@H]([C@@H]1O)n1ccc(=O)[nH]c1...        0.185   \n",
       "\n",
       "   neg_log10_affinity_M                                         smiles_can  \\\n",
       "0              7.585027                          CCCCCCCCCCCCCCCCCCCC(=O)O   \n",
       "1              3.301030  O=[N+]([O-])c1cccc(O[C@H]2O[C@H](CO)[C@H](O)[C...   \n",
       "2              7.638272  COc1ccc(-c2c(-c3cc(C(C)C)c(O)cc3O)noc2NC(=O)C2...   \n",
       "3              5.191789  CC[C@H](C)[C@H](NC(=O)[C@H](CO)NC(=O)[C@H](CC1...   \n",
       "4              6.732828  CO[C@@H]1[C@@H]([C@@H](O[C@H]2OC(C(=O)N[C@H]3C...   \n",
       "\n",
       "   affinity  \n",
       "0  0.691712  \n",
       "1 -2.054668  \n",
       "2  0.725847  \n",
       "3 -0.842542  \n",
       "4  0.145386  "
      ]
     },
     "execution_count": 72,
     "metadata": {},
     "output_type": "execute_result"
    }
   ],
   "source": [
    "affin.head()"
   ]
  },
  {
   "cell_type": "code",
   "execution_count": null,
   "metadata": {},
   "outputs": [
    {
     "data": {
      "text/html": [
       "<div>\n",
       "<style scoped>\n",
       "    .dataframe tbody tr th:only-of-type {\n",
       "        vertical-align: middle;\n",
       "    }\n",
       "\n",
       "    .dataframe tbody tr th {\n",
       "        vertical-align: top;\n",
       "    }\n",
       "\n",
       "    .dataframe thead th {\n",
       "        text-align: right;\n",
       "    }\n",
       "</style>\n",
       "<table border=\"1\" class=\"dataframe\">\n",
       "  <thead>\n",
       "    <tr style=\"text-align: right;\">\n",
       "      <th></th>\n",
       "      <th>CHEMBLID</th>\n",
       "      <th>ProteinID</th>\n",
       "      <th>compound_iso_smiles</th>\n",
       "      <th>target_sequence</th>\n",
       "      <th>Ki , Kd and IC50  (KIBA Score)</th>\n",
       "      <th>drug_idx</th>\n",
       "      <th>prot_idx</th>\n",
       "      <th>neg_lgo10_uM</th>\n",
       "      <th>binding_affinity</th>\n",
       "    </tr>\n",
       "  </thead>\n",
       "  <tbody>\n",
       "    <tr>\n",
       "      <th>0</th>\n",
       "      <td>CHEMBL373751</td>\n",
       "      <td>P53350</td>\n",
       "      <td>COC1=C(C=C2C(=C1)N=CN2C3=CC(=C(S3)C#N)OCC4=CC=...</td>\n",
       "      <td>MSAAVTAGKLARAPADPGKAGVPGVAAPGAPAAAPPAKEIPEVLVD...</td>\n",
       "      <td>0.0</td>\n",
       "      <td>0</td>\n",
       "      <td>0</td>\n",
       "      <td>23.025851</td>\n",
       "      <td>249.303756</td>\n",
       "    </tr>\n",
       "    <tr>\n",
       "      <th>1</th>\n",
       "      <td>CHEMBL373751</td>\n",
       "      <td>P00533</td>\n",
       "      <td>COC1=C(C=C2C(=C1)N=CN2C3=CC(=C(S3)C#N)OCC4=CC=...</td>\n",
       "      <td>MRPSGTAGAALLALLAALCPASRALEEKKVCQGTSNKLTQLGTFED...</td>\n",
       "      <td>1.1</td>\n",
       "      <td>0</td>\n",
       "      <td>1</td>\n",
       "      <td>-0.095310</td>\n",
       "      <td>23.119186</td>\n",
       "    </tr>\n",
       "    <tr>\n",
       "      <th>2</th>\n",
       "      <td>CHEMBL373751</td>\n",
       "      <td>P04626</td>\n",
       "      <td>COC1=C(C=C2C(=C1)N=CN2C3=CC(=C(S3)C#N)OCC4=CC=...</td>\n",
       "      <td>MELAALCRWGLLLALLPPGAASTQVCTGTDMKLRLPASPETHLDML...</td>\n",
       "      <td>1.1</td>\n",
       "      <td>0</td>\n",
       "      <td>2</td>\n",
       "      <td>-0.095310</td>\n",
       "      <td>23.119186</td>\n",
       "    </tr>\n",
       "    <tr>\n",
       "      <th>3</th>\n",
       "      <td>CHEMBL373751</td>\n",
       "      <td>P49840</td>\n",
       "      <td>COC1=C(C=C2C(=C1)N=CN2C3=CC(=C(S3)C#N)OCC4=CC=...</td>\n",
       "      <td>MSGGGPSGGGPGGSGRARTSSFAEPGGGGGGGGGGPGGSASGPGGT...</td>\n",
       "      <td>1.3</td>\n",
       "      <td>0</td>\n",
       "      <td>3</td>\n",
       "      <td>-0.262364</td>\n",
       "      <td>21.484966</td>\n",
       "    </tr>\n",
       "    <tr>\n",
       "      <th>4</th>\n",
       "      <td>CHEMBL373751</td>\n",
       "      <td>P49841</td>\n",
       "      <td>COC1=C(C=C2C(=C1)N=CN2C3=CC(=C(S3)C#N)OCC4=CC=...</td>\n",
       "      <td>MSGRPRTTSFAESCKPVQQPSAFGSMKVSRDKDGSKVTTVVATPGQ...</td>\n",
       "      <td>1.3</td>\n",
       "      <td>0</td>\n",
       "      <td>4</td>\n",
       "      <td>-0.262364</td>\n",
       "      <td>21.484966</td>\n",
       "    </tr>\n",
       "  </tbody>\n",
       "</table>\n",
       "</div>"
      ],
      "text/plain": [
       "       CHEMBLID ProteinID                                compound_iso_smiles  \\\n",
       "0  CHEMBL373751    P53350  COC1=C(C=C2C(=C1)N=CN2C3=CC(=C(S3)C#N)OCC4=CC=...   \n",
       "1  CHEMBL373751    P00533  COC1=C(C=C2C(=C1)N=CN2C3=CC(=C(S3)C#N)OCC4=CC=...   \n",
       "2  CHEMBL373751    P04626  COC1=C(C=C2C(=C1)N=CN2C3=CC(=C(S3)C#N)OCC4=CC=...   \n",
       "3  CHEMBL373751    P49840  COC1=C(C=C2C(=C1)N=CN2C3=CC(=C(S3)C#N)OCC4=CC=...   \n",
       "4  CHEMBL373751    P49841  COC1=C(C=C2C(=C1)N=CN2C3=CC(=C(S3)C#N)OCC4=CC=...   \n",
       "\n",
       "                                     target_sequence  \\\n",
       "0  MSAAVTAGKLARAPADPGKAGVPGVAAPGAPAAAPPAKEIPEVLVD...   \n",
       "1  MRPSGTAGAALLALLAALCPASRALEEKKVCQGTSNKLTQLGTFED...   \n",
       "2  MELAALCRWGLLLALLPPGAASTQVCTGTDMKLRLPASPETHLDML...   \n",
       "3  MSGGGPSGGGPGGSGRARTSSFAEPGGGGGGGGGGPGGSASGPGGT...   \n",
       "4  MSGRPRTTSFAESCKPVQQPSAFGSMKVSRDKDGSKVTTVVATPGQ...   \n",
       "\n",
       "   Ki , Kd and IC50  (KIBA Score)  drug_idx  prot_idx  neg_lgo10_uM  \\\n",
       "0                             0.0         0         0     23.025851   \n",
       "1                             1.1         0         1     -0.095310   \n",
       "2                             1.1         0         2     -0.095310   \n",
       "3                             1.3         0         3     -0.262364   \n",
       "4                             1.3         0         4     -0.262364   \n",
       "\n",
       "   binding_affinity  \n",
       "0        249.303756  \n",
       "1         23.119186  \n",
       "2         23.119186  \n",
       "3         21.484966  \n",
       "4         21.484966  "
      ]
     },
     "execution_count": 66,
     "metadata": {},
     "output_type": "execute_result"
    }
   ],
   "source": [
    "kiba.head()"
   ]
  },
  {
   "cell_type": "code",
   "execution_count": null,
   "metadata": {},
   "outputs": [
    {
     "data": {
      "text/html": [
       "<div>\n",
       "<style scoped>\n",
       "    .dataframe tbody tr th:only-of-type {\n",
       "        vertical-align: middle;\n",
       "    }\n",
       "\n",
       "    .dataframe tbody tr th {\n",
       "        vertical-align: top;\n",
       "    }\n",
       "\n",
       "    .dataframe thead th {\n",
       "        text-align: right;\n",
       "    }\n",
       "</style>\n",
       "<table border=\"1\" class=\"dataframe\">\n",
       "  <thead>\n",
       "    <tr style=\"text-align: right;\">\n",
       "      <th></th>\n",
       "      <th>seq</th>\n",
       "      <th>smiles</th>\n",
       "      <th>affinity_uM</th>\n",
       "      <th>neg_log10_affinity_M</th>\n",
       "      <th>smiles_can</th>\n",
       "      <th>affinity</th>\n",
       "      <th>CHEMBLID</th>\n",
       "      <th>ProteinID</th>\n",
       "      <th>compound_iso_smiles</th>\n",
       "      <th>target_sequence</th>\n",
       "      <th>Ki , Kd and IC50  (KIBA Score)</th>\n",
       "      <th>drug_idx</th>\n",
       "      <th>prot_idx</th>\n",
       "      <th>neg_lgo10_uM</th>\n",
       "      <th>binding_affinity</th>\n",
       "    </tr>\n",
       "  </thead>\n",
       "  <tbody>\n",
       "    <tr>\n",
       "      <th>0</th>\n",
       "      <td>MSDVAIVKEGWLHKRGEYIKTWRPRYFLLKNDGTFIGYKERPQDVD...</td>\n",
       "      <td>CCCCCCCCCCCCCCCCCCOCC(COP([O-])(=O)OCC[N+](C)(...</td>\n",
       "      <td>3.5</td>\n",
       "      <td>5.455932</td>\n",
       "      <td>CCCCCCCCCCCCCCCCCCOCC(COP(=O)([O-])OCC[N+](C)(...</td>\n",
       "      <td>-0.673205</td>\n",
       "      <td>CHEMBL28509</td>\n",
       "      <td>P31749</td>\n",
       "      <td>CCCCCCCCCCCCCCCCCCOCC(COP(=O)([O-])OCC[N+](C)(...</td>\n",
       "      <td>MSDVAIVKEGWLHKRGEYIKTWRPRYFLLKNDGTFIGYKERPQDVD...</td>\n",
       "      <td>11.555932</td>\n",
       "      <td>798</td>\n",
       "      <td>76</td>\n",
       "      <td>-2.447199</td>\n",
       "      <td>0.11165</td>\n",
       "    </tr>\n",
       "  </tbody>\n",
       "</table>\n",
       "</div>"
      ],
      "text/plain": [
       "                                                 seq  \\\n",
       "0  MSDVAIVKEGWLHKRGEYIKTWRPRYFLLKNDGTFIGYKERPQDVD...   \n",
       "\n",
       "                                              smiles  affinity_uM  \\\n",
       "0  CCCCCCCCCCCCCCCCCCOCC(COP([O-])(=O)OCC[N+](C)(...          3.5   \n",
       "\n",
       "   neg_log10_affinity_M                                         smiles_can  \\\n",
       "0              5.455932  CCCCCCCCCCCCCCCCCCOCC(COP(=O)([O-])OCC[N+](C)(...   \n",
       "\n",
       "   affinity     CHEMBLID ProteinID  \\\n",
       "0 -0.673205  CHEMBL28509    P31749   \n",
       "\n",
       "                                 compound_iso_smiles  \\\n",
       "0  CCCCCCCCCCCCCCCCCCOCC(COP(=O)([O-])OCC[N+](C)(...   \n",
       "\n",
       "                                     target_sequence  \\\n",
       "0  MSDVAIVKEGWLHKRGEYIKTWRPRYFLLKNDGTFIGYKERPQDVD...   \n",
       "\n",
       "   Ki , Kd and IC50  (KIBA Score)  drug_idx  prot_idx  neg_lgo10_uM  \\\n",
       "0                       11.555932       798        76     -2.447199   \n",
       "\n",
       "   binding_affinity  \n",
       "0           0.11165  "
      ]
     },
     "execution_count": 76,
     "metadata": {},
     "output_type": "execute_result"
    }
   ],
   "source": [
    "df = affin.merge(kiba, left_on=['smiles_can', 'seq'], right_on=['compound_iso_smiles', 'target_sequence'], how='inner')\n",
    "df"
   ]
  },
  {
   "cell_type": "code",
   "execution_count": null,
   "metadata": {},
   "outputs": [],
   "source": []
  }
 ],
 "metadata": {
  "kernelspec": {
   "display_name": "tkgdti",
   "language": "python",
   "name": "python3"
  },
  "language_info": {
   "codemirror_mode": {
    "name": "ipython",
    "version": 3
   },
   "file_extension": ".py",
   "mimetype": "text/x-python",
   "name": "python",
   "nbconvert_exporter": "python",
   "pygments_lexer": "ipython3",
   "version": "3.11.10"
  }
 },
 "nbformat": 4,
 "nbformat_minor": 2
}
