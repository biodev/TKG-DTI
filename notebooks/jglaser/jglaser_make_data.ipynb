{
 "cells": [
  {
   "cell_type": "code",
   "execution_count": 1,
   "metadata": {},
   "outputs": [
    {
     "name": "stderr",
     "output_type": "stream",
     "text": [
      "/home/teddy/miniconda3/envs/tkgdti/lib/python3.11/site-packages/tqdm/auto.py:21: TqdmWarning: IProgress not found. Please update jupyter and ipywidgets. See https://ipywidgets.readthedocs.io/en/stable/user_install.html\n",
      "  from .autonotebook import tqdm as notebook_tqdm\n"
     ]
    }
   ],
   "source": [
    "from datasets import load_dataset\n",
    "from matplotlib import pyplot as plt\n",
    "import numpy as np\n",
    "import pandas as pd\n",
    "import seaborn as sbn\n",
    "from transformers import AutoTokenizer, AutoModel\n",
    "from transformers import BertModel, BertTokenizer, pipeline\n",
    "import torch \n",
    "import os \n",
    "import re\n",
    "\n",
    "from tkgdti.embed.AA2EMB import AA2EMB\n",
    "from tkgdti.embed.SMILES2EMB import SMILES2EMB\n",
    "\n",
    "import umap \n",
    "\n",
    "%load_ext autoreload\n",
    "%autoreload 2"
   ]
  },
  {
   "cell_type": "code",
   "execution_count": 2,
   "metadata": {},
   "outputs": [],
   "source": [
    "#https://huggingface.co/datasets/jglaser/binding_affinity?library=datasets\n",
    "train = load_dataset(\"jglaser/binding_affinity\",split='train[:90%]')\n",
    "test = load_dataset(\"jglaser/binding_affinity\",split='train[90%:]')\n"
   ]
  },
  {
   "cell_type": "code",
   "execution_count": 3,
   "metadata": {},
   "outputs": [
    {
     "data": {
      "text/html": [
       "<div>\n",
       "<style scoped>\n",
       "    .dataframe tbody tr th:only-of-type {\n",
       "        vertical-align: middle;\n",
       "    }\n",
       "\n",
       "    .dataframe tbody tr th {\n",
       "        vertical-align: top;\n",
       "    }\n",
       "\n",
       "    .dataframe thead th {\n",
       "        text-align: right;\n",
       "    }\n",
       "</style>\n",
       "<table border=\"1\" class=\"dataframe\">\n",
       "  <thead>\n",
       "    <tr style=\"text-align: right;\">\n",
       "      <th></th>\n",
       "      <th>seq</th>\n",
       "      <th>smiles</th>\n",
       "      <th>affinity_uM</th>\n",
       "      <th>neg_log10_affinity_M</th>\n",
       "      <th>smiles_can</th>\n",
       "      <th>affinity</th>\n",
       "    </tr>\n",
       "  </thead>\n",
       "  <tbody>\n",
       "    <tr>\n",
       "      <th>0</th>\n",
       "      <td>MTVPDRSEIAGKWYVVALASNTEFFLREKDKMKMAMARISFLGEDE...</td>\n",
       "      <td>CCCCCCCCCCCCCCCCCCCC(=O)O</td>\n",
       "      <td>0.026</td>\n",
       "      <td>7.585027</td>\n",
       "      <td>CCCCCCCCCCCCCCCCCCCC(=O)O</td>\n",
       "      <td>0.691712</td>\n",
       "    </tr>\n",
       "    <tr>\n",
       "      <th>1</th>\n",
       "      <td>APQTITELCSEYRNTQIYTINDKILSYTESMAGKREMVIITFKSGE...</td>\n",
       "      <td>OC[C@H]1O[C@H](Oc2cccc(c2)N(=O)=O)[C@@H]([C@H]...</td>\n",
       "      <td>500.000</td>\n",
       "      <td>3.301030</td>\n",
       "      <td>O=[N+]([O-])c1cccc(O[C@H]2O[C@H](CO)[C@H](O)[C...</td>\n",
       "      <td>-2.054668</td>\n",
       "    </tr>\n",
       "    <tr>\n",
       "      <th>2</th>\n",
       "      <td>VETFAFQAEIAQLMSLIINTFYSNKEIFLRELISNSSDALDKIRYE...</td>\n",
       "      <td>COc1ccc(cc1)c1c(onc1c1cc(C(C)C)c(cc1O)O)NC(=O)...</td>\n",
       "      <td>0.023</td>\n",
       "      <td>7.638272</td>\n",
       "      <td>COc1ccc(-c2c(-c3cc(C(C)C)c(O)cc3O)noc2NC(=O)C2...</td>\n",
       "      <td>0.725847</td>\n",
       "    </tr>\n",
       "    <tr>\n",
       "      <th>3</th>\n",
       "      <td>AAPFDKSKNVAQSIDQLIGQTPALYLNKLNNTKAKVVLKMECENPM...</td>\n",
       "      <td>OC[C@@H](C(=O)N[C@@H]([C@H](CC)C)C(=O)O)NC(=O)...</td>\n",
       "      <td>6.430</td>\n",
       "      <td>5.191789</td>\n",
       "      <td>CC[C@H](C)[C@H](NC(=O)[C@H](CO)NC(=O)[C@H](CC1...</td>\n",
       "      <td>-0.842542</td>\n",
       "    </tr>\n",
       "    <tr>\n",
       "      <th>4</th>\n",
       "      <td>YITFRSFTAVLIAFFLTLVLSPSFINRLRKIQRKKYTPTMGGIVIL...</td>\n",
       "      <td>CO[C@@H]1[C@H](O[C@H]([C@@H]1O)n1ccc(=O)[nH]c1...</td>\n",
       "      <td>0.185</td>\n",
       "      <td>6.732828</td>\n",
       "      <td>CO[C@@H]1[C@@H]([C@@H](O[C@H]2OC(C(=O)N[C@H]3C...</td>\n",
       "      <td>0.145386</td>\n",
       "    </tr>\n",
       "  </tbody>\n",
       "</table>\n",
       "</div>"
      ],
      "text/plain": [
       "                                                 seq  \\\n",
       "0  MTVPDRSEIAGKWYVVALASNTEFFLREKDKMKMAMARISFLGEDE...   \n",
       "1  APQTITELCSEYRNTQIYTINDKILSYTESMAGKREMVIITFKSGE...   \n",
       "2  VETFAFQAEIAQLMSLIINTFYSNKEIFLRELISNSSDALDKIRYE...   \n",
       "3  AAPFDKSKNVAQSIDQLIGQTPALYLNKLNNTKAKVVLKMECENPM...   \n",
       "4  YITFRSFTAVLIAFFLTLVLSPSFINRLRKIQRKKYTPTMGGIVIL...   \n",
       "\n",
       "                                              smiles  affinity_uM  \\\n",
       "0                          CCCCCCCCCCCCCCCCCCCC(=O)O        0.026   \n",
       "1  OC[C@H]1O[C@H](Oc2cccc(c2)N(=O)=O)[C@@H]([C@H]...      500.000   \n",
       "2  COc1ccc(cc1)c1c(onc1c1cc(C(C)C)c(cc1O)O)NC(=O)...        0.023   \n",
       "3  OC[C@@H](C(=O)N[C@@H]([C@H](CC)C)C(=O)O)NC(=O)...        6.430   \n",
       "4  CO[C@@H]1[C@H](O[C@H]([C@@H]1O)n1ccc(=O)[nH]c1...        0.185   \n",
       "\n",
       "   neg_log10_affinity_M                                         smiles_can  \\\n",
       "0              7.585027                          CCCCCCCCCCCCCCCCCCCC(=O)O   \n",
       "1              3.301030  O=[N+]([O-])c1cccc(O[C@H]2O[C@H](CO)[C@H](O)[C...   \n",
       "2              7.638272  COc1ccc(-c2c(-c3cc(C(C)C)c(O)cc3O)noc2NC(=O)C2...   \n",
       "3              5.191789  CC[C@H](C)[C@H](NC(=O)[C@H](CO)NC(=O)[C@H](CC1...   \n",
       "4              6.732828  CO[C@@H]1[C@@H]([C@@H](O[C@H]2OC(C(=O)N[C@H]3C...   \n",
       "\n",
       "   affinity  \n",
       "0  0.691712  \n",
       "1 -2.054668  \n",
       "2  0.725847  \n",
       "3 -0.842542  \n",
       "4  0.145386  "
      ]
     },
     "execution_count": 3,
     "metadata": {},
     "output_type": "execute_result"
    }
   ],
   "source": [
    "train_df = train.to_pandas()\n",
    "test_df = test.to_pandas()\n",
    "train_df.head()"
   ]
  },
  {
   "cell_type": "code",
   "execution_count": 19,
   "metadata": {},
   "outputs": [
    {
     "data": {
      "image/png": "[encoded data removed]",
      "text/plain": [
       "<Figure size 640x480 with 1 Axes>"
      ]
     },
     "metadata": {},
     "output_type": "display_data"
    }
   ],
   "source": [
    "plt.figure()\n",
    "plt.plot(train_df.affinity_uM, train_df.affinity, 'r.', alpha=0.1)\n",
    "plt.xlabel('affinity_uM')\n",
    "plt.ylabel('affinity (normalized)')\n",
    "plt.xscale('log')\n",
    "plt.axvline(100, color='k', linestyle='--', label='v. weak')\n",
    "plt.axvline(10, color='r', linestyle='--', label='weak')\n",
    "plt.axvline(1, color='g', linestyle='--', label='strong')\n",
    "plt.axvline(0.1,  color='b', linestyle='--', label='v. strong')\n",
    "plt.legend()\n",
    "plt.show()"
   ]
  },
  {
   "cell_type": "code",
   "execution_count": 21,
   "metadata": {},
   "outputs": [
    {
     "data": {
      "text/plain": [
       "0.6160626137287545"
      ]
     },
     "execution_count": 21,
     "metadata": {},
     "output_type": "execute_result"
    }
   ],
   "source": [
    "p_strong_dti = (train_df.affinity_uM.values < 1).mean()\n",
    "p_strong_dti"
   ]
  },
  {
   "cell_type": "code",
   "execution_count": 22,
   "metadata": {},
   "outputs": [
    {
     "data": {
      "image/png": "[encoded data removed]",
      "text/plain": [
       "<Figure size 640x480 with 1 Axes>"
      ]
     },
     "metadata": {},
     "output_type": "display_data"
    }
   ],
   "source": [
    "plt.figure() \n",
    "plt.hist(train_df.affinity_uM, bins=np.logspace(0, 4, 100))\n",
    "plt.xlabel('affinity (uM)')\n",
    "plt.yscale('log')\n",
    "plt.xscale('log')\n",
    "plt.show()"
   ]
  },
  {
   "cell_type": "code",
   "execution_count": null,
   "metadata": {},
   "outputs": [],
   "source": [
    "plt.figure()\n",
    "plt.plot(-np.log(train_df.affinity_uM), train_df.affinity, 'r.', alpha=0.1)\n",
    "plt.show()"
   ]
  },
  {
   "cell_type": "code",
   "execution_count": null,
   "metadata": {},
   "outputs": [],
   "source": [
    "min(train_df.affinity_uM)"
   ]
  },
  {
   "cell_type": "code",
   "execution_count": null,
   "metadata": {},
   "outputs": [],
   "source": [
    "plt.figure() \n",
    "plt.hist(train_df.affinity, bins=100)\n",
    "plt.xlabel('neg log affinity normalized?')\n",
    "plt.show()"
   ]
  },
  {
   "cell_type": "code",
   "execution_count": null,
   "metadata": {},
   "outputs": [],
   "source": [
    "train_aas = train_df.seq.unique()\n",
    "train_smiles = train_df.smiles_can.unique()\n",
    "\n",
    "test_aas = test_df.seq.unique()\n",
    "test_smiles = test_df.smiles_can.unique()\n",
    "\n",
    "print(f\"Number of unique sequences (train): {len(train_aas)}\")\n",
    "print(f\"Number of unique smiles (train): {len(train_smiles)}\")\n",
    "\n",
    "print(f\"Number of unique sequences (test): {len(test_aas)}\")\n",
    "print(f\"Number of unique smiles (test): {len(test_smiles)}\")\n",
    "\n",
    "n_unique_test_aas = len(set(test_aas) - set(train_aas))\n",
    "n_unique_test_smiles = len(set(test_smiles) - set(train_smiles))\n",
    "\n",
    "print(f\"Number of unique sequences (test) not in train: {n_unique_test_aas} / {len(test_aas)}\")\n",
    "print(f\"Number of unique smiles (test) not in train: {n_unique_test_smiles} / {len(test_smiles)}\")"
   ]
  },
  {
   "cell_type": "code",
   "execution_count": null,
   "metadata": {},
   "outputs": [],
   "source": [
    "# Combine lists and find unique elements using sets\n",
    "unique_smiles = set(train_smiles.tolist()).union(test_smiles.tolist())\n",
    "unique_aas = set(train_aas.tolist()).union(test_aas.tolist())\n",
    "\n",
    "# Convert sets back to lists if needed\n",
    "smiles = list(unique_smiles)\n",
    "aas = list(unique_aas)\n",
    "\n",
    "print(f\"Number of unique sequences: {len(aas)}\")\n",
    "print(f\"Number of unique smiles: {len(smiles)}\")"
   ]
  },
  {
   "cell_type": "code",
   "execution_count": null,
   "metadata": {},
   "outputs": [],
   "source": [
    "fig, axs = plt.subplots(1, 2, figsize=(9, 3))\n",
    "\n",
    "# Plot histogram for smiles lengths\n",
    "axs[0].hist([len(s) for s in smiles], bins=50)\n",
    "axs[0].set_title('SMILES Lengths')\n",
    "axs[0].set_xlabel('Length')\n",
    "axs[0].set_ylabel('Frequency')\n",
    "axs[0].set_yscale('log')\n",
    "\n",
    "# Plot histogram for aas lengths\n",
    "axs[1].hist([len(a) for a in aas], bins=50)\n",
    "axs[1].set_title('Amino Acid Sequences Lengths')\n",
    "axs[1].set_xlabel('Length')\n",
    "axs[1].set_ylabel('Frequency')\n",
    "axs[1].set_yscale('log')\n",
    "\n",
    "plt.tight_layout()\n",
    "plt.show()"
   ]
  },
  {
   "cell_type": "code",
   "execution_count": null,
   "metadata": {},
   "outputs": [],
   "source": [
    "AA2E = AA2EMB()\n",
    "z_prot = AA2E.embed(aas)\n",
    "\n",
    "torch.save(z_prot, '../../extdata/jglaser/z_prot.pt')\n",
    "with open('../../extdata/jglaser/amino_acids.txt', 'w') as f:\n",
    "    f.write('\\n'.join(aas))"
   ]
  },
  {
   "cell_type": "code",
   "execution_count": null,
   "metadata": {},
   "outputs": [],
   "source": [
    "S2E = SMILES2EMB() \n",
    "z_drug = S2E.embed(smiles)\n",
    "\n",
    "print()\n",
    "print(z_drug.shape)\n",
    "\n",
    "os.makedirs('../../extdata/jglaser', exist_ok=True)\n",
    "torch.save(z_drug, '../../extdata/jglaser/z_drug.pt')\n",
    "with open('../../extdata/jglaser/smiles.txt', 'w') as f:\n",
    "    f.write('\\n'.join(smiles))"
   ]
  },
  {
   "cell_type": "code",
   "execution_count": null,
   "metadata": {},
   "outputs": [],
   "source": [
    "smiles = open('../../extdata/jglaser/smiles.txt').read().split('\\n')\n",
    "aas = open('../../extdata/jglaser/amino_acids.txt').read().split('\\n')"
   ]
  },
  {
   "cell_type": "code",
   "execution_count": null,
   "metadata": {},
   "outputs": [],
   "source": [
    "smiles2idx = {smile: i for i, smile in enumerate(smiles)}\n",
    "aas2idx = {aa: i for i, aa in enumerate(aas)}\n",
    "\n",
    "train_df = train_df.assign(partition='train')\n",
    "test_df = test_df.assign(partition='test')\n",
    "df = pd.concat([train_df, test_df])\n",
    "\n",
    "df = df.assign(drug_idx=df.smiles_can.map(smiles2idx))\n",
    "df = df.assign(prot_idx=df.seq.map(aas2idx))\n",
    "\n",
    "df = df[['drug_idx', 'prot_idx', 'affinity', 'partition']]\n",
    "df.to_csv('../../extdata/jglaser/jglaser_affinity_data.csv', index=False)"
   ]
  },
  {
   "cell_type": "code",
   "execution_count": null,
   "metadata": {},
   "outputs": [],
   "source": [
    "df.head()"
   ]
  },
  {
   "cell_type": "code",
   "execution_count": null,
   "metadata": {},
   "outputs": [],
   "source": []
  }
 ],
 "metadata": {
  "kernelspec": {
   "display_name": "tkgdti",
   "language": "python",
   "name": "python3"
  },
  "language_info": {
   "codemirror_mode": {
    "name": "ipython",
    "version": 3
   },
   "file_extension": ".py",
   "mimetype": "text/x-python",
   "name": "python",
   "nbconvert_exporter": "python",
   "pygments_lexer": "ipython3",
   "version": "3.11.10"
  }
 },
 "nbformat": 4,
 "nbformat_minor": 2
}
